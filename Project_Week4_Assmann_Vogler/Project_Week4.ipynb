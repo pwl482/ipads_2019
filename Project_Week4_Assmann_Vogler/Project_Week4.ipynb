{
  "nbformat": 4,
  "nbformat_minor": 0,
  "metadata": {
    "colab": {
      "name": "Project_Week4.ipynb",
      "provenance": [],
      "collapsed_sections": [
        "KcAZ2RHCg_Ze",
        "qTmLBxDxBAZL",
        "UMKGkkZEPVRu",
        "PDAh5Xu_eywJ",
        "VIEWczNm2Eo7",
        "hnI_wTgl2Kl9",
        "SxcTae-82pim",
        "1kqb16dJ25Dc",
        "AEe4qgQ33JSU",
        "1ZTC5t9N3M4P",
        "W0Xnx_d23VS6",
        "KbQBvPRk3pE7"
      ],
      "toc_visible": true
    },
    "kernelspec": {
      "display_name": "Python 3",
      "name": "python3"
    }
  },
  "cells": [
    {
      "cell_type": "markdown",
      "metadata": {
        "id": "P9subHRo1fCh",
        "colab_type": "text"
      },
      "source": [
        "# Project 4: Analysing variants with BigQuery"
      ]
    },
    {
      "cell_type": "markdown",
      "metadata": {
        "colab_type": "text",
        "id": "KcAZ2RHCg_Ze"
      },
      "source": [
        "# Before you begin\n",
        "\n",
        "\n",
        "1.   Use the [Cloud Resource Manager](https://console.cloud.google.com/cloud-resource-manager) to Create a Cloud Platform project if you do not already have one.\n",
        "2.   [Enable billing](https://support.google.com/cloud/answer/6293499#enable-billing) for the project.\n",
        "3.   [Enable BigQuery](https://console.cloud.google.com/flows/enableapi?apiid=bigquery) APIs for the project.\n"
      ]
    },
    {
      "cell_type": "markdown",
      "metadata": {
        "colab_type": "text",
        "id": "qTmLBxDxBAZL"
      },
      "source": [
        "## Provide your credentials to the runtime and set project environment"
      ]
    },
    {
      "cell_type": "code",
      "metadata": {
        "colab_type": "code",
        "id": "SeTJb51SKs_W",
        "outputId": "a9a9a936-9592-4a1e-cd77-50dc2736302a",
        "colab": {
          "base_uri": "https://localhost:8080/",
          "height": 34
        }
      },
      "source": [
        "from google.colab import auth\n",
        "auth.authenticate_user()\n",
        "print('Authenticated')"
      ],
      "execution_count": 1,
      "outputs": [
        {
          "output_type": "stream",
          "text": [
            "Authenticated\n"
          ],
          "name": "stdout"
        }
      ]
    },
    {
      "cell_type": "code",
      "metadata": {
        "id": "Ndaki9wV2vlL",
        "colab_type": "code",
        "outputId": "bc1dd0bb-a30f-4122-8ccd-c3ecc174dd9d",
        "colab": {
          "base_uri": "https://localhost:8080/",
          "height": 34
        }
      },
      "source": [
        "%env GCLOUD_PROJECT=boxwood-bee-258411"
      ],
      "execution_count": 2,
      "outputs": [
        {
          "output_type": "stream",
          "text": [
            "env: GCLOUD_PROJECT=boxwood-bee-258411\n"
          ],
          "name": "stdout"
        }
      ]
    },
    {
      "cell_type": "markdown",
      "metadata": {
        "colab_type": "text",
        "id": "UMKGkkZEPVRu"
      },
      "source": [
        "## Optional: Enable data table display\n",
        "\n",
        "Colab includes the ``google.colab.data_table`` package that can be used to display large pandas dataframes as an interactive data table.\n",
        "It can be enabled with:"
      ]
    },
    {
      "cell_type": "code",
      "metadata": {
        "colab_type": "code",
        "id": "LMNA-vBHPyHz",
        "colab": {}
      },
      "source": [
        "%load_ext google.colab.data_table"
      ],
      "execution_count": 0,
      "outputs": []
    },
    {
      "cell_type": "markdown",
      "metadata": {
        "colab_type": "text",
        "id": "y7QuudxdP0jH"
      },
      "source": [
        "If you would prefer to return to the classic Pandas dataframe display, you can disable this by running:\n",
        "```python\n",
        "%unload_ext google.colab.data_table\n",
        "```"
      ]
    },
    {
      "cell_type": "code",
      "metadata": {
        "id": "-t-2ayy74jEt",
        "colab_type": "code",
        "colab": {}
      },
      "source": [
        "%unload_ext google.colab.data_table"
      ],
      "execution_count": 0,
      "outputs": []
    },
    {
      "cell_type": "code",
      "metadata": {
        "id": "izlS_sMHxZjc",
        "colab_type": "code",
        "colab": {}
      },
      "source": [
        "import pandas as pd\n",
        "\n",
        "\"\"\"\n",
        "Helper class to simplify common read-only BigQuery tasks.\n",
        "\"\"\"\n",
        "\n",
        "\n",
        "import pandas as pd\n",
        "import time\n",
        "\n",
        "from google.cloud import bigquery\n",
        "\n",
        "\n",
        "class BigQueryHelper(object):\n",
        "    \"\"\"\n",
        "    Helper class to simplify common BigQuery tasks like executing queries,\n",
        "    showing table schemas, etc without worrying about table or dataset pointers.\n",
        "\n",
        "    See the BigQuery docs for details of the steps this class lets you skip:\n",
        "    https://googlecloudplatform.github.io/google-cloud-python/latest/bigquery/reference.html\n",
        "    \"\"\"\n",
        "\n",
        "    def __init__(self, active_project, dataset_name, max_wait_seconds=180):\n",
        "        self.project_name = active_project\n",
        "        self.dataset_name = dataset_name\n",
        "        self.max_wait_seconds = max_wait_seconds\n",
        "        self.client = bigquery.Client()\n",
        "        self.__dataset_ref = self.client.dataset(self.dataset_name, project=self.project_name)\n",
        "        self.dataset = None\n",
        "        self.tables = dict()  # {table name (str): table object}\n",
        "        self.__table_refs = dict()  # {table name (str): table reference}\n",
        "        self.total_gb_used_net_cache = 0\n",
        "        self.BYTES_PER_GB = 2**30\n",
        "\n",
        "    def __fetch_dataset(self):\n",
        "        \"\"\"\n",
        "        Lazy loading of dataset. For example,\n",
        "        if the user only calls `self.query_to_pandas` then the\n",
        "        dataset never has to be fetched.\n",
        "        \"\"\"\n",
        "        if self.dataset is None:\n",
        "            self.dataset = self.client.get_dataset(self.__dataset_ref)\n",
        "\n",
        "    def __fetch_table(self, table_name):\n",
        "        \"\"\"\n",
        "        Lazy loading of table\n",
        "        \"\"\"\n",
        "        self.__fetch_dataset()\n",
        "        if table_name not in self.__table_refs:\n",
        "            self.__table_refs[table_name] = self.dataset.table(table_name)\n",
        "        if table_name not in self.tables:\n",
        "            self.tables[table_name] = self.client.get_table(self.__table_refs[table_name])\n",
        "\n",
        "    def __handle_record_field(self, row, schema_details, top_level_name=''):\n",
        "        \"\"\"\n",
        "        Unpack a single row, including any nested fields.\n",
        "        \"\"\"\n",
        "        name = row['name']\n",
        "        if top_level_name != '':\n",
        "            name = top_level_name + '.' + name\n",
        "        schema_details.append([{\n",
        "            'name': name,\n",
        "            'type': row['type'],\n",
        "            'mode': row['mode'],\n",
        "            'fields': pd.np.nan,\n",
        "            'description': row['description']\n",
        "                               }])\n",
        "        # float check is to dodge row['fields'] == np.nan\n",
        "        if type(row.get('fields', 0.0)) == float:\n",
        "            return None\n",
        "        for entry in row['fields']:\n",
        "            self.__handle_record_field(entry, schema_details, name)\n",
        "\n",
        "    def __unpack_all_schema_fields(self, schema):\n",
        "        \"\"\"\n",
        "        Unrolls nested schemas. Returns dataframe with one row per field,\n",
        "        and the field names in the format accepted by the API.\n",
        "        Results will look similar to the website schema, such as:\n",
        "            https://bigquery.cloud.google.com/table/bigquery-public-data:github_repos.commits?pli=1\n",
        "\n",
        "        Args:\n",
        "            schema: DataFrame derived from api repr of raw table.schema\n",
        "        Returns:\n",
        "            Dataframe of the unrolled schema.\n",
        "        \"\"\"\n",
        "        schema_details = []\n",
        "        schema.apply(lambda row:\n",
        "            self.__handle_record_field(row, schema_details), axis=1)\n",
        "        result = pd.concat([pd.DataFrame.from_dict(x) for x in schema_details])\n",
        "        result.reset_index(drop=True, inplace=True)\n",
        "        del result['fields']\n",
        "        return result\n",
        "\n",
        "    def table_schema(self, table_name):\n",
        "        \"\"\"\n",
        "        Get the schema for a specific table from a dataset.\n",
        "        Unrolls nested field names into the format that can be copied\n",
        "        directly into queries. For example, for the `github.commits` table,\n",
        "        the this will return `committer.name`.\n",
        "\n",
        "        This is a very different return signature than BigQuery's table.schema.\n",
        "        \"\"\"\n",
        "        self.__fetch_table(table_name)\n",
        "        raw_schema = self.tables[table_name].schema\n",
        "        schema = pd.DataFrame.from_dict([x.to_api_repr() for x in raw_schema])\n",
        "        # the api_repr only has the fields column for tables with nested data\n",
        "        if 'fields' in schema.columns:\n",
        "            schema = self.__unpack_all_schema_fields(schema)\n",
        "        # Set the column order\n",
        "        schema = schema[['name', 'type', 'mode', 'description']]\n",
        "        return schema\n",
        "\n",
        "    def list_tables(self):\n",
        "        \"\"\"\n",
        "        List the names of the tables in a dataset\n",
        "        \"\"\"\n",
        "        self.__fetch_dataset()\n",
        "        return([x.table_id for x in self.client.list_tables(self.dataset)])\n",
        "\n",
        "    def estimate_query_size(self, query):\n",
        "        \"\"\"\n",
        "        Estimate gigabytes scanned by query.\n",
        "        Does not consider if there is a cached query table.\n",
        "        See https://cloud.google.com/bigquery/docs/reference/rest/v2/jobs#configuration.dryRun\n",
        "        \"\"\"\n",
        "        my_job_config = bigquery.job.QueryJobConfig()\n",
        "        my_job_config.dry_run = True\n",
        "        my_job = self.client.query(query, job_config=my_job_config)\n",
        "        return my_job.total_bytes_processed / self.BYTES_PER_GB\n",
        "\n",
        "    def query_to_pandas(self, query):\n",
        "        \"\"\"\n",
        "        Execute a SQL query & return a pandas dataframe\n",
        "        \"\"\"\n",
        "        my_job = self.client.query(query)\n",
        "        start_time = time.time()\n",
        "        while not my_job.done():\n",
        "            if (time.time() - start_time) > self.max_wait_seconds:\n",
        "                print(\"Max wait time elapsed, query cancelled.\")\n",
        "                self.client.cancel_job(my_job.job_id)\n",
        "                return None\n",
        "            time.sleep(0.1)\n",
        "        # Queries that hit errors will return an exception type.\n",
        "        # Those exceptions don't get raised until we call my_job.to_dataframe()\n",
        "        # In that case, my_job.total_bytes_billed can be called but is None\n",
        "        if my_job.total_bytes_billed:\n",
        "            self.total_gb_used_net_cache += my_job.total_bytes_billed / self.BYTES_PER_GB\n",
        "        return my_job.to_dataframe()\n",
        "\n",
        "    def query_to_pandas_safe(self, query, max_gb_scanned=1):\n",
        "        \"\"\"\n",
        "        Execute a query, but only if the query would scan less than `max_gb_scanned` of data.\n",
        "        \"\"\"\n",
        "        query_size = self.estimate_query_size(query)\n",
        "        if query_size <= max_gb_scanned:\n",
        "            return self.query_to_pandas(query)\n",
        "        msg = \"Query cancelled; estimated size of {0} exceeds limit of {1} GB\"\n",
        "        print(msg.format(query_size, max_gb_scanned))\n",
        "\n",
        "    def head(self, table_name, num_rows=5, start_index=None, selected_columns=None):\n",
        "        \"\"\"\n",
        "        Get the first n rows of a table as a DataFrame.\n",
        "        Does not perform a full table scan; should use a trivial amount of data as long as n is small.\n",
        "        \"\"\"\n",
        "        self.__fetch_table(table_name)\n",
        "        active_table = self.tables[table_name]\n",
        "        schema_subset = None\n",
        "        if selected_columns:\n",
        "            schema_subset = [col for col in active_table.schema if col.name in selected_columns]\n",
        "        results = self.client.list_rows(active_table, selected_fields=schema_subset,\n",
        "            max_results=num_rows, start_index=start_index)\n",
        "        results = [x for x in results]\n",
        "        return pd.DataFrame(\n",
        "            data=[list(x.values()) for x in results], columns=list(results[0].keys()))"
      ],
      "execution_count": 0,
      "outputs": []
    },
    {
      "cell_type": "markdown",
      "metadata": {
        "id": "PDAh5Xu_eywJ",
        "colab_type": "text"
      },
      "source": [
        "# Viewing table schema and data"
      ]
    },
    {
      "cell_type": "code",
      "metadata": {
        "id": "mjCNPt-K_9yA",
        "colab_type": "code",
        "colab": {}
      },
      "source": [
        "illu = BigQueryHelper('bigquery-public-data','human_genome_variants')"
      ],
      "execution_count": 0,
      "outputs": []
    },
    {
      "cell_type": "code",
      "metadata": {
        "id": "yMolcaVu9Qmj",
        "colab_type": "code",
        "outputId": "22e31cb8-c735-4658-bfde-dbdab0cc7445",
        "colab": {
          "base_uri": "https://localhost:8080/",
          "height": 153
        }
      },
      "source": [
        "illu.list_tables()"
      ],
      "execution_count": 7,
      "outputs": [
        {
          "output_type": "execute_result",
          "data": {
            "text/plain": [
              "['1000_genomes_pedigree',\n",
              " '1000_genomes_phase_3_optimized_schema_variants_20150220',\n",
              " '1000_genomes_phase_3_variants_20150220',\n",
              " '1000_genomes_sample_info',\n",
              " 'platinum_genomes_deepvariant_variants_20180823',\n",
              " 'simons_genome_diversity_project_sample_attributes',\n",
              " 'simons_genome_diversity_project_sample_metadata',\n",
              " 'simons_genome_diversity_project_sample_variants']"
            ]
          },
          "metadata": {
            "tags": []
          },
          "execution_count": 7
        }
      ]
    },
    {
      "cell_type": "code",
      "metadata": {
        "id": "LaDFK4E59YDs",
        "colab_type": "code",
        "outputId": "420aad3b-3c27-4c7a-e6f2-3d559024172f",
        "cellView": "code",
        "colab": {
          "base_uri": "https://localhost:8080/",
          "height": 762
        }
      },
      "source": [
        "#@title Default title text\n",
        "illu.table_schema('platinum_genomes_deepvariant_variants_20180823')"
      ],
      "execution_count": 8,
      "outputs": [
        {
          "output_type": "execute_result",
          "data": {
            "text/html": [
              "<div>\n",
              "<style scoped>\n",
              "    .dataframe tbody tr th:only-of-type {\n",
              "        vertical-align: middle;\n",
              "    }\n",
              "\n",
              "    .dataframe tbody tr th {\n",
              "        vertical-align: top;\n",
              "    }\n",
              "\n",
              "    .dataframe thead th {\n",
              "        text-align: right;\n",
              "    }\n",
              "</style>\n",
              "<table border=\"1\" class=\"dataframe\">\n",
              "  <thead>\n",
              "    <tr style=\"text-align: right;\">\n",
              "      <th></th>\n",
              "      <th>name</th>\n",
              "      <th>type</th>\n",
              "      <th>mode</th>\n",
              "      <th>description</th>\n",
              "    </tr>\n",
              "  </thead>\n",
              "  <tbody>\n",
              "    <tr>\n",
              "      <th>0</th>\n",
              "      <td>reference_name</td>\n",
              "      <td>STRING</td>\n",
              "      <td>NULLABLE</td>\n",
              "      <td>Reference name.</td>\n",
              "    </tr>\n",
              "    <tr>\n",
              "      <th>1</th>\n",
              "      <td>start_position</td>\n",
              "      <td>INTEGER</td>\n",
              "      <td>NULLABLE</td>\n",
              "      <td>Start position (0-based). Corresponds to the f...</td>\n",
              "    </tr>\n",
              "    <tr>\n",
              "      <th>2</th>\n",
              "      <td>end_position</td>\n",
              "      <td>INTEGER</td>\n",
              "      <td>NULLABLE</td>\n",
              "      <td>End position (0-based). Corresponds to the fir...</td>\n",
              "    </tr>\n",
              "    <tr>\n",
              "      <th>3</th>\n",
              "      <td>reference_bases</td>\n",
              "      <td>STRING</td>\n",
              "      <td>NULLABLE</td>\n",
              "      <td>Reference bases.</td>\n",
              "    </tr>\n",
              "    <tr>\n",
              "      <th>4</th>\n",
              "      <td>alternate_bases</td>\n",
              "      <td>RECORD</td>\n",
              "      <td>REPEATED</td>\n",
              "      <td>One record for each alternate base (if any).</td>\n",
              "    </tr>\n",
              "    <tr>\n",
              "      <th>5</th>\n",
              "      <td>alternate_bases.alt</td>\n",
              "      <td>STRING</td>\n",
              "      <td>NULLABLE</td>\n",
              "      <td>Alternate base.</td>\n",
              "    </tr>\n",
              "    <tr>\n",
              "      <th>6</th>\n",
              "      <td>names</td>\n",
              "      <td>STRING</td>\n",
              "      <td>REPEATED</td>\n",
              "      <td>Variant names (e.g. RefSNP ID).</td>\n",
              "    </tr>\n",
              "    <tr>\n",
              "      <th>7</th>\n",
              "      <td>quality</td>\n",
              "      <td>FLOAT</td>\n",
              "      <td>NULLABLE</td>\n",
              "      <td>Phred-scaled quality score (-10log10 prob(call...</td>\n",
              "    </tr>\n",
              "    <tr>\n",
              "      <th>8</th>\n",
              "      <td>filter</td>\n",
              "      <td>STRING</td>\n",
              "      <td>REPEATED</td>\n",
              "      <td>List of failed filters (if any) or \"PASS\" indi...</td>\n",
              "    </tr>\n",
              "    <tr>\n",
              "      <th>9</th>\n",
              "      <td>call</td>\n",
              "      <td>RECORD</td>\n",
              "      <td>REPEATED</td>\n",
              "      <td>One record for each call.</td>\n",
              "    </tr>\n",
              "    <tr>\n",
              "      <th>10</th>\n",
              "      <td>call.name</td>\n",
              "      <td>STRING</td>\n",
              "      <td>NULLABLE</td>\n",
              "      <td>Name of the call.</td>\n",
              "    </tr>\n",
              "    <tr>\n",
              "      <th>11</th>\n",
              "      <td>call.genotype</td>\n",
              "      <td>INTEGER</td>\n",
              "      <td>REPEATED</td>\n",
              "      <td>Genotype of the call. \"-1\" is used in cases wh...</td>\n",
              "    </tr>\n",
              "    <tr>\n",
              "      <th>12</th>\n",
              "      <td>call.phaseset</td>\n",
              "      <td>STRING</td>\n",
              "      <td>NULLABLE</td>\n",
              "      <td>Phaseset of the call (if any). \"*\" is used in ...</td>\n",
              "    </tr>\n",
              "    <tr>\n",
              "      <th>13</th>\n",
              "      <td>call.GQ</td>\n",
              "      <td>INTEGER</td>\n",
              "      <td>NULLABLE</td>\n",
              "      <td>Conditional genotype quality</td>\n",
              "    </tr>\n",
              "    <tr>\n",
              "      <th>14</th>\n",
              "      <td>call.DP</td>\n",
              "      <td>INTEGER</td>\n",
              "      <td>NULLABLE</td>\n",
              "      <td>Read depth</td>\n",
              "    </tr>\n",
              "    <tr>\n",
              "      <th>15</th>\n",
              "      <td>call.MIN_DP</td>\n",
              "      <td>INTEGER</td>\n",
              "      <td>NULLABLE</td>\n",
              "      <td>Minimum DP observed within the GVCF block.</td>\n",
              "    </tr>\n",
              "    <tr>\n",
              "      <th>16</th>\n",
              "      <td>call.AD</td>\n",
              "      <td>INTEGER</td>\n",
              "      <td>REPEATED</td>\n",
              "      <td>Read depth for each allele</td>\n",
              "    </tr>\n",
              "    <tr>\n",
              "      <th>17</th>\n",
              "      <td>call.VAF</td>\n",
              "      <td>FLOAT</td>\n",
              "      <td>REPEATED</td>\n",
              "      <td>Variant allele fractions.</td>\n",
              "    </tr>\n",
              "    <tr>\n",
              "      <th>18</th>\n",
              "      <td>call.GL</td>\n",
              "      <td>FLOAT</td>\n",
              "      <td>REPEATED</td>\n",
              "      <td>Genotype likelihoods</td>\n",
              "    </tr>\n",
              "    <tr>\n",
              "      <th>19</th>\n",
              "      <td>call.PL</td>\n",
              "      <td>INTEGER</td>\n",
              "      <td>REPEATED</td>\n",
              "      <td>Phred-scaled genotype likelihoods rounded to t...</td>\n",
              "    </tr>\n",
              "    <tr>\n",
              "      <th>20</th>\n",
              "      <td>call.quality</td>\n",
              "      <td>FLOAT</td>\n",
              "      <td>NULLABLE</td>\n",
              "      <td>Phred-scaled quality score (-10log10 prob(call...</td>\n",
              "    </tr>\n",
              "    <tr>\n",
              "      <th>21</th>\n",
              "      <td>call.filter</td>\n",
              "      <td>STRING</td>\n",
              "      <td>REPEATED</td>\n",
              "      <td>List of failed filters (if any) or \"PASS\" indi...</td>\n",
              "    </tr>\n",
              "    <tr>\n",
              "      <th>22</th>\n",
              "      <td>partition_date_please_ignore</td>\n",
              "      <td>DATE</td>\n",
              "      <td>NULLABLE</td>\n",
              "      <td>Column required by BigQuery partitioning/clust...</td>\n",
              "    </tr>\n",
              "  </tbody>\n",
              "</table>\n",
              "</div>"
            ],
            "text/plain": [
              "                            name  ...                                        description\n",
              "0                 reference_name  ...                                    Reference name.\n",
              "1                 start_position  ...  Start position (0-based). Corresponds to the f...\n",
              "2                   end_position  ...  End position (0-based). Corresponds to the fir...\n",
              "3                reference_bases  ...                                   Reference bases.\n",
              "4                alternate_bases  ...       One record for each alternate base (if any).\n",
              "5            alternate_bases.alt  ...                                    Alternate base.\n",
              "6                          names  ...                    Variant names (e.g. RefSNP ID).\n",
              "7                        quality  ...  Phred-scaled quality score (-10log10 prob(call...\n",
              "8                         filter  ...  List of failed filters (if any) or \"PASS\" indi...\n",
              "9                           call  ...                          One record for each call.\n",
              "10                     call.name  ...                                  Name of the call.\n",
              "11                 call.genotype  ...  Genotype of the call. \"-1\" is used in cases wh...\n",
              "12                 call.phaseset  ...  Phaseset of the call (if any). \"*\" is used in ...\n",
              "13                       call.GQ  ...                       Conditional genotype quality\n",
              "14                       call.DP  ...                                         Read depth\n",
              "15                   call.MIN_DP  ...         Minimum DP observed within the GVCF block.\n",
              "16                       call.AD  ...                         Read depth for each allele\n",
              "17                      call.VAF  ...                          Variant allele fractions.\n",
              "18                       call.GL  ...                               Genotype likelihoods\n",
              "19                       call.PL  ...  Phred-scaled genotype likelihoods rounded to t...\n",
              "20                  call.quality  ...  Phred-scaled quality score (-10log10 prob(call...\n",
              "21                   call.filter  ...  List of failed filters (if any) or \"PASS\" indi...\n",
              "22  partition_date_please_ignore  ...  Column required by BigQuery partitioning/clust...\n",
              "\n",
              "[23 rows x 4 columns]"
            ]
          },
          "metadata": {
            "tags": []
          },
          "execution_count": 8
        }
      ]
    },
    {
      "cell_type": "code",
      "metadata": {
        "id": "Yjq5Wtc9EsIq",
        "colab_type": "code",
        "outputId": "44898ff5-3612-4dd3-e209-7d5dbd536149",
        "colab": {
          "base_uri": "https://localhost:8080/",
          "height": 1000
        }
      },
      "source": [
        "illu.head('platinum_genomes_deepvariant_variants_20180823',num_rows=10)"
      ],
      "execution_count": 9,
      "outputs": [
        {
          "output_type": "execute_result",
          "data": {
            "text/html": [
              "<div>\n",
              "<style scoped>\n",
              "    .dataframe tbody tr th:only-of-type {\n",
              "        vertical-align: middle;\n",
              "    }\n",
              "\n",
              "    .dataframe tbody tr th {\n",
              "        vertical-align: top;\n",
              "    }\n",
              "\n",
              "    .dataframe thead th {\n",
              "        text-align: right;\n",
              "    }\n",
              "</style>\n",
              "<table border=\"1\" class=\"dataframe\">\n",
              "  <thead>\n",
              "    <tr style=\"text-align: right;\">\n",
              "      <th></th>\n",
              "      <th>reference_name</th>\n",
              "      <th>start_position</th>\n",
              "      <th>end_position</th>\n",
              "      <th>reference_bases</th>\n",
              "      <th>alternate_bases</th>\n",
              "      <th>names</th>\n",
              "      <th>quality</th>\n",
              "      <th>filter</th>\n",
              "      <th>call</th>\n",
              "      <th>partition_date_please_ignore</th>\n",
              "    </tr>\n",
              "  </thead>\n",
              "  <tbody>\n",
              "    <tr>\n",
              "      <th>0</th>\n",
              "      <td>chr1</td>\n",
              "      <td>2118723</td>\n",
              "      <td>2118724</td>\n",
              "      <td>C</td>\n",
              "      <td>[{'alt': '&lt;*&gt;'}]</td>\n",
              "      <td>[]</td>\n",
              "      <td>0.0</td>\n",
              "      <td>[]</td>\n",
              "      <td>[{'name': 'NA12877', 'genotype': [0, 0], 'phas...</td>\n",
              "      <td>2018-08-23</td>\n",
              "    </tr>\n",
              "    <tr>\n",
              "      <th>1</th>\n",
              "      <td>chr1</td>\n",
              "      <td>7916656</td>\n",
              "      <td>7916657</td>\n",
              "      <td>T</td>\n",
              "      <td>[{'alt': '&lt;*&gt;'}]</td>\n",
              "      <td>[]</td>\n",
              "      <td>0.0</td>\n",
              "      <td>[]</td>\n",
              "      <td>[{'name': 'NA12877', 'genotype': [0, 0], 'phas...</td>\n",
              "      <td>2018-08-23</td>\n",
              "    </tr>\n",
              "    <tr>\n",
              "      <th>2</th>\n",
              "      <td>chr1</td>\n",
              "      <td>2615293</td>\n",
              "      <td>2615294</td>\n",
              "      <td>C</td>\n",
              "      <td>[{'alt': '&lt;*&gt;'}]</td>\n",
              "      <td>[]</td>\n",
              "      <td>0.0</td>\n",
              "      <td>[]</td>\n",
              "      <td>[{'name': 'NA12877', 'genotype': [0, 0], 'phas...</td>\n",
              "      <td>2018-08-23</td>\n",
              "    </tr>\n",
              "    <tr>\n",
              "      <th>3</th>\n",
              "      <td>chr1</td>\n",
              "      <td>7966480</td>\n",
              "      <td>7966481</td>\n",
              "      <td>A</td>\n",
              "      <td>[{'alt': '&lt;*&gt;'}]</td>\n",
              "      <td>[]</td>\n",
              "      <td>0.0</td>\n",
              "      <td>[]</td>\n",
              "      <td>[{'name': 'NA12877', 'genotype': [0, 0], 'phas...</td>\n",
              "      <td>2018-08-23</td>\n",
              "    </tr>\n",
              "    <tr>\n",
              "      <th>4</th>\n",
              "      <td>chr1</td>\n",
              "      <td>101136</td>\n",
              "      <td>101137</td>\n",
              "      <td>A</td>\n",
              "      <td>[{'alt': '&lt;*&gt;'}]</td>\n",
              "      <td>[]</td>\n",
              "      <td>0.0</td>\n",
              "      <td>[]</td>\n",
              "      <td>[{'name': 'NA12877', 'genotype': [0, 0], 'phas...</td>\n",
              "      <td>2018-08-23</td>\n",
              "    </tr>\n",
              "    <tr>\n",
              "      <th>5</th>\n",
              "      <td>chr1</td>\n",
              "      <td>1286760</td>\n",
              "      <td>1286761</td>\n",
              "      <td>A</td>\n",
              "      <td>[{'alt': '&lt;*&gt;'}]</td>\n",
              "      <td>[]</td>\n",
              "      <td>0.0</td>\n",
              "      <td>[]</td>\n",
              "      <td>[{'name': 'NA12877', 'genotype': [0, 0], 'phas...</td>\n",
              "      <td>2018-08-23</td>\n",
              "    </tr>\n",
              "    <tr>\n",
              "      <th>6</th>\n",
              "      <td>chr1</td>\n",
              "      <td>7494953</td>\n",
              "      <td>7494954</td>\n",
              "      <td>A</td>\n",
              "      <td>[{'alt': '&lt;*&gt;'}]</td>\n",
              "      <td>[]</td>\n",
              "      <td>0.0</td>\n",
              "      <td>[]</td>\n",
              "      <td>[{'name': 'NA12877', 'genotype': [0, 0], 'phas...</td>\n",
              "      <td>2018-08-23</td>\n",
              "    </tr>\n",
              "    <tr>\n",
              "      <th>7</th>\n",
              "      <td>chr1</td>\n",
              "      <td>2605319</td>\n",
              "      <td>2605320</td>\n",
              "      <td>G</td>\n",
              "      <td>[{'alt': '&lt;*&gt;'}]</td>\n",
              "      <td>[]</td>\n",
              "      <td>0.0</td>\n",
              "      <td>[]</td>\n",
              "      <td>[{'name': 'NA12877', 'genotype': [0, 0], 'phas...</td>\n",
              "      <td>2018-08-23</td>\n",
              "    </tr>\n",
              "    <tr>\n",
              "      <th>8</th>\n",
              "      <td>chr1</td>\n",
              "      <td>1000332</td>\n",
              "      <td>1000334</td>\n",
              "      <td>T</td>\n",
              "      <td>[{'alt': '&lt;*&gt;'}]</td>\n",
              "      <td>[]</td>\n",
              "      <td>0.0</td>\n",
              "      <td>[]</td>\n",
              "      <td>[{'name': 'NA12877', 'genotype': [0, 0], 'phas...</td>\n",
              "      <td>2018-08-23</td>\n",
              "    </tr>\n",
              "    <tr>\n",
              "      <th>9</th>\n",
              "      <td>chr1</td>\n",
              "      <td>823783</td>\n",
              "      <td>823784</td>\n",
              "      <td>T</td>\n",
              "      <td>[{'alt': '&lt;*&gt;'}]</td>\n",
              "      <td>[]</td>\n",
              "      <td>0.0</td>\n",
              "      <td>[]</td>\n",
              "      <td>[{'name': 'NA12877', 'genotype': [0, 0], 'phas...</td>\n",
              "      <td>2018-08-23</td>\n",
              "    </tr>\n",
              "  </tbody>\n",
              "</table>\n",
              "</div>"
            ],
            "text/plain": [
              "  reference_name  ...  partition_date_please_ignore\n",
              "0           chr1  ...                    2018-08-23\n",
              "1           chr1  ...                    2018-08-23\n",
              "2           chr1  ...                    2018-08-23\n",
              "3           chr1  ...                    2018-08-23\n",
              "4           chr1  ...                    2018-08-23\n",
              "5           chr1  ...                    2018-08-23\n",
              "6           chr1  ...                    2018-08-23\n",
              "7           chr1  ...                    2018-08-23\n",
              "8           chr1  ...                    2018-08-23\n",
              "9           chr1  ...                    2018-08-23\n",
              "\n",
              "[10 rows x 10 columns]"
            ]
          },
          "metadata": {
            "tags": []
          },
          "execution_count": 9
        }
      ]
    },
    {
      "cell_type": "markdown",
      "metadata": {
        "id": "cS1YNUBf17U6",
        "colab_type": "text"
      },
      "source": [
        "# Querying the table"
      ]
    },
    {
      "cell_type": "markdown",
      "metadata": {
        "id": "VIEWczNm2Eo7",
        "colab_type": "text"
      },
      "source": [
        "## Count total number of rows"
      ]
    },
    {
      "cell_type": "code",
      "metadata": {
        "id": "lYTREoKH-Vtm",
        "colab_type": "code",
        "colab": {}
      },
      "source": [
        "# counting total number of rows\n",
        "# scan size 0.0 GB, result = 105923159 rows\n",
        "NUM_ROWS =  \"\"\"\n",
        "            SELECT\n",
        "            COUNT(1) AS num_rows\n",
        "            FROM \n",
        "              `bigquery-public-data.human_genome_variants.platinum_genomes_deepvariant_variants_20180823`\n",
        "            \"\"\""
      ],
      "execution_count": 0,
      "outputs": []
    },
    {
      "cell_type": "code",
      "metadata": {
        "id": "OodfMzagAbgj",
        "colab_type": "code",
        "outputId": "9dbeafa2-c1b9-40d3-91e5-e3f26dfac34f",
        "colab": {
          "base_uri": "https://localhost:8080/",
          "height": 34
        }
      },
      "source": [
        "illu.estimate_query_size(NUM_ROWS)"
      ],
      "execution_count": 12,
      "outputs": [
        {
          "output_type": "execute_result",
          "data": {
            "text/plain": [
              "0.0"
            ]
          },
          "metadata": {
            "tags": []
          },
          "execution_count": 12
        }
      ]
    },
    {
      "cell_type": "code",
      "metadata": {
        "id": "3N1VE0PxAgtr",
        "colab_type": "code",
        "colab": {}
      },
      "source": [
        "df = illu.query_to_pandas_safe(NUM_ROWS)"
      ],
      "execution_count": 0,
      "outputs": []
    },
    {
      "cell_type": "code",
      "metadata": {
        "id": "znQJen59Cw2I",
        "colab_type": "code",
        "outputId": "66e1ddac-27dc-43a5-cc8f-57f652aca362",
        "colab": {
          "base_uri": "https://localhost:8080/",
          "height": 80
        }
      },
      "source": [
        "df"
      ],
      "execution_count": 14,
      "outputs": [
        {
          "output_type": "execute_result",
          "data": {
            "text/html": [
              "<div>\n",
              "<style scoped>\n",
              "    .dataframe tbody tr th:only-of-type {\n",
              "        vertical-align: middle;\n",
              "    }\n",
              "\n",
              "    .dataframe tbody tr th {\n",
              "        vertical-align: top;\n",
              "    }\n",
              "\n",
              "    .dataframe thead th {\n",
              "        text-align: right;\n",
              "    }\n",
              "</style>\n",
              "<table border=\"1\" class=\"dataframe\">\n",
              "  <thead>\n",
              "    <tr style=\"text-align: right;\">\n",
              "      <th></th>\n",
              "      <th>num_rows</th>\n",
              "    </tr>\n",
              "  </thead>\n",
              "  <tbody>\n",
              "    <tr>\n",
              "      <th>0</th>\n",
              "      <td>105923159</td>\n",
              "    </tr>\n",
              "  </tbody>\n",
              "</table>\n",
              "</div>"
            ],
            "text/plain": [
              "    num_rows\n",
              "0  105923159"
            ]
          },
          "metadata": {
            "tags": []
          },
          "execution_count": 14
        }
      ]
    },
    {
      "cell_type": "markdown",
      "metadata": {
        "id": "hnI_wTgl2Kl9",
        "colab_type": "text"
      },
      "source": [
        "## Counting variant calls in the table\n",
        "__Summing the length of call arrays__"
      ]
    },
    {
      "cell_type": "code",
      "metadata": {
        "id": "-VVsACZwFy5g",
        "colab_type": "code",
        "colab": {}
      },
      "source": [
        "# counting total number of variant calls \n",
        "# scan size 0.0 GB, result=182104652 variant calls\n",
        "# why 1.7 variat calls per row?\n",
        "NUM_VARIANTCALLS =  \"\"\"\n",
        "                    SELECT\n",
        "                      SUM(ARRAY_LENGTH(call)) AS num_calls\n",
        "                    FROM \n",
        "                      `bigquery-public-data.human_genome_variants.platinum_genomes_deepvariant_variants_20180823`\n",
        "                    \"\"\""
      ],
      "execution_count": 0,
      "outputs": []
    },
    {
      "cell_type": "code",
      "metadata": {
        "id": "l67tXBNBGMm_",
        "colab_type": "code",
        "outputId": "7842dc86-f853-4777-dfbf-e486795549c7",
        "colab": {
          "base_uri": "https://localhost:8080/",
          "height": 34
        }
      },
      "source": [
        "illu.estimate_query_size(NUM_VARIANTCALLS)"
      ],
      "execution_count": 16,
      "outputs": [
        {
          "output_type": "execute_result",
          "data": {
            "text/plain": [
              "0.0"
            ]
          },
          "metadata": {
            "tags": []
          },
          "execution_count": 16
        }
      ]
    },
    {
      "cell_type": "code",
      "metadata": {
        "id": "wqFBOD5YGViJ",
        "colab_type": "code",
        "colab": {}
      },
      "source": [
        "df = illu.query_to_pandas_safe(NUM_VARIANTCALLS)"
      ],
      "execution_count": 0,
      "outputs": []
    },
    {
      "cell_type": "code",
      "metadata": {
        "id": "aLTBmNriGhsG",
        "colab_type": "code",
        "outputId": "a27be7e0-0ddb-4722-c535-6bc6340c22e8",
        "colab": {
          "base_uri": "https://localhost:8080/",
          "height": 80
        }
      },
      "source": [
        "df"
      ],
      "execution_count": 18,
      "outputs": [
        {
          "output_type": "execute_result",
          "data": {
            "text/html": [
              "<div>\n",
              "<style scoped>\n",
              "    .dataframe tbody tr th:only-of-type {\n",
              "        vertical-align: middle;\n",
              "    }\n",
              "\n",
              "    .dataframe tbody tr th {\n",
              "        vertical-align: top;\n",
              "    }\n",
              "\n",
              "    .dataframe thead th {\n",
              "        text-align: right;\n",
              "    }\n",
              "</style>\n",
              "<table border=\"1\" class=\"dataframe\">\n",
              "  <thead>\n",
              "    <tr style=\"text-align: right;\">\n",
              "      <th></th>\n",
              "      <th>num_calls</th>\n",
              "    </tr>\n",
              "  </thead>\n",
              "  <tbody>\n",
              "    <tr>\n",
              "      <th>0</th>\n",
              "      <td>182104652</td>\n",
              "    </tr>\n",
              "  </tbody>\n",
              "</table>\n",
              "</div>"
            ],
            "text/plain": [
              "   num_calls\n",
              "0  182104652"
            ]
          },
          "metadata": {
            "tags": []
          },
          "execution_count": 18
        }
      ]
    },
    {
      "cell_type": "markdown",
      "metadata": {
        "id": "dplUaxH92YJd",
        "colab_type": "text"
      },
      "source": [
        "__Joining each row__"
      ]
    },
    {
      "cell_type": "code",
      "metadata": {
        "id": "3OYolkipCyUv",
        "colab_type": "code",
        "colab": {}
      },
      "source": [
        "## scan size 0.0. GB\n",
        "NUM_VARIANTCALLS2 =  \"\"\"\n",
        "                    SELECT\n",
        "                      COUNT(call) AS num_calls\n",
        "                    FROM \n",
        "                      `bigquery-public-data.human_genome_variants.platinum_genomes_deepvariant_variants_20180823` v, v.call\n",
        "                    \"\"\""
      ],
      "execution_count": 0,
      "outputs": []
    },
    {
      "cell_type": "code",
      "metadata": {
        "id": "Tahux8KnEDWR",
        "colab_type": "code",
        "outputId": "be536ba5-6e88-43cf-be85-4f880b2cfb8e",
        "colab": {
          "base_uri": "https://localhost:8080/",
          "height": 34
        }
      },
      "source": [
        "illu.estimate_query_size(NUM_VARIANTCALLS2)"
      ],
      "execution_count": 20,
      "outputs": [
        {
          "output_type": "execute_result",
          "data": {
            "text/plain": [
              "0.0"
            ]
          },
          "metadata": {
            "tags": []
          },
          "execution_count": 20
        }
      ]
    },
    {
      "cell_type": "markdown",
      "metadata": {
        "id": "RlNpR24k2eME",
        "colab_type": "text"
      },
      "source": [
        "__Counting name in a call column__"
      ]
    },
    {
      "cell_type": "code",
      "metadata": {
        "id": "57SyeQlzIcQ7",
        "colab_type": "code",
        "colab": {}
      },
      "source": [
        "## scan size ~ 1.5264 GB\n",
        "NUM_VARIANTCALLS3 = \"\"\"\n",
        "                    SELECT\n",
        "                      COUNT(call.name) AS num_calls\n",
        "                    FROM\n",
        "                      `bigquery-public-data.human_genome_variants.platinum_genomes_deepvariant_variants_20180823` v, v.call call\n",
        "                    \"\"\""
      ],
      "execution_count": 0,
      "outputs": []
    },
    {
      "cell_type": "code",
      "metadata": {
        "id": "2OqN0k5iJcdM",
        "colab_type": "code",
        "outputId": "94190344-612f-443f-8f4f-5d53acad459f",
        "colab": {
          "base_uri": "https://localhost:8080/",
          "height": 34
        }
      },
      "source": [
        "illu.estimate_query_size(NUM_VARIANTCALLS3)"
      ],
      "execution_count": 22,
      "outputs": [
        {
          "output_type": "execute_result",
          "data": {
            "text/plain": [
              "1.5263835601508617"
            ]
          },
          "metadata": {
            "tags": []
          },
          "execution_count": 22
        }
      ]
    },
    {
      "cell_type": "markdown",
      "metadata": {
        "id": "SxcTae-82pim",
        "colab_type": "text"
      },
      "source": [
        "## Counting variant and non-variant segments\n",
        "__non_variant segments__"
      ]
    },
    {
      "cell_type": "code",
      "metadata": {
        "id": "Tp3OKFGAJfHX",
        "colab_type": "code",
        "colab": {}
      },
      "source": [
        "# counting non-variant segments\n",
        "# scan size 0.534 GB, returns 143.555.264 non-variant segments\n",
        "NUM_NONVARIANTS =  \"\"\"\n",
        "                SELECT\n",
        "                  COUNT(1) AS num_nonvariants\n",
        "                FROM\n",
        "                  `bigquery-public-data.human_genome_variants.platinum_genomes_deepvariant_variants_20180823` v, v.call call\n",
        "                WHERE\n",
        "                  NOT EXISTS (SELECT 1\n",
        "                                FROM UNNEST(v.alternate_bases) AS alt\n",
        "                              WHERE\n",
        "                                alt.alt NOT IN ('<NON_REF>','<*>'))\n",
        "                \"\"\""
      ],
      "execution_count": 0,
      "outputs": []
    },
    {
      "cell_type": "code",
      "metadata": {
        "id": "maYcVbVHMF06",
        "colab_type": "code",
        "outputId": "e5d86865-7d15-4718-868c-a1a7541fa578",
        "colab": {
          "base_uri": "https://localhost:8080/",
          "height": 34
        }
      },
      "source": [
        "illu.estimate_query_size(NUM_NONVARIANTS)"
      ],
      "execution_count": 24,
      "outputs": [
        {
          "output_type": "execute_result",
          "data": {
            "text/plain": [
              "0.5340448450297117"
            ]
          },
          "metadata": {
            "tags": []
          },
          "execution_count": 24
        }
      ]
    },
    {
      "cell_type": "code",
      "metadata": {
        "id": "D6xBTT5jMJPk",
        "colab_type": "code",
        "colab": {}
      },
      "source": [
        "df = illu.query_to_pandas_safe(NUM_NONVARIANTS)"
      ],
      "execution_count": 0,
      "outputs": []
    },
    {
      "cell_type": "code",
      "metadata": {
        "id": "HLZrz8mFMeH0",
        "colab_type": "code",
        "outputId": "a218e630-9044-48ae-85b5-fd1165387bda",
        "colab": {
          "base_uri": "https://localhost:8080/",
          "height": 80
        }
      },
      "source": [
        "df"
      ],
      "execution_count": 26,
      "outputs": [
        {
          "output_type": "execute_result",
          "data": {
            "text/html": [
              "<div>\n",
              "<style scoped>\n",
              "    .dataframe tbody tr th:only-of-type {\n",
              "        vertical-align: middle;\n",
              "    }\n",
              "\n",
              "    .dataframe tbody tr th {\n",
              "        vertical-align: top;\n",
              "    }\n",
              "\n",
              "    .dataframe thead th {\n",
              "        text-align: right;\n",
              "    }\n",
              "</style>\n",
              "<table border=\"1\" class=\"dataframe\">\n",
              "  <thead>\n",
              "    <tr style=\"text-align: right;\">\n",
              "      <th></th>\n",
              "      <th>num_nonvariants</th>\n",
              "    </tr>\n",
              "  </thead>\n",
              "  <tbody>\n",
              "    <tr>\n",
              "      <th>0</th>\n",
              "      <td>143555264</td>\n",
              "    </tr>\n",
              "  </tbody>\n",
              "</table>\n",
              "</div>"
            ],
            "text/plain": [
              "   num_nonvariants\n",
              "0        143555264"
            ]
          },
          "metadata": {
            "tags": []
          },
          "execution_count": 26
        }
      ]
    },
    {
      "cell_type": "markdown",
      "metadata": {
        "id": "7i6x_UCA2z_T",
        "colab_type": "text"
      },
      "source": [
        "__variant segments__"
      ]
    },
    {
      "cell_type": "code",
      "metadata": {
        "id": "MRbYHGP3Mil4",
        "colab_type": "code",
        "colab": {}
      },
      "source": [
        "# counting variant segments\n",
        "# scan size 0.534 GB, returns 38.549.388 variant segments\n",
        "NUM_VARIANTS =  \"\"\"\n",
        "                SELECT\n",
        "                  COUNT(1) AS num_variants\n",
        "                FROM\n",
        "                  `bigquery-public-data.human_genome_variants.platinum_genomes_deepvariant_variants_20180823` v, v.call call\n",
        "                WHERE\n",
        "                  EXISTS (SELECT 1\n",
        "                            FROM UNNEST(v.alternate_bases) AS alt\n",
        "                          WHERE\n",
        "                            alt.alt NOT IN ('<NON_REF>','<*>'))\n",
        "                \"\"\""
      ],
      "execution_count": 0,
      "outputs": []
    },
    {
      "cell_type": "code",
      "metadata": {
        "id": "yu9eJpDxNnMP",
        "colab_type": "code",
        "outputId": "cb6e7ab0-cf7e-485b-fb63-3000326e258d",
        "colab": {
          "base_uri": "https://localhost:8080/",
          "height": 34
        }
      },
      "source": [
        "illu.estimate_query_size(NUM_VARIANTS)"
      ],
      "execution_count": 28,
      "outputs": [
        {
          "output_type": "execute_result",
          "data": {
            "text/plain": [
              "0.5340448450297117"
            ]
          },
          "metadata": {
            "tags": []
          },
          "execution_count": 28
        }
      ]
    },
    {
      "cell_type": "code",
      "metadata": {
        "id": "AgXV62RfNvAq",
        "colab_type": "code",
        "outputId": "9f272492-66c0-442e-8916-cbbe2a801d1f",
        "colab": {
          "base_uri": "https://localhost:8080/",
          "height": 80
        }
      },
      "source": [
        "df = illu.query_to_pandas_safe(NUM_VARIANTS)\n",
        "df"
      ],
      "execution_count": 29,
      "outputs": [
        {
          "output_type": "execute_result",
          "data": {
            "text/html": [
              "<div>\n",
              "<style scoped>\n",
              "    .dataframe tbody tr th:only-of-type {\n",
              "        vertical-align: middle;\n",
              "    }\n",
              "\n",
              "    .dataframe tbody tr th {\n",
              "        vertical-align: top;\n",
              "    }\n",
              "\n",
              "    .dataframe thead th {\n",
              "        text-align: right;\n",
              "    }\n",
              "</style>\n",
              "<table border=\"1\" class=\"dataframe\">\n",
              "  <thead>\n",
              "    <tr style=\"text-align: right;\">\n",
              "      <th></th>\n",
              "      <th>num_variants</th>\n",
              "    </tr>\n",
              "  </thead>\n",
              "  <tbody>\n",
              "    <tr>\n",
              "      <th>0</th>\n",
              "      <td>38549388</td>\n",
              "    </tr>\n",
              "  </tbody>\n",
              "</table>\n",
              "</div>"
            ],
            "text/plain": [
              "   num_variants\n",
              "0      38549388"
            ]
          },
          "metadata": {
            "tags": []
          },
          "execution_count": 29
        }
      ]
    },
    {
      "cell_type": "code",
      "metadata": {
        "id": "rO7O6nyON0aD",
        "colab_type": "code",
        "outputId": "0080c175-99b1-4006-8c4a-b49146fa5c5d",
        "colab": {
          "base_uri": "https://localhost:8080/",
          "height": 34
        }
      },
      "source": [
        "38549388+143555264"
      ],
      "execution_count": 30,
      "outputs": [
        {
          "output_type": "execute_result",
          "data": {
            "text/plain": [
              "182104652"
            ]
          },
          "metadata": {
            "tags": []
          },
          "execution_count": 30
        }
      ]
    },
    {
      "cell_type": "markdown",
      "metadata": {
        "id": "1kqb16dJ25Dc",
        "colab_type": "text"
      },
      "source": [
        "## Counting the variants called by each sample"
      ]
    },
    {
      "cell_type": "code",
      "metadata": {
        "id": "zC3OdUueOBD3",
        "colab_type": "code",
        "colab": {}
      },
      "source": [
        "# counting number of variants called by each sample\n",
        "# first count number of rows, in which each call set appears\n",
        "# scan size 1.526 GB, returns call counts of approx. 30 million variant calls per sample\n",
        "CALLCOUNT_PER_SET =   \"\"\"\n",
        "                            SELECT\n",
        "                              call.name AS call_names,\n",
        "                              COUNT(call.name) AS call_count_per_call_set\n",
        "                            FROM\n",
        "                              `bigquery-public-data.human_genome_variants.platinum_genomes_deepvariant_variants_20180823` v, v.call\n",
        "                            GROUP BY \n",
        "                              call.name\n",
        "                            ORDER BY\n",
        "                              call.name\n",
        "                            \"\"\""
      ],
      "execution_count": 0,
      "outputs": []
    },
    {
      "cell_type": "code",
      "metadata": {
        "id": "E2UvQXbLP50B",
        "colab_type": "code",
        "outputId": "51a689e5-48f3-44e9-d58c-d5548a878df6",
        "colab": {
          "base_uri": "https://localhost:8080/",
          "height": 34
        }
      },
      "source": [
        "illu.estimate_query_size(CALLCOUNT_PER_SET)"
      ],
      "execution_count": 32,
      "outputs": [
        {
          "output_type": "execute_result",
          "data": {
            "text/plain": [
              "1.5263835601508617"
            ]
          },
          "metadata": {
            "tags": []
          },
          "execution_count": 32
        }
      ]
    },
    {
      "cell_type": "code",
      "metadata": {
        "id": "8DNYfU8CQKdL",
        "colab_type": "code",
        "outputId": "2cfd27a9-187a-4ad7-97ad-d4689473bf30",
        "colab": {
          "base_uri": "https://localhost:8080/",
          "height": 235
        }
      },
      "source": [
        "df = illu.query_to_pandas(CALLCOUNT_PER_SET)\n",
        "df"
      ],
      "execution_count": 33,
      "outputs": [
        {
          "output_type": "execute_result",
          "data": {
            "text/html": [
              "<div>\n",
              "<style scoped>\n",
              "    .dataframe tbody tr th:only-of-type {\n",
              "        vertical-align: middle;\n",
              "    }\n",
              "\n",
              "    .dataframe tbody tr th {\n",
              "        vertical-align: top;\n",
              "    }\n",
              "\n",
              "    .dataframe thead th {\n",
              "        text-align: right;\n",
              "    }\n",
              "</style>\n",
              "<table border=\"1\" class=\"dataframe\">\n",
              "  <thead>\n",
              "    <tr style=\"text-align: right;\">\n",
              "      <th></th>\n",
              "      <th>call_names</th>\n",
              "      <th>call_count_per_call_set</th>\n",
              "    </tr>\n",
              "  </thead>\n",
              "  <tbody>\n",
              "    <tr>\n",
              "      <th>0</th>\n",
              "      <td>NA12877</td>\n",
              "      <td>31592135</td>\n",
              "    </tr>\n",
              "    <tr>\n",
              "      <th>1</th>\n",
              "      <td>NA12878</td>\n",
              "      <td>28012646</td>\n",
              "    </tr>\n",
              "    <tr>\n",
              "      <th>2</th>\n",
              "      <td>NA12889</td>\n",
              "      <td>31028550</td>\n",
              "    </tr>\n",
              "    <tr>\n",
              "      <th>3</th>\n",
              "      <td>NA12890</td>\n",
              "      <td>30636087</td>\n",
              "    </tr>\n",
              "    <tr>\n",
              "      <th>4</th>\n",
              "      <td>NA12891</td>\n",
              "      <td>33487348</td>\n",
              "    </tr>\n",
              "    <tr>\n",
              "      <th>5</th>\n",
              "      <td>NA12892</td>\n",
              "      <td>27347886</td>\n",
              "    </tr>\n",
              "  </tbody>\n",
              "</table>\n",
              "</div>"
            ],
            "text/plain": [
              "  call_names  call_count_per_call_set\n",
              "0    NA12877                 31592135\n",
              "1    NA12878                 28012646\n",
              "2    NA12889                 31028550\n",
              "3    NA12890                 30636087\n",
              "4    NA12891                 33487348\n",
              "5    NA12892                 27347886"
            ]
          },
          "metadata": {
            "tags": []
          },
          "execution_count": 33
        }
      ]
    },
    {
      "cell_type": "code",
      "metadata": {
        "id": "9c1Nj8y4Q3Rs",
        "colab_type": "code",
        "colab": {}
      },
      "source": [
        "## filter out non-variant segments to only count the called variant segments per sample (human)\n",
        "# scan size 2.06 GB, returns around 6 million called variant segments per sample (more realistic)\n",
        "NUM_VARIANTS_PER_SAMPLE =   \"\"\"\n",
        "                            SELECT\n",
        "                              call.name AS call_name,\n",
        "                              COUNT(call.name) AS call_count_for_call_set\n",
        "                            FROM\n",
        "                              `bigquery-public-data.human_genome_variants.platinum_genomes_deepvariant_variants_20180823` v, v.call\n",
        "                            WHERE\n",
        "                              EXISTS (SELECT 1\n",
        "                                        FROM UNNEST(v.alternate_bases) AS alt\n",
        "                                      WHERE\n",
        "                                        alt.alt NOT IN (\"<NON_REF>\", \"<*>\"))\n",
        "                            GROUP BY\n",
        "                              call_name\n",
        "                            ORDER BY\n",
        "                              call_name\n",
        "                            \"\"\""
      ],
      "execution_count": 0,
      "outputs": []
    },
    {
      "cell_type": "code",
      "metadata": {
        "id": "cQoG8_1BReSD",
        "colab_type": "code",
        "outputId": "31f9f8e8-fa6a-4904-d4a6-ed82336c3f54",
        "colab": {
          "base_uri": "https://localhost:8080/",
          "height": 34
        }
      },
      "source": [
        "illu.estimate_query_size(NUM_VARIANTS_PER_SAMPLE)"
      ],
      "execution_count": 35,
      "outputs": [
        {
          "output_type": "execute_result",
          "data": {
            "text/plain": [
              "2.0604284051805735"
            ]
          },
          "metadata": {
            "tags": []
          },
          "execution_count": 35
        }
      ]
    },
    {
      "cell_type": "code",
      "metadata": {
        "id": "vbIpaZYORhe7",
        "colab_type": "code",
        "colab": {}
      },
      "source": [
        "df = illu.query_to_pandas(NUM_VARIANTS_PER_SAMPLE)"
      ],
      "execution_count": 0,
      "outputs": []
    },
    {
      "cell_type": "code",
      "metadata": {
        "id": "zs2ZdBEPSEQG",
        "colab_type": "code",
        "outputId": "b7f85113-8767-4a61-dfae-26557fcd7ad2",
        "colab": {
          "base_uri": "https://localhost:8080/",
          "height": 235
        }
      },
      "source": [
        "df"
      ],
      "execution_count": 37,
      "outputs": [
        {
          "output_type": "execute_result",
          "data": {
            "text/html": [
              "<div>\n",
              "<style scoped>\n",
              "    .dataframe tbody tr th:only-of-type {\n",
              "        vertical-align: middle;\n",
              "    }\n",
              "\n",
              "    .dataframe tbody tr th {\n",
              "        vertical-align: top;\n",
              "    }\n",
              "\n",
              "    .dataframe thead th {\n",
              "        text-align: right;\n",
              "    }\n",
              "</style>\n",
              "<table border=\"1\" class=\"dataframe\">\n",
              "  <thead>\n",
              "    <tr style=\"text-align: right;\">\n",
              "      <th></th>\n",
              "      <th>call_name</th>\n",
              "      <th>call_count_for_call_set</th>\n",
              "    </tr>\n",
              "  </thead>\n",
              "  <tbody>\n",
              "    <tr>\n",
              "      <th>0</th>\n",
              "      <td>NA12877</td>\n",
              "      <td>6284275</td>\n",
              "    </tr>\n",
              "    <tr>\n",
              "      <th>1</th>\n",
              "      <td>NA12878</td>\n",
              "      <td>6397315</td>\n",
              "    </tr>\n",
              "    <tr>\n",
              "      <th>2</th>\n",
              "      <td>NA12889</td>\n",
              "      <td>6407532</td>\n",
              "    </tr>\n",
              "    <tr>\n",
              "      <th>3</th>\n",
              "      <td>NA12890</td>\n",
              "      <td>6448600</td>\n",
              "    </tr>\n",
              "    <tr>\n",
              "      <th>4</th>\n",
              "      <td>NA12891</td>\n",
              "      <td>6516669</td>\n",
              "    </tr>\n",
              "    <tr>\n",
              "      <th>5</th>\n",
              "      <td>NA12892</td>\n",
              "      <td>6494997</td>\n",
              "    </tr>\n",
              "  </tbody>\n",
              "</table>\n",
              "</div>"
            ],
            "text/plain": [
              "  call_name  call_count_for_call_set\n",
              "0   NA12877                  6284275\n",
              "1   NA12878                  6397315\n",
              "2   NA12889                  6407532\n",
              "3   NA12890                  6448600\n",
              "4   NA12891                  6516669\n",
              "5   NA12892                  6494997"
            ]
          },
          "metadata": {
            "tags": []
          },
          "execution_count": 37
        }
      ]
    },
    {
      "cell_type": "markdown",
      "metadata": {
        "id": "d_XAtuA-3DK8",
        "colab_type": "text"
      },
      "source": [
        "__Filtering true variants by genotype__"
      ]
    },
    {
      "cell_type": "code",
      "metadata": {
        "id": "XkRpuh84SEvV",
        "colab_type": "code",
        "colab": {}
      },
      "source": [
        "# filtering true variants by genotype\n",
        "# variants are no-calls, if genotype = -1\n",
        "# true variants for individuals have genotype > 0\n",
        "# if a call includes only no-call genotypes or reference genotypes (0), they are not true variants\n",
        "# BASED ON QUERY I ASSUME THAT WE CALL REFERENCE (GENOTYPE=0) VARIANTS AS WELL ???\n",
        "NUM_TRUE_VARIANTS_PER_SAMPLE = \"\"\"\n",
        "                                SELECT \n",
        "                                  call.name AS call_name,\n",
        "                                  COUNT(call.name) AS call_count_per_call_set\n",
        "                                FROM \n",
        "                                  `bigquery-public-data.human_genome_variants.platinum_genomes_deepvariant_variants_20180823` v, v.call\n",
        "                                WHERE\n",
        "                                  EXISTS (SELECT 1 FROM UNNEST(call.genotype) AS gt WHERE gt>0)\n",
        "                                  AND NOT EXISTS (SELECT 1 FROM UNNEST(call.genotype) AS gt WHERE gt<0)\n",
        "                                GROUP BY \n",
        "                                  call_name\n",
        "                                ORDER BY  \n",
        "                                  call_name\n",
        "                                \"\"\"\n",
        "# scan size 4.2399 GB, results in around 4.5 million true variants per call/samples"
      ],
      "execution_count": 0,
      "outputs": []
    },
    {
      "cell_type": "code",
      "metadata": {
        "id": "dbGyqWt5Vv9N",
        "colab_type": "code",
        "outputId": "eddc1f5f-2d68-457a-b87f-fab6e7ead5a4",
        "colab": {
          "base_uri": "https://localhost:8080/",
          "height": 34
        }
      },
      "source": [
        "illu.estimate_query_size(NUM_TRUE_VARIANTS_PER_SAMPLE)"
      ],
      "execution_count": 39,
      "outputs": [
        {
          "output_type": "execute_result",
          "data": {
            "text/plain": [
              "4.239954333752394"
            ]
          },
          "metadata": {
            "tags": []
          },
          "execution_count": 39
        }
      ]
    },
    {
      "cell_type": "code",
      "metadata": {
        "id": "1-f5sjc2Vz_9",
        "colab_type": "code",
        "outputId": "e1077a73-8584-40bc-97b7-bd4a750dc3ef",
        "colab": {
          "base_uri": "https://localhost:8080/",
          "height": 235
        }
      },
      "source": [
        "df = illu.query_to_pandas(NUM_TRUE_VARIANTS_PER_SAMPLE)\n",
        "df"
      ],
      "execution_count": 40,
      "outputs": [
        {
          "output_type": "execute_result",
          "data": {
            "text/html": [
              "<div>\n",
              "<style scoped>\n",
              "    .dataframe tbody tr th:only-of-type {\n",
              "        vertical-align: middle;\n",
              "    }\n",
              "\n",
              "    .dataframe tbody tr th {\n",
              "        vertical-align: top;\n",
              "    }\n",
              "\n",
              "    .dataframe thead th {\n",
              "        text-align: right;\n",
              "    }\n",
              "</style>\n",
              "<table border=\"1\" class=\"dataframe\">\n",
              "  <thead>\n",
              "    <tr style=\"text-align: right;\">\n",
              "      <th></th>\n",
              "      <th>call_name</th>\n",
              "      <th>call_count_per_call_set</th>\n",
              "    </tr>\n",
              "  </thead>\n",
              "  <tbody>\n",
              "    <tr>\n",
              "      <th>0</th>\n",
              "      <td>NA12877</td>\n",
              "      <td>4486610</td>\n",
              "    </tr>\n",
              "    <tr>\n",
              "      <th>1</th>\n",
              "      <td>NA12878</td>\n",
              "      <td>4502017</td>\n",
              "    </tr>\n",
              "    <tr>\n",
              "      <th>2</th>\n",
              "      <td>NA12889</td>\n",
              "      <td>4422706</td>\n",
              "    </tr>\n",
              "    <tr>\n",
              "      <th>3</th>\n",
              "      <td>NA12890</td>\n",
              "      <td>4528725</td>\n",
              "    </tr>\n",
              "    <tr>\n",
              "      <th>4</th>\n",
              "      <td>NA12891</td>\n",
              "      <td>4424094</td>\n",
              "    </tr>\n",
              "    <tr>\n",
              "      <th>5</th>\n",
              "      <td>NA12892</td>\n",
              "      <td>4495753</td>\n",
              "    </tr>\n",
              "  </tbody>\n",
              "</table>\n",
              "</div>"
            ],
            "text/plain": [
              "  call_name  call_count_per_call_set\n",
              "0   NA12877                  4486610\n",
              "1   NA12878                  4502017\n",
              "2   NA12889                  4422706\n",
              "3   NA12890                  4528725\n",
              "4   NA12891                  4424094\n",
              "5   NA12892                  4495753"
            ]
          },
          "metadata": {
            "tags": []
          },
          "execution_count": 40
        }
      ]
    },
    {
      "cell_type": "markdown",
      "metadata": {
        "id": "AEe4qgQ33JSU",
        "colab_type": "text"
      },
      "source": [
        "## Count samples in the table"
      ]
    },
    {
      "cell_type": "code",
      "metadata": {
        "id": "m8EmYeh_WDhL",
        "colab_type": "code",
        "colab": {}
      },
      "source": [
        "# count number of samples (calls) in data set\n",
        "# scan size 1.5264 GB, returns 6\n",
        "NUM_SAMPLES = \"\"\"\n",
        "              SELECT\n",
        "                COUNT(DISTINCT(call.name)) AS num_callsets\n",
        "              FROM \n",
        "                `bigquery-public-data.human_genome_variants.platinum_genomes_deepvariant_variants_20180823` v, v.call\n",
        "              \"\"\""
      ],
      "execution_count": 0,
      "outputs": []
    },
    {
      "cell_type": "code",
      "metadata": {
        "id": "DdKwPVZOXb35",
        "colab_type": "code",
        "outputId": "67a185eb-d384-4b06-a340-0917410626a0",
        "colab": {
          "base_uri": "https://localhost:8080/",
          "height": 34
        }
      },
      "source": [
        "illu.estimate_query_size(NUM_SAMPLES)"
      ],
      "execution_count": 42,
      "outputs": [
        {
          "output_type": "execute_result",
          "data": {
            "text/plain": [
              "1.5263835601508617"
            ]
          },
          "metadata": {
            "tags": []
          },
          "execution_count": 42
        }
      ]
    },
    {
      "cell_type": "code",
      "metadata": {
        "id": "Ksbydt4UXfzr",
        "colab_type": "code",
        "outputId": "fb46fe06-f160-4d67-8f74-e44c1758a974",
        "colab": {
          "base_uri": "https://localhost:8080/",
          "height": 80
        }
      },
      "source": [
        "df = illu.query_to_pandas(NUM_SAMPLES)\n",
        "df"
      ],
      "execution_count": 43,
      "outputs": [
        {
          "output_type": "execute_result",
          "data": {
            "text/html": [
              "<div>\n",
              "<style scoped>\n",
              "    .dataframe tbody tr th:only-of-type {\n",
              "        vertical-align: middle;\n",
              "    }\n",
              "\n",
              "    .dataframe tbody tr th {\n",
              "        vertical-align: top;\n",
              "    }\n",
              "\n",
              "    .dataframe thead th {\n",
              "        text-align: right;\n",
              "    }\n",
              "</style>\n",
              "<table border=\"1\" class=\"dataframe\">\n",
              "  <thead>\n",
              "    <tr style=\"text-align: right;\">\n",
              "      <th></th>\n",
              "      <th>num_callsets</th>\n",
              "    </tr>\n",
              "  </thead>\n",
              "  <tbody>\n",
              "    <tr>\n",
              "      <th>0</th>\n",
              "      <td>6</td>\n",
              "    </tr>\n",
              "  </tbody>\n",
              "</table>\n",
              "</div>"
            ],
            "text/plain": [
              "   num_callsets\n",
              "0             6"
            ]
          },
          "metadata": {
            "tags": []
          },
          "execution_count": 43
        }
      ]
    },
    {
      "cell_type": "markdown",
      "metadata": {
        "id": "1ZTC5t9N3M4P",
        "colab_type": "text"
      },
      "source": [
        "## Count variants per chromosome"
      ]
    },
    {
      "cell_type": "code",
      "metadata": {
        "id": "vLm-ICS9XoWR",
        "colab_type": "code",
        "colab": {}
      },
      "source": [
        "# counting variants per chromosome\n",
        "# WHY DOES HERE ONLY ONE GT HAVE TO BE >0 FOR THE VARIANT TO BE A TRUE ONE?\n",
        "NUM_VARIANTS_PER_CHR =  \"\"\"\n",
        "                        SELECT \n",
        "                          reference_name,\n",
        "                          COUNT(reference_name) AS num_variant_rows\n",
        "                        FROM\n",
        "                          `bigquery-public-data.human_genome_variants.platinum_genomes_deepvariant_variants_20180823` v\n",
        "                        WHERE\n",
        "                          EXISTS (SELECT 1 \n",
        "                                  FROM \n",
        "                                    UNNEST(v.call) AS call, UNNEST(call.genotype) AS gt\n",
        "                                  WHERE\n",
        "                                    gt>0)\n",
        "                        GROUP BY\n",
        "                          reference_name\n",
        "                        ORDER BY\n",
        "                          CASE\n",
        "                            WHEN SAFE_CAST(REGEXP_REPLACE(reference_name, '^chr', '') AS INT64) < 10\n",
        "                              THEN CONCAT('0', REGEXP_REPLACE(reference_name, '^chr', ''))\n",
        "                              ELSE REGEXP_REPLACE(reference_name, '^chr', '')\n",
        "                          END\n",
        "                        \"\"\"\n",
        "# scan size 3.341 GB, returns number of (true) variants per chr (max. 615000 for chr, min. 15357 for chrY )"
      ],
      "execution_count": 0,
      "outputs": []
    },
    {
      "cell_type": "code",
      "metadata": {
        "id": "D0kDmEeschlv",
        "colab_type": "code",
        "outputId": "dcdafdd1-2e95-4fe1-d8d5-a7b1e70b2443",
        "colab": {
          "base_uri": "https://localhost:8080/",
          "height": 0
        }
      },
      "source": [
        "illu.estimate_query_size(NUM_VARIANTS_PER_CHR)"
      ],
      "execution_count": 45,
      "outputs": [
        {
          "output_type": "execute_result",
          "data": {
            "text/plain": [
              "3.341447635553777"
            ]
          },
          "metadata": {
            "tags": []
          },
          "execution_count": 45
        }
      ]
    },
    {
      "cell_type": "code",
      "metadata": {
        "id": "LJgLIjczcszf",
        "colab_type": "code",
        "outputId": "b2a926a1-fd28-4022-bdb2-6ffa5199ee62",
        "colab": {
          "base_uri": "https://localhost:8080/",
          "height": 0
        }
      },
      "source": [
        "df = illu.query_to_pandas(NUM_VARIANTS_PER_CHR)\n",
        "df"
      ],
      "execution_count": 46,
      "outputs": [
        {
          "output_type": "execute_result",
          "data": {
            "text/html": [
              "<div>\n",
              "<style scoped>\n",
              "    .dataframe tbody tr th:only-of-type {\n",
              "        vertical-align: middle;\n",
              "    }\n",
              "\n",
              "    .dataframe tbody tr th {\n",
              "        vertical-align: top;\n",
              "    }\n",
              "\n",
              "    .dataframe thead th {\n",
              "        text-align: right;\n",
              "    }\n",
              "</style>\n",
              "<table border=\"1\" class=\"dataframe\">\n",
              "  <thead>\n",
              "    <tr style=\"text-align: right;\">\n",
              "      <th></th>\n",
              "      <th>reference_name</th>\n",
              "      <th>num_variant_rows</th>\n",
              "    </tr>\n",
              "  </thead>\n",
              "  <tbody>\n",
              "    <tr>\n",
              "      <th>0</th>\n",
              "      <td>chr1</td>\n",
              "      <td>615000</td>\n",
              "    </tr>\n",
              "    <tr>\n",
              "      <th>1</th>\n",
              "      <td>chr2</td>\n",
              "      <td>646401</td>\n",
              "    </tr>\n",
              "    <tr>\n",
              "      <th>2</th>\n",
              "      <td>chr3</td>\n",
              "      <td>542315</td>\n",
              "    </tr>\n",
              "    <tr>\n",
              "      <th>3</th>\n",
              "      <td>chr4</td>\n",
              "      <td>578600</td>\n",
              "    </tr>\n",
              "    <tr>\n",
              "      <th>4</th>\n",
              "      <td>chr5</td>\n",
              "      <td>496202</td>\n",
              "    </tr>\n",
              "    <tr>\n",
              "      <th>5</th>\n",
              "      <td>chr6</td>\n",
              "      <td>512152</td>\n",
              "    </tr>\n",
              "    <tr>\n",
              "      <th>6</th>\n",
              "      <td>chr7</td>\n",
              "      <td>459506</td>\n",
              "    </tr>\n",
              "    <tr>\n",
              "      <th>7</th>\n",
              "      <td>chr8</td>\n",
              "      <td>416376</td>\n",
              "    </tr>\n",
              "    <tr>\n",
              "      <th>8</th>\n",
              "      <td>chr9</td>\n",
              "      <td>344985</td>\n",
              "    </tr>\n",
              "    <tr>\n",
              "      <th>9</th>\n",
              "      <td>chr10</td>\n",
              "      <td>396773</td>\n",
              "    </tr>\n",
              "    <tr>\n",
              "      <th>10</th>\n",
              "      <td>chr11</td>\n",
              "      <td>391260</td>\n",
              "    </tr>\n",
              "    <tr>\n",
              "      <th>11</th>\n",
              "      <td>chr12</td>\n",
              "      <td>382841</td>\n",
              "    </tr>\n",
              "    <tr>\n",
              "      <th>12</th>\n",
              "      <td>chr13</td>\n",
              "      <td>298044</td>\n",
              "    </tr>\n",
              "    <tr>\n",
              "      <th>13</th>\n",
              "      <td>chr14</td>\n",
              "      <td>258756</td>\n",
              "    </tr>\n",
              "    <tr>\n",
              "      <th>14</th>\n",
              "      <td>chr15</td>\n",
              "      <td>234569</td>\n",
              "    </tr>\n",
              "    <tr>\n",
              "      <th>15</th>\n",
              "      <td>chr16</td>\n",
              "      <td>247671</td>\n",
              "    </tr>\n",
              "    <tr>\n",
              "      <th>16</th>\n",
              "      <td>chr17</td>\n",
              "      <td>224403</td>\n",
              "    </tr>\n",
              "    <tr>\n",
              "      <th>17</th>\n",
              "      <td>chr18</td>\n",
              "      <td>227200</td>\n",
              "    </tr>\n",
              "    <tr>\n",
              "      <th>18</th>\n",
              "      <td>chr19</td>\n",
              "      <td>192538</td>\n",
              "    </tr>\n",
              "    <tr>\n",
              "      <th>19</th>\n",
              "      <td>chr20</td>\n",
              "      <td>168958</td>\n",
              "    </tr>\n",
              "    <tr>\n",
              "      <th>20</th>\n",
              "      <td>chr21</td>\n",
              "      <td>121882</td>\n",
              "    </tr>\n",
              "    <tr>\n",
              "      <th>21</th>\n",
              "      <td>chr22</td>\n",
              "      <td>112338</td>\n",
              "    </tr>\n",
              "    <tr>\n",
              "      <th>22</th>\n",
              "      <td>chrX</td>\n",
              "      <td>231125</td>\n",
              "    </tr>\n",
              "    <tr>\n",
              "      <th>23</th>\n",
              "      <td>chrY</td>\n",
              "      <td>15357</td>\n",
              "    </tr>\n",
              "  </tbody>\n",
              "</table>\n",
              "</div>"
            ],
            "text/plain": [
              "   reference_name  num_variant_rows\n",
              "0            chr1            615000\n",
              "1            chr2            646401\n",
              "2            chr3            542315\n",
              "3            chr4            578600\n",
              "4            chr5            496202\n",
              "5            chr6            512152\n",
              "6            chr7            459506\n",
              "7            chr8            416376\n",
              "8            chr9            344985\n",
              "9           chr10            396773\n",
              "10          chr11            391260\n",
              "11          chr12            382841\n",
              "12          chr13            298044\n",
              "13          chr14            258756\n",
              "14          chr15            234569\n",
              "15          chr16            247671\n",
              "16          chr17            224403\n",
              "17          chr18            227200\n",
              "18          chr19            192538\n",
              "19          chr20            168958\n",
              "20          chr21            121882\n",
              "21          chr22            112338\n",
              "22           chrX            231125\n",
              "23           chrY             15357"
            ]
          },
          "metadata": {
            "tags": []
          },
          "execution_count": 46
        }
      ]
    },
    {
      "cell_type": "markdown",
      "metadata": {
        "id": "W0Xnx_d23VS6",
        "colab_type": "text"
      },
      "source": [
        "## Count high-quality variants per sample\n",
        "__Querying calls with multiple FILTER values__"
      ]
    },
    {
      "cell_type": "code",
      "metadata": {
        "id": "cURlTIPEdAMy",
        "colab_type": "code",
        "colab": {}
      },
      "source": [
        "# counting high-quality calls per sample\n",
        "# filter column labels variant calls of differing qualities (list of failed filters or PASS if HQ)\n",
        "NUM_VARIANTS_PER_FILTER =   \"\"\"\n",
        "                            SELECT\n",
        "                              call_filter,\n",
        "                              COUNT(call_filter) AS number_of_calls\n",
        "                            FROM\n",
        "                              `bigquery-public-data.human_genome_variants.platinum_genomes_deepvariant_variants_20180823` v,\n",
        "                              v.call,\n",
        "                              UNNEST(call.FILTER) AS call_filter\n",
        "                            GROUP BY\n",
        "                              call_filter\n",
        "                            ORDER BY\n",
        "                              number_of_calls\n",
        "                            \"\"\"\n",
        "# scan size 0.248 GB, returns 11681534 counts for RefCall and 26867854 for PASS"
      ],
      "execution_count": 0,
      "outputs": []
    },
    {
      "cell_type": "code",
      "metadata": {
        "id": "9eKMuli4gP9z",
        "colab_type": "code",
        "outputId": "2aadd156-109d-4caf-b8ac-c1c8126e2cd2",
        "colab": {
          "base_uri": "https://localhost:8080/",
          "height": 0
        }
      },
      "source": [
        "illu.estimate_query_size(NUM_VARIANTS_PER_FILTER)"
      ],
      "execution_count": 48,
      "outputs": [
        {
          "output_type": "execute_result",
          "data": {
            "text/plain": [
              "0.24804932065308094"
            ]
          },
          "metadata": {
            "tags": []
          },
          "execution_count": 48
        }
      ]
    },
    {
      "cell_type": "code",
      "metadata": {
        "id": "ly-qj2iEgT65",
        "colab_type": "code",
        "outputId": "1bac9465-158a-4172-fa3f-1ba0ad9e54c5",
        "colab": {
          "base_uri": "https://localhost:8080/",
          "height": 0
        }
      },
      "source": [
        "df = illu.query_to_pandas(NUM_VARIANTS_PER_FILTER)\n",
        "df"
      ],
      "execution_count": 49,
      "outputs": [
        {
          "output_type": "execute_result",
          "data": {
            "text/html": [
              "<div>\n",
              "<style scoped>\n",
              "    .dataframe tbody tr th:only-of-type {\n",
              "        vertical-align: middle;\n",
              "    }\n",
              "\n",
              "    .dataframe tbody tr th {\n",
              "        vertical-align: top;\n",
              "    }\n",
              "\n",
              "    .dataframe thead th {\n",
              "        text-align: right;\n",
              "    }\n",
              "</style>\n",
              "<table border=\"1\" class=\"dataframe\">\n",
              "  <thead>\n",
              "    <tr style=\"text-align: right;\">\n",
              "      <th></th>\n",
              "      <th>call_filter</th>\n",
              "      <th>number_of_calls</th>\n",
              "    </tr>\n",
              "  </thead>\n",
              "  <tbody>\n",
              "    <tr>\n",
              "      <th>0</th>\n",
              "      <td>RefCall</td>\n",
              "      <td>11681534</td>\n",
              "    </tr>\n",
              "    <tr>\n",
              "      <th>1</th>\n",
              "      <td>PASS</td>\n",
              "      <td>26867854</td>\n",
              "    </tr>\n",
              "  </tbody>\n",
              "</table>\n",
              "</div>"
            ],
            "text/plain": [
              "  call_filter  number_of_calls\n",
              "0     RefCall         11681534\n",
              "1        PASS         26867854"
            ]
          },
          "metadata": {
            "tags": []
          },
          "execution_count": 49
        }
      ]
    },
    {
      "cell_type": "markdown",
      "metadata": {
        "id": "kYLlFVI73gMh",
        "colab_type": "text"
      },
      "source": [
        "__FILTERing for high quality variant calls__"
      ]
    },
    {
      "cell_type": "code",
      "metadata": {
        "id": "Rnr5rPTAga-P",
        "colab_type": "code",
        "colab": {}
      },
      "source": [
        "# proof that if a variant call passed all qualities filters (filter=PASS), the filter field does not contain any other value\n",
        "PASS_IS_PASS =  \"\"\"\n",
        "                SELECT\n",
        "                  reference_name,\n",
        "                  start_position,\n",
        "                  end_position,\n",
        "                  reference_bases,\n",
        "                  call.name AS call_name,\n",
        "                  (SELECT STRING_AGG(call_filter) FROM UNNEST(call.FILTER) AS call_filter) AS filters,\n",
        "                  ARRAY_LENGTH(call.FILTER) AS filter_count\n",
        "                FROM\n",
        "                  `bigquery-public-data.human_genome_variants.platinum_genomes_deepvariant_variants_20180823` v, v.call\n",
        "                WHERE\n",
        "                  EXISTS (SELECT 1 FROM UNNEST(call.FILTER) AS call_filter WHERE call_filter = 'PASS')\n",
        "                  AND ARRAY_LENGTH(call.FILTER) > 1\n",
        "                ORDER BY\n",
        "                  filter_count DESC, reference_name, start_position, end_position, reference_bases, call_name\n",
        "                LIMIT\n",
        "                  10\n",
        "                \"\"\"\n",
        "# scan size 4.28 GB, returns None"
      ],
      "execution_count": 0,
      "outputs": []
    },
    {
      "cell_type": "code",
      "metadata": {
        "id": "Vje8IO4Zik7X",
        "colab_type": "code",
        "outputId": "b878df81-84a4-4b4b-acfc-65a0f6ab912e",
        "colab": {
          "base_uri": "https://localhost:8080/",
          "height": 0
        }
      },
      "source": [
        "illu.estimate_query_size(PASS_IS_PASS)"
      ],
      "execution_count": 51,
      "outputs": [
        {
          "output_type": "execute_result",
          "data": {
            "text/plain": [
              "4.281298340298235"
            ]
          },
          "metadata": {
            "tags": []
          },
          "execution_count": 51
        }
      ]
    },
    {
      "cell_type": "code",
      "metadata": {
        "id": "fC7d1fDxir2c",
        "colab_type": "code",
        "outputId": "be603d1a-81e5-4216-ffe5-3035708c0529",
        "colab": {
          "base_uri": "https://localhost:8080/",
          "height": 0
        }
      },
      "source": [
        "df = illu.query_to_pandas(PASS_IS_PASS)\n",
        "df"
      ],
      "execution_count": 52,
      "outputs": [
        {
          "output_type": "execute_result",
          "data": {
            "text/html": [
              "<div>\n",
              "<style scoped>\n",
              "    .dataframe tbody tr th:only-of-type {\n",
              "        vertical-align: middle;\n",
              "    }\n",
              "\n",
              "    .dataframe tbody tr th {\n",
              "        vertical-align: top;\n",
              "    }\n",
              "\n",
              "    .dataframe thead th {\n",
              "        text-align: right;\n",
              "    }\n",
              "</style>\n",
              "<table border=\"1\" class=\"dataframe\">\n",
              "  <thead>\n",
              "    <tr style=\"text-align: right;\">\n",
              "      <th></th>\n",
              "      <th>reference_name</th>\n",
              "      <th>start_position</th>\n",
              "      <th>end_position</th>\n",
              "      <th>reference_bases</th>\n",
              "      <th>call_name</th>\n",
              "      <th>filters</th>\n",
              "      <th>filter_count</th>\n",
              "    </tr>\n",
              "  </thead>\n",
              "  <tbody>\n",
              "  </tbody>\n",
              "</table>\n",
              "</div>"
            ],
            "text/plain": [
              "Empty DataFrame\n",
              "Columns: [reference_name, start_position, end_position, reference_bases, call_name, filters, filter_count]\n",
              "Index: []"
            ]
          },
          "metadata": {
            "tags": []
          },
          "execution_count": 52
        }
      ]
    },
    {
      "cell_type": "markdown",
      "metadata": {
        "id": "Muv8eSXa3i_H",
        "colab_type": "text"
      },
      "source": [
        "__Counting all high quality calls for each sample__"
      ]
    },
    {
      "cell_type": "code",
      "metadata": {
        "id": "9-h9fbT4izHn",
        "colab_type": "code",
        "colab": {}
      },
      "source": [
        "# counting all high-quality calls for each sample\n",
        "NUM_HQ_PER_SAMPLE = \"\"\"\n",
        "                    SELECT\n",
        "                      call.name AS call_name,\n",
        "                      COUNT(1) AS num_of_calls\n",
        "                    FROM \n",
        "                      `bigquery-public-data.human_genome_variants.platinum_genomes_deepvariant_variants_20180823` v, v.call\n",
        "                    WHERE\n",
        "                      NOT EXISTS (SELECT 1 FROM UNNEST(call.FILTER) AS call_filter WHERE call_filter != 'PASS')\n",
        "                    GROUP BY\n",
        "                      call_name\n",
        "                    ORDER BY\n",
        "                      call_name\n",
        "                    \"\"\"\n",
        "# scan size 1.774 GB, returns number of hq calls per sample min/max?"
      ],
      "execution_count": 0,
      "outputs": []
    },
    {
      "cell_type": "code",
      "metadata": {
        "id": "gcTzmyE4kqbu",
        "colab_type": "code",
        "outputId": "0c7a0840-e3d1-455a-a299-affb845d5857",
        "colab": {
          "base_uri": "https://localhost:8080/",
          "height": 0
        }
      },
      "source": [
        "illu.estimate_query_size(NUM_HQ_PER_SAMPLE)"
      ],
      "execution_count": 54,
      "outputs": [
        {
          "output_type": "execute_result",
          "data": {
            "text/plain": [
              "1.7744328808039427"
            ]
          },
          "metadata": {
            "tags": []
          },
          "execution_count": 54
        }
      ]
    },
    {
      "cell_type": "code",
      "metadata": {
        "id": "L_nUGFivktvT",
        "colab_type": "code",
        "outputId": "f426e80c-a857-4cb3-d098-8bbe42946e7e",
        "colab": {
          "base_uri": "https://localhost:8080/",
          "height": 0
        }
      },
      "source": [
        "df = illu.query_to_pandas(NUM_HQ_PER_SAMPLE)\n",
        "df"
      ],
      "execution_count": 55,
      "outputs": [
        {
          "output_type": "execute_result",
          "data": {
            "text/html": [
              "<div>\n",
              "<style scoped>\n",
              "    .dataframe tbody tr th:only-of-type {\n",
              "        vertical-align: middle;\n",
              "    }\n",
              "\n",
              "    .dataframe tbody tr th {\n",
              "        vertical-align: top;\n",
              "    }\n",
              "\n",
              "    .dataframe thead th {\n",
              "        text-align: right;\n",
              "    }\n",
              "</style>\n",
              "<table border=\"1\" class=\"dataframe\">\n",
              "  <thead>\n",
              "    <tr style=\"text-align: right;\">\n",
              "      <th></th>\n",
              "      <th>call_name</th>\n",
              "      <th>num_of_calls</th>\n",
              "    </tr>\n",
              "  </thead>\n",
              "  <tbody>\n",
              "    <tr>\n",
              "      <th>0</th>\n",
              "      <td>NA12877</td>\n",
              "      <td>29795946</td>\n",
              "    </tr>\n",
              "    <tr>\n",
              "      <th>1</th>\n",
              "      <td>NA12878</td>\n",
              "      <td>26118774</td>\n",
              "    </tr>\n",
              "    <tr>\n",
              "      <th>2</th>\n",
              "      <td>NA12889</td>\n",
              "      <td>29044992</td>\n",
              "    </tr>\n",
              "    <tr>\n",
              "      <th>3</th>\n",
              "      <td>NA12890</td>\n",
              "      <td>28717437</td>\n",
              "    </tr>\n",
              "    <tr>\n",
              "      <th>4</th>\n",
              "      <td>NA12891</td>\n",
              "      <td>31395995</td>\n",
              "    </tr>\n",
              "    <tr>\n",
              "      <th>5</th>\n",
              "      <td>NA12892</td>\n",
              "      <td>25349974</td>\n",
              "    </tr>\n",
              "  </tbody>\n",
              "</table>\n",
              "</div>"
            ],
            "text/plain": [
              "  call_name  num_of_calls\n",
              "0   NA12877      29795946\n",
              "1   NA12878      26118774\n",
              "2   NA12889      29044992\n",
              "3   NA12890      28717437\n",
              "4   NA12891      31395995\n",
              "5   NA12892      25349974"
            ]
          },
          "metadata": {
            "tags": []
          },
          "execution_count": 55
        }
      ]
    },
    {
      "cell_type": "markdown",
      "metadata": {
        "id": "QHL4jfG-3mbC",
        "colab_type": "text"
      },
      "source": [
        "__Counting all high quality true variant calls for each sample__"
      ]
    },
    {
      "cell_type": "code",
      "metadata": {
        "id": "BoGO0yG4kzIw",
        "colab_type": "code",
        "colab": {}
      },
      "source": [
        "# counting hq true variant calls per sample\n",
        "NUM_HQ_TRUE_V_PER_SAMPLE =  \"\"\"\n",
        "                            SELECT\n",
        "                              call.name AS call_name,\n",
        "                              COUNT(1) AS num_calls\n",
        "                            FROM \n",
        "                              `bigquery-public-data.human_genome_variants.platinum_genomes_deepvariant_variants_20180823` v, v.call\n",
        "                            WHERE\n",
        "                              NOT EXISTS (SELECT 1 FROM UNNEST(call.FILTER) AS call_filter WHERE call_filter != 'PASS')\n",
        "                              AND EXISTS (SELECT 1 FROM UNNEST(call.genotype) AS gt WHERE gt>0)\n",
        "                            GROUP BY\n",
        "                              call_name\n",
        "                            ORDER BY\n",
        "                              call_name\n",
        "                            \"\"\"\n",
        "# scan size 4.488 GB, returns the same table as NUM_TRUE_VARIANTS_PER_SAMPLE (seems like all true variants are also HQ)"
      ],
      "execution_count": 0,
      "outputs": []
    },
    {
      "cell_type": "code",
      "metadata": {
        "id": "5EhliTvAm6JC",
        "colab_type": "code",
        "outputId": "4ddeee4e-b602-4b77-da1c-46edd55e113b",
        "colab": {
          "base_uri": "https://localhost:8080/",
          "height": 0
        }
      },
      "source": [
        "illu.estimate_query_size(NUM_HQ_TRUE_V_PER_SAMPLE)"
      ],
      "execution_count": 57,
      "outputs": [
        {
          "output_type": "execute_result",
          "data": {
            "text/plain": [
              "4.488003654405475"
            ]
          },
          "metadata": {
            "tags": []
          },
          "execution_count": 57
        }
      ]
    },
    {
      "cell_type": "code",
      "metadata": {
        "id": "gVtYygr7m89Y",
        "colab_type": "code",
        "outputId": "5c56088e-6903-42a7-d794-bde29ced0088",
        "colab": {
          "base_uri": "https://localhost:8080/",
          "height": 0
        }
      },
      "source": [
        "df = illu.query_to_pandas(NUM_HQ_TRUE_V_PER_SAMPLE)\n",
        "df"
      ],
      "execution_count": 58,
      "outputs": [
        {
          "output_type": "execute_result",
          "data": {
            "text/html": [
              "<div>\n",
              "<style scoped>\n",
              "    .dataframe tbody tr th:only-of-type {\n",
              "        vertical-align: middle;\n",
              "    }\n",
              "\n",
              "    .dataframe tbody tr th {\n",
              "        vertical-align: top;\n",
              "    }\n",
              "\n",
              "    .dataframe thead th {\n",
              "        text-align: right;\n",
              "    }\n",
              "</style>\n",
              "<table border=\"1\" class=\"dataframe\">\n",
              "  <thead>\n",
              "    <tr style=\"text-align: right;\">\n",
              "      <th></th>\n",
              "      <th>call_name</th>\n",
              "      <th>num_calls</th>\n",
              "    </tr>\n",
              "  </thead>\n",
              "  <tbody>\n",
              "    <tr>\n",
              "      <th>0</th>\n",
              "      <td>NA12877</td>\n",
              "      <td>4486610</td>\n",
              "    </tr>\n",
              "    <tr>\n",
              "      <th>1</th>\n",
              "      <td>NA12878</td>\n",
              "      <td>4502017</td>\n",
              "    </tr>\n",
              "    <tr>\n",
              "      <th>2</th>\n",
              "      <td>NA12889</td>\n",
              "      <td>4422706</td>\n",
              "    </tr>\n",
              "    <tr>\n",
              "      <th>3</th>\n",
              "      <td>NA12890</td>\n",
              "      <td>4528725</td>\n",
              "    </tr>\n",
              "    <tr>\n",
              "      <th>4</th>\n",
              "      <td>NA12891</td>\n",
              "      <td>4424094</td>\n",
              "    </tr>\n",
              "    <tr>\n",
              "      <th>5</th>\n",
              "      <td>NA12892</td>\n",
              "      <td>4495753</td>\n",
              "    </tr>\n",
              "  </tbody>\n",
              "</table>\n",
              "</div>"
            ],
            "text/plain": [
              "  call_name  num_calls\n",
              "0   NA12877    4486610\n",
              "1   NA12878    4502017\n",
              "2   NA12889    4422706\n",
              "3   NA12890    4528725\n",
              "4   NA12891    4424094\n",
              "5   NA12892    4495753"
            ]
          },
          "metadata": {
            "tags": []
          },
          "execution_count": 58
        }
      ]
    },
    {
      "cell_type": "markdown",
      "metadata": {
        "id": "KbQBvPRk3pE7",
        "colab_type": "text"
      },
      "source": [
        "## Best practices\n",
        "__Condesing queries__"
      ]
    },
    {
      "cell_type": "code",
      "metadata": {
        "id": "2xDA9aG-nIpK",
        "colab_type": "code",
        "colab": {}
      },
      "source": [
        "# Best practices - condensing queries\n",
        "# from here step-wise to NUM_VARIANTS_PER_CHR query\n",
        "NUM_VARAINTS_PER_CHR_CNDSD1 =  \"\"\"\n",
        "                              SELECT\n",
        "                                reference_name,\n",
        "                                COUNT(reference_name) AS number_of_variant_rows\n",
        "                              FROM\n",
        "                                `bigquery-public-data.human_genome_variants.platinum_genomes_deepvariant_variants_20180823` v\n",
        "                              WHERE\n",
        "                                EXISTS (SELECT 1\n",
        "                                          FROM UNNEST(v.call) AS call\n",
        "                                        WHERE EXISTS (SELECT 1\n",
        "                                                        FROM UNNEST(call.genotype) AS gt\n",
        "                                                      WHERE gt > 0))\n",
        "                              GROUP BY\n",
        "                                reference_name\n",
        "                              ORDER BY\n",
        "                                reference_name\n",
        "                              \"\"\"\n",
        "# scan size  3.3414 GB, returns number of variants per chr but not numerically sorted        "
      ],
      "execution_count": 0,
      "outputs": []
    },
    {
      "cell_type": "code",
      "metadata": {
        "id": "3h6vQF_FrX4A",
        "colab_type": "code",
        "outputId": "8ecd29e6-ebac-4bf6-9113-40a2b1d7c013",
        "colab": {
          "base_uri": "https://localhost:8080/",
          "height": 34
        }
      },
      "source": [
        "illu.estimate_query_size(NUM_VARAINTS_PER_CHR_CNDSD1)"
      ],
      "execution_count": 60,
      "outputs": [
        {
          "output_type": "execute_result",
          "data": {
            "text/plain": [
              "3.341447635553777"
            ]
          },
          "metadata": {
            "tags": []
          },
          "execution_count": 60
        }
      ]
    },
    {
      "cell_type": "code",
      "metadata": {
        "id": "DndsDZv2ramt",
        "colab_type": "code",
        "colab": {}
      },
      "source": [
        "# make query more concise by changing the EXISTS clause into a JOIN of the call column \n",
        "# with the call.genotype column. Recall that the comma operator is a shorthand notation used for JOIN\n",
        "NUM_VARAINTS_PER_CHR_CNDSD2 = \"\"\"\n",
        "                              SELECT\n",
        "                                reference_name,\n",
        "                                COUNT(reference_name) AS number_of_variant_rows\n",
        "                              FROM\n",
        "                                `bigquery-public-data.human_genome_variants.platinum_genomes_deepvariant_variants_20180823` v\n",
        "                              WHERE\n",
        "                                EXISTS (SELECT 1\n",
        "                                          FROM UNNEST(v.call) AS call, UNNEST(call.genotype) AS gt\n",
        "                                        WHERE gt > 0)\n",
        "                              GROUP BY\n",
        "                                reference_name\n",
        "                              ORDER BY\n",
        "                                reference_name\n",
        "                              \"\"\"\n",
        "# scan size 3.3414 GB, returns number of variants per chr but not numerically ordered according to chr name"
      ],
      "execution_count": 0,
      "outputs": []
    },
    {
      "cell_type": "code",
      "metadata": {
        "id": "RN_2ILg8uXcz",
        "colab_type": "code",
        "outputId": "cc7a6c31-7cc5-4745-c592-49cdc1ba044b",
        "colab": {
          "base_uri": "https://localhost:8080/",
          "height": 34
        }
      },
      "source": [
        "illu.estimate_query_size(NUM_VARAINTS_PER_CHR_CNDSD2)"
      ],
      "execution_count": 62,
      "outputs": [
        {
          "output_type": "execute_result",
          "data": {
            "text/plain": [
              "3.341447635553777"
            ]
          },
          "metadata": {
            "tags": []
          },
          "execution_count": 62
        }
      ]
    },
    {
      "cell_type": "code",
      "metadata": {
        "id": "Eyv0uUsTuZmD",
        "colab_type": "code",
        "colab": {}
      },
      "source": [
        "# # to sort numerically, remove 'chr' from chr reference name\n",
        "# chromosome alias\n",
        "NUM_VARAINTS_PER_CHR_CNDSD3 = \"\"\"\n",
        "                              SELECT\n",
        "                                REGEXP_REPLACE(reference_name, '^chr', '') AS chromosome,\n",
        "                                COUNT(reference_name) AS number_of_variant_rows\n",
        "                              FROM\n",
        "                                `bigquery-public-data.human_genome_variants.platinum_genomes_deepvariant_variants_20180823` v\n",
        "                              WHERE\n",
        "                                EXISTS (SELECT 1\n",
        "                                          FROM UNNEST(v.call) AS call, UNNEST(call.genotype) AS gt\n",
        "                                        WHERE gt > 0)\n",
        "                              GROUP BY\n",
        "                                chromosome\n",
        "                              ORDER BY\n",
        "                                chromosome\n",
        "                              \"\"\"\n",
        "# scan size 3.3414 GB"
      ],
      "execution_count": 0,
      "outputs": []
    },
    {
      "cell_type": "code",
      "metadata": {
        "id": "WkwNZEHBu5cj",
        "colab_type": "code",
        "outputId": "85fd7801-9295-454a-f864-9f69c80ead8c",
        "colab": {
          "base_uri": "https://localhost:8080/",
          "height": 34
        }
      },
      "source": [
        "illu.estimate_query_size(NUM_VARAINTS_PER_CHR_CNDSD3)"
      ],
      "execution_count": 64,
      "outputs": [
        {
          "output_type": "execute_result",
          "data": {
            "text/plain": [
              "3.341447635553777"
            ]
          },
          "metadata": {
            "tags": []
          },
          "execution_count": 64
        }
      ]
    },
    {
      "cell_type": "code",
      "metadata": {
        "id": "XiwRn-FTwsS5",
        "colab_type": "code",
        "colab": {}
      },
      "source": [
        "# to sort numerically, cast str to integer\n",
        "NUM_VARAINTS_PER_CHR_CNDSD4 = \"\"\"\n",
        "                              SELECT\n",
        "                                CAST(REGEXP_REPLACE(reference_name, '^chr', '') AS INT64) AS chromosome,\n",
        "                                COUNT(reference_name) AS number_of_variant_rows\n",
        "                              FROM\n",
        "                                `bigquery-public-data.human_genome_variants.platinum_genomes_deepvariant_variants_20180823` v\n",
        "                              WHERE\n",
        "                                EXISTS (SELECT 1\n",
        "                                          FROM UNNEST(v.call) AS call, UNNEST(call.genotype) AS gt\n",
        "                                        WHERE gt > 0)\n",
        "                              GROUP BY\n",
        "                                chromosome\n",
        "                              ORDER BY\n",
        "                                chromosome\n",
        "                              \"\"\""
      ],
      "execution_count": 0,
      "outputs": []
    },
    {
      "cell_type": "code",
      "metadata": {
        "id": "IVw6lOYzu-YI",
        "colab_type": "code",
        "colab": {}
      },
      "source": [
        "# X, Y, M chromosomes need to bee sorted by string and not numerically!!!\n",
        "# CASE and prepend 0 to chr 1 trough 9\n",
        "# chromosome alias\n",
        "NUM_VARAINTS_PER_CHR_CNDSD5 = \"\"\"\n",
        "                              SELECT\n",
        "                                CASE\n",
        "                                  WHEN SAFE_CAST(REGEXP_REPLACE(reference_name, '^chr', '') AS INT64) < 10\n",
        "                                    THEN CONCAT('0', REGEXP_REPLACE(reference_name, '^chr', ''))\n",
        "                                    ELSE REGEXP_REPLACE(reference_name, '^chr', '')\n",
        "                                END AS chromosome,\n",
        "                                COUNT(reference_name) AS number_of_variant_rows\n",
        "                              FROM\n",
        "                                `bigquery-public-data.human_genome_variants.platinum_genomes_deepvariant_variants_20180823` v\n",
        "                              WHERE\n",
        "                                EXISTS (SELECT 1\n",
        "                                          FROM UNNEST(v.call) AS call, UNNEST(call.genotype) AS gt\n",
        "                                        WHERE gt > 0)\n",
        "                              GROUP BY\n",
        "                                chromosome\n",
        "                              ORDER BY\n",
        "                                chromosome\n",
        "                              \"\"\"\n",
        "# scan size -\"- GB"
      ],
      "execution_count": 0,
      "outputs": []
    },
    {
      "cell_type": "code",
      "metadata": {
        "id": "OYmcACZ1u7Mj",
        "colab_type": "code",
        "outputId": "82317deb-e59d-4af0-960c-4f511d05d94d",
        "colab": {
          "base_uri": "https://localhost:8080/",
          "height": 34
        }
      },
      "source": [
        "illu.estimate_query_size(NUM_VARAINTS_PER_CHR_CNDSD4)"
      ],
      "execution_count": 67,
      "outputs": [
        {
          "output_type": "execute_result",
          "data": {
            "text/plain": [
              "3.341447635553777"
            ]
          },
          "metadata": {
            "tags": []
          },
          "execution_count": 67
        }
      ]
    },
    {
      "cell_type": "code",
      "metadata": {
        "id": "QhQ8mu82vWYm",
        "colab_type": "code",
        "colab": {}
      },
      "source": [
        "# Note the use of the SAFE_CAST function, which returns NULL for chromosomes X, Y, and M \n",
        "# instead of returning an error.\n",
        "# As a last improvement on the output, display the reference_name column again\n",
        "#instead of setting it to the chromosome alias. To do so, move the CASE clause to the ORDER BY function\n",
        "NUM_VARAINTS_PER_CHR_CNDSD5 = \"\"\"\n",
        "                              SELECT\n",
        "                                reference_name,\n",
        "                                COUNT(reference_name) AS number_of_variant_rows\n",
        "                              FROM\n",
        "                                `bigquery-public-data.human_genome_variants.platinum_genomes_deepvariant_variants_20180823` v\n",
        "                              WHERE\n",
        "                                EXISTS (SELECT 1\n",
        "                                          FROM UNNEST(v.call) AS call, UNNEST(call.genotype) AS gt\n",
        "                                        WHERE gt > 0)\n",
        "                              GROUP BY\n",
        "                                reference_name\n",
        "                              ORDER BY\n",
        "                                CASE\n",
        "                                  WHEN SAFE_CAST(REGEXP_REPLACE(reference_name, '^chr', '') AS INT64) < 10\n",
        "                                    THEN CONCAT('0', REGEXP_REPLACE(reference_name, '^chr', ''))\n",
        "                                    ELSE REGEXP_REPLACE(reference_name, '^chr', '')\n",
        "                                END\n",
        "                              \"\"\"\n",
        "# == NUM_VARAINTS_PER_CHR"
      ],
      "execution_count": 0,
      "outputs": []
    },
    {
      "cell_type": "markdown",
      "metadata": {
        "id": "M0_myKEI3zNM",
        "colab_type": "text"
      },
      "source": [
        "__Writing user-defined functions__"
      ]
    },
    {
      "cell_type": "code",
      "metadata": {
        "id": "2_LXWBP7xdQu",
        "colab_type": "code",
        "colab": {}
      },
      "source": [
        "# Best practices - Wrtiting user defined functions\n",
        "# make complex queries (as the one above) less verbose by putting case expression into a function\n",
        "# making query more concise\n",
        "USER_FUNCTION = \"\"\"\n",
        "                CREATE TEMPORARY FUNCTION SortableChromosome(reference_name STRING)\n",
        "                  RETURNS STRING AS (\n",
        "                  -- Remove the leading \"chr\" (if any) in the reference_name\n",
        "                  -- If the chromosome is 1 - 9, prepend a \"0\" since\n",
        "                  -- \"2\" sorts after \"10\", but \"02\" sorts before \"10\".\n",
        "                  CASE\n",
        "                    WHEN SAFE_CAST(REGEXP_REPLACE(reference_name, '^chr', '') AS INT64) < 10\n",
        "                      THEN CONCAT('0', REGEXP_REPLACE(reference_name, '^chr', ''))\n",
        "                      ELSE REGEXP_REPLACE(reference_name, '^chr', '')\n",
        "                  END\n",
        "                );\n",
        "\n",
        "                SELECT\n",
        "                  reference_name,\n",
        "                  COUNT(reference_name) AS number_of_variant_rows\n",
        "                FROM\n",
        "                  `bigquery-public-data.human_genome_variants.platinum_genomes_deepvariant_variants_20180823` v\n",
        "                WHERE\n",
        "                  EXISTS (SELECT 1\n",
        "                            FROM UNNEST(v.call) AS call, UNNEST(call.genotype) AS gt\n",
        "                          WHERE gt > 0)\n",
        "                GROUP BY\n",
        "                  reference_name\n",
        "                ORDER BY SortableChromosome(reference_name)\n",
        "              \"\"\"\n",
        "# scan size -----"
      ],
      "execution_count": 0,
      "outputs": []
    },
    {
      "cell_type": "code",
      "metadata": {
        "id": "wXGYypZOzqob",
        "colab_type": "code",
        "outputId": "a34cc798-8578-4193-b6a8-a3994a917873",
        "colab": {
          "base_uri": "https://localhost:8080/",
          "height": 34
        }
      },
      "source": [
        "illu.estimate_query_size(USER_FUNCTION)"
      ],
      "execution_count": 70,
      "outputs": [
        {
          "output_type": "execute_result",
          "data": {
            "text/plain": [
              "3.341447635553777"
            ]
          },
          "metadata": {
            "tags": []
          },
          "execution_count": 70
        }
      ]
    },
    {
      "cell_type": "code",
      "metadata": {
        "id": "rej05LurztPX",
        "colab_type": "code",
        "colab": {}
      },
      "source": [
        ""
      ],
      "execution_count": 0,
      "outputs": []
    },
    {
      "cell_type": "markdown",
      "metadata": {
        "id": "28_b1D5zz_J7",
        "colab_type": "text"
      },
      "source": [
        "Improving query performance and reducing costs by trying different ways of writing a query and choosing the most efficient one. <br>\n",
        "Deleting or turning off resources on GCP to prevent them from taking up quota in the future."
      ]
    },
    {
      "cell_type": "code",
      "metadata": {
        "id": "Kh3RSAQr0vBz",
        "colab_type": "code",
        "colab": {}
      },
      "source": [
        ""
      ],
      "execution_count": 0,
      "outputs": []
    }
  ]
}