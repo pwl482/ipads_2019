{
  "nbformat": 4,
  "nbformat_minor": 0,
  "metadata": {
    "colab": {
      "name": "Project_Week4.ipynb",
      "provenance": [],
      "collapsed_sections": [
        "KcAZ2RHCg_Ze",
        "qTmLBxDxBAZL",
        "UMKGkkZEPVRu",
        "PDAh5Xu_eywJ",
        "VIEWczNm2Eo7",
        "hnI_wTgl2Kl9",
        "SxcTae-82pim",
        "1kqb16dJ25Dc",
        "AEe4qgQ33JSU",
        "1ZTC5t9N3M4P",
        "W0Xnx_d23VS6",
        "KbQBvPRk3pE7"
      ]
    },
    "kernelspec": {
      "display_name": "Python 3",
      "name": "python3"
    }
  },
  "cells": [
    {
      "cell_type": "markdown",
      "metadata": {
        "id": "P9subHRo1fCh",
        "colab_type": "text"
      },
      "source": [
        "# Project 4: Analysing variants with BigQuery"
      ]
    },
    {
      "cell_type": "markdown",
      "metadata": {
        "colab_type": "text",
        "id": "KcAZ2RHCg_Ze"
      },
      "source": [
        "# Before you begin\n",
        "\n",
        "\n",
        "1.   Use the [Cloud Resource Manager](https://console.cloud.google.com/cloud-resource-manager) to Create a Cloud Platform project if you do not already have one.\n",
        "2.   [Enable billing](https://support.google.com/cloud/answer/6293499#enable-billing) for the project.\n",
        "3.   [Enable BigQuery](https://console.cloud.google.com/flows/enableapi?apiid=bigquery) APIs for the project.\n"
      ]
    },
    {
      "cell_type": "markdown",
      "metadata": {
        "colab_type": "text",
        "id": "qTmLBxDxBAZL"
      },
      "source": [
        "## Provide your credentials to the runtime and set project environment"
      ]
    },
    {
      "cell_type": "code",
      "metadata": {
        "colab_type": "code",
        "id": "SeTJb51SKs_W",
        "outputId": "78f50345-d0aa-4b23-990f-3c2f952a3fb7",
        "colab": {
          "base_uri": "https://localhost:8080/",
          "height": 34
        }
      },
      "source": [
        "from google.colab import auth\n",
        "auth.authenticate_user()\n",
        "print('Authenticated')"
      ],
      "execution_count": 0,
      "outputs": [
        {
          "output_type": "stream",
          "text": [
            "Authenticated\n"
          ],
          "name": "stdout"
        }
      ]
    },
    {
      "cell_type": "code",
      "metadata": {
        "id": "Ndaki9wV2vlL",
        "colab_type": "code",
        "outputId": "16ab4349-3672-4613-e571-e4d4b16355c7",
        "colab": {
          "base_uri": "https://localhost:8080/",
          "height": 34
        }
      },
      "source": [
        "%env GCLOUD_PROJECT=boxwood-bee-258411"
      ],
      "execution_count": 0,
      "outputs": [
        {
          "output_type": "stream",
          "text": [
            "env: GCLOUD_PROJECT=boxwood-bee-258411\n"
          ],
          "name": "stdout"
        }
      ]
    },
    {
      "cell_type": "markdown",
      "metadata": {
        "colab_type": "text",
        "id": "UMKGkkZEPVRu"
      },
      "source": [
        "## Optional: Enable data table display\n",
        "\n",
        "Colab includes the ``google.colab.data_table`` package that can be used to display large pandas dataframes as an interactive data table.\n",
        "It can be enabled with:"
      ]
    },
    {
      "cell_type": "code",
      "metadata": {
        "colab_type": "code",
        "id": "LMNA-vBHPyHz",
        "colab": {}
      },
      "source": [
        "%load_ext google.colab.data_table"
      ],
      "execution_count": 0,
      "outputs": []
    },
    {
      "cell_type": "markdown",
      "metadata": {
        "colab_type": "text",
        "id": "y7QuudxdP0jH"
      },
      "source": [
        "If you would prefer to return to the classic Pandas dataframe display, you can disable this by running:\n",
        "```python\n",
        "%unload_ext google.colab.data_table\n",
        "```"
      ]
    },
    {
      "cell_type": "code",
      "metadata": {
        "id": "-t-2ayy74jEt",
        "colab_type": "code",
        "colab": {}
      },
      "source": [
        "%unload_ext google.colab.data_table"
      ],
      "execution_count": 0,
      "outputs": []
    },
    {
      "cell_type": "code",
      "metadata": {
        "id": "izlS_sMHxZjc",
        "colab_type": "code",
        "colab": {}
      },
      "source": [
        "import pandas as pd\n",
        "\n",
        "\"\"\"\n",
        "Helper class to simplify common read-only BigQuery tasks.\n",
        "\"\"\"\n",
        "\n",
        "\n",
        "import pandas as pd\n",
        "import time\n",
        "\n",
        "from google.cloud import bigquery\n",
        "\n",
        "\n",
        "class BigQueryHelper(object):\n",
        "    \"\"\"\n",
        "    Helper class to simplify common BigQuery tasks like executing queries,\n",
        "    showing table schemas, etc without worrying about table or dataset pointers.\n",
        "\n",
        "    See the BigQuery docs for details of the steps this class lets you skip:\n",
        "    https://googlecloudplatform.github.io/google-cloud-python/latest/bigquery/reference.html\n",
        "    \"\"\"\n",
        "\n",
        "    def __init__(self, active_project, dataset_name, max_wait_seconds=180):\n",
        "        self.project_name = active_project\n",
        "        self.dataset_name = dataset_name\n",
        "        self.max_wait_seconds = max_wait_seconds\n",
        "        self.client = bigquery.Client()\n",
        "        self.__dataset_ref = self.client.dataset(self.dataset_name, project=self.project_name)\n",
        "        self.dataset = None\n",
        "        self.tables = dict()  # {table name (str): table object}\n",
        "        self.__table_refs = dict()  # {table name (str): table reference}\n",
        "        self.total_gb_used_net_cache = 0\n",
        "        self.BYTES_PER_GB = 2**30\n",
        "\n",
        "    def __fetch_dataset(self):\n",
        "        \"\"\"\n",
        "        Lazy loading of dataset. For example,\n",
        "        if the user only calls `self.query_to_pandas` then the\n",
        "        dataset never has to be fetched.\n",
        "        \"\"\"\n",
        "        if self.dataset is None:\n",
        "            self.dataset = self.client.get_dataset(self.__dataset_ref)\n",
        "\n",
        "    def __fetch_table(self, table_name):\n",
        "        \"\"\"\n",
        "        Lazy loading of table\n",
        "        \"\"\"\n",
        "        self.__fetch_dataset()\n",
        "        if table_name not in self.__table_refs:\n",
        "            self.__table_refs[table_name] = self.dataset.table(table_name)\n",
        "        if table_name not in self.tables:\n",
        "            self.tables[table_name] = self.client.get_table(self.__table_refs[table_name])\n",
        "\n",
        "    def __handle_record_field(self, row, schema_details, top_level_name=''):\n",
        "        \"\"\"\n",
        "        Unpack a single row, including any nested fields.\n",
        "        \"\"\"\n",
        "        name = row['name']\n",
        "        if top_level_name != '':\n",
        "            name = top_level_name + '.' + name\n",
        "        schema_details.append([{\n",
        "            'name': name,\n",
        "            'type': row['type'],\n",
        "            'mode': row['mode'],\n",
        "            'fields': pd.np.nan,\n",
        "            'description': row['description']\n",
        "                               }])\n",
        "        # float check is to dodge row['fields'] == np.nan\n",
        "        if type(row.get('fields', 0.0)) == float:\n",
        "            return None\n",
        "        for entry in row['fields']:\n",
        "            self.__handle_record_field(entry, schema_details, name)\n",
        "\n",
        "    def __unpack_all_schema_fields(self, schema):\n",
        "        \"\"\"\n",
        "        Unrolls nested schemas. Returns dataframe with one row per field,\n",
        "        and the field names in the format accepted by the API.\n",
        "        Results will look similar to the website schema, such as:\n",
        "            https://bigquery.cloud.google.com/table/bigquery-public-data:github_repos.commits?pli=1\n",
        "\n",
        "        Args:\n",
        "            schema: DataFrame derived from api repr of raw table.schema\n",
        "        Returns:\n",
        "            Dataframe of the unrolled schema.\n",
        "        \"\"\"\n",
        "        schema_details = []\n",
        "        schema.apply(lambda row:\n",
        "            self.__handle_record_field(row, schema_details), axis=1)\n",
        "        result = pd.concat([pd.DataFrame.from_dict(x) for x in schema_details])\n",
        "        result.reset_index(drop=True, inplace=True)\n",
        "        del result['fields']\n",
        "        return result\n",
        "\n",
        "    def table_schema(self, table_name):\n",
        "        \"\"\"\n",
        "        Get the schema for a specific table from a dataset.\n",
        "        Unrolls nested field names into the format that can be copied\n",
        "        directly into queries. For example, for the `github.commits` table,\n",
        "        the this will return `committer.name`.\n",
        "\n",
        "        This is a very different return signature than BigQuery's table.schema.\n",
        "        \"\"\"\n",
        "        self.__fetch_table(table_name)\n",
        "        raw_schema = self.tables[table_name].schema\n",
        "        schema = pd.DataFrame.from_dict([x.to_api_repr() for x in raw_schema])\n",
        "        # the api_repr only has the fields column for tables with nested data\n",
        "        if 'fields' in schema.columns:\n",
        "            schema = self.__unpack_all_schema_fields(schema)\n",
        "        # Set the column order\n",
        "        schema = schema[['name', 'type', 'mode', 'description']]\n",
        "        return schema\n",
        "\n",
        "    def list_tables(self):\n",
        "        \"\"\"\n",
        "        List the names of the tables in a dataset\n",
        "        \"\"\"\n",
        "        self.__fetch_dataset()\n",
        "        return([x.table_id for x in self.client.list_tables(self.dataset)])\n",
        "\n",
        "    def estimate_query_size(self, query):\n",
        "        \"\"\"\n",
        "        Estimate gigabytes scanned by query.\n",
        "        Does not consider if there is a cached query table.\n",
        "        See https://cloud.google.com/bigquery/docs/reference/rest/v2/jobs#configuration.dryRun\n",
        "        \"\"\"\n",
        "        my_job_config = bigquery.job.QueryJobConfig()\n",
        "        my_job_config.dry_run = True\n",
        "        my_job = self.client.query(query, job_config=my_job_config)\n",
        "        return my_job.total_bytes_processed / self.BYTES_PER_GB\n",
        "\n",
        "    def query_to_pandas(self, query):\n",
        "        \"\"\"\n",
        "        Execute a SQL query & return a pandas dataframe\n",
        "        \"\"\"\n",
        "        my_job = self.client.query(query)\n",
        "        start_time = time.time()\n",
        "        while not my_job.done():\n",
        "            if (time.time() - start_time) > self.max_wait_seconds:\n",
        "                print(\"Max wait time elapsed, query cancelled.\")\n",
        "                self.client.cancel_job(my_job.job_id)\n",
        "                return None\n",
        "            time.sleep(0.1)\n",
        "        # Queries that hit errors will return an exception type.\n",
        "        # Those exceptions don't get raised until we call my_job.to_dataframe()\n",
        "        # In that case, my_job.total_bytes_billed can be called but is None\n",
        "        if my_job.total_bytes_billed:\n",
        "            self.total_gb_used_net_cache += my_job.total_bytes_billed / self.BYTES_PER_GB\n",
        "        return my_job.to_dataframe()\n",
        "\n",
        "    def query_to_pandas_safe(self, query, max_gb_scanned=1):\n",
        "        \"\"\"\n",
        "        Execute a query, but only if the query would scan less than `max_gb_scanned` of data.\n",
        "        \"\"\"\n",
        "        query_size = self.estimate_query_size(query)\n",
        "        if query_size <= max_gb_scanned:\n",
        "            return self.query_to_pandas(query)\n",
        "        msg = \"Query cancelled; estimated size of {0} exceeds limit of {1} GB\"\n",
        "        print(msg.format(query_size, max_gb_scanned))\n",
        "\n",
        "    def head(self, table_name, num_rows=5, start_index=None, selected_columns=None):\n",
        "        \"\"\"\n",
        "        Get the first n rows of a table as a DataFrame.\n",
        "        Does not perform a full table scan; should use a trivial amount of data as long as n is small.\n",
        "        \"\"\"\n",
        "        self.__fetch_table(table_name)\n",
        "        active_table = self.tables[table_name]\n",
        "        schema_subset = None\n",
        "        if selected_columns:\n",
        "            schema_subset = [col for col in active_table.schema if col.name in selected_columns]\n",
        "        results = self.client.list_rows(active_table, selected_fields=schema_subset,\n",
        "            max_results=num_rows, start_index=start_index)\n",
        "        results = [x for x in results]\n",
        "        return pd.DataFrame(\n",
        "            data=[list(x.values()) for x in results], columns=list(results[0].keys()))"
      ],
      "execution_count": 0,
      "outputs": []
    },
    {
      "cell_type": "markdown",
      "metadata": {
        "id": "PDAh5Xu_eywJ",
        "colab_type": "text"
      },
      "source": [
        "# Viewing table schema and data"
      ]
    },
    {
      "cell_type": "code",
      "metadata": {
        "id": "mjCNPt-K_9yA",
        "colab_type": "code",
        "colab": {}
      },
      "source": [
        "illu = BigQueryHelper('bigquery-public-data','human_genome_variants')"
      ],
      "execution_count": 0,
      "outputs": []
    },
    {
      "cell_type": "code",
      "metadata": {
        "id": "yMolcaVu9Qmj",
        "colab_type": "code",
        "outputId": "6a8499df-ff0a-4402-e32d-1e4d7dfae585",
        "colab": {
          "base_uri": "https://localhost:8080/",
          "height": 153
        }
      },
      "source": [
        "illu.list_tables()"
      ],
      "execution_count": 0,
      "outputs": [
        {
          "output_type": "execute_result",
          "data": {
            "text/plain": [
              "['1000_genomes_pedigree',\n",
              " '1000_genomes_phase_3_optimized_schema_variants_20150220',\n",
              " '1000_genomes_phase_3_variants_20150220',\n",
              " '1000_genomes_sample_info',\n",
              " 'platinum_genomes_deepvariant_variants_20180823',\n",
              " 'simons_genome_diversity_project_sample_attributes',\n",
              " 'simons_genome_diversity_project_sample_metadata',\n",
              " 'simons_genome_diversity_project_sample_variants']"
            ]
          },
          "metadata": {
            "tags": []
          },
          "execution_count": 17
        }
      ]
    },
    {
      "cell_type": "code",
      "metadata": {
        "id": "LaDFK4E59YDs",
        "colab_type": "code",
        "outputId": "965ee264-9e2f-4c62-c057-30f4d9724573",
        "cellView": "code",
        "colab": {
          "base_uri": "https://localhost:8080/",
          "height": 635
        }
      },
      "source": [
        "#@title Default title text\n",
        "illu.table_schema('platinum_genomes_deepvariant_variants_20180823')"
      ],
      "execution_count": 0,
      "outputs": [
        {
          "output_type": "execute_result",
          "data": {
            "application/vnd.google.colaboratory.module+javascript": "\n      import \"https://ssl.gstatic.com/colaboratory/data_table/9e554b27bdd509f3/data_table.js\";\n\n      window.createDataTable({\n        data: [[{\n            'v': 0,\n            'f': \"0\",\n        },\n\"reference_name\",\n\"STRING\",\n\"NULLABLE\",\n\"Reference name.\"],\n [{\n            'v': 1,\n            'f': \"1\",\n        },\n\"start_position\",\n\"INTEGER\",\n\"NULLABLE\",\n\"Start position (0-based). Corresponds to the first base of the string of reference bases.\"],\n [{\n            'v': 2,\n            'f': \"2\",\n        },\n\"end_position\",\n\"INTEGER\",\n\"NULLABLE\",\n\"End position (0-based). Corresponds to the first base after the last base in the reference allele.\"],\n [{\n            'v': 3,\n            'f': \"3\",\n        },\n\"reference_bases\",\n\"STRING\",\n\"NULLABLE\",\n\"Reference bases.\"],\n [{\n            'v': 4,\n            'f': \"4\",\n        },\n\"alternate_bases\",\n\"RECORD\",\n\"REPEATED\",\n\"One record for each alternate base (if any).\"],\n [{\n            'v': 5,\n            'f': \"5\",\n        },\n\"alternate_bases.alt\",\n\"STRING\",\n\"NULLABLE\",\n\"Alternate base.\"],\n [{\n            'v': 6,\n            'f': \"6\",\n        },\n\"names\",\n\"STRING\",\n\"REPEATED\",\n\"Variant names (e.g. RefSNP ID).\"],\n [{\n            'v': 7,\n            'f': \"7\",\n        },\n\"quality\",\n\"FLOAT\",\n\"NULLABLE\",\n\"Phred-scaled quality score (-10log10 prob(call is wrong)). Higher values imply better quality.\"],\n [{\n            'v': 8,\n            'f': \"8\",\n        },\n\"filter\",\n\"STRING\",\n\"REPEATED\",\n\"List of failed filters (if any) or \\\"PASS\\\" indicating the variant has passed all filters.\"],\n [{\n            'v': 9,\n            'f': \"9\",\n        },\n\"call\",\n\"RECORD\",\n\"REPEATED\",\n\"One record for each call.\"],\n [{\n            'v': 10,\n            'f': \"10\",\n        },\n\"call.name\",\n\"STRING\",\n\"NULLABLE\",\n\"Name of the call.\"],\n [{\n            'v': 11,\n            'f': \"11\",\n        },\n\"call.genotype\",\n\"INTEGER\",\n\"REPEATED\",\n\"Genotype of the call. \\\"-1\\\" is used in cases where the genotype is not called.\"],\n [{\n            'v': 12,\n            'f': \"12\",\n        },\n\"call.phaseset\",\n\"STRING\",\n\"NULLABLE\",\n\"Phaseset of the call (if any). \\\"*\\\" is used in cases where the genotype is phased, but no phase set (\\\"PS\\\" in FORMAT) was specified.\"],\n [{\n            'v': 13,\n            'f': \"13\",\n        },\n\"call.GQ\",\n\"INTEGER\",\n\"NULLABLE\",\n\"Conditional genotype quality\"],\n [{\n            'v': 14,\n            'f': \"14\",\n        },\n\"call.DP\",\n\"INTEGER\",\n\"NULLABLE\",\n\"Read depth\"],\n [{\n            'v': 15,\n            'f': \"15\",\n        },\n\"call.MIN_DP\",\n\"INTEGER\",\n\"NULLABLE\",\n\"Minimum DP observed within the GVCF block.\"],\n [{\n            'v': 16,\n            'f': \"16\",\n        },\n\"call.AD\",\n\"INTEGER\",\n\"REPEATED\",\n\"Read depth for each allele\"],\n [{\n            'v': 17,\n            'f': \"17\",\n        },\n\"call.VAF\",\n\"FLOAT\",\n\"REPEATED\",\n\"Variant allele fractions.\"],\n [{\n            'v': 18,\n            'f': \"18\",\n        },\n\"call.GL\",\n\"FLOAT\",\n\"REPEATED\",\n\"Genotype likelihoods\"],\n [{\n            'v': 19,\n            'f': \"19\",\n        },\n\"call.PL\",\n\"INTEGER\",\n\"REPEATED\",\n\"Phred-scaled genotype likelihoods rounded to the closest integer\"],\n [{\n            'v': 20,\n            'f': \"20\",\n        },\n\"call.quality\",\n\"FLOAT\",\n\"NULLABLE\",\n\"Phred-scaled quality score (-10log10 prob(call is wrong)). Higher values imply better quality.\\nNote: this field has been copied from QUAL field from individual VCF files.\"],\n [{\n            'v': 21,\n            'f': \"21\",\n        },\n\"call.filter\",\n\"STRING\",\n\"REPEATED\",\n\"List of failed filters (if any) or \\\"PASS\\\" indicating the variant has passed all filters.\\nNote: this field has been copied from FILTER field from individual VCF files.\"],\n [{\n            'v': 22,\n            'f': \"22\",\n        },\n\"partition_date_please_ignore\",\n\"DATE\",\n\"NULLABLE\",\n\"Column required by BigQuery partitioning/clustering logic. See https://cloud.google.com/bigquery/docs/clustered-tables\"]],\n        columns: [[\"number\", \"index\"], [\"string\", \"name\"], [\"string\", \"type\"], [\"string\", \"mode\"], [\"string\", \"description\"]],\n        columnOptions: [{\"width\": \"1px\", \"className\": \"index_column\"}],\n        rowsPerPage: 25,\n        helpUrl: \"https://colab.research.google.com/notebooks/data_table.ipynb\",\n      });\n    ",
            "text/html": [
              "<div>\n",
              "<style scoped>\n",
              "    .dataframe tbody tr th:only-of-type {\n",
              "        vertical-align: middle;\n",
              "    }\n",
              "\n",
              "    .dataframe tbody tr th {\n",
              "        vertical-align: top;\n",
              "    }\n",
              "\n",
              "    .dataframe thead th {\n",
              "        text-align: right;\n",
              "    }\n",
              "</style>\n",
              "<table border=\"1\" class=\"dataframe\">\n",
              "  <thead>\n",
              "    <tr style=\"text-align: right;\">\n",
              "      <th></th>\n",
              "      <th>name</th>\n",
              "      <th>type</th>\n",
              "      <th>mode</th>\n",
              "      <th>description</th>\n",
              "    </tr>\n",
              "  </thead>\n",
              "  <tbody>\n",
              "    <tr>\n",
              "      <th>0</th>\n",
              "      <td>reference_name</td>\n",
              "      <td>STRING</td>\n",
              "      <td>NULLABLE</td>\n",
              "      <td>Reference name.</td>\n",
              "    </tr>\n",
              "    <tr>\n",
              "      <th>1</th>\n",
              "      <td>start_position</td>\n",
              "      <td>INTEGER</td>\n",
              "      <td>NULLABLE</td>\n",
              "      <td>Start position (0-based). Corresponds to the f...</td>\n",
              "    </tr>\n",
              "    <tr>\n",
              "      <th>2</th>\n",
              "      <td>end_position</td>\n",
              "      <td>INTEGER</td>\n",
              "      <td>NULLABLE</td>\n",
              "      <td>End position (0-based). Corresponds to the fir...</td>\n",
              "    </tr>\n",
              "    <tr>\n",
              "      <th>3</th>\n",
              "      <td>reference_bases</td>\n",
              "      <td>STRING</td>\n",
              "      <td>NULLABLE</td>\n",
              "      <td>Reference bases.</td>\n",
              "    </tr>\n",
              "    <tr>\n",
              "      <th>4</th>\n",
              "      <td>alternate_bases</td>\n",
              "      <td>RECORD</td>\n",
              "      <td>REPEATED</td>\n",
              "      <td>One record for each alternate base (if any).</td>\n",
              "    </tr>\n",
              "    <tr>\n",
              "      <th>5</th>\n",
              "      <td>alternate_bases.alt</td>\n",
              "      <td>STRING</td>\n",
              "      <td>NULLABLE</td>\n",
              "      <td>Alternate base.</td>\n",
              "    </tr>\n",
              "    <tr>\n",
              "      <th>6</th>\n",
              "      <td>names</td>\n",
              "      <td>STRING</td>\n",
              "      <td>REPEATED</td>\n",
              "      <td>Variant names (e.g. RefSNP ID).</td>\n",
              "    </tr>\n",
              "    <tr>\n",
              "      <th>7</th>\n",
              "      <td>quality</td>\n",
              "      <td>FLOAT</td>\n",
              "      <td>NULLABLE</td>\n",
              "      <td>Phred-scaled quality score (-10log10 prob(call...</td>\n",
              "    </tr>\n",
              "    <tr>\n",
              "      <th>8</th>\n",
              "      <td>filter</td>\n",
              "      <td>STRING</td>\n",
              "      <td>REPEATED</td>\n",
              "      <td>List of failed filters (if any) or \"PASS\" indi...</td>\n",
              "    </tr>\n",
              "    <tr>\n",
              "      <th>9</th>\n",
              "      <td>call</td>\n",
              "      <td>RECORD</td>\n",
              "      <td>REPEATED</td>\n",
              "      <td>One record for each call.</td>\n",
              "    </tr>\n",
              "    <tr>\n",
              "      <th>10</th>\n",
              "      <td>call.name</td>\n",
              "      <td>STRING</td>\n",
              "      <td>NULLABLE</td>\n",
              "      <td>Name of the call.</td>\n",
              "    </tr>\n",
              "    <tr>\n",
              "      <th>11</th>\n",
              "      <td>call.genotype</td>\n",
              "      <td>INTEGER</td>\n",
              "      <td>REPEATED</td>\n",
              "      <td>Genotype of the call. \"-1\" is used in cases wh...</td>\n",
              "    </tr>\n",
              "    <tr>\n",
              "      <th>12</th>\n",
              "      <td>call.phaseset</td>\n",
              "      <td>STRING</td>\n",
              "      <td>NULLABLE</td>\n",
              "      <td>Phaseset of the call (if any). \"*\" is used in ...</td>\n",
              "    </tr>\n",
              "    <tr>\n",
              "      <th>13</th>\n",
              "      <td>call.GQ</td>\n",
              "      <td>INTEGER</td>\n",
              "      <td>NULLABLE</td>\n",
              "      <td>Conditional genotype quality</td>\n",
              "    </tr>\n",
              "    <tr>\n",
              "      <th>14</th>\n",
              "      <td>call.DP</td>\n",
              "      <td>INTEGER</td>\n",
              "      <td>NULLABLE</td>\n",
              "      <td>Read depth</td>\n",
              "    </tr>\n",
              "    <tr>\n",
              "      <th>15</th>\n",
              "      <td>call.MIN_DP</td>\n",
              "      <td>INTEGER</td>\n",
              "      <td>NULLABLE</td>\n",
              "      <td>Minimum DP observed within the GVCF block.</td>\n",
              "    </tr>\n",
              "    <tr>\n",
              "      <th>16</th>\n",
              "      <td>call.AD</td>\n",
              "      <td>INTEGER</td>\n",
              "      <td>REPEATED</td>\n",
              "      <td>Read depth for each allele</td>\n",
              "    </tr>\n",
              "    <tr>\n",
              "      <th>17</th>\n",
              "      <td>call.VAF</td>\n",
              "      <td>FLOAT</td>\n",
              "      <td>REPEATED</td>\n",
              "      <td>Variant allele fractions.</td>\n",
              "    </tr>\n",
              "    <tr>\n",
              "      <th>18</th>\n",
              "      <td>call.GL</td>\n",
              "      <td>FLOAT</td>\n",
              "      <td>REPEATED</td>\n",
              "      <td>Genotype likelihoods</td>\n",
              "    </tr>\n",
              "    <tr>\n",
              "      <th>19</th>\n",
              "      <td>call.PL</td>\n",
              "      <td>INTEGER</td>\n",
              "      <td>REPEATED</td>\n",
              "      <td>Phred-scaled genotype likelihoods rounded to t...</td>\n",
              "    </tr>\n",
              "    <tr>\n",
              "      <th>20</th>\n",
              "      <td>call.quality</td>\n",
              "      <td>FLOAT</td>\n",
              "      <td>NULLABLE</td>\n",
              "      <td>Phred-scaled quality score (-10log10 prob(call...</td>\n",
              "    </tr>\n",
              "    <tr>\n",
              "      <th>21</th>\n",
              "      <td>call.filter</td>\n",
              "      <td>STRING</td>\n",
              "      <td>REPEATED</td>\n",
              "      <td>List of failed filters (if any) or \"PASS\" indi...</td>\n",
              "    </tr>\n",
              "    <tr>\n",
              "      <th>22</th>\n",
              "      <td>partition_date_please_ignore</td>\n",
              "      <td>DATE</td>\n",
              "      <td>NULLABLE</td>\n",
              "      <td>Column required by BigQuery partitioning/clust...</td>\n",
              "    </tr>\n",
              "  </tbody>\n",
              "</table>\n",
              "</div>"
            ],
            "text/plain": [
              "                            name  ...                                        description\n",
              "0                 reference_name  ...                                    Reference name.\n",
              "1                 start_position  ...  Start position (0-based). Corresponds to the f...\n",
              "2                   end_position  ...  End position (0-based). Corresponds to the fir...\n",
              "3                reference_bases  ...                                   Reference bases.\n",
              "4                alternate_bases  ...       One record for each alternate base (if any).\n",
              "5            alternate_bases.alt  ...                                    Alternate base.\n",
              "6                          names  ...                    Variant names (e.g. RefSNP ID).\n",
              "7                        quality  ...  Phred-scaled quality score (-10log10 prob(call...\n",
              "8                         filter  ...  List of failed filters (if any) or \"PASS\" indi...\n",
              "9                           call  ...                          One record for each call.\n",
              "10                     call.name  ...                                  Name of the call.\n",
              "11                 call.genotype  ...  Genotype of the call. \"-1\" is used in cases wh...\n",
              "12                 call.phaseset  ...  Phaseset of the call (if any). \"*\" is used in ...\n",
              "13                       call.GQ  ...                       Conditional genotype quality\n",
              "14                       call.DP  ...                                         Read depth\n",
              "15                   call.MIN_DP  ...         Minimum DP observed within the GVCF block.\n",
              "16                       call.AD  ...                         Read depth for each allele\n",
              "17                      call.VAF  ...                          Variant allele fractions.\n",
              "18                       call.GL  ...                               Genotype likelihoods\n",
              "19                       call.PL  ...  Phred-scaled genotype likelihoods rounded to t...\n",
              "20                  call.quality  ...  Phred-scaled quality score (-10log10 prob(call...\n",
              "21                   call.filter  ...  List of failed filters (if any) or \"PASS\" indi...\n",
              "22  partition_date_please_ignore  ...  Column required by BigQuery partitioning/clust...\n",
              "\n",
              "[23 rows x 4 columns]"
            ]
          },
          "metadata": {
            "tags": []
          },
          "execution_count": 19
        }
      ]
    },
    {
      "cell_type": "code",
      "metadata": {
        "id": "Yjq5Wtc9EsIq",
        "colab_type": "code",
        "outputId": "79e29dc4-cb04-4ef1-dd51-34273a92b177",
        "colab": {
          "base_uri": "https://localhost:8080/",
          "height": 1000
        }
      },
      "source": [
        "illu.head('platinum_genomes_deepvariant_variants_20180823',num_rows=10)"
      ],
      "execution_count": 0,
      "outputs": [
        {
          "output_type": "execute_result",
          "data": {
            "application/vnd.google.colaboratory.module+javascript": "\n      import \"https://ssl.gstatic.com/colaboratory/data_table/9e554b27bdd509f3/data_table.js\";\n\n      window.createDataTable({\n        data: [[{\n            'v': 0,\n            'f': \"0\",\n        },\n\"chr1\",\n{\n            'v': 2118723,\n            'f': \"2118723\",\n        },\n{\n            'v': 2118724,\n            'f': \"2118724\",\n        },\n\"C\",\n[\"{'alt': '&lt;*&gt;'}\"],\n[],\n{\n            'v': 0.0,\n            'f': \"0.0\",\n        },\n[],\n[\"{'name': 'NA12877', 'genotype': [0, 0], 'phaseset': None, 'GQ': 0, 'DP': None, 'MIN_DP': 77, 'AD': [], 'VAF': [], 'GL': [], 'PL': [38, 0, 1808], 'quality': 0.0, 'filter': []}\"],\n\"2018-08-23\"],\n [{\n            'v': 1,\n            'f': \"1\",\n        },\n\"chr1\",\n{\n            'v': 7916656,\n            'f': \"7916656\",\n        },\n{\n            'v': 7916657,\n            'f': \"7916657\",\n        },\n\"T\",\n[\"{'alt': '&lt;*&gt;'}\"],\n[],\n{\n            'v': 0.0,\n            'f': \"0.0\",\n        },\n[],\n[\"{'name': 'NA12877', 'genotype': [0, 0], 'phaseset': None, 'GQ': 0, 'DP': None, 'MIN_DP': 70, 'AD': [], 'VAF': [], 'GL': [], 'PL': [809, 0, 869], 'quality': 0.0, 'filter': []}\"],\n\"2018-08-23\"],\n [{\n            'v': 2,\n            'f': \"2\",\n        },\n\"chr1\",\n{\n            'v': 2615293,\n            'f': \"2615293\",\n        },\n{\n            'v': 2615294,\n            'f': \"2615294\",\n        },\n\"C\",\n[\"{'alt': '&lt;*&gt;'}\"],\n[],\n{\n            'v': 0.0,\n            'f': \"0.0\",\n        },\n[],\n[\"{'name': 'NA12877', 'genotype': [0, 0], 'phaseset': None, 'GQ': 0, 'DP': None, 'MIN_DP': 2, 'AD': [], 'VAF': [], 'GL': [], 'PL': [59, 6, 0], 'quality': 0.0, 'filter': []}\"],\n\"2018-08-23\"],\n [{\n            'v': 3,\n            'f': \"3\",\n        },\n\"chr1\",\n{\n            'v': 7966480,\n            'f': \"7966480\",\n        },\n{\n            'v': 7966481,\n            'f': \"7966481\",\n        },\n\"A\",\n[\"{'alt': '&lt;*&gt;'}\"],\n[],\n{\n            'v': 0.0,\n            'f': \"0.0\",\n        },\n[],\n[\"{'name': 'NA12877', 'genotype': [0, 0], 'phaseset': None, 'GQ': 0, 'DP': None, 'MIN_DP': 61, 'AD': [], 'VAF': [], 'GL': [], 'PL': [26, 0, 1436], 'quality': 0.0, 'filter': []}\"],\n\"2018-08-23\"],\n [{\n            'v': 4,\n            'f': \"4\",\n        },\n\"chr1\",\n{\n            'v': 101136,\n            'f': \"101136\",\n        },\n{\n            'v': 101137,\n            'f': \"101137\",\n        },\n\"A\",\n[\"{'alt': '&lt;*&gt;'}\"],\n[],\n{\n            'v': 0.0,\n            'f': \"0.0\",\n        },\n[],\n[\"{'name': 'NA12877', 'genotype': [0, 0], 'phaseset': None, 'GQ': 0, 'DP': None, 'MIN_DP': 3, 'AD': [], 'VAF': [], 'GL': [], 'PL': [20, 0, 50], 'quality': 0.0, 'filter': []}\"],\n\"2018-08-23\"],\n [{\n            'v': 5,\n            'f': \"5\",\n        },\n\"chr1\",\n{\n            'v': 1286760,\n            'f': \"1286760\",\n        },\n{\n            'v': 1286761,\n            'f': \"1286761\",\n        },\n\"A\",\n[\"{'alt': '&lt;*&gt;'}\"],\n[],\n{\n            'v': 0.0,\n            'f': \"0.0\",\n        },\n[],\n[\"{'name': 'NA12877', 'genotype': [0, 0], 'phaseset': None, 'GQ': 0, 'DP': None, 'MIN_DP': 6, 'AD': [], 'VAF': [], 'GL': [], 'PL': [11, 0, 131], 'quality': 0.0, 'filter': []}\"],\n\"2018-08-23\"],\n [{\n            'v': 6,\n            'f': \"6\",\n        },\n\"chr1\",\n{\n            'v': 7494953,\n            'f': \"7494953\",\n        },\n{\n            'v': 7494954,\n            'f': \"7494954\",\n        },\n\"A\",\n[\"{'alt': '&lt;*&gt;'}\"],\n[],\n{\n            'v': 0.0,\n            'f': \"0.0\",\n        },\n[],\n[\"{'name': 'NA12877', 'genotype': [0, 0], 'phaseset': None, 'GQ': 0, 'DP': None, 'MIN_DP': 46, 'AD': [], 'VAF': [], 'GL': [], 'PL': [131, 0, 971], 'quality': 0.0, 'filter': []}\"],\n\"2018-08-23\"],\n [{\n            'v': 7,\n            'f': \"7\",\n        },\n\"chr1\",\n{\n            'v': 2605319,\n            'f': \"2605319\",\n        },\n{\n            'v': 2605320,\n            'f': \"2605320\",\n        },\n\"G\",\n[\"{'alt': '&lt;*&gt;'}\"],\n[],\n{\n            'v': 0.0,\n            'f': \"0.0\",\n        },\n[],\n[\"{'name': 'NA12877', 'genotype': [0, 0], 'phaseset': None, 'GQ': 0, 'DP': None, 'MIN_DP': 3, 'AD': [], 'VAF': [], 'GL': [], 'PL': [20, 0, 50], 'quality': 0.0, 'filter': []}\"],\n\"2018-08-23\"],\n [{\n            'v': 8,\n            'f': \"8\",\n        },\n\"chr1\",\n{\n            'v': 1000332,\n            'f': \"1000332\",\n        },\n{\n            'v': 1000334,\n            'f': \"1000334\",\n        },\n\"T\",\n[\"{'alt': '&lt;*&gt;'}\"],\n[],\n{\n            'v': 0.0,\n            'f': \"0.0\",\n        },\n[],\n[\"{'name': 'NA12877', 'genotype': [0, 0], 'phaseset': None, 'GQ': 0, 'DP': None, 'MIN_DP': 3, 'AD': [], 'VAF': [], 'GL': [], 'PL': [20, 0, 50], 'quality': 0.0, 'filter': []}\"],\n\"2018-08-23\"],\n [{\n            'v': 9,\n            'f': \"9\",\n        },\n\"chr1\",\n{\n            'v': 823783,\n            'f': \"823783\",\n        },\n{\n            'v': 823784,\n            'f': \"823784\",\n        },\n\"T\",\n[\"{'alt': '&lt;*&gt;'}\"],\n[],\n{\n            'v': 0.0,\n            'f': \"0.0\",\n        },\n[],\n[\"{'name': 'NA12877', 'genotype': [0, 0], 'phaseset': None, 'GQ': 0, 'DP': None, 'MIN_DP': 90, 'AD': [], 'VAF': [], 'GL': [], 'PL': [89, 0, 2069], 'quality': 0.0, 'filter': []}\"],\n\"2018-08-23\"]],\n        columns: [[\"number\", \"index\"], [\"string\", \"reference_name\"], [\"number\", \"start_position\"], [\"number\", \"end_position\"], [\"string\", \"reference_bases\"], [\"string\", \"alternate_bases\"], [\"string\", \"names\"], [\"number\", \"quality\"], [\"string\", \"filter\"], [\"string\", \"call\"], [\"string\", \"partition_date_please_ignore\"]],\n        columnOptions: [{\"width\": \"1px\", \"className\": \"index_column\"}],\n        rowsPerPage: 25,\n        helpUrl: \"https://colab.research.google.com/notebooks/data_table.ipynb\",\n      });\n    ",
            "text/html": [
              "<div>\n",
              "<style scoped>\n",
              "    .dataframe tbody tr th:only-of-type {\n",
              "        vertical-align: middle;\n",
              "    }\n",
              "\n",
              "    .dataframe tbody tr th {\n",
              "        vertical-align: top;\n",
              "    }\n",
              "\n",
              "    .dataframe thead th {\n",
              "        text-align: right;\n",
              "    }\n",
              "</style>\n",
              "<table border=\"1\" class=\"dataframe\">\n",
              "  <thead>\n",
              "    <tr style=\"text-align: right;\">\n",
              "      <th></th>\n",
              "      <th>reference_name</th>\n",
              "      <th>start_position</th>\n",
              "      <th>end_position</th>\n",
              "      <th>reference_bases</th>\n",
              "      <th>alternate_bases</th>\n",
              "      <th>names</th>\n",
              "      <th>quality</th>\n",
              "      <th>filter</th>\n",
              "      <th>call</th>\n",
              "      <th>partition_date_please_ignore</th>\n",
              "    </tr>\n",
              "  </thead>\n",
              "  <tbody>\n",
              "    <tr>\n",
              "      <th>0</th>\n",
              "      <td>chr1</td>\n",
              "      <td>2118723</td>\n",
              "      <td>2118724</td>\n",
              "      <td>C</td>\n",
              "      <td>[{'alt': '&lt;*&gt;'}]</td>\n",
              "      <td>[]</td>\n",
              "      <td>0.0</td>\n",
              "      <td>[]</td>\n",
              "      <td>[{'name': 'NA12877', 'genotype': [0, 0], 'phas...</td>\n",
              "      <td>2018-08-23</td>\n",
              "    </tr>\n",
              "    <tr>\n",
              "      <th>1</th>\n",
              "      <td>chr1</td>\n",
              "      <td>7916656</td>\n",
              "      <td>7916657</td>\n",
              "      <td>T</td>\n",
              "      <td>[{'alt': '&lt;*&gt;'}]</td>\n",
              "      <td>[]</td>\n",
              "      <td>0.0</td>\n",
              "      <td>[]</td>\n",
              "      <td>[{'name': 'NA12877', 'genotype': [0, 0], 'phas...</td>\n",
              "      <td>2018-08-23</td>\n",
              "    </tr>\n",
              "    <tr>\n",
              "      <th>2</th>\n",
              "      <td>chr1</td>\n",
              "      <td>2615293</td>\n",
              "      <td>2615294</td>\n",
              "      <td>C</td>\n",
              "      <td>[{'alt': '&lt;*&gt;'}]</td>\n",
              "      <td>[]</td>\n",
              "      <td>0.0</td>\n",
              "      <td>[]</td>\n",
              "      <td>[{'name': 'NA12877', 'genotype': [0, 0], 'phas...</td>\n",
              "      <td>2018-08-23</td>\n",
              "    </tr>\n",
              "    <tr>\n",
              "      <th>3</th>\n",
              "      <td>chr1</td>\n",
              "      <td>7966480</td>\n",
              "      <td>7966481</td>\n",
              "      <td>A</td>\n",
              "      <td>[{'alt': '&lt;*&gt;'}]</td>\n",
              "      <td>[]</td>\n",
              "      <td>0.0</td>\n",
              "      <td>[]</td>\n",
              "      <td>[{'name': 'NA12877', 'genotype': [0, 0], 'phas...</td>\n",
              "      <td>2018-08-23</td>\n",
              "    </tr>\n",
              "    <tr>\n",
              "      <th>4</th>\n",
              "      <td>chr1</td>\n",
              "      <td>101136</td>\n",
              "      <td>101137</td>\n",
              "      <td>A</td>\n",
              "      <td>[{'alt': '&lt;*&gt;'}]</td>\n",
              "      <td>[]</td>\n",
              "      <td>0.0</td>\n",
              "      <td>[]</td>\n",
              "      <td>[{'name': 'NA12877', 'genotype': [0, 0], 'phas...</td>\n",
              "      <td>2018-08-23</td>\n",
              "    </tr>\n",
              "    <tr>\n",
              "      <th>5</th>\n",
              "      <td>chr1</td>\n",
              "      <td>1286760</td>\n",
              "      <td>1286761</td>\n",
              "      <td>A</td>\n",
              "      <td>[{'alt': '&lt;*&gt;'}]</td>\n",
              "      <td>[]</td>\n",
              "      <td>0.0</td>\n",
              "      <td>[]</td>\n",
              "      <td>[{'name': 'NA12877', 'genotype': [0, 0], 'phas...</td>\n",
              "      <td>2018-08-23</td>\n",
              "    </tr>\n",
              "    <tr>\n",
              "      <th>6</th>\n",
              "      <td>chr1</td>\n",
              "      <td>7494953</td>\n",
              "      <td>7494954</td>\n",
              "      <td>A</td>\n",
              "      <td>[{'alt': '&lt;*&gt;'}]</td>\n",
              "      <td>[]</td>\n",
              "      <td>0.0</td>\n",
              "      <td>[]</td>\n",
              "      <td>[{'name': 'NA12877', 'genotype': [0, 0], 'phas...</td>\n",
              "      <td>2018-08-23</td>\n",
              "    </tr>\n",
              "    <tr>\n",
              "      <th>7</th>\n",
              "      <td>chr1</td>\n",
              "      <td>2605319</td>\n",
              "      <td>2605320</td>\n",
              "      <td>G</td>\n",
              "      <td>[{'alt': '&lt;*&gt;'}]</td>\n",
              "      <td>[]</td>\n",
              "      <td>0.0</td>\n",
              "      <td>[]</td>\n",
              "      <td>[{'name': 'NA12877', 'genotype': [0, 0], 'phas...</td>\n",
              "      <td>2018-08-23</td>\n",
              "    </tr>\n",
              "    <tr>\n",
              "      <th>8</th>\n",
              "      <td>chr1</td>\n",
              "      <td>1000332</td>\n",
              "      <td>1000334</td>\n",
              "      <td>T</td>\n",
              "      <td>[{'alt': '&lt;*&gt;'}]</td>\n",
              "      <td>[]</td>\n",
              "      <td>0.0</td>\n",
              "      <td>[]</td>\n",
              "      <td>[{'name': 'NA12877', 'genotype': [0, 0], 'phas...</td>\n",
              "      <td>2018-08-23</td>\n",
              "    </tr>\n",
              "    <tr>\n",
              "      <th>9</th>\n",
              "      <td>chr1</td>\n",
              "      <td>823783</td>\n",
              "      <td>823784</td>\n",
              "      <td>T</td>\n",
              "      <td>[{'alt': '&lt;*&gt;'}]</td>\n",
              "      <td>[]</td>\n",
              "      <td>0.0</td>\n",
              "      <td>[]</td>\n",
              "      <td>[{'name': 'NA12877', 'genotype': [0, 0], 'phas...</td>\n",
              "      <td>2018-08-23</td>\n",
              "    </tr>\n",
              "  </tbody>\n",
              "</table>\n",
              "</div>"
            ],
            "text/plain": [
              "  reference_name  ...  partition_date_please_ignore\n",
              "0           chr1  ...                    2018-08-23\n",
              "1           chr1  ...                    2018-08-23\n",
              "2           chr1  ...                    2018-08-23\n",
              "3           chr1  ...                    2018-08-23\n",
              "4           chr1  ...                    2018-08-23\n",
              "5           chr1  ...                    2018-08-23\n",
              "6           chr1  ...                    2018-08-23\n",
              "7           chr1  ...                    2018-08-23\n",
              "8           chr1  ...                    2018-08-23\n",
              "9           chr1  ...                    2018-08-23\n",
              "\n",
              "[10 rows x 10 columns]"
            ]
          },
          "metadata": {
            "tags": []
          },
          "execution_count": 40
        }
      ]
    },
    {
      "cell_type": "code",
      "metadata": {
        "id": "ji_OXbj6S7vw",
        "colab_type": "code",
        "colab": {}
      },
      "source": [
        "print('Size of dataframe: {} Bytes'.format(int(illu.memory_usage(index=True, deep=True).sum())))"
      ],
      "execution_count": 0,
      "outputs": []
    },
    {
      "cell_type": "markdown",
      "metadata": {
        "id": "cS1YNUBf17U6",
        "colab_type": "text"
      },
      "source": [
        "# Querying the table"
      ]
    },
    {
      "cell_type": "markdown",
      "metadata": {
        "id": "VIEWczNm2Eo7",
        "colab_type": "text"
      },
      "source": [
        "## Count total number of rows"
      ]
    },
    {
      "cell_type": "code",
      "metadata": {
        "id": "lYTREoKH-Vtm",
        "colab_type": "code",
        "colab": {}
      },
      "source": [
        "# counting total number of rows\n",
        "# scan size 0.0 GB, result = 105923159 rows\n",
        "NUM_ROWS =  \"\"\"\n",
        "            SELECT\n",
        "            COUNT(1) AS num_rows\n",
        "            FROM \n",
        "              `bigquery-public-data.human_genome_variants.platinum_genomes_deepvariant_variants_20180823`\n",
        "            \"\"\""
      ],
      "execution_count": 0,
      "outputs": []
    },
    {
      "cell_type": "code",
      "metadata": {
        "id": "OodfMzagAbgj",
        "colab_type": "code",
        "outputId": "f0bea8fa-ef71-4045-b636-ff0fc6ee8a4c",
        "colab": {
          "base_uri": "https://localhost:8080/",
          "height": 34
        }
      },
      "source": [
        "illu.estimate_query_size(NUM_ROWS)"
      ],
      "execution_count": 0,
      "outputs": [
        {
          "output_type": "execute_result",
          "data": {
            "text/plain": [
              "0.0"
            ]
          },
          "metadata": {
            "tags": []
          },
          "execution_count": 52
        }
      ]
    },
    {
      "cell_type": "code",
      "metadata": {
        "id": "3N1VE0PxAgtr",
        "colab_type": "code",
        "colab": {}
      },
      "source": [
        "df = illu.query_to_pandas_safe(NUM_ROWS)"
      ],
      "execution_count": 0,
      "outputs": []
    },
    {
      "cell_type": "code",
      "metadata": {
        "id": "znQJen59Cw2I",
        "colab_type": "code",
        "outputId": "da2d148a-b947-4535-96c7-bf3cf5b6fc12",
        "colab": {
          "base_uri": "https://localhost:8080/",
          "height": 109
        }
      },
      "source": [
        "df"
      ],
      "execution_count": 0,
      "outputs": [
        {
          "output_type": "execute_result",
          "data": {
            "application/vnd.google.colaboratory.module+javascript": "\n      import \"https://ssl.gstatic.com/colaboratory/data_table/9e554b27bdd509f3/data_table.js\";\n\n      window.createDataTable({\n        data: [[{\n            'v': 0,\n            'f': \"0\",\n        },\n{\n            'v': 105923159,\n            'f': \"105923159\",\n        }]],\n        columns: [[\"number\", \"index\"], [\"number\", \"num_rows\"]],\n        columnOptions: [{\"width\": \"1px\", \"className\": \"index_column\"}],\n        rowsPerPage: 25,\n        helpUrl: \"https://colab.research.google.com/notebooks/data_table.ipynb\",\n      });\n    ",
            "text/html": [
              "<div>\n",
              "<style scoped>\n",
              "    .dataframe tbody tr th:only-of-type {\n",
              "        vertical-align: middle;\n",
              "    }\n",
              "\n",
              "    .dataframe tbody tr th {\n",
              "        vertical-align: top;\n",
              "    }\n",
              "\n",
              "    .dataframe thead th {\n",
              "        text-align: right;\n",
              "    }\n",
              "</style>\n",
              "<table border=\"1\" class=\"dataframe\">\n",
              "  <thead>\n",
              "    <tr style=\"text-align: right;\">\n",
              "      <th></th>\n",
              "      <th>num_rows</th>\n",
              "    </tr>\n",
              "  </thead>\n",
              "  <tbody>\n",
              "    <tr>\n",
              "      <th>0</th>\n",
              "      <td>105923159</td>\n",
              "    </tr>\n",
              "  </tbody>\n",
              "</table>\n",
              "</div>"
            ],
            "text/plain": [
              "    num_rows\n",
              "0  105923159"
            ]
          },
          "metadata": {
            "tags": []
          },
          "execution_count": 33
        }
      ]
    },
    {
      "cell_type": "markdown",
      "metadata": {
        "id": "hnI_wTgl2Kl9",
        "colab_type": "text"
      },
      "source": [
        "## Counting variant calls in the table\n",
        "__Summing the length of call arrays__"
      ]
    },
    {
      "cell_type": "code",
      "metadata": {
        "id": "-VVsACZwFy5g",
        "colab_type": "code",
        "colab": {}
      },
      "source": [
        "# counting total number of variant calls \n",
        "# scan size 0.0 GB, result=182104652 variant calls\n",
        "# why 1.7 variat calls per row?\n",
        "NUM_VARIANTCALLS =  \"\"\"\n",
        "                    SELECT\n",
        "                      SUM(ARRAY_LENGTH(call)) AS num_calls\n",
        "                    FROM \n",
        "                      `bigquery-public-data.human_genome_variants.platinum_genomes_deepvariant_variants_20180823`\n",
        "                    \"\"\""
      ],
      "execution_count": 0,
      "outputs": []
    },
    {
      "cell_type": "code",
      "metadata": {
        "id": "l67tXBNBGMm_",
        "colab_type": "code",
        "outputId": "5f700397-b155-44e6-a5bb-b48958b41c7c",
        "colab": {
          "base_uri": "https://localhost:8080/",
          "height": 34
        }
      },
      "source": [
        "illu.estimate_query_size(NUM_VARIANTCALLS)"
      ],
      "execution_count": 0,
      "outputs": [
        {
          "output_type": "execute_result",
          "data": {
            "text/plain": [
              "0.0"
            ]
          },
          "metadata": {
            "tags": []
          },
          "execution_count": 42
        }
      ]
    },
    {
      "cell_type": "code",
      "metadata": {
        "id": "wqFBOD5YGViJ",
        "colab_type": "code",
        "colab": {}
      },
      "source": [
        "df = illu.query_to_pandas_safe(NUM_VARIANTCALLS)"
      ],
      "execution_count": 0,
      "outputs": []
    },
    {
      "cell_type": "code",
      "metadata": {
        "id": "aLTBmNriGhsG",
        "colab_type": "code",
        "outputId": "577165a5-33f2-4996-8113-20025b317048",
        "colab": {
          "base_uri": "https://localhost:8080/",
          "height": 109
        }
      },
      "source": [
        "df"
      ],
      "execution_count": 0,
      "outputs": [
        {
          "output_type": "execute_result",
          "data": {
            "application/vnd.google.colaboratory.module+javascript": "\n      import \"https://ssl.gstatic.com/colaboratory/data_table/9e554b27bdd509f3/data_table.js\";\n\n      window.createDataTable({\n        data: [[{\n            'v': 0,\n            'f': \"0\",\n        },\n{\n            'v': 182104652,\n            'f': \"182104652\",\n        }]],\n        columns: [[\"number\", \"index\"], [\"number\", \"num_calls\"]],\n        columnOptions: [{\"width\": \"1px\", \"className\": \"index_column\"}],\n        rowsPerPage: 25,\n        helpUrl: \"https://colab.research.google.com/notebooks/data_table.ipynb\",\n      });\n    ",
            "text/html": [
              "<div>\n",
              "<style scoped>\n",
              "    .dataframe tbody tr th:only-of-type {\n",
              "        vertical-align: middle;\n",
              "    }\n",
              "\n",
              "    .dataframe tbody tr th {\n",
              "        vertical-align: top;\n",
              "    }\n",
              "\n",
              "    .dataframe thead th {\n",
              "        text-align: right;\n",
              "    }\n",
              "</style>\n",
              "<table border=\"1\" class=\"dataframe\">\n",
              "  <thead>\n",
              "    <tr style=\"text-align: right;\">\n",
              "      <th></th>\n",
              "      <th>num_calls</th>\n",
              "    </tr>\n",
              "  </thead>\n",
              "  <tbody>\n",
              "    <tr>\n",
              "      <th>0</th>\n",
              "      <td>182104652</td>\n",
              "    </tr>\n",
              "  </tbody>\n",
              "</table>\n",
              "</div>"
            ],
            "text/plain": [
              "   num_calls\n",
              "0  182104652"
            ]
          },
          "metadata": {
            "tags": []
          },
          "execution_count": 44
        }
      ]
    },
    {
      "cell_type": "markdown",
      "metadata": {
        "id": "dplUaxH92YJd",
        "colab_type": "text"
      },
      "source": [
        "__Joining each row__"
      ]
    },
    {
      "cell_type": "code",
      "metadata": {
        "id": "3OYolkipCyUv",
        "colab_type": "code",
        "colab": {}
      },
      "source": [
        "## scan size 0.0. GB\n",
        "NUM_VARIANTCALLS2 =  \"\"\"\n",
        "                    SELECT\n",
        "                      COUNT(call) AS num_calls\n",
        "                    FROM \n",
        "                      `bigquery-public-data.human_genome_variants.platinum_genomes_deepvariant_variants_20180823` v, v.call\n",
        "                    \"\"\""
      ],
      "execution_count": 0,
      "outputs": []
    },
    {
      "cell_type": "code",
      "metadata": {
        "id": "Tahux8KnEDWR",
        "colab_type": "code",
        "outputId": "7999fb95-4c92-4e9b-8555-26fa3e418c57",
        "colab": {
          "base_uri": "https://localhost:8080/",
          "height": 34
        }
      },
      "source": [
        "illu.estimate_query_size(NUM_VARIANTCALLS2)"
      ],
      "execution_count": 0,
      "outputs": [
        {
          "output_type": "execute_result",
          "data": {
            "text/plain": [
              "0.0"
            ]
          },
          "metadata": {
            "tags": []
          },
          "execution_count": 46
        }
      ]
    },
    {
      "cell_type": "markdown",
      "metadata": {
        "id": "RlNpR24k2eME",
        "colab_type": "text"
      },
      "source": [
        "__Counting name in a call column__"
      ]
    },
    {
      "cell_type": "code",
      "metadata": {
        "id": "57SyeQlzIcQ7",
        "colab_type": "code",
        "colab": {}
      },
      "source": [
        "## scan size ~ 1.5264 GB\n",
        "NUM_VARIANTCALLS3 = \"\"\"\n",
        "                    SELECT\n",
        "                      COUNT(call.name) AS num_calls\n",
        "                    FROM\n",
        "                      `bigquery-public-data.human_genome_variants.platinum_genomes_deepvariant_variants_20180823` v, v.call call\n",
        "                    \"\"\""
      ],
      "execution_count": 0,
      "outputs": []
    },
    {
      "cell_type": "code",
      "metadata": {
        "id": "2OqN0k5iJcdM",
        "colab_type": "code",
        "outputId": "7408982d-fc14-45b8-9089-58e7eea07fb3",
        "colab": {
          "base_uri": "https://localhost:8080/",
          "height": 34
        }
      },
      "source": [
        "illu.estimate_query_size(NUM_VARIANTCALLS3)"
      ],
      "execution_count": 0,
      "outputs": [
        {
          "output_type": "execute_result",
          "data": {
            "text/plain": [
              "1.5263835601508617"
            ]
          },
          "metadata": {
            "tags": []
          },
          "execution_count": 50
        }
      ]
    },
    {
      "cell_type": "markdown",
      "metadata": {
        "id": "SxcTae-82pim",
        "colab_type": "text"
      },
      "source": [
        "## Counting variant and non-variant segments\n",
        "__non_variant segments__"
      ]
    },
    {
      "cell_type": "code",
      "metadata": {
        "id": "Tp3OKFGAJfHX",
        "colab_type": "code",
        "colab": {}
      },
      "source": [
        "# counting non-variant segments\n",
        "# scan size 0.534 GB, returns 143.555.264 non-variant segments\n",
        "NUM_NONVARIANTS =  \"\"\"\n",
        "                SELECT\n",
        "                  COUNT(1) AS num_nonvariants\n",
        "                FROM\n",
        "                  `bigquery-public-data.human_genome_variants.platinum_genomes_deepvariant_variants_20180823` v, v.call call\n",
        "                WHERE\n",
        "                  NOT EXISTS (SELECT 1\n",
        "                                FROM UNNEST(v.alternate_bases) AS alt\n",
        "                              WHERE\n",
        "                                alt.alt NOT IN ('<NON_REF>','<*>'))\n",
        "                \"\"\""
      ],
      "execution_count": 0,
      "outputs": []
    },
    {
      "cell_type": "code",
      "metadata": {
        "id": "maYcVbVHMF06",
        "colab_type": "code",
        "outputId": "f72149db-0524-43d3-c153-128de41cd6ec",
        "colab": {
          "base_uri": "https://localhost:8080/",
          "height": 34
        }
      },
      "source": [
        "illu.estimate_query_size(NUM_NONVARIANTS)"
      ],
      "execution_count": 0,
      "outputs": [
        {
          "output_type": "execute_result",
          "data": {
            "text/plain": [
              "0.5340448450297117"
            ]
          },
          "metadata": {
            "tags": []
          },
          "execution_count": 56
        }
      ]
    },
    {
      "cell_type": "code",
      "metadata": {
        "id": "D6xBTT5jMJPk",
        "colab_type": "code",
        "colab": {}
      },
      "source": [
        "df = illu.query_to_pandas_safe(NUM_NONVARIANTS)"
      ],
      "execution_count": 0,
      "outputs": []
    },
    {
      "cell_type": "code",
      "metadata": {
        "id": "HLZrz8mFMeH0",
        "colab_type": "code",
        "outputId": "ee2c50d4-7c7e-40a1-8ef4-05d66d4561e4",
        "colab": {
          "base_uri": "https://localhost:8080/",
          "height": 109
        }
      },
      "source": [
        "df"
      ],
      "execution_count": 0,
      "outputs": [
        {
          "output_type": "execute_result",
          "data": {
            "application/vnd.google.colaboratory.module+javascript": "\n      import \"https://ssl.gstatic.com/colaboratory/data_table/9e554b27bdd509f3/data_table.js\";\n\n      window.createDataTable({\n        data: [[{\n            'v': 0,\n            'f': \"0\",\n        },\n{\n            'v': 143555264,\n            'f': \"143555264\",\n        }]],\n        columns: [[\"number\", \"index\"], [\"number\", \"num_variants\"]],\n        columnOptions: [{\"width\": \"1px\", \"className\": \"index_column\"}],\n        rowsPerPage: 25,\n        helpUrl: \"https://colab.research.google.com/notebooks/data_table.ipynb\",\n      });\n    ",
            "text/html": [
              "<div>\n",
              "<style scoped>\n",
              "    .dataframe tbody tr th:only-of-type {\n",
              "        vertical-align: middle;\n",
              "    }\n",
              "\n",
              "    .dataframe tbody tr th {\n",
              "        vertical-align: top;\n",
              "    }\n",
              "\n",
              "    .dataframe thead th {\n",
              "        text-align: right;\n",
              "    }\n",
              "</style>\n",
              "<table border=\"1\" class=\"dataframe\">\n",
              "  <thead>\n",
              "    <tr style=\"text-align: right;\">\n",
              "      <th></th>\n",
              "      <th>num_variants</th>\n",
              "    </tr>\n",
              "  </thead>\n",
              "  <tbody>\n",
              "    <tr>\n",
              "      <th>0</th>\n",
              "      <td>143555264</td>\n",
              "    </tr>\n",
              "  </tbody>\n",
              "</table>\n",
              "</div>"
            ],
            "text/plain": [
              "   num_variants\n",
              "0     143555264"
            ]
          },
          "metadata": {
            "tags": []
          },
          "execution_count": 58
        }
      ]
    },
    {
      "cell_type": "markdown",
      "metadata": {
        "id": "7i6x_UCA2z_T",
        "colab_type": "text"
      },
      "source": [
        "__variant segments__"
      ]
    },
    {
      "cell_type": "code",
      "metadata": {
        "id": "MRbYHGP3Mil4",
        "colab_type": "code",
        "colab": {}
      },
      "source": [
        "# counting variant segments\n",
        "# scan size 0.534 GB, returns 38.549.388 variant segments\n",
        "NUM_VARIANTS =  \"\"\"\n",
        "                SELECT\n",
        "                  COUNT(1) AS num_variants\n",
        "                FROM\n",
        "                  `bigquery-public-data.human_genome_variants.platinum_genomes_deepvariant_variants_20180823` v, v.call call\n",
        "                WHERE\n",
        "                  EXISTS (SELECT 1\n",
        "                            FROM UNNEST(v.alternate_bases) AS alt\n",
        "                          WHERE\n",
        "                            alt.alt NOT IN ('<NON_REF>','<*>'))\n",
        "                \"\"\""
      ],
      "execution_count": 0,
      "outputs": []
    },
    {
      "cell_type": "code",
      "metadata": {
        "id": "yu9eJpDxNnMP",
        "colab_type": "code",
        "outputId": "5e961c53-2a98-46c0-a71c-c2c927acbd65",
        "colab": {
          "base_uri": "https://localhost:8080/",
          "height": 34
        }
      },
      "source": [
        "illu.estimate_query_size(NUM_VARIANTS)"
      ],
      "execution_count": 0,
      "outputs": [
        {
          "output_type": "execute_result",
          "data": {
            "text/plain": [
              "0.5340448450297117"
            ]
          },
          "metadata": {
            "tags": []
          },
          "execution_count": 60
        }
      ]
    },
    {
      "cell_type": "code",
      "metadata": {
        "id": "AgXV62RfNvAq",
        "colab_type": "code",
        "outputId": "a777c463-3251-4706-fa62-68e76208f3fb",
        "colab": {
          "base_uri": "https://localhost:8080/",
          "height": 109
        }
      },
      "source": [
        "df = illu.query_to_pandas_safe(NUM_VARIANTS)\n",
        "df"
      ],
      "execution_count": 0,
      "outputs": [
        {
          "output_type": "execute_result",
          "data": {
            "application/vnd.google.colaboratory.module+javascript": "\n      import \"https://ssl.gstatic.com/colaboratory/data_table/9e554b27bdd509f3/data_table.js\";\n\n      window.createDataTable({\n        data: [[{\n            'v': 0,\n            'f': \"0\",\n        },\n{\n            'v': 38549388,\n            'f': \"38549388\",\n        }]],\n        columns: [[\"number\", \"index\"], [\"number\", \"num_variants\"]],\n        columnOptions: [{\"width\": \"1px\", \"className\": \"index_column\"}],\n        rowsPerPage: 25,\n        helpUrl: \"https://colab.research.google.com/notebooks/data_table.ipynb\",\n      });\n    ",
            "text/html": [
              "<div>\n",
              "<style scoped>\n",
              "    .dataframe tbody tr th:only-of-type {\n",
              "        vertical-align: middle;\n",
              "    }\n",
              "\n",
              "    .dataframe tbody tr th {\n",
              "        vertical-align: top;\n",
              "    }\n",
              "\n",
              "    .dataframe thead th {\n",
              "        text-align: right;\n",
              "    }\n",
              "</style>\n",
              "<table border=\"1\" class=\"dataframe\">\n",
              "  <thead>\n",
              "    <tr style=\"text-align: right;\">\n",
              "      <th></th>\n",
              "      <th>num_variants</th>\n",
              "    </tr>\n",
              "  </thead>\n",
              "  <tbody>\n",
              "    <tr>\n",
              "      <th>0</th>\n",
              "      <td>38549388</td>\n",
              "    </tr>\n",
              "  </tbody>\n",
              "</table>\n",
              "</div>"
            ],
            "text/plain": [
              "   num_variants\n",
              "0      38549388"
            ]
          },
          "metadata": {
            "tags": []
          },
          "execution_count": 61
        }
      ]
    },
    {
      "cell_type": "code",
      "metadata": {
        "id": "rO7O6nyON0aD",
        "colab_type": "code",
        "outputId": "2f59b3a6-14e1-4947-e586-ef45d54a00f3",
        "colab": {
          "base_uri": "https://localhost:8080/",
          "height": 34
        }
      },
      "source": [
        "38549388+143555264"
      ],
      "execution_count": 0,
      "outputs": [
        {
          "output_type": "execute_result",
          "data": {
            "text/plain": [
              "182104652"
            ]
          },
          "metadata": {
            "tags": []
          },
          "execution_count": 62
        }
      ]
    },
    {
      "cell_type": "markdown",
      "metadata": {
        "id": "1kqb16dJ25Dc",
        "colab_type": "text"
      },
      "source": [
        "## Counting the variants called by each sample"
      ]
    },
    {
      "cell_type": "code",
      "metadata": {
        "id": "zC3OdUueOBD3",
        "colab_type": "code",
        "colab": {}
      },
      "source": [
        "# counting number of variants called by each sample\n",
        "# first count number of rows, in which each call set appears\n",
        "# scan size 1.526 GB, returns call counts of approx. 30 million variant calls per sample\n",
        "CALLCOUNT_PER_SET =   \"\"\"\n",
        "                            SELECT\n",
        "                              call.name AS call_names,\n",
        "                              COUNT(call.name) AS call_count_per_call_set\n",
        "                            FROM\n",
        "                              `bigquery-public-data.human_genome_variants.platinum_genomes_deepvariant_variants_20180823` v, v.call\n",
        "                            GROUP BY \n",
        "                              call.name\n",
        "                            ORDER BY\n",
        "                              call.name\n",
        "                            \"\"\""
      ],
      "execution_count": 0,
      "outputs": []
    },
    {
      "cell_type": "code",
      "metadata": {
        "id": "E2UvQXbLP50B",
        "colab_type": "code",
        "outputId": "052f3339-baa5-4297-dbc5-363b9f819c02",
        "colab": {
          "base_uri": "https://localhost:8080/",
          "height": 34
        }
      },
      "source": [
        "illu.estimate_query_size(CALLCOUNT_PER_SET)"
      ],
      "execution_count": 0,
      "outputs": [
        {
          "output_type": "execute_result",
          "data": {
            "text/plain": [
              "1.5263835601508617"
            ]
          },
          "metadata": {
            "tags": []
          },
          "execution_count": 67
        }
      ]
    },
    {
      "cell_type": "code",
      "metadata": {
        "id": "8DNYfU8CQKdL",
        "colab_type": "code",
        "outputId": "2f37015c-04e5-451b-8e95-dcb50b29481a",
        "colab": {
          "base_uri": "https://localhost:8080/",
          "height": 214
        }
      },
      "source": [
        "df = illu.query_to_pandas(CALLCOUNT_PER_SET)\n",
        "df"
      ],
      "execution_count": 0,
      "outputs": [
        {
          "output_type": "execute_result",
          "data": {
            "application/vnd.google.colaboratory.module+javascript": "\n      import \"https://ssl.gstatic.com/colaboratory/data_table/9e554b27bdd509f3/data_table.js\";\n\n      window.createDataTable({\n        data: [[{\n            'v': 0,\n            'f': \"0\",\n        },\n\"NA12877\",\n{\n            'v': 31592135,\n            'f': \"31592135\",\n        }],\n [{\n            'v': 1,\n            'f': \"1\",\n        },\n\"NA12878\",\n{\n            'v': 28012646,\n            'f': \"28012646\",\n        }],\n [{\n            'v': 2,\n            'f': \"2\",\n        },\n\"NA12889\",\n{\n            'v': 31028550,\n            'f': \"31028550\",\n        }],\n [{\n            'v': 3,\n            'f': \"3\",\n        },\n\"NA12890\",\n{\n            'v': 30636087,\n            'f': \"30636087\",\n        }],\n [{\n            'v': 4,\n            'f': \"4\",\n        },\n\"NA12891\",\n{\n            'v': 33487348,\n            'f': \"33487348\",\n        }],\n [{\n            'v': 5,\n            'f': \"5\",\n        },\n\"NA12892\",\n{\n            'v': 27347886,\n            'f': \"27347886\",\n        }]],\n        columns: [[\"number\", \"index\"], [\"string\", \"call_names\"], [\"number\", \"call_count_per_call_set\"]],\n        columnOptions: [{\"width\": \"1px\", \"className\": \"index_column\"}],\n        rowsPerPage: 25,\n        helpUrl: \"https://colab.research.google.com/notebooks/data_table.ipynb\",\n      });\n    ",
            "text/html": [
              "<div>\n",
              "<style scoped>\n",
              "    .dataframe tbody tr th:only-of-type {\n",
              "        vertical-align: middle;\n",
              "    }\n",
              "\n",
              "    .dataframe tbody tr th {\n",
              "        vertical-align: top;\n",
              "    }\n",
              "\n",
              "    .dataframe thead th {\n",
              "        text-align: right;\n",
              "    }\n",
              "</style>\n",
              "<table border=\"1\" class=\"dataframe\">\n",
              "  <thead>\n",
              "    <tr style=\"text-align: right;\">\n",
              "      <th></th>\n",
              "      <th>call_names</th>\n",
              "      <th>call_count_per_call_set</th>\n",
              "    </tr>\n",
              "  </thead>\n",
              "  <tbody>\n",
              "    <tr>\n",
              "      <th>0</th>\n",
              "      <td>NA12877</td>\n",
              "      <td>31592135</td>\n",
              "    </tr>\n",
              "    <tr>\n",
              "      <th>1</th>\n",
              "      <td>NA12878</td>\n",
              "      <td>28012646</td>\n",
              "    </tr>\n",
              "    <tr>\n",
              "      <th>2</th>\n",
              "      <td>NA12889</td>\n",
              "      <td>31028550</td>\n",
              "    </tr>\n",
              "    <tr>\n",
              "      <th>3</th>\n",
              "      <td>NA12890</td>\n",
              "      <td>30636087</td>\n",
              "    </tr>\n",
              "    <tr>\n",
              "      <th>4</th>\n",
              "      <td>NA12891</td>\n",
              "      <td>33487348</td>\n",
              "    </tr>\n",
              "    <tr>\n",
              "      <th>5</th>\n",
              "      <td>NA12892</td>\n",
              "      <td>27347886</td>\n",
              "    </tr>\n",
              "  </tbody>\n",
              "</table>\n",
              "</div>"
            ],
            "text/plain": [
              "  call_names  call_count_per_call_set\n",
              "0    NA12877                 31592135\n",
              "1    NA12878                 28012646\n",
              "2    NA12889                 31028550\n",
              "3    NA12890                 30636087\n",
              "4    NA12891                 33487348\n",
              "5    NA12892                 27347886"
            ]
          },
          "metadata": {
            "tags": []
          },
          "execution_count": 69
        }
      ]
    },
    {
      "cell_type": "code",
      "metadata": {
        "id": "9c1Nj8y4Q3Rs",
        "colab_type": "code",
        "colab": {}
      },
      "source": [
        "## filter out non-variant segments to only count the called variant segments per sample (human)\n",
        "# scan size 2.06 GB, returns around 6 million called variant segments per sample (more realistic)\n",
        "NUM_VARIANTS_PER_SAMPLE =   \"\"\"\n",
        "                            SELECT\n",
        "                              call.name AS call_name,\n",
        "                              COUNT(call.name) AS call_count_for_call_set\n",
        "                            FROM\n",
        "                              `bigquery-public-data.human_genome_variants.platinum_genomes_deepvariant_variants_20180823` v, v.call\n",
        "                            WHERE\n",
        "                              EXISTS (SELECT 1\n",
        "                                        FROM UNNEST(v.alternate_bases) AS alt\n",
        "                                      WHERE\n",
        "                                        alt.alt NOT IN (\"<NON_REF>\", \"<*>\"))\n",
        "                            GROUP BY\n",
        "                              call_name\n",
        "                            ORDER BY\n",
        "                              call_name\n",
        "                            \"\"\""
      ],
      "execution_count": 0,
      "outputs": []
    },
    {
      "cell_type": "code",
      "metadata": {
        "id": "cQoG8_1BReSD",
        "colab_type": "code",
        "outputId": "7d1590aa-3949-423e-a9b9-e5adfae0ff21",
        "colab": {
          "base_uri": "https://localhost:8080/",
          "height": 34
        }
      },
      "source": [
        "illu.estimate_query_size(NUM_VARIANTS_PER_SAMPLE)"
      ],
      "execution_count": 0,
      "outputs": [
        {
          "output_type": "execute_result",
          "data": {
            "text/plain": [
              "2.0604284051805735"
            ]
          },
          "metadata": {
            "tags": []
          },
          "execution_count": 71
        }
      ]
    },
    {
      "cell_type": "code",
      "metadata": {
        "id": "vbIpaZYORhe7",
        "colab_type": "code",
        "colab": {}
      },
      "source": [
        "df = illu.query_to_pandas(NUM_VARIANTS_PER_SAMPLE)"
      ],
      "execution_count": 0,
      "outputs": []
    },
    {
      "cell_type": "code",
      "metadata": {
        "id": "zs2ZdBEPSEQG",
        "colab_type": "code",
        "outputId": "1b926d3c-b14e-492a-ceee-eceea63fd3fc",
        "colab": {
          "base_uri": "https://localhost:8080/",
          "height": 214
        }
      },
      "source": [
        "df"
      ],
      "execution_count": 0,
      "outputs": [
        {
          "output_type": "execute_result",
          "data": {
            "application/vnd.google.colaboratory.module+javascript": "\n      import \"https://ssl.gstatic.com/colaboratory/data_table/9e554b27bdd509f3/data_table.js\";\n\n      window.createDataTable({\n        data: [[{\n            'v': 0,\n            'f': \"0\",\n        },\n\"NA12877\",\n{\n            'v': 6284275,\n            'f': \"6284275\",\n        }],\n [{\n            'v': 1,\n            'f': \"1\",\n        },\n\"NA12878\",\n{\n            'v': 6397315,\n            'f': \"6397315\",\n        }],\n [{\n            'v': 2,\n            'f': \"2\",\n        },\n\"NA12889\",\n{\n            'v': 6407532,\n            'f': \"6407532\",\n        }],\n [{\n            'v': 3,\n            'f': \"3\",\n        },\n\"NA12890\",\n{\n            'v': 6448600,\n            'f': \"6448600\",\n        }],\n [{\n            'v': 4,\n            'f': \"4\",\n        },\n\"NA12891\",\n{\n            'v': 6516669,\n            'f': \"6516669\",\n        }],\n [{\n            'v': 5,\n            'f': \"5\",\n        },\n\"NA12892\",\n{\n            'v': 6494997,\n            'f': \"6494997\",\n        }]],\n        columns: [[\"number\", \"index\"], [\"string\", \"call_name\"], [\"number\", \"call_count_for_call_set\"]],\n        columnOptions: [{\"width\": \"1px\", \"className\": \"index_column\"}],\n        rowsPerPage: 25,\n        helpUrl: \"https://colab.research.google.com/notebooks/data_table.ipynb\",\n      });\n    ",
            "text/html": [
              "<div>\n",
              "<style scoped>\n",
              "    .dataframe tbody tr th:only-of-type {\n",
              "        vertical-align: middle;\n",
              "    }\n",
              "\n",
              "    .dataframe tbody tr th {\n",
              "        vertical-align: top;\n",
              "    }\n",
              "\n",
              "    .dataframe thead th {\n",
              "        text-align: right;\n",
              "    }\n",
              "</style>\n",
              "<table border=\"1\" class=\"dataframe\">\n",
              "  <thead>\n",
              "    <tr style=\"text-align: right;\">\n",
              "      <th></th>\n",
              "      <th>call_name</th>\n",
              "      <th>call_count_for_call_set</th>\n",
              "    </tr>\n",
              "  </thead>\n",
              "  <tbody>\n",
              "    <tr>\n",
              "      <th>0</th>\n",
              "      <td>NA12877</td>\n",
              "      <td>6284275</td>\n",
              "    </tr>\n",
              "    <tr>\n",
              "      <th>1</th>\n",
              "      <td>NA12878</td>\n",
              "      <td>6397315</td>\n",
              "    </tr>\n",
              "    <tr>\n",
              "      <th>2</th>\n",
              "      <td>NA12889</td>\n",
              "      <td>6407532</td>\n",
              "    </tr>\n",
              "    <tr>\n",
              "      <th>3</th>\n",
              "      <td>NA12890</td>\n",
              "      <td>6448600</td>\n",
              "    </tr>\n",
              "    <tr>\n",
              "      <th>4</th>\n",
              "      <td>NA12891</td>\n",
              "      <td>6516669</td>\n",
              "    </tr>\n",
              "    <tr>\n",
              "      <th>5</th>\n",
              "      <td>NA12892</td>\n",
              "      <td>6494997</td>\n",
              "    </tr>\n",
              "  </tbody>\n",
              "</table>\n",
              "</div>"
            ],
            "text/plain": [
              "  call_name  call_count_for_call_set\n",
              "0   NA12877                  6284275\n",
              "1   NA12878                  6397315\n",
              "2   NA12889                  6407532\n",
              "3   NA12890                  6448600\n",
              "4   NA12891                  6516669\n",
              "5   NA12892                  6494997"
            ]
          },
          "metadata": {
            "tags": []
          },
          "execution_count": 73
        }
      ]
    },
    {
      "cell_type": "markdown",
      "metadata": {
        "id": "d_XAtuA-3DK8",
        "colab_type": "text"
      },
      "source": [
        "__Filtering true variants by genotype__"
      ]
    },
    {
      "cell_type": "code",
      "metadata": {
        "id": "XkRpuh84SEvV",
        "colab_type": "code",
        "colab": {}
      },
      "source": [
        "# filtering true variants by genotype\n",
        "# variants are no-calls, if genotype = -1\n",
        "# true variants for individuals have genotype > 0\n",
        "# if a call includes only no-call genotypes or reference genotypes (0), they are not true variants\n",
        "# BASED ON QUERY I ASSUME THAT WE CALL REFERENCE (GENOTYPE=0) VARIANTS AS WELL ???\n",
        "NUM_TRUE_VARIANTS_PER_SAMPLE = \"\"\"\n",
        "                                SELECT \n",
        "                                  call.name AS call_name,\n",
        "                                  COUNT(call.name) AS call_count_per_call_set\n",
        "                                FROM \n",
        "                                  `bigquery-public-data.human_genome_variants.platinum_genomes_deepvariant_variants_20180823` v, v.call\n",
        "                                WHERE\n",
        "                                  EXISTS (SELECT 1 FROM UNNEST(call.genotype) AS gt WHERE gt>0)\n",
        "                                  AND NOT EXISTS (SELECT 1 FROM UNNEST(call.genotype) AS gt WHERE gt<0)\n",
        "                                GROUP BY \n",
        "                                  call_name\n",
        "                                ORDER BY  \n",
        "                                  call_name\n",
        "                                \"\"\"\n",
        "# scan size 4.2399 GB, results in around 4.5 million true variants per call/samples"
      ],
      "execution_count": 0,
      "outputs": []
    },
    {
      "cell_type": "code",
      "metadata": {
        "id": "dbGyqWt5Vv9N",
        "colab_type": "code",
        "outputId": "4a2e0ced-4879-4834-a5d3-4e9b9cdd74f0",
        "colab": {
          "base_uri": "https://localhost:8080/",
          "height": 34
        }
      },
      "source": [
        "illu.estimate_query_size(NUM_TRUE_VARIANTS_PER_SAMPLE)"
      ],
      "execution_count": 0,
      "outputs": [
        {
          "output_type": "execute_result",
          "data": {
            "text/plain": [
              "4.239954333752394"
            ]
          },
          "metadata": {
            "tags": []
          },
          "execution_count": 76
        }
      ]
    },
    {
      "cell_type": "code",
      "metadata": {
        "id": "1-f5sjc2Vz_9",
        "colab_type": "code",
        "outputId": "5cee6655-6ad4-45c3-d350-6144ae9b6e07",
        "colab": {
          "base_uri": "https://localhost:8080/",
          "height": 214
        }
      },
      "source": [
        "df = illu.query_to_pandas(NUM_TRUE_VARIANTS_PER_SAMPLE)\n",
        "df"
      ],
      "execution_count": 0,
      "outputs": [
        {
          "output_type": "execute_result",
          "data": {
            "application/vnd.google.colaboratory.module+javascript": "\n      import \"https://ssl.gstatic.com/colaboratory/data_table/9e554b27bdd509f3/data_table.js\";\n\n      window.createDataTable({\n        data: [[{\n            'v': 0,\n            'f': \"0\",\n        },\n\"NA12877\",\n{\n            'v': 4486610,\n            'f': \"4486610\",\n        }],\n [{\n            'v': 1,\n            'f': \"1\",\n        },\n\"NA12878\",\n{\n            'v': 4502017,\n            'f': \"4502017\",\n        }],\n [{\n            'v': 2,\n            'f': \"2\",\n        },\n\"NA12889\",\n{\n            'v': 4422706,\n            'f': \"4422706\",\n        }],\n [{\n            'v': 3,\n            'f': \"3\",\n        },\n\"NA12890\",\n{\n            'v': 4528725,\n            'f': \"4528725\",\n        }],\n [{\n            'v': 4,\n            'f': \"4\",\n        },\n\"NA12891\",\n{\n            'v': 4424094,\n            'f': \"4424094\",\n        }],\n [{\n            'v': 5,\n            'f': \"5\",\n        },\n\"NA12892\",\n{\n            'v': 4495753,\n            'f': \"4495753\",\n        }]],\n        columns: [[\"number\", \"index\"], [\"string\", \"call_name\"], [\"number\", \"call_count_per_call_set\"]],\n        columnOptions: [{\"width\": \"1px\", \"className\": \"index_column\"}],\n        rowsPerPage: 25,\n        helpUrl: \"https://colab.research.google.com/notebooks/data_table.ipynb\",\n      });\n    ",
            "text/html": [
              "<div>\n",
              "<style scoped>\n",
              "    .dataframe tbody tr th:only-of-type {\n",
              "        vertical-align: middle;\n",
              "    }\n",
              "\n",
              "    .dataframe tbody tr th {\n",
              "        vertical-align: top;\n",
              "    }\n",
              "\n",
              "    .dataframe thead th {\n",
              "        text-align: right;\n",
              "    }\n",
              "</style>\n",
              "<table border=\"1\" class=\"dataframe\">\n",
              "  <thead>\n",
              "    <tr style=\"text-align: right;\">\n",
              "      <th></th>\n",
              "      <th>call_name</th>\n",
              "      <th>call_count_per_call_set</th>\n",
              "    </tr>\n",
              "  </thead>\n",
              "  <tbody>\n",
              "    <tr>\n",
              "      <th>0</th>\n",
              "      <td>NA12877</td>\n",
              "      <td>4486610</td>\n",
              "    </tr>\n",
              "    <tr>\n",
              "      <th>1</th>\n",
              "      <td>NA12878</td>\n",
              "      <td>4502017</td>\n",
              "    </tr>\n",
              "    <tr>\n",
              "      <th>2</th>\n",
              "      <td>NA12889</td>\n",
              "      <td>4422706</td>\n",
              "    </tr>\n",
              "    <tr>\n",
              "      <th>3</th>\n",
              "      <td>NA12890</td>\n",
              "      <td>4528725</td>\n",
              "    </tr>\n",
              "    <tr>\n",
              "      <th>4</th>\n",
              "      <td>NA12891</td>\n",
              "      <td>4424094</td>\n",
              "    </tr>\n",
              "    <tr>\n",
              "      <th>5</th>\n",
              "      <td>NA12892</td>\n",
              "      <td>4495753</td>\n",
              "    </tr>\n",
              "  </tbody>\n",
              "</table>\n",
              "</div>"
            ],
            "text/plain": [
              "  call_name  call_count_per_call_set\n",
              "0   NA12877                  4486610\n",
              "1   NA12878                  4502017\n",
              "2   NA12889                  4422706\n",
              "3   NA12890                  4528725\n",
              "4   NA12891                  4424094\n",
              "5   NA12892                  4495753"
            ]
          },
          "metadata": {
            "tags": []
          },
          "execution_count": 77
        }
      ]
    },
    {
      "cell_type": "markdown",
      "metadata": {
        "id": "AEe4qgQ33JSU",
        "colab_type": "text"
      },
      "source": [
        "## Count samples in the table"
      ]
    },
    {
      "cell_type": "code",
      "metadata": {
        "id": "m8EmYeh_WDhL",
        "colab_type": "code",
        "colab": {}
      },
      "source": [
        "# count number of samples (calls) in data set\n",
        "# scan size 1.5264 GB, returns 6\n",
        "NUM_SAMPLES = \"\"\"\n",
        "              SELECT\n",
        "                COUNT(DISTINCT(call.name)) AS num_callsets\n",
        "              FROM \n",
        "                `bigquery-public-data.human_genome_variants.platinum_genomes_deepvariant_variants_20180823` v, v.call\n",
        "              \"\"\""
      ],
      "execution_count": 0,
      "outputs": []
    },
    {
      "cell_type": "code",
      "metadata": {
        "id": "DdKwPVZOXb35",
        "colab_type": "code",
        "outputId": "4c99eba6-8714-4488-dd48-0c772d060dcd",
        "colab": {
          "base_uri": "https://localhost:8080/",
          "height": 34
        }
      },
      "source": [
        "illu.estimate_query_size(NUM_SAMPLES)"
      ],
      "execution_count": 0,
      "outputs": [
        {
          "output_type": "execute_result",
          "data": {
            "text/plain": [
              "1.5263835601508617"
            ]
          },
          "metadata": {
            "tags": []
          },
          "execution_count": 79
        }
      ]
    },
    {
      "cell_type": "code",
      "metadata": {
        "id": "Ksbydt4UXfzr",
        "colab_type": "code",
        "outputId": "62c9fd00-3630-4b02-f761-fd1a73aebe15",
        "colab": {
          "base_uri": "https://localhost:8080/",
          "height": 109
        }
      },
      "source": [
        "df = illu.query_to_pandas(NUM_SAMPLES)\n",
        "df"
      ],
      "execution_count": 0,
      "outputs": [
        {
          "output_type": "execute_result",
          "data": {
            "application/vnd.google.colaboratory.module+javascript": "\n      import \"https://ssl.gstatic.com/colaboratory/data_table/9e554b27bdd509f3/data_table.js\";\n\n      window.createDataTable({\n        data: [[{\n            'v': 0,\n            'f': \"0\",\n        },\n{\n            'v': 6,\n            'f': \"6\",\n        }]],\n        columns: [[\"number\", \"index\"], [\"number\", \"num_callsets\"]],\n        columnOptions: [{\"width\": \"1px\", \"className\": \"index_column\"}],\n        rowsPerPage: 25,\n        helpUrl: \"https://colab.research.google.com/notebooks/data_table.ipynb\",\n      });\n    ",
            "text/html": [
              "<div>\n",
              "<style scoped>\n",
              "    .dataframe tbody tr th:only-of-type {\n",
              "        vertical-align: middle;\n",
              "    }\n",
              "\n",
              "    .dataframe tbody tr th {\n",
              "        vertical-align: top;\n",
              "    }\n",
              "\n",
              "    .dataframe thead th {\n",
              "        text-align: right;\n",
              "    }\n",
              "</style>\n",
              "<table border=\"1\" class=\"dataframe\">\n",
              "  <thead>\n",
              "    <tr style=\"text-align: right;\">\n",
              "      <th></th>\n",
              "      <th>num_callsets</th>\n",
              "    </tr>\n",
              "  </thead>\n",
              "  <tbody>\n",
              "    <tr>\n",
              "      <th>0</th>\n",
              "      <td>6</td>\n",
              "    </tr>\n",
              "  </tbody>\n",
              "</table>\n",
              "</div>"
            ],
            "text/plain": [
              "   num_callsets\n",
              "0             6"
            ]
          },
          "metadata": {
            "tags": []
          },
          "execution_count": 80
        }
      ]
    },
    {
      "cell_type": "markdown",
      "metadata": {
        "id": "1ZTC5t9N3M4P",
        "colab_type": "text"
      },
      "source": [
        "## Count variants per chromosome"
      ]
    },
    {
      "cell_type": "code",
      "metadata": {
        "id": "vLm-ICS9XoWR",
        "colab_type": "code",
        "colab": {}
      },
      "source": [
        "# counting variants per chromosome\n",
        "# WHY DOES HERE ONLY ONE GT HAVE TO BE >0 FOR THE VARIANT TO BE A TRUE ONE?\n",
        "NUM_VARIANTS_PER_CHR =  \"\"\"\n",
        "                        SELECT \n",
        "                          reference_name,\n",
        "                          COUNT(reference_name) AS num_variant_rows\n",
        "                        FROM\n",
        "                          `bigquery-public-data.human_genome_variants.platinum_genomes_deepvariant_variants_20180823` v\n",
        "                        WHERE\n",
        "                          EXISTS (SELECT 1 \n",
        "                                  FROM \n",
        "                                    UNNEST(v.call) AS call, UNNEST(call.genotype) AS gt\n",
        "                                  WHERE\n",
        "                                    gt>0)\n",
        "                        GROUP BY\n",
        "                          reference_name\n",
        "                        ORDER BY\n",
        "                          CASE\n",
        "                            WHEN SAFE_CAST(REGEXP_REPLACE(reference_name, '^chr', '') AS INT64) < 10\n",
        "                              THEN CONCAT('0', REGEXP_REPLACE(reference_name, '^chr', ''))\n",
        "                              ELSE REGEXP_REPLACE(reference_name, '^chr', '')\n",
        "                          END\n",
        "                        \"\"\"\n",
        "# scan size 3.341 GB, returns number of (true) variants per chr (max. 615000 for chr, min. 15357 for chrY )"
      ],
      "execution_count": 0,
      "outputs": []
    },
    {
      "cell_type": "code",
      "metadata": {
        "id": "D0kDmEeschlv",
        "colab_type": "code",
        "outputId": "d9546590-5ad8-4774-90cf-ff5032f95ea5",
        "colab": {
          "base_uri": "https://localhost:8080/",
          "height": 34
        }
      },
      "source": [
        "illu.estimate_query_size(NUM_VARIANTS_PER_CHR)"
      ],
      "execution_count": 0,
      "outputs": [
        {
          "output_type": "execute_result",
          "data": {
            "text/plain": [
              "3.341447635553777"
            ]
          },
          "metadata": {
            "tags": []
          },
          "execution_count": 85
        }
      ]
    },
    {
      "cell_type": "code",
      "metadata": {
        "id": "LJgLIjczcszf",
        "colab_type": "code",
        "outputId": "da176129-608d-486b-a27a-07e34db571c5",
        "colab": {
          "base_uri": "https://localhost:8080/",
          "height": 592
        }
      },
      "source": [
        "df = illu.query_to_pandas(NUM_VARIANTS_PER_CHR)\n",
        "df"
      ],
      "execution_count": 0,
      "outputs": [
        {
          "output_type": "execute_result",
          "data": {
            "application/vnd.google.colaboratory.module+javascript": "\n      import \"https://ssl.gstatic.com/colaboratory/data_table/9e554b27bdd509f3/data_table.js\";\n\n      window.createDataTable({\n        data: [[{\n            'v': 0,\n            'f': \"0\",\n        },\n\"chr1\",\n{\n            'v': 615000,\n            'f': \"615000\",\n        }],\n [{\n            'v': 1,\n            'f': \"1\",\n        },\n\"chr2\",\n{\n            'v': 646401,\n            'f': \"646401\",\n        }],\n [{\n            'v': 2,\n            'f': \"2\",\n        },\n\"chr3\",\n{\n            'v': 542315,\n            'f': \"542315\",\n        }],\n [{\n            'v': 3,\n            'f': \"3\",\n        },\n\"chr4\",\n{\n            'v': 578600,\n            'f': \"578600\",\n        }],\n [{\n            'v': 4,\n            'f': \"4\",\n        },\n\"chr5\",\n{\n            'v': 496202,\n            'f': \"496202\",\n        }],\n [{\n            'v': 5,\n            'f': \"5\",\n        },\n\"chr6\",\n{\n            'v': 512152,\n            'f': \"512152\",\n        }],\n [{\n            'v': 6,\n            'f': \"6\",\n        },\n\"chr7\",\n{\n            'v': 459506,\n            'f': \"459506\",\n        }],\n [{\n            'v': 7,\n            'f': \"7\",\n        },\n\"chr8\",\n{\n            'v': 416376,\n            'f': \"416376\",\n        }],\n [{\n            'v': 8,\n            'f': \"8\",\n        },\n\"chr9\",\n{\n            'v': 344985,\n            'f': \"344985\",\n        }],\n [{\n            'v': 9,\n            'f': \"9\",\n        },\n\"chr10\",\n{\n            'v': 396773,\n            'f': \"396773\",\n        }],\n [{\n            'v': 10,\n            'f': \"10\",\n        },\n\"chr11\",\n{\n            'v': 391260,\n            'f': \"391260\",\n        }],\n [{\n            'v': 11,\n            'f': \"11\",\n        },\n\"chr12\",\n{\n            'v': 382841,\n            'f': \"382841\",\n        }],\n [{\n            'v': 12,\n            'f': \"12\",\n        },\n\"chr13\",\n{\n            'v': 298044,\n            'f': \"298044\",\n        }],\n [{\n            'v': 13,\n            'f': \"13\",\n        },\n\"chr14\",\n{\n            'v': 258756,\n            'f': \"258756\",\n        }],\n [{\n            'v': 14,\n            'f': \"14\",\n        },\n\"chr15\",\n{\n            'v': 234569,\n            'f': \"234569\",\n        }],\n [{\n            'v': 15,\n            'f': \"15\",\n        },\n\"chr16\",\n{\n            'v': 247671,\n            'f': \"247671\",\n        }],\n [{\n            'v': 16,\n            'f': \"16\",\n        },\n\"chr17\",\n{\n            'v': 224403,\n            'f': \"224403\",\n        }],\n [{\n            'v': 17,\n            'f': \"17\",\n        },\n\"chr18\",\n{\n            'v': 227200,\n            'f': \"227200\",\n        }],\n [{\n            'v': 18,\n            'f': \"18\",\n        },\n\"chr19\",\n{\n            'v': 192538,\n            'f': \"192538\",\n        }],\n [{\n            'v': 19,\n            'f': \"19\",\n        },\n\"chr20\",\n{\n            'v': 168958,\n            'f': \"168958\",\n        }],\n [{\n            'v': 20,\n            'f': \"20\",\n        },\n\"chr21\",\n{\n            'v': 121882,\n            'f': \"121882\",\n        }],\n [{\n            'v': 21,\n            'f': \"21\",\n        },\n\"chr22\",\n{\n            'v': 112338,\n            'f': \"112338\",\n        }],\n [{\n            'v': 22,\n            'f': \"22\",\n        },\n\"chrX\",\n{\n            'v': 231125,\n            'f': \"231125\",\n        }],\n [{\n            'v': 23,\n            'f': \"23\",\n        },\n\"chrY\",\n{\n            'v': 15357,\n            'f': \"15357\",\n        }]],\n        columns: [[\"number\", \"index\"], [\"string\", \"reference_name\"], [\"number\", \"num_variant_rows\"]],\n        columnOptions: [{\"width\": \"1px\", \"className\": \"index_column\"}],\n        rowsPerPage: 25,\n        helpUrl: \"https://colab.research.google.com/notebooks/data_table.ipynb\",\n      });\n    ",
            "text/html": [
              "<div>\n",
              "<style scoped>\n",
              "    .dataframe tbody tr th:only-of-type {\n",
              "        vertical-align: middle;\n",
              "    }\n",
              "\n",
              "    .dataframe tbody tr th {\n",
              "        vertical-align: top;\n",
              "    }\n",
              "\n",
              "    .dataframe thead th {\n",
              "        text-align: right;\n",
              "    }\n",
              "</style>\n",
              "<table border=\"1\" class=\"dataframe\">\n",
              "  <thead>\n",
              "    <tr style=\"text-align: right;\">\n",
              "      <th></th>\n",
              "      <th>reference_name</th>\n",
              "      <th>num_variant_rows</th>\n",
              "    </tr>\n",
              "  </thead>\n",
              "  <tbody>\n",
              "    <tr>\n",
              "      <th>0</th>\n",
              "      <td>chr1</td>\n",
              "      <td>615000</td>\n",
              "    </tr>\n",
              "    <tr>\n",
              "      <th>1</th>\n",
              "      <td>chr2</td>\n",
              "      <td>646401</td>\n",
              "    </tr>\n",
              "    <tr>\n",
              "      <th>2</th>\n",
              "      <td>chr3</td>\n",
              "      <td>542315</td>\n",
              "    </tr>\n",
              "    <tr>\n",
              "      <th>3</th>\n",
              "      <td>chr4</td>\n",
              "      <td>578600</td>\n",
              "    </tr>\n",
              "    <tr>\n",
              "      <th>4</th>\n",
              "      <td>chr5</td>\n",
              "      <td>496202</td>\n",
              "    </tr>\n",
              "    <tr>\n",
              "      <th>5</th>\n",
              "      <td>chr6</td>\n",
              "      <td>512152</td>\n",
              "    </tr>\n",
              "    <tr>\n",
              "      <th>6</th>\n",
              "      <td>chr7</td>\n",
              "      <td>459506</td>\n",
              "    </tr>\n",
              "    <tr>\n",
              "      <th>7</th>\n",
              "      <td>chr8</td>\n",
              "      <td>416376</td>\n",
              "    </tr>\n",
              "    <tr>\n",
              "      <th>8</th>\n",
              "      <td>chr9</td>\n",
              "      <td>344985</td>\n",
              "    </tr>\n",
              "    <tr>\n",
              "      <th>9</th>\n",
              "      <td>chr10</td>\n",
              "      <td>396773</td>\n",
              "    </tr>\n",
              "    <tr>\n",
              "      <th>10</th>\n",
              "      <td>chr11</td>\n",
              "      <td>391260</td>\n",
              "    </tr>\n",
              "    <tr>\n",
              "      <th>11</th>\n",
              "      <td>chr12</td>\n",
              "      <td>382841</td>\n",
              "    </tr>\n",
              "    <tr>\n",
              "      <th>12</th>\n",
              "      <td>chr13</td>\n",
              "      <td>298044</td>\n",
              "    </tr>\n",
              "    <tr>\n",
              "      <th>13</th>\n",
              "      <td>chr14</td>\n",
              "      <td>258756</td>\n",
              "    </tr>\n",
              "    <tr>\n",
              "      <th>14</th>\n",
              "      <td>chr15</td>\n",
              "      <td>234569</td>\n",
              "    </tr>\n",
              "    <tr>\n",
              "      <th>15</th>\n",
              "      <td>chr16</td>\n",
              "      <td>247671</td>\n",
              "    </tr>\n",
              "    <tr>\n",
              "      <th>16</th>\n",
              "      <td>chr17</td>\n",
              "      <td>224403</td>\n",
              "    </tr>\n",
              "    <tr>\n",
              "      <th>17</th>\n",
              "      <td>chr18</td>\n",
              "      <td>227200</td>\n",
              "    </tr>\n",
              "    <tr>\n",
              "      <th>18</th>\n",
              "      <td>chr19</td>\n",
              "      <td>192538</td>\n",
              "    </tr>\n",
              "    <tr>\n",
              "      <th>19</th>\n",
              "      <td>chr20</td>\n",
              "      <td>168958</td>\n",
              "    </tr>\n",
              "    <tr>\n",
              "      <th>20</th>\n",
              "      <td>chr21</td>\n",
              "      <td>121882</td>\n",
              "    </tr>\n",
              "    <tr>\n",
              "      <th>21</th>\n",
              "      <td>chr22</td>\n",
              "      <td>112338</td>\n",
              "    </tr>\n",
              "    <tr>\n",
              "      <th>22</th>\n",
              "      <td>chrX</td>\n",
              "      <td>231125</td>\n",
              "    </tr>\n",
              "    <tr>\n",
              "      <th>23</th>\n",
              "      <td>chrY</td>\n",
              "      <td>15357</td>\n",
              "    </tr>\n",
              "  </tbody>\n",
              "</table>\n",
              "</div>"
            ],
            "text/plain": [
              "   reference_name  num_variant_rows\n",
              "0            chr1            615000\n",
              "1            chr2            646401\n",
              "2            chr3            542315\n",
              "3            chr4            578600\n",
              "4            chr5            496202\n",
              "5            chr6            512152\n",
              "6            chr7            459506\n",
              "7            chr8            416376\n",
              "8            chr9            344985\n",
              "9           chr10            396773\n",
              "10          chr11            391260\n",
              "11          chr12            382841\n",
              "12          chr13            298044\n",
              "13          chr14            258756\n",
              "14          chr15            234569\n",
              "15          chr16            247671\n",
              "16          chr17            224403\n",
              "17          chr18            227200\n",
              "18          chr19            192538\n",
              "19          chr20            168958\n",
              "20          chr21            121882\n",
              "21          chr22            112338\n",
              "22           chrX            231125\n",
              "23           chrY             15357"
            ]
          },
          "metadata": {
            "tags": []
          },
          "execution_count": 86
        }
      ]
    },
    {
      "cell_type": "markdown",
      "metadata": {
        "id": "W0Xnx_d23VS6",
        "colab_type": "text"
      },
      "source": [
        "## Count high-quality variants per sample\n",
        "__Querying calls with multiple FILTER values__"
      ]
    },
    {
      "cell_type": "code",
      "metadata": {
        "id": "cURlTIPEdAMy",
        "colab_type": "code",
        "colab": {}
      },
      "source": [
        "# counting high-quality calls per sample\n",
        "# filter column labels variant calls of differing qualities (list of failed filters or PASS if HQ)\n",
        "NUM_VARIANTS_PER_FILTER =   \"\"\"\n",
        "                            SELECT\n",
        "                              call_filter,\n",
        "                              COUNT(call_filter) AS number_of_calls\n",
        "                            FROM\n",
        "                              `bigquery-public-data.human_genome_variants.platinum_genomes_deepvariant_variants_20180823` v,\n",
        "                              v.call,\n",
        "                              UNNEST(call.FILTER) AS call_filter\n",
        "                            GROUP BY\n",
        "                              call_filter\n",
        "                            ORDER BY\n",
        "                              number_of_calls\n",
        "                            \"\"\"\n",
        "# scan size 0.248 GB, returns 11681534 counts for RefCall and 26867854 for PASS"
      ],
      "execution_count": 0,
      "outputs": []
    },
    {
      "cell_type": "code",
      "metadata": {
        "id": "9eKMuli4gP9z",
        "colab_type": "code",
        "outputId": "714db858-21fe-46c5-8d33-b5a89ff1220a",
        "colab": {
          "base_uri": "https://localhost:8080/",
          "height": 34
        }
      },
      "source": [
        "illu.estimate_query_size(NUM_VARIANTS_PER_FILTER)"
      ],
      "execution_count": 0,
      "outputs": [
        {
          "output_type": "execute_result",
          "data": {
            "text/plain": [
              "0.24804932065308094"
            ]
          },
          "metadata": {
            "tags": []
          },
          "execution_count": 88
        }
      ]
    },
    {
      "cell_type": "code",
      "metadata": {
        "id": "ly-qj2iEgT65",
        "colab_type": "code",
        "outputId": "e472124b-3c7b-41b7-fc0c-6478d24edaa1",
        "colab": {
          "base_uri": "https://localhost:8080/",
          "height": 130
        }
      },
      "source": [
        "df = illu.query_to_pandas(NUM_VARIANTS_PER_FILTER)\n",
        "df"
      ],
      "execution_count": 0,
      "outputs": [
        {
          "output_type": "execute_result",
          "data": {
            "application/vnd.google.colaboratory.module+javascript": "\n      import \"https://ssl.gstatic.com/colaboratory/data_table/9e554b27bdd509f3/data_table.js\";\n\n      window.createDataTable({\n        data: [[{\n            'v': 0,\n            'f': \"0\",\n        },\n\"RefCall\",\n{\n            'v': 11681534,\n            'f': \"11681534\",\n        }],\n [{\n            'v': 1,\n            'f': \"1\",\n        },\n\"PASS\",\n{\n            'v': 26867854,\n            'f': \"26867854\",\n        }]],\n        columns: [[\"number\", \"index\"], [\"string\", \"call_filter\"], [\"number\", \"number_of_calls\"]],\n        columnOptions: [{\"width\": \"1px\", \"className\": \"index_column\"}],\n        rowsPerPage: 25,\n        helpUrl: \"https://colab.research.google.com/notebooks/data_table.ipynb\",\n      });\n    ",
            "text/html": [
              "<div>\n",
              "<style scoped>\n",
              "    .dataframe tbody tr th:only-of-type {\n",
              "        vertical-align: middle;\n",
              "    }\n",
              "\n",
              "    .dataframe tbody tr th {\n",
              "        vertical-align: top;\n",
              "    }\n",
              "\n",
              "    .dataframe thead th {\n",
              "        text-align: right;\n",
              "    }\n",
              "</style>\n",
              "<table border=\"1\" class=\"dataframe\">\n",
              "  <thead>\n",
              "    <tr style=\"text-align: right;\">\n",
              "      <th></th>\n",
              "      <th>call_filter</th>\n",
              "      <th>number_of_calls</th>\n",
              "    </tr>\n",
              "  </thead>\n",
              "  <tbody>\n",
              "    <tr>\n",
              "      <th>0</th>\n",
              "      <td>RefCall</td>\n",
              "      <td>11681534</td>\n",
              "    </tr>\n",
              "    <tr>\n",
              "      <th>1</th>\n",
              "      <td>PASS</td>\n",
              "      <td>26867854</td>\n",
              "    </tr>\n",
              "  </tbody>\n",
              "</table>\n",
              "</div>"
            ],
            "text/plain": [
              "  call_filter  number_of_calls\n",
              "0     RefCall         11681534\n",
              "1        PASS         26867854"
            ]
          },
          "metadata": {
            "tags": []
          },
          "execution_count": 89
        }
      ]
    },
    {
      "cell_type": "markdown",
      "metadata": {
        "id": "kYLlFVI73gMh",
        "colab_type": "text"
      },
      "source": [
        "__FILTERing for high quality variant calls__"
      ]
    },
    {
      "cell_type": "code",
      "metadata": {
        "id": "Rnr5rPTAga-P",
        "colab_type": "code",
        "colab": {}
      },
      "source": [
        "# proof that if a variant call passed all qualities filters (filter=PASS), the filter field does not contain any other value\n",
        "PASS_IS_PASS =  \"\"\"\n",
        "                SELECT\n",
        "                  reference_name,\n",
        "                  start_position,\n",
        "                  end_position,\n",
        "                  reference_bases,\n",
        "                  call.name AS call_name,\n",
        "                  (SELECT STRING_AGG(call_filter) FROM UNNEST(call.FILTER) AS call_filter) AS filters,\n",
        "                  ARRAY_LENGTH(call.FILTER) AS filter_count\n",
        "                FROM\n",
        "                  `bigquery-public-data.human_genome_variants.platinum_genomes_deepvariant_variants_20180823` v, v.call\n",
        "                WHERE\n",
        "                  EXISTS (SELECT 1 FROM UNNEST(call.FILTER) AS call_filter WHERE call_filter = 'PASS')\n",
        "                  AND ARRAY_LENGTH(call.FILTER) > 1\n",
        "                ORDER BY\n",
        "                  filter_count DESC, reference_name, start_position, end_position, reference_bases, call_name\n",
        "                LIMIT\n",
        "                  10\n",
        "                \"\"\"\n",
        "# scan size 4.28 GB, returns None"
      ],
      "execution_count": 0,
      "outputs": []
    },
    {
      "cell_type": "code",
      "metadata": {
        "id": "Vje8IO4Zik7X",
        "colab_type": "code",
        "outputId": "f482440e-8086-476e-c6c6-575b945cd59c",
        "colab": {
          "base_uri": "https://localhost:8080/",
          "height": 34
        }
      },
      "source": [
        "illu.estimate_query_size(PASS_IS_PASS)"
      ],
      "execution_count": 0,
      "outputs": [
        {
          "output_type": "execute_result",
          "data": {
            "text/plain": [
              "4.281298340298235"
            ]
          },
          "metadata": {
            "tags": []
          },
          "execution_count": 91
        }
      ]
    },
    {
      "cell_type": "code",
      "metadata": {
        "id": "fC7d1fDxir2c",
        "colab_type": "code",
        "outputId": "4721967e-e510-43bf-8f53-5e975705e521",
        "colab": {
          "base_uri": "https://localhost:8080/",
          "height": 88
        }
      },
      "source": [
        "df = illu.query_to_pandas(PASS_IS_PASS)\n",
        "df"
      ],
      "execution_count": 0,
      "outputs": [
        {
          "output_type": "execute_result",
          "data": {
            "application/vnd.google.colaboratory.module+javascript": "\n      import \"https://ssl.gstatic.com/colaboratory/data_table/9e554b27bdd509f3/data_table.js\";\n\n      window.createDataTable({\n        data: [],\n        columns: [[\"number\", \"index\"], [\"number\", \"reference_name\"], [\"number\", \"start_position\"], [\"number\", \"end_position\"], [\"number\", \"reference_bases\"], [\"number\", \"call_name\"], [\"number\", \"filters\"], [\"number\", \"filter_count\"]],\n        columnOptions: [{\"width\": \"1px\", \"className\": \"index_column\"}],\n        rowsPerPage: 25,\n        helpUrl: \"https://colab.research.google.com/notebooks/data_table.ipynb\",\n      });\n    ",
            "text/html": [
              "<div>\n",
              "<style scoped>\n",
              "    .dataframe tbody tr th:only-of-type {\n",
              "        vertical-align: middle;\n",
              "    }\n",
              "\n",
              "    .dataframe tbody tr th {\n",
              "        vertical-align: top;\n",
              "    }\n",
              "\n",
              "    .dataframe thead th {\n",
              "        text-align: right;\n",
              "    }\n",
              "</style>\n",
              "<table border=\"1\" class=\"dataframe\">\n",
              "  <thead>\n",
              "    <tr style=\"text-align: right;\">\n",
              "      <th></th>\n",
              "      <th>reference_name</th>\n",
              "      <th>start_position</th>\n",
              "      <th>end_position</th>\n",
              "      <th>reference_bases</th>\n",
              "      <th>call_name</th>\n",
              "      <th>filters</th>\n",
              "      <th>filter_count</th>\n",
              "    </tr>\n",
              "  </thead>\n",
              "  <tbody>\n",
              "  </tbody>\n",
              "</table>\n",
              "</div>"
            ],
            "text/plain": [
              "Empty DataFrame\n",
              "Columns: [reference_name, start_position, end_position, reference_bases, call_name, filters, filter_count]\n",
              "Index: []"
            ]
          },
          "metadata": {
            "tags": []
          },
          "execution_count": 92
        }
      ]
    },
    {
      "cell_type": "markdown",
      "metadata": {
        "id": "Muv8eSXa3i_H",
        "colab_type": "text"
      },
      "source": [
        "__Counting all high quality calls for each sample__"
      ]
    },
    {
      "cell_type": "code",
      "metadata": {
        "id": "9-h9fbT4izHn",
        "colab_type": "code",
        "colab": {}
      },
      "source": [
        "# counting all high-quality calls for each sample\n",
        "NUM_HQ_PER_SAMPLE = \"\"\"\n",
        "                    SELECT\n",
        "                      call.name AS call_name,\n",
        "                      COUNT(1) AS num_of_calls\n",
        "                    FROM \n",
        "                      `bigquery-public-data.human_genome_variants.platinum_genomes_deepvariant_variants_20180823` v, v.call\n",
        "                    WHERE\n",
        "                      NOT EXISTS (SELECT 1 FROM UNNEST(call.FILTER) AS call_filter WHERE call_filter != 'PASS')\n",
        "                    GROUP BY\n",
        "                      call_name\n",
        "                    ORDER BY\n",
        "                      call_name\n",
        "                    \"\"\"\n",
        "# scan size 1.774 GB, returns number of hq calls per sample min/max?"
      ],
      "execution_count": 0,
      "outputs": []
    },
    {
      "cell_type": "code",
      "metadata": {
        "id": "gcTzmyE4kqbu",
        "colab_type": "code",
        "outputId": "ca646214-267f-4e47-c00e-650922c6f93e",
        "colab": {
          "base_uri": "https://localhost:8080/",
          "height": 34
        }
      },
      "source": [
        "illu.estimate_query_size(NUM_HQ_PER_SAMPLE)"
      ],
      "execution_count": 0,
      "outputs": [
        {
          "output_type": "execute_result",
          "data": {
            "text/plain": [
              "1.7744328808039427"
            ]
          },
          "metadata": {
            "tags": []
          },
          "execution_count": 94
        }
      ]
    },
    {
      "cell_type": "code",
      "metadata": {
        "id": "L_nUGFivktvT",
        "colab_type": "code",
        "outputId": "488ba6d3-5699-4b38-d228-6ebd1c37d441",
        "colab": {
          "base_uri": "https://localhost:8080/",
          "height": 214
        }
      },
      "source": [
        "df = illu.query_to_pandas(NUM_HQ_PER_SAMPLE)\n",
        "df"
      ],
      "execution_count": 0,
      "outputs": [
        {
          "output_type": "execute_result",
          "data": {
            "application/vnd.google.colaboratory.module+javascript": "\n      import \"https://ssl.gstatic.com/colaboratory/data_table/9e554b27bdd509f3/data_table.js\";\n\n      window.createDataTable({\n        data: [[{\n            'v': 0,\n            'f': \"0\",\n        },\n\"NA12877\",\n{\n            'v': 29795946,\n            'f': \"29795946\",\n        }],\n [{\n            'v': 1,\n            'f': \"1\",\n        },\n\"NA12878\",\n{\n            'v': 26118774,\n            'f': \"26118774\",\n        }],\n [{\n            'v': 2,\n            'f': \"2\",\n        },\n\"NA12889\",\n{\n            'v': 29044992,\n            'f': \"29044992\",\n        }],\n [{\n            'v': 3,\n            'f': \"3\",\n        },\n\"NA12890\",\n{\n            'v': 28717437,\n            'f': \"28717437\",\n        }],\n [{\n            'v': 4,\n            'f': \"4\",\n        },\n\"NA12891\",\n{\n            'v': 31395995,\n            'f': \"31395995\",\n        }],\n [{\n            'v': 5,\n            'f': \"5\",\n        },\n\"NA12892\",\n{\n            'v': 25349974,\n            'f': \"25349974\",\n        }]],\n        columns: [[\"number\", \"index\"], [\"string\", \"call_name\"], [\"number\", \"num_of_calls\"]],\n        columnOptions: [{\"width\": \"1px\", \"className\": \"index_column\"}],\n        rowsPerPage: 25,\n        helpUrl: \"https://colab.research.google.com/notebooks/data_table.ipynb\",\n      });\n    ",
            "text/html": [
              "<div>\n",
              "<style scoped>\n",
              "    .dataframe tbody tr th:only-of-type {\n",
              "        vertical-align: middle;\n",
              "    }\n",
              "\n",
              "    .dataframe tbody tr th {\n",
              "        vertical-align: top;\n",
              "    }\n",
              "\n",
              "    .dataframe thead th {\n",
              "        text-align: right;\n",
              "    }\n",
              "</style>\n",
              "<table border=\"1\" class=\"dataframe\">\n",
              "  <thead>\n",
              "    <tr style=\"text-align: right;\">\n",
              "      <th></th>\n",
              "      <th>call_name</th>\n",
              "      <th>num_of_calls</th>\n",
              "    </tr>\n",
              "  </thead>\n",
              "  <tbody>\n",
              "    <tr>\n",
              "      <th>0</th>\n",
              "      <td>NA12877</td>\n",
              "      <td>29795946</td>\n",
              "    </tr>\n",
              "    <tr>\n",
              "      <th>1</th>\n",
              "      <td>NA12878</td>\n",
              "      <td>26118774</td>\n",
              "    </tr>\n",
              "    <tr>\n",
              "      <th>2</th>\n",
              "      <td>NA12889</td>\n",
              "      <td>29044992</td>\n",
              "    </tr>\n",
              "    <tr>\n",
              "      <th>3</th>\n",
              "      <td>NA12890</td>\n",
              "      <td>28717437</td>\n",
              "    </tr>\n",
              "    <tr>\n",
              "      <th>4</th>\n",
              "      <td>NA12891</td>\n",
              "      <td>31395995</td>\n",
              "    </tr>\n",
              "    <tr>\n",
              "      <th>5</th>\n",
              "      <td>NA12892</td>\n",
              "      <td>25349974</td>\n",
              "    </tr>\n",
              "  </tbody>\n",
              "</table>\n",
              "</div>"
            ],
            "text/plain": [
              "  call_name  num_of_calls\n",
              "0   NA12877      29795946\n",
              "1   NA12878      26118774\n",
              "2   NA12889      29044992\n",
              "3   NA12890      28717437\n",
              "4   NA12891      31395995\n",
              "5   NA12892      25349974"
            ]
          },
          "metadata": {
            "tags": []
          },
          "execution_count": 95
        }
      ]
    },
    {
      "cell_type": "markdown",
      "metadata": {
        "id": "QHL4jfG-3mbC",
        "colab_type": "text"
      },
      "source": [
        "__Counting all high quality true variant calls for each sample__"
      ]
    },
    {
      "cell_type": "code",
      "metadata": {
        "id": "BoGO0yG4kzIw",
        "colab_type": "code",
        "colab": {}
      },
      "source": [
        "# counting hq true variant calls per sample\n",
        "NUM_HQ_TRUE_V_PER_SAMPLE =  \"\"\"\n",
        "                            SELECT\n",
        "                              call.name AS call_name,\n",
        "                              COUNT(1) AS num_calls\n",
        "                            FROM \n",
        "                              `bigquery-public-data.human_genome_variants.platinum_genomes_deepvariant_variants_20180823` v, v.call\n",
        "                            WHERE\n",
        "                              NOT EXISTS (SELECT 1 FROM UNNEST(call.FILTER) AS call_filter WHERE call_filter != 'PASS')\n",
        "                              AND EXISTS (SELECT 1 FROM UNNEST(call.genotype) AS gt WHERE gt>0)\n",
        "                            GROUP BY\n",
        "                              call_name\n",
        "                            ORDER BY\n",
        "                              call_name\n",
        "                            \"\"\"\n",
        "# scan size 4.488 GB, returns the same table as NUM_TRUE_VARIANTS_PER_SAMPLE (seems like all true variants are also HQ)"
      ],
      "execution_count": 0,
      "outputs": []
    },
    {
      "cell_type": "code",
      "metadata": {
        "id": "5EhliTvAm6JC",
        "colab_type": "code",
        "outputId": "74d0fd41-4653-4712-d840-91ccbdf096c9",
        "colab": {
          "base_uri": "https://localhost:8080/",
          "height": 34
        }
      },
      "source": [
        "illu.estimate_query_size(NUM_HQ_TRUE_V_PER_SAMPLE)"
      ],
      "execution_count": 0,
      "outputs": [
        {
          "output_type": "execute_result",
          "data": {
            "text/plain": [
              "4.488003654405475"
            ]
          },
          "metadata": {
            "tags": []
          },
          "execution_count": 99
        }
      ]
    },
    {
      "cell_type": "code",
      "metadata": {
        "id": "gVtYygr7m89Y",
        "colab_type": "code",
        "outputId": "c2a2e998-57b3-43ad-ba0b-5437c2471b02",
        "colab": {
          "base_uri": "https://localhost:8080/",
          "height": 214
        }
      },
      "source": [
        "df = illu.query_to_pandas(NUM_HQ_TRUE_V_PER_SAMPLE)\n",
        "df"
      ],
      "execution_count": 0,
      "outputs": [
        {
          "output_type": "execute_result",
          "data": {
            "application/vnd.google.colaboratory.module+javascript": "\n      import \"https://ssl.gstatic.com/colaboratory/data_table/9e554b27bdd509f3/data_table.js\";\n\n      window.createDataTable({\n        data: [[{\n            'v': 0,\n            'f': \"0\",\n        },\n\"NA12877\",\n{\n            'v': 4486610,\n            'f': \"4486610\",\n        }],\n [{\n            'v': 1,\n            'f': \"1\",\n        },\n\"NA12878\",\n{\n            'v': 4502017,\n            'f': \"4502017\",\n        }],\n [{\n            'v': 2,\n            'f': \"2\",\n        },\n\"NA12889\",\n{\n            'v': 4422706,\n            'f': \"4422706\",\n        }],\n [{\n            'v': 3,\n            'f': \"3\",\n        },\n\"NA12890\",\n{\n            'v': 4528725,\n            'f': \"4528725\",\n        }],\n [{\n            'v': 4,\n            'f': \"4\",\n        },\n\"NA12891\",\n{\n            'v': 4424094,\n            'f': \"4424094\",\n        }],\n [{\n            'v': 5,\n            'f': \"5\",\n        },\n\"NA12892\",\n{\n            'v': 4495753,\n            'f': \"4495753\",\n        }]],\n        columns: [[\"number\", \"index\"], [\"string\", \"call_name\"], [\"number\", \"num_calls\"]],\n        columnOptions: [{\"width\": \"1px\", \"className\": \"index_column\"}],\n        rowsPerPage: 25,\n        helpUrl: \"https://colab.research.google.com/notebooks/data_table.ipynb\",\n      });\n    ",
            "text/html": [
              "<div>\n",
              "<style scoped>\n",
              "    .dataframe tbody tr th:only-of-type {\n",
              "        vertical-align: middle;\n",
              "    }\n",
              "\n",
              "    .dataframe tbody tr th {\n",
              "        vertical-align: top;\n",
              "    }\n",
              "\n",
              "    .dataframe thead th {\n",
              "        text-align: right;\n",
              "    }\n",
              "</style>\n",
              "<table border=\"1\" class=\"dataframe\">\n",
              "  <thead>\n",
              "    <tr style=\"text-align: right;\">\n",
              "      <th></th>\n",
              "      <th>call_name</th>\n",
              "      <th>num_calls</th>\n",
              "    </tr>\n",
              "  </thead>\n",
              "  <tbody>\n",
              "    <tr>\n",
              "      <th>0</th>\n",
              "      <td>NA12877</td>\n",
              "      <td>4486610</td>\n",
              "    </tr>\n",
              "    <tr>\n",
              "      <th>1</th>\n",
              "      <td>NA12878</td>\n",
              "      <td>4502017</td>\n",
              "    </tr>\n",
              "    <tr>\n",
              "      <th>2</th>\n",
              "      <td>NA12889</td>\n",
              "      <td>4422706</td>\n",
              "    </tr>\n",
              "    <tr>\n",
              "      <th>3</th>\n",
              "      <td>NA12890</td>\n",
              "      <td>4528725</td>\n",
              "    </tr>\n",
              "    <tr>\n",
              "      <th>4</th>\n",
              "      <td>NA12891</td>\n",
              "      <td>4424094</td>\n",
              "    </tr>\n",
              "    <tr>\n",
              "      <th>5</th>\n",
              "      <td>NA12892</td>\n",
              "      <td>4495753</td>\n",
              "    </tr>\n",
              "  </tbody>\n",
              "</table>\n",
              "</div>"
            ],
            "text/plain": [
              "  call_name  num_calls\n",
              "0   NA12877    4486610\n",
              "1   NA12878    4502017\n",
              "2   NA12889    4422706\n",
              "3   NA12890    4528725\n",
              "4   NA12891    4424094\n",
              "5   NA12892    4495753"
            ]
          },
          "metadata": {
            "tags": []
          },
          "execution_count": 100
        }
      ]
    },
    {
      "cell_type": "markdown",
      "metadata": {
        "id": "KbQBvPRk3pE7",
        "colab_type": "text"
      },
      "source": [
        "## Best practices\n",
        "__Condesing queries__"
      ]
    },
    {
      "cell_type": "code",
      "metadata": {
        "id": "2xDA9aG-nIpK",
        "colab_type": "code",
        "colab": {}
      },
      "source": [
        "# Best practices - condensing queries\n",
        "# from here step-wise to NUM_VARIANTS_PER_CHR query\n",
        "NUM_VARAINTS_PER_CHR_CNDSD1 =  \"\"\"\n",
        "                              SELECT\n",
        "                                reference_name,\n",
        "                                COUNT(reference_name) AS number_of_variant_rows\n",
        "                              FROM\n",
        "                                `bigquery-public-data.human_genome_variants.platinum_genomes_deepvariant_variants_20180823` v\n",
        "                              WHERE\n",
        "                                EXISTS (SELECT 1\n",
        "                                          FROM UNNEST(v.call) AS call\n",
        "                                        WHERE EXISTS (SELECT 1\n",
        "                                                        FROM UNNEST(call.genotype) AS gt\n",
        "                                                      WHERE gt > 0))\n",
        "                              GROUP BY\n",
        "                                reference_name\n",
        "                              ORDER BY\n",
        "                                reference_name\n",
        "                              \"\"\"\n",
        "# scan size  3.3414 GB, returns number of variants per chr but not numerically sorted        "
      ],
      "execution_count": 0,
      "outputs": []
    },
    {
      "cell_type": "code",
      "metadata": {
        "id": "3h6vQF_FrX4A",
        "colab_type": "code",
        "outputId": "fd721d33-63f0-437e-f2e0-94ff41311b68",
        "colab": {
          "base_uri": "https://localhost:8080/",
          "height": 34
        }
      },
      "source": [
        "illu.estimate_query_size(NUM_VARAINTS_PER_CHR_CNDSD1)"
      ],
      "execution_count": 0,
      "outputs": [
        {
          "output_type": "execute_result",
          "data": {
            "text/plain": [
              "3.341447635553777"
            ]
          },
          "metadata": {
            "tags": []
          },
          "execution_count": 104
        }
      ]
    },
    {
      "cell_type": "code",
      "metadata": {
        "id": "DndsDZv2ramt",
        "colab_type": "code",
        "colab": {}
      },
      "source": [
        "# make query more concise by changing the EXISTS clause into a JOIN of the call column \n",
        "# with the call.genotype column. Recall that the comma operator is a shorthand notation used for JOIN\n",
        "NUM_VARAINTS_PER_CHR_CNDSD2 = \"\"\"\n",
        "                              SELECT\n",
        "                                reference_name,\n",
        "                                COUNT(reference_name) AS number_of_variant_rows\n",
        "                              FROM\n",
        "                                `bigquery-public-data.human_genome_variants.platinum_genomes_deepvariant_variants_20180823` v\n",
        "                              WHERE\n",
        "                                EXISTS (SELECT 1\n",
        "                                          FROM UNNEST(v.call) AS call, UNNEST(call.genotype) AS gt\n",
        "                                        WHERE gt > 0)\n",
        "                              GROUP BY\n",
        "                                reference_name\n",
        "                              ORDER BY\n",
        "                                reference_name\n",
        "                              \"\"\"\n",
        "# scan size 3.3414 GB, returns number of variants per chr but not numerically ordered according to chr name"
      ],
      "execution_count": 0,
      "outputs": []
    },
    {
      "cell_type": "code",
      "metadata": {
        "id": "RN_2ILg8uXcz",
        "colab_type": "code",
        "outputId": "b5e998fc-59b5-437f-c0f4-eb434d984148",
        "colab": {
          "base_uri": "https://localhost:8080/",
          "height": 34
        }
      },
      "source": [
        "illu.estimate_query_size(NUM_VARAINTS_PER_CHR_CNDSD2)"
      ],
      "execution_count": 0,
      "outputs": [
        {
          "output_type": "execute_result",
          "data": {
            "text/plain": [
              "3.341447635553777"
            ]
          },
          "metadata": {
            "tags": []
          },
          "execution_count": 106
        }
      ]
    },
    {
      "cell_type": "code",
      "metadata": {
        "id": "Eyv0uUsTuZmD",
        "colab_type": "code",
        "colab": {}
      },
      "source": [
        "# # to sort numerically, remove 'chr' from chr reference name\n",
        "# chromosome alias\n",
        "NUM_VARAINTS_PER_CHR_CNDSD3 = \"\"\"\n",
        "                              SELECT\n",
        "                                REGEXP_REPLACE(reference_name, '^chr', '') AS chromosome,\n",
        "                                COUNT(reference_name) AS number_of_variant_rows\n",
        "                              FROM\n",
        "                                `bigquery-public-data.human_genome_variants.platinum_genomes_deepvariant_variants_20180823` v\n",
        "                              WHERE\n",
        "                                EXISTS (SELECT 1\n",
        "                                          FROM UNNEST(v.call) AS call, UNNEST(call.genotype) AS gt\n",
        "                                        WHERE gt > 0)\n",
        "                              GROUP BY\n",
        "                                chromosome\n",
        "                              ORDER BY\n",
        "                                chromosome\n",
        "                              \"\"\"\n",
        "# scan size 3.3414 GB"
      ],
      "execution_count": 0,
      "outputs": []
    },
    {
      "cell_type": "code",
      "metadata": {
        "id": "WkwNZEHBu5cj",
        "colab_type": "code",
        "outputId": "39c589ec-95b3-4236-c9c1-b2d3457e98ef",
        "colab": {
          "base_uri": "https://localhost:8080/",
          "height": 34
        }
      },
      "source": [
        "illu.estimate_query_size(NUM_VARAINTS_PER_CHR_CNDSD3)"
      ],
      "execution_count": 0,
      "outputs": [
        {
          "output_type": "execute_result",
          "data": {
            "text/plain": [
              "3.341447635553777"
            ]
          },
          "metadata": {
            "tags": []
          },
          "execution_count": 108
        }
      ]
    },
    {
      "cell_type": "code",
      "metadata": {
        "id": "XiwRn-FTwsS5",
        "colab_type": "code",
        "colab": {}
      },
      "source": [
        "# to sort numerically, cast str to integer\n",
        "NUM_VARAINTS_PER_CHR_CNDSD4 = \"\"\"\n",
        "                              SELECT\n",
        "                                CAST(REGEXP_REPLACE(reference_name, '^chr', '') AS INT64) AS chromosome,\n",
        "                                COUNT(reference_name) AS number_of_variant_rows\n",
        "                              FROM\n",
        "                                `bigquery-public-data.human_genome_variants.platinum_genomes_deepvariant_variants_20180823` v\n",
        "                              WHERE\n",
        "                                EXISTS (SELECT 1\n",
        "                                          FROM UNNEST(v.call) AS call, UNNEST(call.genotype) AS gt\n",
        "                                        WHERE gt > 0)\n",
        "                              GROUP BY\n",
        "                                chromosome\n",
        "                              ORDER BY\n",
        "                                chromosome\n",
        "                              \"\"\""
      ],
      "execution_count": 0,
      "outputs": []
    },
    {
      "cell_type": "code",
      "metadata": {
        "id": "IVw6lOYzu-YI",
        "colab_type": "code",
        "colab": {}
      },
      "source": [
        "# X, Y, M chromosomes need to bee sorted by string and not numerically!!!\n",
        "# CASE and prepend 0 to chr 1 trough 9\n",
        "# chromosome alias\n",
        "NUM_VARAINTS_PER_CHR_CNDSD5 = \"\"\"\n",
        "                              SELECT\n",
        "                                CASE\n",
        "                                  WHEN SAFE_CAST(REGEXP_REPLACE(reference_name, '^chr', '') AS INT64) < 10\n",
        "                                    THEN CONCAT('0', REGEXP_REPLACE(reference_name, '^chr', ''))\n",
        "                                    ELSE REGEXP_REPLACE(reference_name, '^chr', '')\n",
        "                                END AS chromosome,\n",
        "                                COUNT(reference_name) AS number_of_variant_rows\n",
        "                              FROM\n",
        "                                `bigquery-public-data.human_genome_variants.platinum_genomes_deepvariant_variants_20180823` v\n",
        "                              WHERE\n",
        "                                EXISTS (SELECT 1\n",
        "                                          FROM UNNEST(v.call) AS call, UNNEST(call.genotype) AS gt\n",
        "                                        WHERE gt > 0)\n",
        "                              GROUP BY\n",
        "                                chromosome\n",
        "                              ORDER BY\n",
        "                                chromosome\n",
        "                              \"\"\"\n",
        "# scan size -\"- GB"
      ],
      "execution_count": 0,
      "outputs": []
    },
    {
      "cell_type": "code",
      "metadata": {
        "id": "OYmcACZ1u7Mj",
        "colab_type": "code",
        "outputId": "ea54ea0e-ee14-48f9-a2aa-d201f4ac6910",
        "colab": {
          "base_uri": "https://localhost:8080/",
          "height": 34
        }
      },
      "source": [
        "illu.estimate_query_size(NUM_VARAINTS_PER_CHR_CNDSD4)"
      ],
      "execution_count": 0,
      "outputs": [
        {
          "output_type": "execute_result",
          "data": {
            "text/plain": [
              "3.341447635553777"
            ]
          },
          "metadata": {
            "tags": []
          },
          "execution_count": 110
        }
      ]
    },
    {
      "cell_type": "code",
      "metadata": {
        "id": "QhQ8mu82vWYm",
        "colab_type": "code",
        "colab": {}
      },
      "source": [
        "# Note the use of the SAFE_CAST function, which returns NULL for chromosomes X, Y, and M \n",
        "# instead of returning an error.\n",
        "# As a last improvement on the output, display the reference_name column again\n",
        "#instead of setting it to the chromosome alias. To do so, move the CASE clause to the ORDER BY function\n",
        "NUM_VARAINTS_PER_CHR_CNDSD5 = \"\"\"\n",
        "                              SELECT\n",
        "                                reference_name,\n",
        "                                COUNT(reference_name) AS number_of_variant_rows\n",
        "                              FROM\n",
        "                                `bigquery-public-data.human_genome_variants.platinum_genomes_deepvariant_variants_20180823` v\n",
        "                              WHERE\n",
        "                                EXISTS (SELECT 1\n",
        "                                          FROM UNNEST(v.call) AS call, UNNEST(call.genotype) AS gt\n",
        "                                        WHERE gt > 0)\n",
        "                              GROUP BY\n",
        "                                reference_name\n",
        "                              ORDER BY\n",
        "                                CASE\n",
        "                                  WHEN SAFE_CAST(REGEXP_REPLACE(reference_name, '^chr', '') AS INT64) < 10\n",
        "                                    THEN CONCAT('0', REGEXP_REPLACE(reference_name, '^chr', ''))\n",
        "                                    ELSE REGEXP_REPLACE(reference_name, '^chr', '')\n",
        "                                END\n",
        "                              \"\"\"\n",
        "# == NUM_VARAINTS_PER_CHR"
      ],
      "execution_count": 0,
      "outputs": []
    },
    {
      "cell_type": "markdown",
      "metadata": {
        "id": "M0_myKEI3zNM",
        "colab_type": "text"
      },
      "source": [
        "__Writing user-defined functions__"
      ]
    },
    {
      "cell_type": "code",
      "metadata": {
        "id": "2_LXWBP7xdQu",
        "colab_type": "code",
        "colab": {}
      },
      "source": [
        "# Best practices - Wrtiting user defined functions\n",
        "# make complex queries (as the one above) less verbose by putting case expression into a function\n",
        "# making query more concise\n",
        "USER_FUNCTION = \"\"\"\n",
        "                CREATE TEMPORARY FUNCTION SortableChromosome(reference_name STRING)\n",
        "                  RETURNS STRING AS (\n",
        "                  -- Remove the leading \"chr\" (if any) in the reference_name\n",
        "                  -- If the chromosome is 1 - 9, prepend a \"0\" since\n",
        "                  -- \"2\" sorts after \"10\", but \"02\" sorts before \"10\".\n",
        "                  CASE\n",
        "                    WHEN SAFE_CAST(REGEXP_REPLACE(reference_name, '^chr', '') AS INT64) < 10\n",
        "                      THEN CONCAT('0', REGEXP_REPLACE(reference_name, '^chr', ''))\n",
        "                      ELSE REGEXP_REPLACE(reference_name, '^chr', '')\n",
        "                  END\n",
        "                );\n",
        "\n",
        "                SELECT\n",
        "                  reference_name,\n",
        "                  COUNT(reference_name) AS number_of_variant_rows\n",
        "                FROM\n",
        "                  `bigquery-public-data.human_genome_variants.platinum_genomes_deepvariant_variants_20180823` v\n",
        "                WHERE\n",
        "                  EXISTS (SELECT 1\n",
        "                            FROM UNNEST(v.call) AS call, UNNEST(call.genotype) AS gt\n",
        "                          WHERE gt > 0)\n",
        "                GROUP BY\n",
        "                  reference_name\n",
        "                ORDER BY SortableChromosome(reference_name)\n",
        "              \"\"\"\n",
        "# scan size -----"
      ],
      "execution_count": 0,
      "outputs": []
    },
    {
      "cell_type": "code",
      "metadata": {
        "id": "wXGYypZOzqob",
        "colab_type": "code",
        "outputId": "75947716-6242-4ed6-cbff-194a2dcfe49a",
        "colab": {
          "base_uri": "https://localhost:8080/",
          "height": 34
        }
      },
      "source": [
        "illu.estimate_query_size(USER_FUNCTION)"
      ],
      "execution_count": 0,
      "outputs": [
        {
          "output_type": "execute_result",
          "data": {
            "text/plain": [
              "3.341447635553777"
            ]
          },
          "metadata": {
            "tags": []
          },
          "execution_count": 112
        }
      ]
    },
    {
      "cell_type": "code",
      "metadata": {
        "id": "rej05LurztPX",
        "colab_type": "code",
        "colab": {}
      },
      "source": [
        ""
      ],
      "execution_count": 0,
      "outputs": []
    },
    {
      "cell_type": "markdown",
      "metadata": {
        "id": "28_b1D5zz_J7",
        "colab_type": "text"
      },
      "source": [
        "Improving query performance and reducing costs by trying different ways of writing a query and choosing the most efficient one. <br>\n",
        "Deleting or turning off resources on GCP to prevent them from taking up quota in the future."
      ]
    },
    {
      "cell_type": "code",
      "metadata": {
        "id": "Kh3RSAQr0vBz",
        "colab_type": "code",
        "colab": {}
      },
      "source": [
        ""
      ],
      "execution_count": 0,
      "outputs": []
    }
  ]
}