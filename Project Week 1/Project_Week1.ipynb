{
  "nbformat": 4,
  "nbformat_minor": 0,
  "metadata": {
    "kernelspec": {
      "display_name": "Python 3",
      "language": "python",
      "name": "python3"
    },
    "language_info": {
      "codemirror_mode": {
        "name": "ipython",
        "version": 2
      },
      "file_extension": ".py",
      "mimetype": "text/x-python",
      "name": "python",
      "nbconvert_exporter": "python",
      "pygments_lexer": "ipython2",
      "version": "2.7.17"
    },
    "colab": {
      "name": "Project_Week1.ipynb",
      "provenance": [],
      "toc_visible": true
    }
  },
  "cells": [
    {
      "cell_type": "code",
      "metadata": {
        "id": "Wt7a5JZ6-BVi",
        "colab_type": "code",
        "colab": {}
      },
      "source": [
        "import numpy as np # linear algebra\n",
        "import pandas as pd # data processing, CSV file I/O (e.g. pd.read_csv)\n",
        "import seaborn as sns\n",
        "import matplotlib.pyplot as plt\n",
        "\n",
        "import warnings\n",
        "warnings.filterwarnings(\"ignore\")"
      ],
      "execution_count": 0,
      "outputs": []
    },
    {
      "cell_type": "markdown",
      "metadata": {
        "id": "_LQj-dOx-BVq",
        "colab_type": "text"
      },
      "source": [
        "## Load data and clean it"
      ]
    },
    {
      "cell_type": "code",
      "metadata": {
        "id": "tkbAEHh3h4Vl",
        "colab_type": "code",
        "colab": {}
      },
      "source": [
        "#for google colab only:\n",
        "# from google.colab import files\n",
        "# uploaded = files.upload() \n",
        "# import io\n",
        "# df = pd.read_csv(io.BytesIO(uploaded['processed.cleveland.data']), sep=',', \n",
        "#                   names=[\"age\", \"sex\", \"cp\", \"trestbps\", \"chol\", \"fbs\", \"restecg\",\n",
        "#                          \"thalach\", \"exang\", \"oldpeak\", \"slope\", \"ca\", \"thal\",\n",
        "#                          \"num\"], na_values=\"?\")\n",
        "# df.info()"
      ],
      "execution_count": 0,
      "outputs": []
    },
    {
      "cell_type": "code",
      "metadata": {
        "id": "JDUXNrft-BVr",
        "colab_type": "code",
        "outputId": "c5a5fc21-f2ba-4e1b-d1c0-c524c85d0486",
        "colab": {
          "base_uri": "https://localhost:8080/",
          "height": 340
        }
      },
      "source": [
        "#for jupyter notebooks only:\n",
        "df = pd.read_csv(\"processed.cleveland.data\", index_col=None, header=None, names=[\"age\", \"sex\", \"cp\", \"trestbps\", \"chol\", \"fbs\", \"restecg\",\n",
        "                         \"thalach\", \"exang\", \"oldpeak\", \"slope\", \"ca\", \"thal\",\n",
        "                         \"num\"], na_values=\"?\")\n",
        "df.info()"
      ],
      "execution_count": 33,
      "outputs": [
        {
          "output_type": "stream",
          "text": [
            "<class 'pandas.core.frame.DataFrame'>\n",
            "RangeIndex: 303 entries, 0 to 302\n",
            "Data columns (total 14 columns):\n",
            "age         303 non-null float64\n",
            "sex         303 non-null float64\n",
            "cp          303 non-null float64\n",
            "trestbps    303 non-null float64\n",
            "chol        303 non-null float64\n",
            "fbs         303 non-null float64\n",
            "restecg     303 non-null float64\n",
            "thalach     303 non-null float64\n",
            "exang       303 non-null float64\n",
            "oldpeak     303 non-null float64\n",
            "slope       303 non-null float64\n",
            "ca          299 non-null float64\n",
            "thal        301 non-null float64\n",
            "num         303 non-null int64\n",
            "dtypes: float64(13), int64(1)\n",
            "memory usage: 33.3 KB\n"
          ],
          "name": "stdout"
        }
      ]
    },
    {
      "cell_type": "markdown",
      "metadata": {
        "id": "5T4N5Pn_-BVv",
        "colab_type": "text"
      },
      "source": [
        "__There are 6 nan entries: 4x nan in ca column and 2x nan in thal column. Handle nan entries.__<br>\n",
        "Replace by values without any meaning (outside of defined value range)?<br>\n",
        "For example:\n",
        "- ca: nan -> -1 \n",
        "- thal: nan -> -1 <br>\n",
        "\n",
        "Since only 4 and 2 values are nan respecitvely, which are 1.9% of the data set, we can delete these subjects from the table"
      ]
    },
    {
      "cell_type": "code",
      "metadata": {
        "id": "_e7LjETC-BVw",
        "colab_type": "code",
        "outputId": "c2f07800-b48f-4092-944c-19c14bc47db7",
        "colab": {
          "base_uri": "https://localhost:8080/",
          "height": 34
        }
      },
      "source": [
        "df.dropna(inplace=True)\n",
        "df.isnull().values.any()"
      ],
      "execution_count": 34,
      "outputs": [
        {
          "output_type": "execute_result",
          "data": {
            "text/plain": [
              "False"
            ]
          },
          "metadata": {
            "tags": []
          },
          "execution_count": 34
        }
      ]
    },
    {
      "cell_type": "markdown",
      "metadata": {
        "id": "C5NNzVTG-BVy",
        "colab_type": "text"
      },
      "source": [
        "__Now check if value range, type and fromat correspond to data description for all categories:__\n",
        "- age: in years\n",
        "- sex: (1 = male; 0 = female)\n",
        "- cp: chest pain type \n",
        "    - Value 1: typical angina\n",
        "    - Value 2: atypical angina\n",
        "    - Value 3: non-anginal pain\n",
        "    - Value 4: asymptomatic)\n",
        "- trestbps: resting blood pressure (in mm Hg on admission to the hospital)\n",
        "- chol: serum cholestoral in mg/dl\n",
        "- fbs: (fasting blood sugar > 120 mg/dl) (1 = true; 0 = false)\n",
        "- restecg: resting electrocardiographic results\n",
        "    - Value 0: normal\n",
        "    - Value 1: having ST-T wave abnormality (T wave inversions and/or ST elevation or depression of > 0.05 mV)\n",
        "    - Value 2: showing probable or definite left ventricular hypertrophy by Estes' criteria 20 ekgmo (month of exercise ECG reading)\n",
        "- thalach: maximum heart rate achieved\n",
        "- exang: exercise induced angina (1 = yes; 0 = no)\n",
        "- oldpeak: ST depression induced by exercise relative to rest\n",
        "- slope: the slope of the peak exercise ST segment\n",
        "    - Value 1: upsloping\n",
        "    - Value 2: flat\n",
        "    - Value 3: downsloping\n",
        "- ca: number of major vessels (0-3) colored by flourosopy\n",
        "- thal: exercise thallium scintigraphic defects\n",
        "  - 3 = normal\n",
        "  - 6 = fixed defect\n",
        "  - 7 = reversible defect\n",
        "- num: diagnosis of heart disease (angiographic disease status)\n",
        "    - Value 0: < 50% diameter narrowing\n",
        "    - Value 1: > 50% diameter narrowing (in any major vessel: attributes 59 through 68 are vessels)"
      ]
    },
    {
      "cell_type": "code",
      "metadata": {
        "id": "SkgYbHqM-BVz",
        "colab_type": "code",
        "outputId": "030d9979-77db-4214-a958-76a417cec188",
        "colab": {
          "base_uri": "https://localhost:8080/",
          "height": 204
        }
      },
      "source": [
        "df.head()"
      ],
      "execution_count": 35,
      "outputs": [
        {
          "output_type": "execute_result",
          "data": {
            "text/html": [
              "<div>\n",
              "<style scoped>\n",
              "    .dataframe tbody tr th:only-of-type {\n",
              "        vertical-align: middle;\n",
              "    }\n",
              "\n",
              "    .dataframe tbody tr th {\n",
              "        vertical-align: top;\n",
              "    }\n",
              "\n",
              "    .dataframe thead th {\n",
              "        text-align: right;\n",
              "    }\n",
              "</style>\n",
              "<table border=\"1\" class=\"dataframe\">\n",
              "  <thead>\n",
              "    <tr style=\"text-align: right;\">\n",
              "      <th></th>\n",
              "      <th>age</th>\n",
              "      <th>sex</th>\n",
              "      <th>cp</th>\n",
              "      <th>trestbps</th>\n",
              "      <th>chol</th>\n",
              "      <th>fbs</th>\n",
              "      <th>restecg</th>\n",
              "      <th>thalach</th>\n",
              "      <th>exang</th>\n",
              "      <th>oldpeak</th>\n",
              "      <th>slope</th>\n",
              "      <th>ca</th>\n",
              "      <th>thal</th>\n",
              "      <th>num</th>\n",
              "    </tr>\n",
              "  </thead>\n",
              "  <tbody>\n",
              "    <tr>\n",
              "      <th>0</th>\n",
              "      <td>63.0</td>\n",
              "      <td>1.0</td>\n",
              "      <td>1.0</td>\n",
              "      <td>145.0</td>\n",
              "      <td>233.0</td>\n",
              "      <td>1.0</td>\n",
              "      <td>2.0</td>\n",
              "      <td>150.0</td>\n",
              "      <td>0.0</td>\n",
              "      <td>2.3</td>\n",
              "      <td>3.0</td>\n",
              "      <td>0.0</td>\n",
              "      <td>6.0</td>\n",
              "      <td>0</td>\n",
              "    </tr>\n",
              "    <tr>\n",
              "      <th>1</th>\n",
              "      <td>67.0</td>\n",
              "      <td>1.0</td>\n",
              "      <td>4.0</td>\n",
              "      <td>160.0</td>\n",
              "      <td>286.0</td>\n",
              "      <td>0.0</td>\n",
              "      <td>2.0</td>\n",
              "      <td>108.0</td>\n",
              "      <td>1.0</td>\n",
              "      <td>1.5</td>\n",
              "      <td>2.0</td>\n",
              "      <td>3.0</td>\n",
              "      <td>3.0</td>\n",
              "      <td>2</td>\n",
              "    </tr>\n",
              "    <tr>\n",
              "      <th>2</th>\n",
              "      <td>67.0</td>\n",
              "      <td>1.0</td>\n",
              "      <td>4.0</td>\n",
              "      <td>120.0</td>\n",
              "      <td>229.0</td>\n",
              "      <td>0.0</td>\n",
              "      <td>2.0</td>\n",
              "      <td>129.0</td>\n",
              "      <td>1.0</td>\n",
              "      <td>2.6</td>\n",
              "      <td>2.0</td>\n",
              "      <td>2.0</td>\n",
              "      <td>7.0</td>\n",
              "      <td>1</td>\n",
              "    </tr>\n",
              "    <tr>\n",
              "      <th>3</th>\n",
              "      <td>37.0</td>\n",
              "      <td>1.0</td>\n",
              "      <td>3.0</td>\n",
              "      <td>130.0</td>\n",
              "      <td>250.0</td>\n",
              "      <td>0.0</td>\n",
              "      <td>0.0</td>\n",
              "      <td>187.0</td>\n",
              "      <td>0.0</td>\n",
              "      <td>3.5</td>\n",
              "      <td>3.0</td>\n",
              "      <td>0.0</td>\n",
              "      <td>3.0</td>\n",
              "      <td>0</td>\n",
              "    </tr>\n",
              "    <tr>\n",
              "      <th>4</th>\n",
              "      <td>41.0</td>\n",
              "      <td>0.0</td>\n",
              "      <td>2.0</td>\n",
              "      <td>130.0</td>\n",
              "      <td>204.0</td>\n",
              "      <td>0.0</td>\n",
              "      <td>2.0</td>\n",
              "      <td>172.0</td>\n",
              "      <td>0.0</td>\n",
              "      <td>1.4</td>\n",
              "      <td>1.0</td>\n",
              "      <td>0.0</td>\n",
              "      <td>3.0</td>\n",
              "      <td>0</td>\n",
              "    </tr>\n",
              "  </tbody>\n",
              "</table>\n",
              "</div>"
            ],
            "text/plain": [
              "    age  sex   cp  trestbps   chol  fbs  ...  exang  oldpeak  slope   ca  thal  num\n",
              "0  63.0  1.0  1.0     145.0  233.0  1.0  ...    0.0      2.3    3.0  0.0   6.0    0\n",
              "1  67.0  1.0  4.0     160.0  286.0  0.0  ...    1.0      1.5    2.0  3.0   3.0    2\n",
              "2  67.0  1.0  4.0     120.0  229.0  0.0  ...    1.0      2.6    2.0  2.0   7.0    1\n",
              "3  37.0  1.0  3.0     130.0  250.0  0.0  ...    0.0      3.5    3.0  0.0   3.0    0\n",
              "4  41.0  0.0  2.0     130.0  204.0  0.0  ...    0.0      1.4    1.0  0.0   3.0    0\n",
              "\n",
              "[5 rows x 14 columns]"
            ]
          },
          "metadata": {
            "tags": []
          },
          "execution_count": 35
        }
      ]
    },
    {
      "cell_type": "code",
      "metadata": {
        "id": "QOVuQWT_-BV3",
        "colab_type": "code",
        "outputId": "64c003c2-76e3-40b0-c374-ca5f83bac05b",
        "colab": {
          "base_uri": "https://localhost:8080/",
          "height": 317
        }
      },
      "source": [
        "df.describe()"
      ],
      "execution_count": 36,
      "outputs": [
        {
          "output_type": "execute_result",
          "data": {
            "text/html": [
              "<div>\n",
              "<style scoped>\n",
              "    .dataframe tbody tr th:only-of-type {\n",
              "        vertical-align: middle;\n",
              "    }\n",
              "\n",
              "    .dataframe tbody tr th {\n",
              "        vertical-align: top;\n",
              "    }\n",
              "\n",
              "    .dataframe thead th {\n",
              "        text-align: right;\n",
              "    }\n",
              "</style>\n",
              "<table border=\"1\" class=\"dataframe\">\n",
              "  <thead>\n",
              "    <tr style=\"text-align: right;\">\n",
              "      <th></th>\n",
              "      <th>age</th>\n",
              "      <th>sex</th>\n",
              "      <th>cp</th>\n",
              "      <th>trestbps</th>\n",
              "      <th>chol</th>\n",
              "      <th>fbs</th>\n",
              "      <th>restecg</th>\n",
              "      <th>thalach</th>\n",
              "      <th>exang</th>\n",
              "      <th>oldpeak</th>\n",
              "      <th>slope</th>\n",
              "      <th>ca</th>\n",
              "      <th>thal</th>\n",
              "      <th>num</th>\n",
              "    </tr>\n",
              "  </thead>\n",
              "  <tbody>\n",
              "    <tr>\n",
              "      <th>count</th>\n",
              "      <td>297.000000</td>\n",
              "      <td>297.000000</td>\n",
              "      <td>297.000000</td>\n",
              "      <td>297.000000</td>\n",
              "      <td>297.000000</td>\n",
              "      <td>297.000000</td>\n",
              "      <td>297.000000</td>\n",
              "      <td>297.000000</td>\n",
              "      <td>297.000000</td>\n",
              "      <td>297.000000</td>\n",
              "      <td>297.000000</td>\n",
              "      <td>297.000000</td>\n",
              "      <td>297.000000</td>\n",
              "      <td>297.000000</td>\n",
              "    </tr>\n",
              "    <tr>\n",
              "      <th>mean</th>\n",
              "      <td>54.542088</td>\n",
              "      <td>0.676768</td>\n",
              "      <td>3.158249</td>\n",
              "      <td>131.693603</td>\n",
              "      <td>247.350168</td>\n",
              "      <td>0.144781</td>\n",
              "      <td>0.996633</td>\n",
              "      <td>149.599327</td>\n",
              "      <td>0.326599</td>\n",
              "      <td>1.055556</td>\n",
              "      <td>1.602694</td>\n",
              "      <td>0.676768</td>\n",
              "      <td>4.730640</td>\n",
              "      <td>0.946128</td>\n",
              "    </tr>\n",
              "    <tr>\n",
              "      <th>std</th>\n",
              "      <td>9.049736</td>\n",
              "      <td>0.468500</td>\n",
              "      <td>0.964859</td>\n",
              "      <td>17.762806</td>\n",
              "      <td>51.997583</td>\n",
              "      <td>0.352474</td>\n",
              "      <td>0.994914</td>\n",
              "      <td>22.941562</td>\n",
              "      <td>0.469761</td>\n",
              "      <td>1.166123</td>\n",
              "      <td>0.618187</td>\n",
              "      <td>0.938965</td>\n",
              "      <td>1.938629</td>\n",
              "      <td>1.234551</td>\n",
              "    </tr>\n",
              "    <tr>\n",
              "      <th>min</th>\n",
              "      <td>29.000000</td>\n",
              "      <td>0.000000</td>\n",
              "      <td>1.000000</td>\n",
              "      <td>94.000000</td>\n",
              "      <td>126.000000</td>\n",
              "      <td>0.000000</td>\n",
              "      <td>0.000000</td>\n",
              "      <td>71.000000</td>\n",
              "      <td>0.000000</td>\n",
              "      <td>0.000000</td>\n",
              "      <td>1.000000</td>\n",
              "      <td>0.000000</td>\n",
              "      <td>3.000000</td>\n",
              "      <td>0.000000</td>\n",
              "    </tr>\n",
              "    <tr>\n",
              "      <th>25%</th>\n",
              "      <td>48.000000</td>\n",
              "      <td>0.000000</td>\n",
              "      <td>3.000000</td>\n",
              "      <td>120.000000</td>\n",
              "      <td>211.000000</td>\n",
              "      <td>0.000000</td>\n",
              "      <td>0.000000</td>\n",
              "      <td>133.000000</td>\n",
              "      <td>0.000000</td>\n",
              "      <td>0.000000</td>\n",
              "      <td>1.000000</td>\n",
              "      <td>0.000000</td>\n",
              "      <td>3.000000</td>\n",
              "      <td>0.000000</td>\n",
              "    </tr>\n",
              "    <tr>\n",
              "      <th>50%</th>\n",
              "      <td>56.000000</td>\n",
              "      <td>1.000000</td>\n",
              "      <td>3.000000</td>\n",
              "      <td>130.000000</td>\n",
              "      <td>243.000000</td>\n",
              "      <td>0.000000</td>\n",
              "      <td>1.000000</td>\n",
              "      <td>153.000000</td>\n",
              "      <td>0.000000</td>\n",
              "      <td>0.800000</td>\n",
              "      <td>2.000000</td>\n",
              "      <td>0.000000</td>\n",
              "      <td>3.000000</td>\n",
              "      <td>0.000000</td>\n",
              "    </tr>\n",
              "    <tr>\n",
              "      <th>75%</th>\n",
              "      <td>61.000000</td>\n",
              "      <td>1.000000</td>\n",
              "      <td>4.000000</td>\n",
              "      <td>140.000000</td>\n",
              "      <td>276.000000</td>\n",
              "      <td>0.000000</td>\n",
              "      <td>2.000000</td>\n",
              "      <td>166.000000</td>\n",
              "      <td>1.000000</td>\n",
              "      <td>1.600000</td>\n",
              "      <td>2.000000</td>\n",
              "      <td>1.000000</td>\n",
              "      <td>7.000000</td>\n",
              "      <td>2.000000</td>\n",
              "    </tr>\n",
              "    <tr>\n",
              "      <th>max</th>\n",
              "      <td>77.000000</td>\n",
              "      <td>1.000000</td>\n",
              "      <td>4.000000</td>\n",
              "      <td>200.000000</td>\n",
              "      <td>564.000000</td>\n",
              "      <td>1.000000</td>\n",
              "      <td>2.000000</td>\n",
              "      <td>202.000000</td>\n",
              "      <td>1.000000</td>\n",
              "      <td>6.200000</td>\n",
              "      <td>3.000000</td>\n",
              "      <td>3.000000</td>\n",
              "      <td>7.000000</td>\n",
              "      <td>4.000000</td>\n",
              "    </tr>\n",
              "  </tbody>\n",
              "</table>\n",
              "</div>"
            ],
            "text/plain": [
              "              age         sex          cp  ...          ca        thal         num\n",
              "count  297.000000  297.000000  297.000000  ...  297.000000  297.000000  297.000000\n",
              "mean    54.542088    0.676768    3.158249  ...    0.676768    4.730640    0.946128\n",
              "std      9.049736    0.468500    0.964859  ...    0.938965    1.938629    1.234551\n",
              "min     29.000000    0.000000    1.000000  ...    0.000000    3.000000    0.000000\n",
              "25%     48.000000    0.000000    3.000000  ...    0.000000    3.000000    0.000000\n",
              "50%     56.000000    1.000000    3.000000  ...    0.000000    3.000000    0.000000\n",
              "75%     61.000000    1.000000    4.000000  ...    1.000000    7.000000    2.000000\n",
              "max     77.000000    1.000000    4.000000  ...    3.000000    7.000000    4.000000\n",
              "\n",
              "[8 rows x 14 columns]"
            ]
          },
          "metadata": {
            "tags": []
          },
          "execution_count": 36
        }
      ]
    },
    {
      "cell_type": "markdown",
      "metadata": {
        "id": "IWaB9-nk-BV5",
        "colab_type": "text"
      },
      "source": [
        "__Look at value sets__"
      ]
    },
    {
      "cell_type": "code",
      "metadata": {
        "scrolled": true,
        "id": "6e9Ta9dk-BV6",
        "colab_type": "code",
        "outputId": "dea4c329-12e0-46af-c4b3-e30e412719d1",
        "colab": {
          "base_uri": "https://localhost:8080/",
          "height": 751
        }
      },
      "source": [
        "for elem in df.columns:\n",
        "    print(elem+':')\n",
        "    print(set(df[elem].values))\n",
        "    print('----')"
      ],
      "execution_count": 37,
      "outputs": [
        {
          "output_type": "stream",
          "text": [
            "age:\n",
            "{29.0, 34.0, 35.0, 37.0, 38.0, 39.0, 40.0, 41.0, 42.0, 43.0, 44.0, 45.0, 46.0, 47.0, 48.0, 49.0, 50.0, 51.0, 52.0, 53.0, 54.0, 55.0, 56.0, 57.0, 58.0, 59.0, 60.0, 61.0, 62.0, 63.0, 64.0, 65.0, 66.0, 67.0, 68.0, 69.0, 70.0, 71.0, 74.0, 76.0, 77.0}\n",
            "----\n",
            "sex:\n",
            "{0.0, 1.0}\n",
            "----\n",
            "cp:\n",
            "{1.0, 2.0, 3.0, 4.0}\n",
            "----\n",
            "trestbps:\n",
            "{128.0, 129.0, 130.0, 132.0, 134.0, 135.0, 136.0, 138.0, 140.0, 142.0, 144.0, 145.0, 146.0, 148.0, 150.0, 152.0, 154.0, 155.0, 156.0, 158.0, 160.0, 164.0, 165.0, 170.0, 172.0, 174.0, 178.0, 180.0, 192.0, 200.0, 94.0, 100.0, 101.0, 102.0, 104.0, 105.0, 106.0, 108.0, 110.0, 112.0, 114.0, 115.0, 117.0, 118.0, 120.0, 122.0, 123.0, 124.0, 125.0, 126.0}\n",
            "----\n",
            "chol:\n",
            "{564.0, 126.0, 131.0, 141.0, 149.0, 157.0, 160.0, 164.0, 166.0, 167.0, 168.0, 169.0, 172.0, 174.0, 175.0, 176.0, 177.0, 178.0, 180.0, 182.0, 183.0, 184.0, 185.0, 186.0, 187.0, 188.0, 192.0, 193.0, 195.0, 196.0, 197.0, 198.0, 199.0, 200.0, 201.0, 203.0, 204.0, 205.0, 206.0, 207.0, 208.0, 209.0, 210.0, 211.0, 212.0, 213.0, 214.0, 215.0, 216.0, 217.0, 218.0, 219.0, 220.0, 221.0, 222.0, 223.0, 224.0, 225.0, 226.0, 227.0, 228.0, 229.0, 230.0, 231.0, 232.0, 233.0, 234.0, 235.0, 236.0, 237.0, 239.0, 240.0, 241.0, 242.0, 243.0, 244.0, 245.0, 246.0, 247.0, 248.0, 249.0, 250.0, 252.0, 253.0, 254.0, 255.0, 256.0, 257.0, 258.0, 259.0, 260.0, 261.0, 262.0, 263.0, 264.0, 265.0, 266.0, 267.0, 268.0, 269.0, 270.0, 271.0, 273.0, 274.0, 275.0, 276.0, 277.0, 278.0, 281.0, 282.0, 283.0, 284.0, 286.0, 288.0, 289.0, 290.0, 293.0, 294.0, 295.0, 298.0, 299.0, 300.0, 302.0, 303.0, 304.0, 305.0, 306.0, 307.0, 308.0, 309.0, 311.0, 313.0, 315.0, 318.0, 319.0, 321.0, 322.0, 325.0, 326.0, 327.0, 330.0, 335.0, 340.0, 341.0, 342.0, 353.0, 354.0, 360.0, 394.0, 407.0, 409.0, 417.0}\n",
            "----\n",
            "fbs:\n",
            "{0.0, 1.0}\n",
            "----\n",
            "restecg:\n",
            "{0.0, 1.0, 2.0}\n",
            "----\n",
            "thalach:\n",
            "{71.0, 88.0, 90.0, 95.0, 96.0, 97.0, 99.0, 103.0, 105.0, 106.0, 108.0, 109.0, 111.0, 112.0, 113.0, 114.0, 115.0, 116.0, 117.0, 118.0, 120.0, 121.0, 122.0, 123.0, 124.0, 125.0, 126.0, 127.0, 128.0, 129.0, 130.0, 131.0, 132.0, 133.0, 134.0, 136.0, 137.0, 138.0, 139.0, 140.0, 141.0, 142.0, 143.0, 144.0, 145.0, 146.0, 147.0, 148.0, 149.0, 150.0, 151.0, 152.0, 153.0, 154.0, 155.0, 156.0, 157.0, 158.0, 159.0, 160.0, 161.0, 162.0, 163.0, 164.0, 165.0, 166.0, 167.0, 168.0, 169.0, 170.0, 171.0, 172.0, 173.0, 174.0, 175.0, 177.0, 178.0, 179.0, 180.0, 181.0, 182.0, 184.0, 185.0, 186.0, 187.0, 188.0, 190.0, 192.0, 194.0, 195.0, 202.0}\n",
            "----\n",
            "exang:\n",
            "{0.0, 1.0}\n",
            "----\n",
            "oldpeak:\n",
            "{0.8, 1.5, 2.3, 3.5, 2.6, 1.4, 3.6, 0.6, 3.1, 0.4, 1.3, 0.0, 0.5, 1.0, 2.0, 2.5, 3.0, 4.0, 4.4, 5.6, 1.6, 1.1, 2.1, 0.7, 0.2, 1.2, 0.1, 2.2, 2.8, 0.3, 3.2, 3.8, 4.2, 1.8, 6.2, 1.9, 0.9, 2.4, 2.9, 3.4}\n",
            "----\n",
            "slope:\n",
            "{1.0, 2.0, 3.0}\n",
            "----\n",
            "ca:\n",
            "{0.0, 1.0, 2.0, 3.0}\n",
            "----\n",
            "thal:\n",
            "{3.0, 6.0, 7.0}\n",
            "----\n",
            "num:\n",
            "{0, 1, 2, 3, 4}\n",
            "----\n"
          ],
          "name": "stdout"
        }
      ]
    },
    {
      "cell_type": "markdown",
      "metadata": {
        "id": "_lH8wZ5e-BV9",
        "colab_type": "text"
      },
      "source": [
        "__Encode num as categorical__:<br>\n",
        "- presence = 1 (for values 1,2,3,4)\n",
        "- absence = 0 (for value 0)"
      ]
    },
    {
      "cell_type": "code",
      "metadata": {
        "id": "NA1U6GlQ-BV9",
        "colab_type": "code",
        "outputId": "7fe86e72-2dc6-4233-867d-638cc6bd6ae1",
        "colab": {
          "base_uri": "https://localhost:8080/",
          "height": 204
        }
      },
      "source": [
        "df['num'][df['num'] >= 1] = 1\n",
        "df.head()"
      ],
      "execution_count": 38,
      "outputs": [
        {
          "output_type": "execute_result",
          "data": {
            "text/html": [
              "<div>\n",
              "<style scoped>\n",
              "    .dataframe tbody tr th:only-of-type {\n",
              "        vertical-align: middle;\n",
              "    }\n",
              "\n",
              "    .dataframe tbody tr th {\n",
              "        vertical-align: top;\n",
              "    }\n",
              "\n",
              "    .dataframe thead th {\n",
              "        text-align: right;\n",
              "    }\n",
              "</style>\n",
              "<table border=\"1\" class=\"dataframe\">\n",
              "  <thead>\n",
              "    <tr style=\"text-align: right;\">\n",
              "      <th></th>\n",
              "      <th>age</th>\n",
              "      <th>sex</th>\n",
              "      <th>cp</th>\n",
              "      <th>trestbps</th>\n",
              "      <th>chol</th>\n",
              "      <th>fbs</th>\n",
              "      <th>restecg</th>\n",
              "      <th>thalach</th>\n",
              "      <th>exang</th>\n",
              "      <th>oldpeak</th>\n",
              "      <th>slope</th>\n",
              "      <th>ca</th>\n",
              "      <th>thal</th>\n",
              "      <th>num</th>\n",
              "    </tr>\n",
              "  </thead>\n",
              "  <tbody>\n",
              "    <tr>\n",
              "      <th>0</th>\n",
              "      <td>63.0</td>\n",
              "      <td>1.0</td>\n",
              "      <td>1.0</td>\n",
              "      <td>145.0</td>\n",
              "      <td>233.0</td>\n",
              "      <td>1.0</td>\n",
              "      <td>2.0</td>\n",
              "      <td>150.0</td>\n",
              "      <td>0.0</td>\n",
              "      <td>2.3</td>\n",
              "      <td>3.0</td>\n",
              "      <td>0.0</td>\n",
              "      <td>6.0</td>\n",
              "      <td>0</td>\n",
              "    </tr>\n",
              "    <tr>\n",
              "      <th>1</th>\n",
              "      <td>67.0</td>\n",
              "      <td>1.0</td>\n",
              "      <td>4.0</td>\n",
              "      <td>160.0</td>\n",
              "      <td>286.0</td>\n",
              "      <td>0.0</td>\n",
              "      <td>2.0</td>\n",
              "      <td>108.0</td>\n",
              "      <td>1.0</td>\n",
              "      <td>1.5</td>\n",
              "      <td>2.0</td>\n",
              "      <td>3.0</td>\n",
              "      <td>3.0</td>\n",
              "      <td>1</td>\n",
              "    </tr>\n",
              "    <tr>\n",
              "      <th>2</th>\n",
              "      <td>67.0</td>\n",
              "      <td>1.0</td>\n",
              "      <td>4.0</td>\n",
              "      <td>120.0</td>\n",
              "      <td>229.0</td>\n",
              "      <td>0.0</td>\n",
              "      <td>2.0</td>\n",
              "      <td>129.0</td>\n",
              "      <td>1.0</td>\n",
              "      <td>2.6</td>\n",
              "      <td>2.0</td>\n",
              "      <td>2.0</td>\n",
              "      <td>7.0</td>\n",
              "      <td>1</td>\n",
              "    </tr>\n",
              "    <tr>\n",
              "      <th>3</th>\n",
              "      <td>37.0</td>\n",
              "      <td>1.0</td>\n",
              "      <td>3.0</td>\n",
              "      <td>130.0</td>\n",
              "      <td>250.0</td>\n",
              "      <td>0.0</td>\n",
              "      <td>0.0</td>\n",
              "      <td>187.0</td>\n",
              "      <td>0.0</td>\n",
              "      <td>3.5</td>\n",
              "      <td>3.0</td>\n",
              "      <td>0.0</td>\n",
              "      <td>3.0</td>\n",
              "      <td>0</td>\n",
              "    </tr>\n",
              "    <tr>\n",
              "      <th>4</th>\n",
              "      <td>41.0</td>\n",
              "      <td>0.0</td>\n",
              "      <td>2.0</td>\n",
              "      <td>130.0</td>\n",
              "      <td>204.0</td>\n",
              "      <td>0.0</td>\n",
              "      <td>2.0</td>\n",
              "      <td>172.0</td>\n",
              "      <td>0.0</td>\n",
              "      <td>1.4</td>\n",
              "      <td>1.0</td>\n",
              "      <td>0.0</td>\n",
              "      <td>3.0</td>\n",
              "      <td>0</td>\n",
              "    </tr>\n",
              "  </tbody>\n",
              "</table>\n",
              "</div>"
            ],
            "text/plain": [
              "    age  sex   cp  trestbps   chol  fbs  ...  exang  oldpeak  slope   ca  thal  num\n",
              "0  63.0  1.0  1.0     145.0  233.0  1.0  ...    0.0      2.3    3.0  0.0   6.0    0\n",
              "1  67.0  1.0  4.0     160.0  286.0  0.0  ...    1.0      1.5    2.0  3.0   3.0    1\n",
              "2  67.0  1.0  4.0     120.0  229.0  0.0  ...    1.0      2.6    2.0  2.0   7.0    1\n",
              "3  37.0  1.0  3.0     130.0  250.0  0.0  ...    0.0      3.5    3.0  0.0   3.0    0\n",
              "4  41.0  0.0  2.0     130.0  204.0  0.0  ...    0.0      1.4    1.0  0.0   3.0    0\n",
              "\n",
              "[5 rows x 14 columns]"
            ]
          },
          "metadata": {
            "tags": []
          },
          "execution_count": 38
        }
      ]
    },
    {
      "cell_type": "markdown",
      "metadata": {
        "id": "WNl5ZFCu-BWA",
        "colab_type": "text"
      },
      "source": [
        "__Convert float to int__<br>\n",
        "See which columns can be changed to datatype int64; then change float to int for all possible cases.<br>"
      ]
    },
    {
      "cell_type": "code",
      "metadata": {
        "id": "U1pVpCEp-BWB",
        "colab_type": "code",
        "outputId": "e2b3b245-6ff7-434d-c443-de5954097de5",
        "colab": {
          "base_uri": "https://localhost:8080/",
          "height": 255
        }
      },
      "source": [
        "for col in df.columns.values.tolist():\n",
        "    if df[col].dtype == np.float64:\n",
        "        print(col + \"\\t: \" + str(df[col].apply(float.is_integer).all()))\n",
        "    else:\n",
        "        print(col + \"\\t: \" + str(df[col].dtype))"
      ],
      "execution_count": 39,
      "outputs": [
        {
          "output_type": "stream",
          "text": [
            "age\t: True\n",
            "sex\t: True\n",
            "cp\t: True\n",
            "trestbps\t: True\n",
            "chol\t: True\n",
            "fbs\t: True\n",
            "restecg\t: True\n",
            "thalach\t: True\n",
            "exang\t: True\n",
            "oldpeak\t: False\n",
            "slope\t: True\n",
            "ca\t: True\n",
            "thal\t: True\n",
            "num\t: int64\n"
          ],
          "name": "stdout"
        }
      ]
    },
    {
      "cell_type": "code",
      "metadata": {
        "scrolled": true,
        "id": "e8eSvAl4-BWD",
        "colab_type": "code",
        "colab": {}
      },
      "source": [
        "for col in df.columns.values.tolist():\n",
        "    if df[col].dtype == np.float64 and df[col].apply(float.is_integer).all():\n",
        "        df[col] = df[col].astype('int64')"
      ],
      "execution_count": 0,
      "outputs": []
    },
    {
      "cell_type": "markdown",
      "metadata": {
        "id": "oMkR7NbY-BWF",
        "colab_type": "text"
      },
      "source": [
        "## Data inspection\n",
        "__See how each attribute is correlated with the target field__<br>\n",
        "Most attributes are moderately strong correlated with the presence/absence of CAD."
      ]
    },
    {
      "cell_type": "code",
      "metadata": {
        "id": "oQOI9VEz-BWG",
        "colab_type": "code",
        "outputId": "e25c9c21-82d7-4752-eae9-2172e56128c8",
        "colab": {
          "base_uri": "https://localhost:8080/",
          "height": 272
        }
      },
      "source": [
        "corr = df.corr()['num'].abs().sort_values()\n",
        "corr"
      ],
      "execution_count": 41,
      "outputs": [
        {
          "output_type": "execute_result",
          "data": {
            "text/plain": [
              "fbs         0.003167\n",
              "chol        0.080285\n",
              "trestbps    0.153490\n",
              "restecg     0.166343\n",
              "age         0.227075\n",
              "sex         0.278467\n",
              "slope       0.333049\n",
              "cp          0.408945\n",
              "exang       0.421355\n",
              "thalach     0.423817\n",
              "oldpeak     0.424052\n",
              "ca          0.463189\n",
              "thal        0.526640\n",
              "num         1.000000\n",
              "Name: num, dtype: float64"
            ]
          },
          "metadata": {
            "tags": []
          },
          "execution_count": 41
        }
      ]
    },
    {
      "cell_type": "markdown",
      "metadata": {
        "id": "k_GIEe0V-BWM",
        "colab_type": "text"
      },
      "source": [
        "__Comparison between people with and without heart disease__<br>\n",
        "1. How is each attribute related to heart disease?\n",
        "2. Why can these attributes be used to diagnose heart disease?"
      ]
    },
    {
      "cell_type": "code",
      "metadata": {
        "id": "ef92m8x8-BWM",
        "colab_type": "code",
        "colab": {}
      },
      "source": [
        "# Helper function for plotting side by side\n",
        "def sideplot(df, col, kind=\"bar\", title=None):\n",
        "    assert kind in [\"bar\", \"hist\"]\n",
        "    fig = plt.figure(figsize=(10, 6))\n",
        "    if kind == \"bar\":\n",
        "        ax1 = plt.subplot(2, 2, 1)\n",
        "        df[df.num == 1][['num', col]].groupby(col).count().plot(kind='bar', rot=0, legend=False, ax=ax1, color=\"#268bd2\")\n",
        "        plt.xlabel(col+\" with CAD\")\n",
        "        ax2 = plt.subplot(2, 2, 2)\n",
        "        df[df.num == 0][['num', col]].groupby(col).count().plot(kind='bar', rot=0, legend=False, ax=ax2, color=\"#268bd2\")\n",
        "        plt.xlabel(col+\" without CAD\")\n",
        "    else:\n",
        "        ax1 = plt.subplot(2, 2, 1)\n",
        "        plt.hist(df[df.num == 1][col], color=\"#268bd2\")\n",
        "        plt.xlabel(col+\" with CAD\")\n",
        "        ax2 = plt.subplot(2, 2, 2)\n",
        "        plt.hist(df[df.num == 0][col], color=\"#268bd2\")\n",
        "        plt.xlabel(col+\" without CAD\")\n",
        "    # Re-adjusting\n",
        "    ylim = (0, max(ax1.get_ylim()[1], ax2.get_ylim()[1]))\n",
        "    ax1.set_ylim(ylim)\n",
        "    ax2.set_ylim(ylim)\n",
        "    xlim = (min(ax1.get_xlim()[0], ax2.get_xlim()[0]), max(ax1.get_xlim()[1], ax2.get_xlim()[1]))\n",
        "    ax1.set_xlim(xlim)\n",
        "    ax2.set_xlim(xlim)\n",
        "    if title is not None:\n",
        "        fig.suptitle(title)\n",
        "    #plt.subplots_adjust(top=0.99)"
      ],
      "execution_count": 0,
      "outputs": []
    },
    {
      "cell_type": "markdown",
      "metadata": {
        "id": "FJJkpns3-BWO",
        "colab_type": "text"
      },
      "source": [
        "__Fasting Blood Sugar__<br>\n",
        "Fasting blood sugar is an important feature for measuring diabetes.\n",
        "Though it is not directly related to heart diseases, It is pointed out that people with diabetes have a higher epidemiological estimate lifetime risk (LTR) of chronical heart disease1.\n",
        "\n",
        "Jin C2 finds out that the trajectories of fasting blood sugar are significantly associated with the risk of myocardio infarction. Since we only have a single value instead of continuous data, it does not look quite useful here to analyse heart disease."
      ]
    },
    {
      "cell_type": "code",
      "metadata": {
        "id": "AC_fsSm9-BWP",
        "colab_type": "code",
        "outputId": "daa6de99-aa97-42ea-edb8-c487bbd01b11",
        "colab": {
          "base_uri": "https://localhost:8080/",
          "height": 253
        }
      },
      "source": [
        "sideplot(df, \"fbs\", kind=\"bar\", title=\"Comparison of fasting blood sugar\")"
      ],
      "execution_count": 43,
      "outputs": [
        {
          "output_type": "display_data",
          "data": {
            "image/png": "[encoded data removed]",
            "text/plain": [
              "<Figure size 720x432 with 2 Axes>"
            ]
          },
          "metadata": {
            "tags": []
          }
        }
      ]
    },
    {
      "cell_type": "markdown",
      "metadata": {
        "id": "iXCxnKv1-BWR",
        "colab_type": "text"
      },
      "source": [
        "__Serum cholesterol__<br>\n",
        "People who have higher cholesterol in their blood (or hypercholesterolemia) are more likely to have their blood vessels narrowed with more cholesterol (mostly LDL cholesterol) precipited, which is known as atherosclerosis.\n",
        "\n",
        "Coronary heart disease, which is one of the most common heart diseases, comes from lack of blood supply for the heart because of atherosclerosis of coronary arteries."
      ]
    },
    {
      "cell_type": "code",
      "metadata": {
        "id": "BNHHSwXa-BWS",
        "colab_type": "code",
        "outputId": "a9e99107-ac9f-4e43-83c0-3af45fb6e393",
        "colab": {
          "base_uri": "https://localhost:8080/",
          "height": 253
        }
      },
      "source": [
        "sideplot(df, \"chol\", kind=\"hist\", title=\"Comparison of serum cholesterol\")"
      ],
      "execution_count": 44,
      "outputs": [
        {
          "output_type": "display_data",
          "data": {
            "image/png": "[encoded data removed]",
            "text/plain": [
              "<Figure size 720x432 with 2 Axes>"
            ]
          },
          "metadata": {
            "tags": []
          }
        }
      ]
    },
    {
      "cell_type": "markdown",
      "metadata": {
        "id": "CgUDStWs-BWU",
        "colab_type": "text"
      },
      "source": [
        "__Resting electrocardiohraphic results__<br>\n",
        "In ECG, all the three ST-T wave abnormality mentioned (T wave inversion; ST elevation; ST depression of greater than 0.05 mV) are possible signs of myo infarction.\n",
        "T wave inversion is a sign of lacking blood in endocardium, while ST abnomality indicates there are some damage to the myocardium due to lack of blood for a relatively long period of time."
      ]
    },
    {
      "cell_type": "code",
      "metadata": {
        "id": "FqxwNCy9-BWV",
        "colab_type": "code",
        "outputId": "f8448d40-4d3d-4a87-8b46-ade0f04a69fc",
        "colab": {
          "base_uri": "https://localhost:8080/",
          "height": 253
        }
      },
      "source": [
        "sideplot(df, \"restecg\", kind=\"bar\", title=\"Comparison of resting electrocardiographic results\")"
      ],
      "execution_count": 45,
      "outputs": [
        {
          "output_type": "display_data",
          "data": {
            "image/png": "[encoded data removed]",
            "text/plain": [
              "<Figure size 720x432 with 2 Axes>"
            ]
          },
          "metadata": {
            "tags": []
          }
        }
      ]
    },
    {
      "cell_type": "markdown",
      "metadata": {
        "id": "_nCsHCiR-BWX",
        "colab_type": "text"
      },
      "source": [
        "__Resting blood pressure__\n",
        "<br> In most countries, the normal blood pressure is around 120/80. The 2019 standard of high blood pressure (or hypertension) is over 130/80 in America."
      ]
    },
    {
      "cell_type": "code",
      "metadata": {
        "id": "pVZXu5zO-BWX",
        "colab_type": "code",
        "outputId": "fb692ecf-2d6e-4e2b-fdb5-073a329f895b",
        "colab": {
          "base_uri": "https://localhost:8080/",
          "height": 253
        }
      },
      "source": [
        "sideplot(df, \"trestbps\", kind=\"hist\", title=\"Comparison of resting blood pressure\")"
      ],
      "execution_count": 46,
      "outputs": [
        {
          "output_type": "display_data",
          "data": {
            "image/png": "[encoded data removed]",
            "text/plain": [
              "<Figure size 720x432 with 2 Axes>"
            ]
          },
          "metadata": {
            "tags": []
          }
        }
      ]
    },
    {
      "cell_type": "markdown",
      "metadata": {
        "id": "3yp4o2TC-BWa",
        "colab_type": "text"
      },
      "source": [
        "__Age__"
      ]
    },
    {
      "cell_type": "code",
      "metadata": {
        "id": "FN0dbWtL-BWa",
        "colab_type": "code",
        "outputId": "442bd642-6ef5-44b1-fd47-a9fca9b47fa0",
        "colab": {
          "base_uri": "https://localhost:8080/",
          "height": 253
        }
      },
      "source": [
        "sideplot(df, \"age\", kind=\"hist\", title=\"Comparison of age\")"
      ],
      "execution_count": 47,
      "outputs": [
        {
          "output_type": "display_data",
          "data": {
            "image/png": "[encoded data removed]",
            "text/plain": [
              "<Figure size 720x432 with 2 Axes>"
            ]
          },
          "metadata": {
            "tags": []
          }
        }
      ]
    },
    {
      "cell_type": "markdown",
      "metadata": {
        "id": "gz4cCTmH-BWc",
        "colab_type": "text"
      },
      "source": [
        "__Sex__<br>\n",
        "There are more than twice as many male patients in the data set than female patients."
      ]
    },
    {
      "cell_type": "code",
      "metadata": {
        "id": "_GQBG0hz-BWe",
        "colab_type": "code",
        "outputId": "0051d94d-f830-42bb-e62e-7725541378e9",
        "colab": {
          "base_uri": "https://localhost:8080/",
          "height": 253
        }
      },
      "source": [
        "sideplot(df, \"sex\", kind=\"bar\", title=\"Comparison of sex\")"
      ],
      "execution_count": 48,
      "outputs": [
        {
          "output_type": "display_data",
          "data": {
            "image/png": "[encoded data removed]",
            "text/plain": [
              "<Figure size 720x432 with 2 Axes>"
            ]
          },
          "metadata": {
            "tags": []
          }
        }
      ]
    },
    {
      "cell_type": "code",
      "metadata": {
        "id": "lIRPeoEqoD3I",
        "colab_type": "code",
        "outputId": "d89138ce-2e1f-4999-c9c3-0a2517d62fa6",
        "colab": {
          "base_uri": "https://localhost:8080/",
          "height": 68
        }
      },
      "source": [
        "df.sex.value_counts()"
      ],
      "execution_count": 49,
      "outputs": [
        {
          "output_type": "execute_result",
          "data": {
            "text/plain": [
              "1    201\n",
              "0     96\n",
              "Name: sex, dtype: int64"
            ]
          },
          "metadata": {
            "tags": []
          },
          "execution_count": 49
        }
      ]
    },
    {
      "cell_type": "markdown",
      "metadata": {
        "id": "V5gTsh38-BWi",
        "colab_type": "text"
      },
      "source": [
        "__thal__<br>"
      ]
    },
    {
      "cell_type": "code",
      "metadata": {
        "id": "FIXcH4RZ-BWk",
        "colab_type": "code",
        "outputId": "0e4767db-0661-4c4b-bb2c-757455250b8f",
        "colab": {
          "base_uri": "https://localhost:8080/",
          "height": 253
        }
      },
      "source": [
        "sideplot(df, \"thal\", kind=\"bar\", title=\"Comparison of exercise thallium scintigraphic defects\")"
      ],
      "execution_count": 50,
      "outputs": [
        {
          "output_type": "display_data",
          "data": {
            "image/png": "[encoded data removed]",
            "text/plain": [
              "<Figure size 720x432 with 2 Axes>"
            ]
          },
          "metadata": {
            "tags": []
          }
        }
      ]
    },
    {
      "cell_type": "markdown",
      "metadata": {
        "id": "W4LSlfxK-BWm",
        "colab_type": "text"
      },
      "source": [
        "__Slope of the peak exercise ST segment__"
      ]
    },
    {
      "cell_type": "code",
      "metadata": {
        "id": "OpCBNbJX-BWm",
        "colab_type": "code",
        "outputId": "86e32245-f53a-44ba-d62e-de088640fc0c",
        "colab": {
          "base_uri": "https://localhost:8080/",
          "height": 253
        }
      },
      "source": [
        "sideplot(df, \"slope\", kind=\"bar\", title=\"Comparison of slope of the peak exercise ST segment\")"
      ],
      "execution_count": 51,
      "outputs": [
        {
          "output_type": "display_data",
          "data": {
            "image/png": "[encoded data removed]",
            "text/plain": [
              "<Figure size 720x432 with 2 Axes>"
            ]
          },
          "metadata": {
            "tags": []
          }
        }
      ]
    },
    {
      "cell_type": "markdown",
      "metadata": {
        "id": "St3shco8-BWo",
        "colab_type": "text"
      },
      "source": [
        "__Number of major vessels colored by fluorosopy__"
      ]
    },
    {
      "cell_type": "code",
      "metadata": {
        "id": "tmJFKNSV-BWp",
        "colab_type": "code",
        "outputId": "ab72a4e6-ef19-49f7-a6d2-a65ccf6f7abb",
        "colab": {
          "base_uri": "https://localhost:8080/",
          "height": 253
        }
      },
      "source": [
        "sideplot(df, \"ca\", kind=\"bar\", title=\"Comparison of number of major vessels colored by fluoroscopy\")"
      ],
      "execution_count": 52,
      "outputs": [
        {
          "output_type": "display_data",
          "data": {
            "image/png": "[encoded data removed]",
            "text/plain": [
              "<Figure size 720x432 with 2 Axes>"
            ]
          },
          "metadata": {
            "tags": []
          }
        }
      ]
    },
    {
      "cell_type": "markdown",
      "metadata": {
        "id": "cbzMFuz0-BWr",
        "colab_type": "text"
      },
      "source": [
        "__Maximum heart rate achieved__"
      ]
    },
    {
      "cell_type": "markdown",
      "metadata": {
        "id": "mwhCORyD6-KU",
        "colab_type": "text"
      },
      "source": [
        ""
      ]
    },
    {
      "cell_type": "code",
      "metadata": {
        "id": "fUZoI8Dk-BWs",
        "colab_type": "code",
        "outputId": "42742186-dbf4-4e63-edeb-c2f639854e8d",
        "colab": {
          "base_uri": "https://localhost:8080/",
          "height": 253
        }
      },
      "source": [
        "sideplot(df, \"thalach\", kind=\"hist\", title=\"Comparison of maximum heart rate achieved\")"
      ],
      "execution_count": 53,
      "outputs": [
        {
          "output_type": "display_data",
          "data": {
            "image/png": "[encoded data removed]",
            "text/plain": [
              "<Figure size 720x432 with 2 Axes>"
            ]
          },
          "metadata": {
            "tags": []
          }
        }
      ]
    },
    {
      "cell_type": "markdown",
      "metadata": {
        "id": "U_pfRecH-BWu",
        "colab_type": "text"
      },
      "source": [
        "__ST depression induced by exercise relative to rest__<br>\n",
        "In exercise, the heart will consume more oxygen and nutrient, which can introduce shortage of blood transmitted to the heart by coronary arteries.\n",
        "\n",
        "As we learned above, if myocardium lack blood for a long time, the cells in myocardium will be damaged, which can result in depression in ST segment. This feature will expose some not-easy-to-detect heart diseases."
      ]
    },
    {
      "cell_type": "code",
      "metadata": {
        "id": "ITDdUrc3-BWu",
        "colab_type": "code",
        "outputId": "2821c878-4c78-4432-f6ff-e3694ebaf4ed",
        "colab": {
          "base_uri": "https://localhost:8080/",
          "height": 253
        }
      },
      "source": [
        "sideplot(df, \"oldpeak\", kind=\"hist\", title=\"Comparison of ST depression induced by exercise relative to rest\"\n",
        "        )"
      ],
      "execution_count": 54,
      "outputs": [
        {
          "output_type": "display_data",
          "data": {
            "image/png": "[encoded data removed]",
            "text/plain": [
              "<Figure size 720x432 with 2 Axes>"
            ]
          },
          "metadata": {
            "tags": []
          }
        }
      ]
    },
    {
      "cell_type": "markdown",
      "metadata": {
        "id": "N1dmN1ap-BWw",
        "colab_type": "text"
      },
      "source": [
        "__Chest pain type__<br>\n",
        "Present research 1, 2 shows that the number of patients with typical angina are not significantly different from that with atypical angina and non-anginal pain.\n",
        "\n",
        "It seems that patients with atypical angina and non-anginal pain are more likely to have a heart disease here, which are contradict with the research results, may come from the following reasons:\n",
        "\n",
        "The result may be true due to lack of data (we only have 306 records here).\n",
        "Indeed atypical angina and non-anginal pain are more likely to have a heart disease."
      ]
    },
    {
      "cell_type": "code",
      "metadata": {
        "id": "aI-rHt94-BWx",
        "colab_type": "code",
        "outputId": "d1f95a09-4e96-4b50-cac4-a1ade4d171c0",
        "colab": {
          "base_uri": "https://localhost:8080/",
          "height": 253
        }
      },
      "source": [
        "sideplot(df, \"cp\", kind=\"bar\", title=\"Comparison of chest pain type\")"
      ],
      "execution_count": 55,
      "outputs": [
        {
          "output_type": "display_data",
          "data": {
            "image/png": "[encoded data removed]",
            "text/plain": [
              "<Figure size 720x432 with 2 Axes>"
            ]
          },
          "metadata": {
            "tags": []
          }
        }
      ]
    },
    {
      "cell_type": "markdown",
      "metadata": {
        "id": "McBpnWbF-BWy",
        "colab_type": "text"
      },
      "source": [
        "__Exercise induced angina__"
      ]
    },
    {
      "cell_type": "code",
      "metadata": {
        "id": "FNE0dO_K-BWz",
        "colab_type": "code",
        "outputId": "1ad7e649-e29b-4430-d01f-a21b389bcf07",
        "colab": {
          "base_uri": "https://localhost:8080/",
          "height": 253
        }
      },
      "source": [
        "sideplot(df, \"exang\", kind=\"bar\", title=\"Comparison of exercise induced angina\")"
      ],
      "execution_count": 56,
      "outputs": [
        {
          "output_type": "display_data",
          "data": {
            "image/png": "[encoded data removed]",
            "text/plain": [
              "<Figure size 720x432 with 2 Axes>"
            ]
          },
          "metadata": {
            "tags": []
          }
        }
      ]
    },
    {
      "cell_type": "markdown",
      "metadata": {
        "id": "N1K3gvHX-BW1",
        "colab_type": "text"
      },
      "source": [
        "## Preprocessing\n",
        "\n",
        "__Linear discriminant analysis__<br>\n",
        "Predicting how well the classification model can perform by using linear discriminant analysis (or LDA).\n",
        "The LDA process similarly as PCA by reducing dimensions of the data, but it tends to make data with different labels most discriminable."
      ]
    },
    {
      "cell_type": "code",
      "metadata": {
        "id": "_UCATeOq-BW2",
        "colab_type": "code",
        "outputId": "0d46351d-b5f2-430e-84cf-319713d7b8c7",
        "colab": {
          "base_uri": "https://localhost:8080/",
          "height": 281
        }
      },
      "source": [
        "from sklearn.discriminant_analysis import LinearDiscriminantAnalysis as LDA\n",
        "%matplotlib inline\n",
        "clf = LDA(n_components=1)\n",
        "\n",
        "y = df[\"num\"].values\n",
        "X = clf.fit(df[df.columns[:-1]].values, y).transform(df[df.columns[:-1]].values)\n",
        "X = X[:, 0]\n",
        "\n",
        "sns.swarmplot(X[y == 0], color=\"b\", label=\"without CAD\")\n",
        "sns.swarmplot(X[y == 1], color=\"r\", label=\"with CAD\")\n",
        "plt.title(\"LDA analysis of heart disease classification\")\n",
        "plt.legend()\n",
        "plt.show()"
      ],
      "execution_count": 57,
      "outputs": [
        {
          "output_type": "display_data",
          "data": {
            "image/png": "[encoded data removed]",
            "text/plain": [
              "<Figure size 432x288 with 1 Axes>"
            ]
          },
          "metadata": {
            "tags": []
          }
        }
      ]
    },
    {
      "cell_type": "markdown",
      "metadata": {
        "id": "xT-c-cJW-BW5",
        "colab_type": "text"
      },
      "source": [
        "We can see from the LDA graph above that the labelled data are approximately separable.\n",
        "It seems the model we are going to train will have a comparably good performance.<br>"
      ]
    },
    {
      "cell_type": "markdown",
      "metadata": {
        "id": "vFrtNehn-BW6",
        "colab_type": "text"
      },
      "source": [
        "__Dummy encoding__<br>\n",
        "Before training the classifier:\n",
        "- Encode the enum-like features, as non-continuous values should not be considered as continuous ones, since they can have some bad effect on the final result"
      ]
    },
    {
      "cell_type": "code",
      "metadata": {
        "id": "cruPTmUV-BW6",
        "colab_type": "code",
        "colab": {}
      },
      "source": [
        "a = pd.get_dummies(df['cp'], prefix = \"cp\")\n",
        "b = pd.get_dummies(df['thal'], prefix = \"thal\")\n",
        "c = pd.get_dummies(df['slope'], prefix = \"slope\")\n",
        "d = pd.get_dummies(df['restecg'], prefix = \"restecg\")"
      ],
      "execution_count": 0,
      "outputs": []
    },
    {
      "cell_type": "code",
      "metadata": {
        "id": "vZvj8pVa-BW8",
        "colab_type": "code",
        "colab": {
          "base_uri": "https://localhost:8080/",
          "height": 224
        },
        "outputId": "a8e54b83-2307-4ba6-ae78-9f818a360c2e"
      },
      "source": [
        "frames = [df, a, b, c, d]\n",
        "new_df = pd.concat(frames, axis = 1)\n",
        "new_df = new_df.drop(columns = ['cp', 'thal', 'slope', 'restecg'])\n",
        "new_df.head()"
      ],
      "execution_count": 59,
      "outputs": [
        {
          "output_type": "execute_result",
          "data": {
            "text/html": [
              "<div>\n",
              "<style scoped>\n",
              "    .dataframe tbody tr th:only-of-type {\n",
              "        vertical-align: middle;\n",
              "    }\n",
              "\n",
              "    .dataframe tbody tr th {\n",
              "        vertical-align: top;\n",
              "    }\n",
              "\n",
              "    .dataframe thead th {\n",
              "        text-align: right;\n",
              "    }\n",
              "</style>\n",
              "<table border=\"1\" class=\"dataframe\">\n",
              "  <thead>\n",
              "    <tr style=\"text-align: right;\">\n",
              "      <th></th>\n",
              "      <th>age</th>\n",
              "      <th>sex</th>\n",
              "      <th>trestbps</th>\n",
              "      <th>chol</th>\n",
              "      <th>fbs</th>\n",
              "      <th>thalach</th>\n",
              "      <th>exang</th>\n",
              "      <th>oldpeak</th>\n",
              "      <th>ca</th>\n",
              "      <th>num</th>\n",
              "      <th>cp_1</th>\n",
              "      <th>cp_2</th>\n",
              "      <th>cp_3</th>\n",
              "      <th>cp_4</th>\n",
              "      <th>thal_3</th>\n",
              "      <th>thal_6</th>\n",
              "      <th>thal_7</th>\n",
              "      <th>slope_1</th>\n",
              "      <th>slope_2</th>\n",
              "      <th>slope_3</th>\n",
              "      <th>restecg_0</th>\n",
              "      <th>restecg_1</th>\n",
              "      <th>restecg_2</th>\n",
              "    </tr>\n",
              "  </thead>\n",
              "  <tbody>\n",
              "    <tr>\n",
              "      <th>0</th>\n",
              "      <td>63</td>\n",
              "      <td>1</td>\n",
              "      <td>145</td>\n",
              "      <td>233</td>\n",
              "      <td>1</td>\n",
              "      <td>150</td>\n",
              "      <td>0</td>\n",
              "      <td>2.3</td>\n",
              "      <td>0</td>\n",
              "      <td>0</td>\n",
              "      <td>1</td>\n",
              "      <td>0</td>\n",
              "      <td>0</td>\n",
              "      <td>0</td>\n",
              "      <td>0</td>\n",
              "      <td>1</td>\n",
              "      <td>0</td>\n",
              "      <td>0</td>\n",
              "      <td>0</td>\n",
              "      <td>1</td>\n",
              "      <td>0</td>\n",
              "      <td>0</td>\n",
              "      <td>1</td>\n",
              "    </tr>\n",
              "    <tr>\n",
              "      <th>1</th>\n",
              "      <td>67</td>\n",
              "      <td>1</td>\n",
              "      <td>160</td>\n",
              "      <td>286</td>\n",
              "      <td>0</td>\n",
              "      <td>108</td>\n",
              "      <td>1</td>\n",
              "      <td>1.5</td>\n",
              "      <td>3</td>\n",
              "      <td>1</td>\n",
              "      <td>0</td>\n",
              "      <td>0</td>\n",
              "      <td>0</td>\n",
              "      <td>1</td>\n",
              "      <td>1</td>\n",
              "      <td>0</td>\n",
              "      <td>0</td>\n",
              "      <td>0</td>\n",
              "      <td>1</td>\n",
              "      <td>0</td>\n",
              "      <td>0</td>\n",
              "      <td>0</td>\n",
              "      <td>1</td>\n",
              "    </tr>\n",
              "    <tr>\n",
              "      <th>2</th>\n",
              "      <td>67</td>\n",
              "      <td>1</td>\n",
              "      <td>120</td>\n",
              "      <td>229</td>\n",
              "      <td>0</td>\n",
              "      <td>129</td>\n",
              "      <td>1</td>\n",
              "      <td>2.6</td>\n",
              "      <td>2</td>\n",
              "      <td>1</td>\n",
              "      <td>0</td>\n",
              "      <td>0</td>\n",
              "      <td>0</td>\n",
              "      <td>1</td>\n",
              "      <td>0</td>\n",
              "      <td>0</td>\n",
              "      <td>1</td>\n",
              "      <td>0</td>\n",
              "      <td>1</td>\n",
              "      <td>0</td>\n",
              "      <td>0</td>\n",
              "      <td>0</td>\n",
              "      <td>1</td>\n",
              "    </tr>\n",
              "    <tr>\n",
              "      <th>3</th>\n",
              "      <td>37</td>\n",
              "      <td>1</td>\n",
              "      <td>130</td>\n",
              "      <td>250</td>\n",
              "      <td>0</td>\n",
              "      <td>187</td>\n",
              "      <td>0</td>\n",
              "      <td>3.5</td>\n",
              "      <td>0</td>\n",
              "      <td>0</td>\n",
              "      <td>0</td>\n",
              "      <td>0</td>\n",
              "      <td>1</td>\n",
              "      <td>0</td>\n",
              "      <td>1</td>\n",
              "      <td>0</td>\n",
              "      <td>0</td>\n",
              "      <td>0</td>\n",
              "      <td>0</td>\n",
              "      <td>1</td>\n",
              "      <td>1</td>\n",
              "      <td>0</td>\n",
              "      <td>0</td>\n",
              "    </tr>\n",
              "    <tr>\n",
              "      <th>4</th>\n",
              "      <td>41</td>\n",
              "      <td>0</td>\n",
              "      <td>130</td>\n",
              "      <td>204</td>\n",
              "      <td>0</td>\n",
              "      <td>172</td>\n",
              "      <td>0</td>\n",
              "      <td>1.4</td>\n",
              "      <td>0</td>\n",
              "      <td>0</td>\n",
              "      <td>0</td>\n",
              "      <td>1</td>\n",
              "      <td>0</td>\n",
              "      <td>0</td>\n",
              "      <td>1</td>\n",
              "      <td>0</td>\n",
              "      <td>0</td>\n",
              "      <td>1</td>\n",
              "      <td>0</td>\n",
              "      <td>0</td>\n",
              "      <td>0</td>\n",
              "      <td>0</td>\n",
              "      <td>1</td>\n",
              "    </tr>\n",
              "  </tbody>\n",
              "</table>\n",
              "</div>"
            ],
            "text/plain": [
              "   age  sex  trestbps  chol  ...  slope_3  restecg_0  restecg_1  restecg_2\n",
              "0   63    1       145   233  ...        1          0          0          1\n",
              "1   67    1       160   286  ...        0          0          0          1\n",
              "2   67    1       120   229  ...        0          0          0          1\n",
              "3   37    1       130   250  ...        1          1          0          0\n",
              "4   41    0       130   204  ...        0          0          0          1\n",
              "\n",
              "[5 rows x 23 columns]"
            ]
          },
          "metadata": {
            "tags": []
          },
          "execution_count": 59
        }
      ]
    },
    {
      "cell_type": "markdown",
      "metadata": {
        "id": "YA1VTrFM-BXA",
        "colab_type": "text"
      },
      "source": [
        "__Outlier analysis__<br>\n",
        "PCA will try to maximize the variance of data."
      ]
    },
    {
      "cell_type": "code",
      "metadata": {
        "id": "a6FdN4RE-BXA",
        "colab_type": "code",
        "colab": {
          "base_uri": "https://localhost:8080/",
          "height": 281
        },
        "outputId": "57ab68c5-b216-4840-d062-0f930052242e"
      },
      "source": [
        "from sklearn.decomposition import PCA\n",
        "clf = PCA(n_components=2)\n",
        "data_cols = [col for col in new_df.columns if col != \"num\"]\n",
        "X = new_df[data_cols]\n",
        "y = new_df[\"num\"]\n",
        "X_trans = clf.fit(X, y).transform(X)\n",
        "sns.scatterplot(X_trans[y == 0][:, 0], X_trans[y == 0][:, 1], color=\"b\", label=\"without HD\")\n",
        "sns.scatterplot(X_trans[y == 1][:, 0], X_trans[y == 1][:, 1], color=\"r\", label=\"with HD\")\n",
        "plt.title(\"PCA analysis of heart disease classification\")\n",
        "plt.legend()\n",
        "plt.show()"
      ],
      "execution_count": 60,
      "outputs": [
        {
          "output_type": "display_data",
          "data": {
            "image/png": "[encoded data removed]",
            "text/plain": [
              "<Figure size 432x288 with 1 Axes>"
            ]
          },
          "metadata": {
            "tags": []
          }
        }
      ]
    },
    {
      "cell_type": "markdown",
      "metadata": {
        "id": "QnCJiL9w-BXE",
        "colab_type": "text"
      },
      "source": [
        "There are outliers at about (310, -20) and potentially also around (150, -10).<br>\n",
        "If the model will be greatly affected by outliers sklearn.covariance.EllipticEnvelope could be used to drop them."
      ]
    },
    {
      "cell_type": "markdown",
      "metadata": {
        "id": "s4B2JF3e-BXF",
        "colab_type": "text"
      },
      "source": [
        "## Train Neural Network"
      ]
    },
    {
      "cell_type": "code",
      "metadata": {
        "id": "CriSBL9p-BXG",
        "colab_type": "code",
        "colab": {}
      },
      "source": [
        "from sklearn.utils import shuffle\n",
        "from sklearn.model_selection import train_test_split\n",
        "\n",
        "new_df_shfl = shuffle(new_df, random_state=443)\n",
        "X = new_df_shfl[data_cols].values\n",
        "y = new_df_shfl[\"num\"].values\n",
        "X_train, X_test, y_train, y_test = train_test_split(X, y, test_size=0.2, random_state=21)\n",
        "X_train, X_valid, y_train, y_valid = train_test_split(X, y, test_size=0.25, random_state=80)\n"
      ],
      "execution_count": 0,
      "outputs": []
    },
    {
      "cell_type": "code",
      "metadata": {
        "id": "zKGyA0fP-BXI",
        "colab_type": "code",
        "colab": {}
      },
      "source": [
        "num_epochs = 5000\n",
        "log_inteval = 250\n",
        "total_losses = []\n",
        "total_val_losses = []\n",
        "lr = 1e-4\n",
        "lr_decay_inteval = 2500\n",
        "lr_decay_rate = 0.3"
      ],
      "execution_count": 0,
      "outputs": []
    },
    {
      "cell_type": "code",
      "metadata": {
        "id": "1QD2LTAk-BXK",
        "colab_type": "code",
        "colab": {
          "base_uri": "https://localhost:8080/",
          "height": 170
        },
        "outputId": "858ef024-972a-402e-8c89-0dfcb9bdd4db"
      },
      "source": [
        "import torch\n",
        "from torch import nn, optim\n",
        "model = nn.Sequential(\n",
        "    nn.Linear(len(data_cols), 80),\n",
        "    nn.ReLU(),\n",
        "    nn.Dropout(0.3),\n",
        "    nn.Linear(80, 256),\n",
        "    nn.ReLU(),\n",
        "    nn.Dropout(0.6),\n",
        "    nn.Linear(256, 1),\n",
        ")\n",
        "loss_fn = torch.nn.BCELoss()\n",
        "opt = optim.Adam(model.parameters(), lr=lr)\n",
        "\n",
        "def init_normal(m):\n",
        "    if type(m) == nn.Linear:\n",
        "        nn.init.xavier_normal_(m.weight, 0.06)\n",
        "\n",
        "model.apply(init_normal)"
      ],
      "execution_count": 63,
      "outputs": [
        {
          "output_type": "execute_result",
          "data": {
            "text/plain": [
              "Sequential(\n",
              "  (0): Linear(in_features=22, out_features=80, bias=True)\n",
              "  (1): ReLU()\n",
              "  (2): Dropout(p=0.3, inplace=False)\n",
              "  (3): Linear(in_features=80, out_features=256, bias=True)\n",
              "  (4): ReLU()\n",
              "  (5): Dropout(p=0.6, inplace=False)\n",
              "  (6): Linear(in_features=256, out_features=1, bias=True)\n",
              ")"
            ]
          },
          "metadata": {
            "tags": []
          },
          "execution_count": 63
        }
      ]
    },
    {
      "cell_type": "code",
      "metadata": {
        "id": "-igdNzpg-BXM",
        "colab_type": "code",
        "colab": {
          "base_uri": "https://localhost:8080/",
          "height": 340
        },
        "outputId": "221484a6-8eb1-448e-997c-b8f365142bc8"
      },
      "source": [
        "for epoch in range(1, num_epochs+1):\n",
        "    y_pred = model(torch.tensor(X_train, dtype=torch.float))\n",
        "    y_pred = torch.sigmoid(y_pred)\n",
        "    opt.zero_grad()\n",
        "    loss = loss_fn(y_pred[:, 0], torch.tensor(y_train, dtype=torch.float))\n",
        "    loss.backward()\n",
        "    opt.step()\n",
        "    total_losses.append(loss.item())\n",
        "    if epoch % log_inteval == 0: # Logging\n",
        "        epochs_ran = epoch\n",
        "        model.eval()\n",
        "        with torch.no_grad():\n",
        "            y_pred = model(torch.tensor(X_test, dtype=torch.float))\n",
        "            y_pred = torch.sigmoid(y_pred)\n",
        "            val_loss = loss_fn(y_pred[:, 0], torch.tensor(y_test, dtype=torch.float))\n",
        "            total_val_losses.append(val_loss.item())\n",
        "        model.train()\n",
        "        print(\"total loss in epoch {} = {}, validation loss = {}, lr = {}\".format(epoch, '%.4f'%loss, '%.4f'%val_loss, '%.2e'%lr))\n",
        "        if len(total_val_losses) > 3 and val_loss.item() > total_val_losses[-2] and val_loss.item() > total_val_losses[-3]:\n",
        "            print(\"Validation loss not improving for {} epochs, stopping...\".format(log_inteval*2))\n",
        "            break\n",
        "    if epoch % lr_decay_inteval == 0: # Learning rate decay\n",
        "        lr *= lr_decay_rate\n",
        "        for param_group in opt.param_groups:\n",
        "            param_group['lr'] = lr"
      ],
      "execution_count": 64,
      "outputs": [
        {
          "output_type": "stream",
          "text": [
            "total loss in epoch 250 = 0.5388, validation loss = 0.5277, lr = 1.00e-04\n",
            "total loss in epoch 500 = 0.4292, validation loss = 0.4202, lr = 1.00e-04\n",
            "total loss in epoch 750 = 0.3240, validation loss = 0.3303, lr = 1.00e-04\n",
            "total loss in epoch 1000 = 0.2821, validation loss = 0.2885, lr = 1.00e-04\n",
            "total loss in epoch 1250 = 0.2454, validation loss = 0.2545, lr = 1.00e-04\n",
            "total loss in epoch 1500 = 0.2295, validation loss = 0.2265, lr = 1.00e-04\n",
            "total loss in epoch 1750 = 0.2067, validation loss = 0.2122, lr = 1.00e-04\n",
            "total loss in epoch 2000 = 0.1886, validation loss = 0.1966, lr = 1.00e-04\n",
            "total loss in epoch 2250 = 0.1557, validation loss = 0.1854, lr = 1.00e-04\n",
            "total loss in epoch 2500 = 0.1581, validation loss = 0.1877, lr = 1.00e-04\n",
            "total loss in epoch 2750 = 0.1560, validation loss = 0.1757, lr = 3.00e-05\n",
            "total loss in epoch 3000 = 0.1537, validation loss = 0.1726, lr = 3.00e-05\n",
            "total loss in epoch 3250 = 0.1283, validation loss = 0.1720, lr = 3.00e-05\n",
            "total loss in epoch 3500 = 0.1496, validation loss = 0.1693, lr = 3.00e-05\n",
            "total loss in epoch 3750 = 0.1283, validation loss = 0.1711, lr = 3.00e-05\n",
            "total loss in epoch 4000 = 0.1384, validation loss = 0.1674, lr = 3.00e-05\n",
            "total loss in epoch 4250 = 0.1322, validation loss = 0.1656, lr = 3.00e-05\n",
            "total loss in epoch 4500 = 0.1416, validation loss = 0.1684, lr = 3.00e-05\n",
            "Validation loss not improving for 500 epochs, stopping...\n"
          ],
          "name": "stdout"
        }
      ]
    },
    {
      "cell_type": "code",
      "metadata": {
        "id": "hgufs0og-BXP",
        "colab_type": "code",
        "colab": {
          "base_uri": "https://localhost:8080/",
          "height": 281
        },
        "outputId": "56bc08a9-0d1f-4a3b-eee3-34ef7725a030"
      },
      "source": [
        "plt.plot(total_losses, 'b', label=\"train\")\n",
        "plt.plot(np.array(range(epochs_ran // log_inteval)) * log_inteval + log_inteval, total_val_losses, 'r', label=\"valid\")\n",
        "plt.ylim([0, 1])\n",
        "plt.title(\"Learning curve\")\n",
        "plt.legend()\n",
        "plt.show()"
      ],
      "execution_count": 65,
      "outputs": [
        {
          "output_type": "display_data",
          "data": {
            "image/png": "[encoded data removed]",
            "text/plain": [
              "<Figure size 432x288 with 1 Axes>"
            ]
          },
          "metadata": {
            "tags": []
          }
        }
      ]
    },
    {
      "cell_type": "code",
      "metadata": {
        "id": "dMEPMgpy-BXR",
        "colab_type": "code",
        "colab": {
          "base_uri": "https://localhost:8080/",
          "height": 128
        },
        "outputId": "b862be33-9cd3-4869-a5d8-bda2696c3f2d"
      },
      "source": [
        "from sklearn.metrics import confusion_matrix\n",
        "with torch.no_grad():\n",
        "    model.eval()\n",
        "    y_pred = model(torch.tensor(X_test, dtype=torch.float))\n",
        "    y_pred_lbl = np.where(y_pred.numpy() > 0, 1, 0)\n",
        "cm = pd.DataFrame(confusion_matrix(y_test, y_pred_lbl), columns=[\"T\", \"F\"], index=[\"P\", \"N\"])\n",
        "print(\"Accuracy = %.2f%%\" % ((cm.iloc[0, 0] + cm.iloc[1, 1]) / float(cm.values.sum()) * 100))\n",
        "cm\n"
      ],
      "execution_count": 66,
      "outputs": [
        {
          "output_type": "stream",
          "text": [
            "Accuracy = 95.00%\n"
          ],
          "name": "stdout"
        },
        {
          "output_type": "execute_result",
          "data": {
            "text/html": [
              "<div>\n",
              "<style scoped>\n",
              "    .dataframe tbody tr th:only-of-type {\n",
              "        vertical-align: middle;\n",
              "    }\n",
              "\n",
              "    .dataframe tbody tr th {\n",
              "        vertical-align: top;\n",
              "    }\n",
              "\n",
              "    .dataframe thead th {\n",
              "        text-align: right;\n",
              "    }\n",
              "</style>\n",
              "<table border=\"1\" class=\"dataframe\">\n",
              "  <thead>\n",
              "    <tr style=\"text-align: right;\">\n",
              "      <th></th>\n",
              "      <th>T</th>\n",
              "      <th>F</th>\n",
              "    </tr>\n",
              "  </thead>\n",
              "  <tbody>\n",
              "    <tr>\n",
              "      <th>P</th>\n",
              "      <td>32</td>\n",
              "      <td>2</td>\n",
              "    </tr>\n",
              "    <tr>\n",
              "      <th>N</th>\n",
              "      <td>1</td>\n",
              "      <td>25</td>\n",
              "    </tr>\n",
              "  </tbody>\n",
              "</table>\n",
              "</div>"
            ],
            "text/plain": [
              "    T   F\n",
              "P  32   2\n",
              "N   1  25"
            ]
          },
          "metadata": {
            "tags": []
          },
          "execution_count": 66
        }
      ]
    },
    {
      "cell_type": "markdown",
      "metadata": {
        "id": "5krdJpJ5-BXT",
        "colab_type": "text"
      },
      "source": [
        "## Gradient boost\n",
        "Lightgbm instead uses gradient boost to train a decision tree model."
      ]
    },
    {
      "cell_type": "code",
      "metadata": {
        "id": "sYPoIopz-BXU",
        "colab_type": "code",
        "colab": {}
      },
      "source": [
        "import lightgbm as lgb\n",
        "\n",
        "lgb_train = lgb.Dataset(X_train, y_train)\n",
        "lgb_valid = lgb.Dataset(X_valid, y_valid, reference=lgb_train)"
      ],
      "execution_count": 0,
      "outputs": []
    },
    {
      "cell_type": "code",
      "metadata": {
        "id": "PY4pNrXB-BXX",
        "colab_type": "code",
        "colab": {
          "base_uri": "https://localhost:8080/",
          "height": 187
        },
        "outputId": "fbb4b166-dcb9-4b4d-db71-537f1db8116f"
      },
      "source": [
        "params = {\n",
        "    \"num_iterations\": 1000,\n",
        "    \"num_leaves\": 63,\n",
        "    \"max_depth\": 7,\n",
        "    \"max_bin\": 500,\n",
        "    \"learning_rate\": 0.001,\n",
        "    \"min_data_in_leaf\": 1,\n",
        "    \"objective\": \"binary\",\n",
        "    \"metric\": [\"binary\"],\n",
        "}\n",
        "\n",
        "bst = lgb.train(params, lgb_train, valid_sets=[lgb_valid], early_stopping_rounds=50, verbose_eval=100)"
      ],
      "execution_count": 68,
      "outputs": [
        {
          "output_type": "stream",
          "text": [
            "Training until validation scores don't improve for 50 rounds.\n",
            "[100]\tvalid_0's binary_logloss: 0.648197\n",
            "[200]\tvalid_0's binary_logloss: 0.613811\n",
            "[300]\tvalid_0's binary_logloss: 0.588286\n",
            "[400]\tvalid_0's binary_logloss: 0.570185\n",
            "[500]\tvalid_0's binary_logloss: 0.561455\n",
            "[600]\tvalid_0's binary_logloss: 0.557171\n",
            "[700]\tvalid_0's binary_logloss: 0.556717\n",
            "Early stopping, best iteration is:\n",
            "[663]\tvalid_0's binary_logloss: 0.556469\n"
          ],
          "name": "stdout"
        }
      ]
    },
    {
      "cell_type": "code",
      "metadata": {
        "id": "0AP8-qOu-BXb",
        "colab_type": "code",
        "colab": {
          "base_uri": "https://localhost:8080/",
          "height": 128
        },
        "outputId": "65b132e9-4527-4989-a3e4-83d9a3f35217"
      },
      "source": [
        "y_pred = bst.predict(X_test)\n",
        "y_pred_lbl = np.where(y_pred > 0.5, 1, 0)\n",
        "cm = pd.DataFrame(confusion_matrix(y_test, y_pred_lbl), columns=[\"T\", \"F\"], index=[\"P\", \"N\"])\n",
        "print(\"Accuracy = %.2f%%\" % ((cm.iloc[0, 0] + cm.iloc[1, 1]) / float(cm.values.sum()) * 100))\n",
        "cm\n"
      ],
      "execution_count": 69,
      "outputs": [
        {
          "output_type": "stream",
          "text": [
            "Accuracy = 95.00%\n"
          ],
          "name": "stdout"
        },
        {
          "output_type": "execute_result",
          "data": {
            "text/html": [
              "<div>\n",
              "<style scoped>\n",
              "    .dataframe tbody tr th:only-of-type {\n",
              "        vertical-align: middle;\n",
              "    }\n",
              "\n",
              "    .dataframe tbody tr th {\n",
              "        vertical-align: top;\n",
              "    }\n",
              "\n",
              "    .dataframe thead th {\n",
              "        text-align: right;\n",
              "    }\n",
              "</style>\n",
              "<table border=\"1\" class=\"dataframe\">\n",
              "  <thead>\n",
              "    <tr style=\"text-align: right;\">\n",
              "      <th></th>\n",
              "      <th>T</th>\n",
              "      <th>F</th>\n",
              "    </tr>\n",
              "  </thead>\n",
              "  <tbody>\n",
              "    <tr>\n",
              "      <th>P</th>\n",
              "      <td>31</td>\n",
              "      <td>3</td>\n",
              "    </tr>\n",
              "    <tr>\n",
              "      <th>N</th>\n",
              "      <td>0</td>\n",
              "      <td>26</td>\n",
              "    </tr>\n",
              "  </tbody>\n",
              "</table>\n",
              "</div>"
            ],
            "text/plain": [
              "    T   F\n",
              "P  31   3\n",
              "N   0  26"
            ]
          },
          "metadata": {
            "tags": []
          },
          "execution_count": 69
        }
      ]
    },
    {
      "cell_type": "code",
      "metadata": {
        "id": "GV2hXqjn-BXd",
        "colab_type": "code",
        "colab": {}
      },
      "source": [
        ""
      ],
      "execution_count": 0,
      "outputs": []
    }
  ]
}