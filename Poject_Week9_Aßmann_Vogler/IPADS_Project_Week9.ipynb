{
  "nbformat": 4,
  "nbformat_minor": 0,
  "metadata": {
    "colab": {
      "name": "IPADS_Project_Week9.ipynb",
      "provenance": [],
      "collapsed_sections": [],
      "toc_visible": true
    },
    "kernelspec": {
      "name": "python3",
      "display_name": "Python 3"
    }
  },
  "cells": [
    {
      "cell_type": "markdown",
      "metadata": {
        "id": "50X7BKwR0tLy",
        "colab_type": "text"
      },
      "source": [
        "# Reanalyze the data from the Kosinski study\n",
        "Eva Aßmann<br>\n",
        "Paul Vogler\n",
        "\n",
        "https://www.michalkosinski.com/data-mining-tutorial\n",
        "\n"
      ]
    },
    {
      "cell_type": "markdown",
      "metadata": {
        "id": "cC_wwCPg1C1E",
        "colab_type": "text"
      },
      "source": [
        "# Imports"
      ]
    },
    {
      "cell_type": "code",
      "metadata": {
        "id": "dNt8S2hA1EY8",
        "colab_type": "code",
        "outputId": "281a819d-9f3c-42a2-bcb0-a6417b5f7815",
        "colab": {
          "base_uri": "https://localhost:8080/",
          "height": 122
        }
      },
      "source": [
        "import pandas as pd\n",
        "import numpy as np\n",
        "from google.colab import drive\n",
        "drive.mount('/content/drive')"
      ],
      "execution_count": 0,
      "outputs": [
        {
          "output_type": "stream",
          "text": [
            "Go to this URL in a browser: https://accounts.google.com/o/oauth2/auth?client_id=947318989803-6bn6qk8qdgf4n4g3pfee6491hc0brc4i.apps.googleusercontent.com&redirect_uri=urn%3aietf%3awg%3aoauth%3a2.0%3aoob&response_type=code&scope=email%20https%3a%2f%2fwww.googleapis.com%2fauth%2fdocs.test%20https%3a%2f%2fwww.googleapis.com%2fauth%2fdrive%20https%3a%2f%2fwww.googleapis.com%2fauth%2fdrive.photos.readonly%20https%3a%2f%2fwww.googleapis.com%2fauth%2fpeopleapi.readonly\n",
            "\n",
            "Enter your authorization code:\n",
            "··········\n",
            "Mounted at /content/drive\n"
          ],
          "name": "stdout"
        }
      ]
    },
    {
      "cell_type": "code",
      "metadata": {
        "id": "WZ9R5gFX_BXU",
        "colab_type": "code",
        "colab": {}
      },
      "source": [
        "from scipy.sparse import coo_matrix, csr_matrix\n",
        "from sklearn.decomposition import LatentDirichletAllocation\n",
        "import matplotlib.pyplot as plt\n",
        "%matplotlib inline \n",
        "import seaborn as sns"
      ],
      "execution_count": 0,
      "outputs": []
    },
    {
      "cell_type": "markdown",
      "metadata": {
        "id": "KsBsep2A0sXj",
        "colab_type": "text"
      },
      "source": [
        "# Hands-On: Sample Big Data Set"
      ]
    },
    {
      "cell_type": "code",
      "metadata": {
        "id": "EJBxzOtC0AGg",
        "colab_type": "code",
        "colab": {}
      },
      "source": [
        "users = pd.read_csv('/content/drive/My Drive/sample_dataset/users.csv')\n",
        "likes = pd.read_csv('/content/drive/My Drive/sample_dataset/likes.csv')\n",
        "userlikes = pd.read_csv('/content/drive/My Drive/sample_dataset/users-likes.csv')"
      ],
      "execution_count": 0,
      "outputs": []
    },
    {
      "cell_type": "markdown",
      "metadata": {
        "id": "OpH12SJd6VFB",
        "colab_type": "text"
      },
      "source": [
        "## users"
      ]
    },
    {
      "cell_type": "code",
      "metadata": {
        "id": "Ab2fwWPp4uh1",
        "colab_type": "code",
        "outputId": "cd40a6ed-bfab-4494-be56-9d081b776230",
        "colab": {
          "base_uri": "https://localhost:8080/",
          "height": 255
        }
      },
      "source": [
        "users.info()"
      ],
      "execution_count": 0,
      "outputs": [
        {
          "output_type": "stream",
          "text": [
            "<class 'pandas.core.frame.DataFrame'>\n",
            "RangeIndex: 110728 entries, 0 to 110727\n",
            "Data columns (total 9 columns):\n",
            "userid       110728 non-null object\n",
            "gender       110728 non-null int64\n",
            "age          110728 non-null int64\n",
            "political    27808 non-null float64\n",
            "ope          110728 non-null float64\n",
            "con          110728 non-null float64\n",
            "ext          110728 non-null float64\n",
            "agr          110728 non-null float64\n",
            "neu          110728 non-null float64\n",
            "dtypes: float64(6), int64(2), object(1)\n",
            "memory usage: 7.6+ MB\n"
          ],
          "name": "stdout"
        }
      ]
    },
    {
      "cell_type": "code",
      "metadata": {
        "id": "gBD-6HQ45A2C",
        "colab_type": "code",
        "outputId": "5c17c414-4839-4242-b8c2-17c7b3f824b4",
        "colab": {
          "base_uri": "https://localhost:8080/",
          "height": 297
        }
      },
      "source": [
        "users[['age','ope','con','ext','agr','neu']].describe()"
      ],
      "execution_count": 0,
      "outputs": [
        {
          "output_type": "execute_result",
          "data": {
            "text/html": [
              "<div>\n",
              "<style scoped>\n",
              "    .dataframe tbody tr th:only-of-type {\n",
              "        vertical-align: middle;\n",
              "    }\n",
              "\n",
              "    .dataframe tbody tr th {\n",
              "        vertical-align: top;\n",
              "    }\n",
              "\n",
              "    .dataframe thead th {\n",
              "        text-align: right;\n",
              "    }\n",
              "</style>\n",
              "<table border=\"1\" class=\"dataframe\">\n",
              "  <thead>\n",
              "    <tr style=\"text-align: right;\">\n",
              "      <th></th>\n",
              "      <th>age</th>\n",
              "      <th>ope</th>\n",
              "      <th>con</th>\n",
              "      <th>ext</th>\n",
              "      <th>agr</th>\n",
              "      <th>neu</th>\n",
              "    </tr>\n",
              "  </thead>\n",
              "  <tbody>\n",
              "    <tr>\n",
              "      <th>count</th>\n",
              "      <td>110728.000000</td>\n",
              "      <td>110728.000000</td>\n",
              "      <td>110728.000000</td>\n",
              "      <td>110728.00000</td>\n",
              "      <td>110728.000000</td>\n",
              "      <td>110728.000000</td>\n",
              "    </tr>\n",
              "    <tr>\n",
              "      <th>mean</th>\n",
              "      <td>29.710534</td>\n",
              "      <td>0.028386</td>\n",
              "      <td>-0.005419</td>\n",
              "      <td>-0.01115</td>\n",
              "      <td>0.000883</td>\n",
              "      <td>0.006901</td>\n",
              "    </tr>\n",
              "    <tr>\n",
              "      <th>std</th>\n",
              "      <td>7.919357</td>\n",
              "      <td>0.993904</td>\n",
              "      <td>0.998988</td>\n",
              "      <td>1.00165</td>\n",
              "      <td>0.999586</td>\n",
              "      <td>1.003009</td>\n",
              "    </tr>\n",
              "    <tr>\n",
              "      <th>min</th>\n",
              "      <td>18.000000</td>\n",
              "      <td>-5.490000</td>\n",
              "      <td>-3.670000</td>\n",
              "      <td>-3.08000</td>\n",
              "      <td>-4.340000</td>\n",
              "      <td>-2.130000</td>\n",
              "    </tr>\n",
              "    <tr>\n",
              "      <th>25%</th>\n",
              "      <td>25.000000</td>\n",
              "      <td>-0.590000</td>\n",
              "      <td>-0.720000</td>\n",
              "      <td>-0.71000</td>\n",
              "      <td>-0.590000</td>\n",
              "      <td>-0.760000</td>\n",
              "    </tr>\n",
              "    <tr>\n",
              "      <th>50%</th>\n",
              "      <td>27.000000</td>\n",
              "      <td>0.150000</td>\n",
              "      <td>0.020000</td>\n",
              "      <td>0.11000</td>\n",
              "      <td>0.070000</td>\n",
              "      <td>-0.070000</td>\n",
              "    </tr>\n",
              "    <tr>\n",
              "      <th>75%</th>\n",
              "      <td>32.000000</td>\n",
              "      <td>0.790000</td>\n",
              "      <td>0.690000</td>\n",
              "      <td>0.73000</td>\n",
              "      <td>0.740000</td>\n",
              "      <td>0.740000</td>\n",
              "    </tr>\n",
              "    <tr>\n",
              "      <th>max</th>\n",
              "      <td>80.000000</td>\n",
              "      <td>1.900000</td>\n",
              "      <td>2.240000</td>\n",
              "      <td>1.92000</td>\n",
              "      <td>2.320000</td>\n",
              "      <td>2.850000</td>\n",
              "    </tr>\n",
              "  </tbody>\n",
              "</table>\n",
              "</div>"
            ],
            "text/plain": [
              "                 age            ope  ...            agr            neu\n",
              "count  110728.000000  110728.000000  ...  110728.000000  110728.000000\n",
              "mean       29.710534       0.028386  ...       0.000883       0.006901\n",
              "std         7.919357       0.993904  ...       0.999586       1.003009\n",
              "min        18.000000      -5.490000  ...      -4.340000      -2.130000\n",
              "25%        25.000000      -0.590000  ...      -0.590000      -0.760000\n",
              "50%        27.000000       0.150000  ...       0.070000      -0.070000\n",
              "75%        32.000000       0.790000  ...       0.740000       0.740000\n",
              "max        80.000000       1.900000  ...       2.320000       2.850000\n",
              "\n",
              "[8 rows x 6 columns]"
            ]
          },
          "metadata": {
            "tags": []
          },
          "execution_count": 6
        }
      ]
    },
    {
      "cell_type": "code",
      "metadata": {
        "id": "zEUDYIFz45SC",
        "colab_type": "code",
        "outputId": "99f309af-e289-43be-b45f-7dc1dfc591fd",
        "colab": {
          "base_uri": "https://localhost:8080/",
          "height": 153
        }
      },
      "source": [
        "for elem in ['gender','political']:\n",
        "  print(elem)\n",
        "  print(users[elem].unique())\n",
        "  print('\\n')"
      ],
      "execution_count": 0,
      "outputs": [
        {
          "output_type": "stream",
          "text": [
            "gender\n",
            "[0 1]\n",
            "\n",
            "\n",
            "political\n",
            "[ 0. nan  1.]\n",
            "\n",
            "\n"
          ],
          "name": "stdout"
        }
      ]
    },
    {
      "cell_type": "markdown",
      "metadata": {
        "id": "YwiVuHXS6KqR",
        "colab_type": "text"
      },
      "source": [
        "__impute missing political views with -1__"
      ]
    },
    {
      "cell_type": "code",
      "metadata": {
        "id": "SkxBaa2Dm0gS",
        "colab_type": "code",
        "outputId": "d6bcf3b1-af7d-4f0d-dd64-f73576876d19",
        "colab": {
          "base_uri": "https://localhost:8080/",
          "height": 34
        }
      },
      "source": [
        "110728-27808"
      ],
      "execution_count": 0,
      "outputs": [
        {
          "output_type": "execute_result",
          "data": {
            "text/plain": [
              "82920"
            ]
          },
          "metadata": {
            "tags": []
          },
          "execution_count": 8
        }
      ]
    },
    {
      "cell_type": "markdown",
      "metadata": {
        "id": "FZPLVVULjvDh",
        "colab_type": "text"
      },
      "source": [
        "__ IMPUTATION NOT NECESSARY SINCE PD.CORR() LATER IGNORES NAN CASES__"
      ]
    },
    {
      "cell_type": "code",
      "metadata": {
        "id": "JjS7AiZK5f5v",
        "colab_type": "code",
        "colab": {}
      },
      "source": [
        "#users.political[users.political.isnull()] = -1"
      ],
      "execution_count": 0,
      "outputs": []
    },
    {
      "cell_type": "markdown",
      "metadata": {
        "id": "XZUM2VNV6X9m",
        "colab_type": "text"
      },
      "source": [
        "## likes"
      ]
    },
    {
      "cell_type": "code",
      "metadata": {
        "id": "WqzK4wdD6Qme",
        "colab_type": "code",
        "outputId": "e82985a3-e83b-43d8-9e25-9f1361a3ef72",
        "colab": {
          "base_uri": "https://localhost:8080/",
          "height": 136
        }
      },
      "source": [
        "likes.info()"
      ],
      "execution_count": 0,
      "outputs": [
        {
          "output_type": "stream",
          "text": [
            "<class 'pandas.core.frame.DataFrame'>\n",
            "RangeIndex: 1580284 entries, 0 to 1580283\n",
            "Data columns (total 2 columns):\n",
            "likeid    1580284 non-null object\n",
            "name      1580276 non-null object\n",
            "dtypes: object(2)\n",
            "memory usage: 24.1+ MB\n"
          ],
          "name": "stdout"
        }
      ]
    },
    {
      "cell_type": "code",
      "metadata": {
        "id": "dSMYlDQL6ZUW",
        "colab_type": "code",
        "outputId": "6637385c-a9c2-4c3d-bb3f-cd0a5a275313",
        "colab": {
          "base_uri": "https://localhost:8080/",
          "height": 204
        }
      },
      "source": [
        "likes.head()"
      ],
      "execution_count": 0,
      "outputs": [
        {
          "output_type": "execute_result",
          "data": {
            "text/html": [
              "<div>\n",
              "<style scoped>\n",
              "    .dataframe tbody tr th:only-of-type {\n",
              "        vertical-align: middle;\n",
              "    }\n",
              "\n",
              "    .dataframe tbody tr th {\n",
              "        vertical-align: top;\n",
              "    }\n",
              "\n",
              "    .dataframe thead th {\n",
              "        text-align: right;\n",
              "    }\n",
              "</style>\n",
              "<table border=\"1\" class=\"dataframe\">\n",
              "  <thead>\n",
              "    <tr style=\"text-align: right;\">\n",
              "      <th></th>\n",
              "      <th>likeid</th>\n",
              "      <th>name</th>\n",
              "    </tr>\n",
              "  </thead>\n",
              "  <tbody>\n",
              "    <tr>\n",
              "      <th>0</th>\n",
              "      <td>3c1636c878e6eb2acfd00c6b61086e38</td>\n",
              "      <td>REIGN by Paul Gibson</td>\n",
              "    </tr>\n",
              "    <tr>\n",
              "      <th>1</th>\n",
              "      <td>feca46ddb8ef04f86172ace0cb7e004c</td>\n",
              "      <td>Cupcake Wishes &amp; Birthday Dreams</td>\n",
              "    </tr>\n",
              "    <tr>\n",
              "      <th>2</th>\n",
              "      <td>b65f46d64c688fe98bdbcf93a76a71fc</td>\n",
              "      <td>Yo también me rei de la caída de otro jejeje</td>\n",
              "    </tr>\n",
              "    <tr>\n",
              "      <th>3</th>\n",
              "      <td>9c5c8bb82d2cd46fbd7582f944fe370e</td>\n",
              "      <td>Abraham Joshua Heschel Day School- Alumni Network</td>\n",
              "    </tr>\n",
              "    <tr>\n",
              "      <th>4</th>\n",
              "      <td>2d82fa84ad79b085dc516dde154327a2</td>\n",
              "      <td>Kennesaw Farmer's Market</td>\n",
              "    </tr>\n",
              "  </tbody>\n",
              "</table>\n",
              "</div>"
            ],
            "text/plain": [
              "                             likeid                                               name\n",
              "0  3c1636c878e6eb2acfd00c6b61086e38                               REIGN by Paul Gibson\n",
              "1  feca46ddb8ef04f86172ace0cb7e004c                   Cupcake Wishes & Birthday Dreams\n",
              "2  b65f46d64c688fe98bdbcf93a76a71fc       Yo también me rei de la caída de otro jejeje\n",
              "3  9c5c8bb82d2cd46fbd7582f944fe370e  Abraham Joshua Heschel Day School- Alumni Network\n",
              "4  2d82fa84ad79b085dc516dde154327a2                           Kennesaw Farmer's Market"
            ]
          },
          "metadata": {
            "tags": []
          },
          "execution_count": 11
        }
      ]
    },
    {
      "cell_type": "code",
      "metadata": {
        "id": "XK4waOpO6dkj",
        "colab_type": "code",
        "outputId": "d483a12f-8957-46e8-a674-20ac84395e26",
        "colab": {
          "base_uri": "https://localhost:8080/",
          "height": 297
        }
      },
      "source": [
        "likes[likes.name.isnull()]"
      ],
      "execution_count": 0,
      "outputs": [
        {
          "output_type": "execute_result",
          "data": {
            "text/html": [
              "<div>\n",
              "<style scoped>\n",
              "    .dataframe tbody tr th:only-of-type {\n",
              "        vertical-align: middle;\n",
              "    }\n",
              "\n",
              "    .dataframe tbody tr th {\n",
              "        vertical-align: top;\n",
              "    }\n",
              "\n",
              "    .dataframe thead th {\n",
              "        text-align: right;\n",
              "    }\n",
              "</style>\n",
              "<table border=\"1\" class=\"dataframe\">\n",
              "  <thead>\n",
              "    <tr style=\"text-align: right;\">\n",
              "      <th></th>\n",
              "      <th>likeid</th>\n",
              "      <th>name</th>\n",
              "    </tr>\n",
              "  </thead>\n",
              "  <tbody>\n",
              "    <tr>\n",
              "      <th>242345</th>\n",
              "      <td>f89e13f3e5acf2571250abea5258ee8b</td>\n",
              "      <td>NaN</td>\n",
              "    </tr>\n",
              "    <tr>\n",
              "      <th>243573</th>\n",
              "      <td>3565c7dc1d7eca1a1da2a55482710be3</td>\n",
              "      <td>NaN</td>\n",
              "    </tr>\n",
              "    <tr>\n",
              "      <th>249147</th>\n",
              "      <td>9757cd2f84bbf001e0ecd00941a44741</td>\n",
              "      <td>NaN</td>\n",
              "    </tr>\n",
              "    <tr>\n",
              "      <th>287307</th>\n",
              "      <td>c40d6dbce31b3aa668ba19e56bed8c1f</td>\n",
              "      <td>NaN</td>\n",
              "    </tr>\n",
              "    <tr>\n",
              "      <th>337312</th>\n",
              "      <td>030f177a989efd046bb88e6ffa4d2787</td>\n",
              "      <td>NaN</td>\n",
              "    </tr>\n",
              "    <tr>\n",
              "      <th>367556</th>\n",
              "      <td>ce13cdee7bf5e8296f970228d7f36602</td>\n",
              "      <td>NaN</td>\n",
              "    </tr>\n",
              "    <tr>\n",
              "      <th>474264</th>\n",
              "      <td>5746a300bdd53c1250c713e5d5c1b7fd</td>\n",
              "      <td>NaN</td>\n",
              "    </tr>\n",
              "    <tr>\n",
              "      <th>1541386</th>\n",
              "      <td>96375224bcf657249970ac048af00f79</td>\n",
              "      <td>NaN</td>\n",
              "    </tr>\n",
              "  </tbody>\n",
              "</table>\n",
              "</div>"
            ],
            "text/plain": [
              "                                   likeid name\n",
              "242345   f89e13f3e5acf2571250abea5258ee8b  NaN\n",
              "243573   3565c7dc1d7eca1a1da2a55482710be3  NaN\n",
              "249147   9757cd2f84bbf001e0ecd00941a44741  NaN\n",
              "287307   c40d6dbce31b3aa668ba19e56bed8c1f  NaN\n",
              "337312   030f177a989efd046bb88e6ffa4d2787  NaN\n",
              "367556   ce13cdee7bf5e8296f970228d7f36602  NaN\n",
              "474264   5746a300bdd53c1250c713e5d5c1b7fd  NaN\n",
              "1541386  96375224bcf657249970ac048af00f79  NaN"
            ]
          },
          "metadata": {
            "tags": []
          },
          "execution_count": 12
        }
      ]
    },
    {
      "cell_type": "markdown",
      "metadata": {
        "id": "CMB0TUIu6h3o",
        "colab_type": "text"
      },
      "source": [
        "__Impute missing names with 'no data'__"
      ]
    },
    {
      "cell_type": "code",
      "metadata": {
        "id": "Id73RufP6mSA",
        "colab_type": "code",
        "colab": {}
      },
      "source": [
        "likes.name[likes.name.isnull()] = 'no data'"
      ],
      "execution_count": 0,
      "outputs": []
    },
    {
      "cell_type": "markdown",
      "metadata": {
        "id": "3L5huI0k6sda",
        "colab_type": "text"
      },
      "source": [
        "## users-like"
      ]
    },
    {
      "cell_type": "code",
      "metadata": {
        "id": "pMczdAX16uDJ",
        "colab_type": "code",
        "outputId": "e349ff8b-19b3-4465-af23-e277bd4bc6ab",
        "colab": {
          "base_uri": "https://localhost:8080/",
          "height": 136
        }
      },
      "source": [
        "userlikes.info()"
      ],
      "execution_count": 0,
      "outputs": [
        {
          "output_type": "stream",
          "text": [
            "<class 'pandas.core.frame.DataFrame'>\n",
            "RangeIndex: 10612326 entries, 0 to 10612325\n",
            "Data columns (total 2 columns):\n",
            "userid    object\n",
            "likeid    object\n",
            "dtypes: object(2)\n",
            "memory usage: 161.9+ MB\n"
          ],
          "name": "stdout"
        }
      ]
    },
    {
      "cell_type": "code",
      "metadata": {
        "id": "hDYF8cXw6wkM",
        "colab_type": "code",
        "outputId": "a5a961c1-017b-4ce0-d162-c5fccaefbccc",
        "colab": {
          "base_uri": "https://localhost:8080/",
          "height": 204
        }
      },
      "source": [
        "userlikes.head()"
      ],
      "execution_count": 0,
      "outputs": [
        {
          "output_type": "execute_result",
          "data": {
            "text/html": [
              "<div>\n",
              "<style scoped>\n",
              "    .dataframe tbody tr th:only-of-type {\n",
              "        vertical-align: middle;\n",
              "    }\n",
              "\n",
              "    .dataframe tbody tr th {\n",
              "        vertical-align: top;\n",
              "    }\n",
              "\n",
              "    .dataframe thead th {\n",
              "        text-align: right;\n",
              "    }\n",
              "</style>\n",
              "<table border=\"1\" class=\"dataframe\">\n",
              "  <thead>\n",
              "    <tr style=\"text-align: right;\">\n",
              "      <th></th>\n",
              "      <th>userid</th>\n",
              "      <th>likeid</th>\n",
              "    </tr>\n",
              "  </thead>\n",
              "  <tbody>\n",
              "    <tr>\n",
              "      <th>0</th>\n",
              "      <td>71bc7c0901488aec6d30f0add257e7c5</td>\n",
              "      <td>3c1636c878e6eb2acfd00c6b61086e38</td>\n",
              "    </tr>\n",
              "    <tr>\n",
              "      <th>1</th>\n",
              "      <td>978ab8e90c4d6ad1a48ef5c973b62f4d</td>\n",
              "      <td>feca46ddb8ef04f86172ace0cb7e004c</td>\n",
              "    </tr>\n",
              "    <tr>\n",
              "      <th>2</th>\n",
              "      <td>85123b0e358907725cf19a2cb0ec3983</td>\n",
              "      <td>b65f46d64c688fe98bdbcf93a76a71fc</td>\n",
              "    </tr>\n",
              "    <tr>\n",
              "      <th>3</th>\n",
              "      <td>ce110562b3e2f7e5cad3775b32d9caa5</td>\n",
              "      <td>b65f46d64c688fe98bdbcf93a76a71fc</td>\n",
              "    </tr>\n",
              "    <tr>\n",
              "      <th>4</th>\n",
              "      <td>8188d20745471273fa69ba44a5b28473</td>\n",
              "      <td>b65f46d64c688fe98bdbcf93a76a71fc</td>\n",
              "    </tr>\n",
              "  </tbody>\n",
              "</table>\n",
              "</div>"
            ],
            "text/plain": [
              "                             userid                            likeid\n",
              "0  71bc7c0901488aec6d30f0add257e7c5  3c1636c878e6eb2acfd00c6b61086e38\n",
              "1  978ab8e90c4d6ad1a48ef5c973b62f4d  feca46ddb8ef04f86172ace0cb7e004c\n",
              "2  85123b0e358907725cf19a2cb0ec3983  b65f46d64c688fe98bdbcf93a76a71fc\n",
              "3  ce110562b3e2f7e5cad3775b32d9caa5  b65f46d64c688fe98bdbcf93a76a71fc\n",
              "4  8188d20745471273fa69ba44a5b28473  b65f46d64c688fe98bdbcf93a76a71fc"
            ]
          },
          "metadata": {
            "tags": []
          },
          "execution_count": 15
        }
      ]
    },
    {
      "cell_type": "code",
      "metadata": {
        "id": "TAq3DaxpjGo7",
        "colab_type": "code",
        "outputId": "5f21d9fb-f13c-4775-90cf-9995255ef814",
        "colab": {
          "base_uri": "https://localhost:8080/",
          "height": 34
        }
      },
      "source": [
        "users.shape[0] == userlikes.userid.unique().shape[0]"
      ],
      "execution_count": 0,
      "outputs": [
        {
          "output_type": "execute_result",
          "data": {
            "text/plain": [
              "True"
            ]
          },
          "metadata": {
            "tags": []
          },
          "execution_count": 16
        }
      ]
    },
    {
      "cell_type": "code",
      "metadata": {
        "id": "OGkO7XQQjL4r",
        "colab_type": "code",
        "outputId": "d13f0a98-2ba5-434d-ce3e-0acf249c96a5",
        "colab": {
          "base_uri": "https://localhost:8080/",
          "height": 34
        }
      },
      "source": [
        "likes.shape[0] == userlikes.likeid.unique().shape[0]"
      ],
      "execution_count": 0,
      "outputs": [
        {
          "output_type": "execute_result",
          "data": {
            "text/plain": [
              "True"
            ]
          },
          "metadata": {
            "tags": []
          },
          "execution_count": 17
        }
      ]
    },
    {
      "cell_type": "markdown",
      "metadata": {
        "id": "R3dthzvK1oBv",
        "colab_type": "text"
      },
      "source": [
        "# Hands-On: Constructing a User-Like Matrix\n",
        "https://www.rdocumentation.org/packages/Matrix/versions/1.2-18/topics/sparseMatrix \n",
        "\n",
        "https://docs.scipy.org/doc/scipy/reference/generated/scipy.sparse.coo_matrix.html#scipy.sparse.coo_matrix\n",
        "\n"
      ]
    },
    {
      "cell_type": "markdown",
      "metadata": {
        "id": "zf8ZflwCDLH6",
        "colab_type": "text"
      },
      "source": [
        "__Match entries in userlikes with IDs in users and likes__<br>\n",
        "Matched user and like ID indices will be row and column indices for user-like-relationship in sparse matrix)"
      ]
    },
    {
      "cell_type": "code",
      "metadata": {
        "id": "Zwmmo7hnxohB",
        "colab_type": "code",
        "colab": {}
      },
      "source": [
        "# FIRST APPROACH WAS TOO SLOW\n",
        "#match = lambda a, b: [ np.where(b == x)[0].item(0) if x in b else None for x in a ]\n",
        "#test = [match(userlikes.userid.values, users.userid.values)[0]]"
      ],
      "execution_count": 0,
      "outputs": []
    },
    {
      "cell_type": "markdown",
      "metadata": {
        "id": "bFTT2gU0HECa",
        "colab_type": "text"
      },
      "source": [
        "started 10:48"
      ]
    },
    {
      "cell_type": "code",
      "metadata": {
        "id": "gkRT5pdktC4l",
        "colab_type": "code",
        "colab": {}
      },
      "source": [
        "#SECOND APPROACH WAS TOO SLOW\n",
        "#def match(a,b):\n",
        "#  for i in range(b.shape[0]):\n",
        "#    if b[i] == a:\n",
        "#      return i\n",
        "#test = []\n",
        "#for x in userlikes.userid.values:\n",
        "#  test.append(match(x,users.userid.values))"
      ],
      "execution_count": 0,
      "outputs": []
    },
    {
      "cell_type": "markdown",
      "metadata": {
        "id": "fc99Yy06Qw93",
        "colab_type": "text"
      },
      "source": [
        "interrupt at 11:30:\n",
        "\n",
        "len(test) = 442001\n",
        "\n",
        "that is 4% of the size of the userlike object....\n",
        "\n"
      ]
    },
    {
      "cell_type": "code",
      "metadata": {
        "id": "Sd5nyE_kG7pC",
        "colab_type": "code",
        "colab": {}
      },
      "source": [
        "#test2 = []\n",
        "#for x in userlikes.likeid.values:\n",
        "#  test2.append(match(x,likes.likeid.values))"
      ],
      "execution_count": 0,
      "outputs": []
    },
    {
      "cell_type": "code",
      "metadata": {
        "id": "5-Ui3PnNVz36",
        "colab_type": "code",
        "colab": {}
      },
      "source": [
        "# THIRD APPROACH FOR MATCHING INDICES WAS SLOWER THAN THE FIRST ONE\n",
        "#matched_userid = []\n",
        "#for elem in userlikes.userid.values:\n",
        "#  x = users.userid[users.userid==elem].index[0]\n",
        "#  matched_userid.append(x)"
      ],
      "execution_count": 0,
      "outputs": []
    },
    {
      "cell_type": "code",
      "metadata": {
        "id": "c3BRayDq8HEO",
        "colab_type": "code",
        "colab": {}
      },
      "source": [
        "#matched_likeid = []\n",
        "#for elem in userlikes.likeid.values\n",
        "#  x = likes.likeid[likes.likeid==elem].index[0] \n",
        "#  matched_likeid.append(x)"
      ],
      "execution_count": 0,
      "outputs": []
    },
    {
      "cell_type": "code",
      "metadata": {
        "id": "VGLdAoxhWOaa",
        "colab_type": "code",
        "colab": {}
      },
      "source": [
        "users['idx']=users.index"
      ],
      "execution_count": 0,
      "outputs": []
    },
    {
      "cell_type": "code",
      "metadata": {
        "id": "C0D2IeqCWTMp",
        "colab_type": "code",
        "outputId": "3f303829-2b1b-4268-a266-f30a8c8136ec",
        "colab": {
          "base_uri": "https://localhost:8080/",
          "height": 204
        }
      },
      "source": [
        "users.head()"
      ],
      "execution_count": 0,
      "outputs": [
        {
          "output_type": "execute_result",
          "data": {
            "text/html": [
              "<div>\n",
              "<style scoped>\n",
              "    .dataframe tbody tr th:only-of-type {\n",
              "        vertical-align: middle;\n",
              "    }\n",
              "\n",
              "    .dataframe tbody tr th {\n",
              "        vertical-align: top;\n",
              "    }\n",
              "\n",
              "    .dataframe thead th {\n",
              "        text-align: right;\n",
              "    }\n",
              "</style>\n",
              "<table border=\"1\" class=\"dataframe\">\n",
              "  <thead>\n",
              "    <tr style=\"text-align: right;\">\n",
              "      <th></th>\n",
              "      <th>userid</th>\n",
              "      <th>gender</th>\n",
              "      <th>age</th>\n",
              "      <th>political</th>\n",
              "      <th>ope</th>\n",
              "      <th>con</th>\n",
              "      <th>ext</th>\n",
              "      <th>agr</th>\n",
              "      <th>neu</th>\n",
              "      <th>idx</th>\n",
              "    </tr>\n",
              "  </thead>\n",
              "  <tbody>\n",
              "    <tr>\n",
              "      <th>0</th>\n",
              "      <td>54f34605aebd63f7680e37ffd299af79</td>\n",
              "      <td>0</td>\n",
              "      <td>33</td>\n",
              "      <td>0.0</td>\n",
              "      <td>1.26</td>\n",
              "      <td>1.65</td>\n",
              "      <td>1.17</td>\n",
              "      <td>-1.76</td>\n",
              "      <td>0.61</td>\n",
              "      <td>0</td>\n",
              "    </tr>\n",
              "    <tr>\n",
              "      <th>1</th>\n",
              "      <td>86399f8c44ba54224b2e60177ca89fa9</td>\n",
              "      <td>1</td>\n",
              "      <td>35</td>\n",
              "      <td>0.0</td>\n",
              "      <td>1.07</td>\n",
              "      <td>0.17</td>\n",
              "      <td>-0.14</td>\n",
              "      <td>1.49</td>\n",
              "      <td>0.30</td>\n",
              "      <td>1</td>\n",
              "    </tr>\n",
              "    <tr>\n",
              "      <th>2</th>\n",
              "      <td>84fab50f3c60d1fdc83aa91b5e584a78</td>\n",
              "      <td>1</td>\n",
              "      <td>36</td>\n",
              "      <td>0.0</td>\n",
              "      <td>0.89</td>\n",
              "      <td>1.28</td>\n",
              "      <td>0.86</td>\n",
              "      <td>1.07</td>\n",
              "      <td>0.99</td>\n",
              "      <td>2</td>\n",
              "    </tr>\n",
              "    <tr>\n",
              "      <th>3</th>\n",
              "      <td>f3b8fdaccce12ef6352bfad4d6052fe9</td>\n",
              "      <td>0</td>\n",
              "      <td>39</td>\n",
              "      <td>NaN</td>\n",
              "      <td>0.33</td>\n",
              "      <td>-1.01</td>\n",
              "      <td>-0.33</td>\n",
              "      <td>-0.68</td>\n",
              "      <td>0.92</td>\n",
              "      <td>3</td>\n",
              "    </tr>\n",
              "    <tr>\n",
              "      <th>4</th>\n",
              "      <td>8b06ea5e9cb87c61da387995450607f7</td>\n",
              "      <td>0</td>\n",
              "      <td>31</td>\n",
              "      <td>NaN</td>\n",
              "      <td>0.15</td>\n",
              "      <td>0.47</td>\n",
              "      <td>1.17</td>\n",
              "      <td>-1.01</td>\n",
              "      <td>-0.32</td>\n",
              "      <td>4</td>\n",
              "    </tr>\n",
              "  </tbody>\n",
              "</table>\n",
              "</div>"
            ],
            "text/plain": [
              "                             userid  gender  age  ...   agr   neu  idx\n",
              "0  54f34605aebd63f7680e37ffd299af79       0   33  ... -1.76  0.61    0\n",
              "1  86399f8c44ba54224b2e60177ca89fa9       1   35  ...  1.49  0.30    1\n",
              "2  84fab50f3c60d1fdc83aa91b5e584a78       1   36  ...  1.07  0.99    2\n",
              "3  f3b8fdaccce12ef6352bfad4d6052fe9       0   39  ... -0.68  0.92    3\n",
              "4  8b06ea5e9cb87c61da387995450607f7       0   31  ... -1.01 -0.32    4\n",
              "\n",
              "[5 rows x 10 columns]"
            ]
          },
          "metadata": {
            "tags": []
          },
          "execution_count": 24
        }
      ]
    },
    {
      "cell_type": "code",
      "metadata": {
        "id": "TrLOZZkIUVJE",
        "colab_type": "code",
        "colab": {}
      },
      "source": [
        "matched_users = userlikes.userid.map(users.set_index('userid').idx)"
      ],
      "execution_count": 0,
      "outputs": []
    },
    {
      "cell_type": "code",
      "metadata": {
        "id": "piONB3-MWYcY",
        "colab_type": "code",
        "outputId": "a9467842-74e6-4e04-a962-7e317e6e6198",
        "colab": {
          "base_uri": "https://localhost:8080/",
          "height": 34
        }
      },
      "source": [
        "len(matched_users)"
      ],
      "execution_count": 0,
      "outputs": [
        {
          "output_type": "execute_result",
          "data": {
            "text/plain": [
              "10612326"
            ]
          },
          "metadata": {
            "tags": []
          },
          "execution_count": 26
        }
      ]
    },
    {
      "cell_type": "code",
      "metadata": {
        "id": "P7J9oPknXJY-",
        "colab_type": "code",
        "colab": {}
      },
      "source": [
        "likes['idx'] = likes.index"
      ],
      "execution_count": 0,
      "outputs": []
    },
    {
      "cell_type": "code",
      "metadata": {
        "id": "8PM6e_bAXEFO",
        "colab_type": "code",
        "colab": {}
      },
      "source": [
        "matched_likes = userlikes.likeid.map(likes.set_index('likeid').idx)"
      ],
      "execution_count": 0,
      "outputs": []
    },
    {
      "cell_type": "code",
      "metadata": {
        "id": "fOBiUFrPXOyc",
        "colab_type": "code",
        "outputId": "95172d0e-ec02-4b46-a2e1-090f10aeda77",
        "colab": {
          "base_uri": "https://localhost:8080/",
          "height": 34
        }
      },
      "source": [
        "len(matched_likes)"
      ],
      "execution_count": 0,
      "outputs": [
        {
          "output_type": "execute_result",
          "data": {
            "text/plain": [
              "10612326"
            ]
          },
          "metadata": {
            "tags": []
          },
          "execution_count": 29
        }
      ]
    },
    {
      "cell_type": "markdown",
      "metadata": {
        "id": "KHrcPvN9DRyd",
        "colab_type": "text"
      },
      "source": [
        "__Build user-footprint matrix__<br>\n",
        "for each user store count 1 for every Fb post/video/picture/etc. he or she liked in a sparsed matrix (because many more variables than users and there will be variables/users with quite a lot of zero entries)"
      ]
    },
    {
      "cell_type": "code",
      "metadata": {
        "id": "fuyac0z-GhtZ",
        "colab_type": "code",
        "colab": {}
      },
      "source": [
        "# THIS APPROACH REQUIRES TOO MUCH MEMORY AND MADE SESION CRASH\n",
        "\n",
        "#M = np.zeros((users.shape[0], likes.shape[0]))\n",
        "#uid = users.userid.values\n",
        "# for every user get all liked Fb entities\n",
        "#for i in range(users.shape[0]):\n",
        "#  tmp = userlikes[userlikes.userid==uid[i]]\n",
        "#  # for every liked Fb entity: if liked by user store 1, else store 0\n",
        "#  for l in tmp.likeid.values:\n",
        "#    j = likes[likes.likeid==l].index.values.item(0)\n",
        "#    S[i,j] = 1\n",
        "\n",
        "#M_sparse = coo_matrix(M)"
      ],
      "execution_count": 0,
      "outputs": []
    },
    {
      "cell_type": "code",
      "metadata": {
        "id": "1JOlXeOxDTuX",
        "colab_type": "code",
        "colab": {}
      },
      "source": [
        "m = np.array(matched_users)\n",
        "n = np.array(matched_likes)\n",
        "data = np.array([1]*userlikes.shape[0])\n",
        "coo = coo_matrix((data, (m,n)), shape=(users.shape[0], likes.shape[0]))"
      ],
      "execution_count": 0,
      "outputs": []
    },
    {
      "cell_type": "markdown",
      "metadata": {
        "id": "c4AV50eZN9FW",
        "colab_type": "text"
      },
      "source": [
        "__Descriptive Statistics__"
      ]
    },
    {
      "cell_type": "code",
      "metadata": {
        "id": "3zppPjQOXbgM",
        "colab_type": "code",
        "outputId": "2fe290f7-e26c-4e68-972d-ab93d613d77f",
        "colab": {
          "base_uri": "https://localhost:8080/",
          "height": 34
        }
      },
      "source": [
        "coo.get_shape()"
      ],
      "execution_count": 0,
      "outputs": [
        {
          "output_type": "execute_result",
          "data": {
            "text/plain": [
              "(110728, 1580284)"
            ]
          },
          "metadata": {
            "tags": []
          },
          "execution_count": 32
        }
      ]
    },
    {
      "cell_type": "code",
      "metadata": {
        "id": "H2_yQ2fAY0wl",
        "colab_type": "code",
        "outputId": "32a6791b-891d-4778-844b-2acc8628bce3",
        "colab": {
          "base_uri": "https://localhost:8080/",
          "height": 34
        }
      },
      "source": [
        "coo.getnnz()"
      ],
      "execution_count": 0,
      "outputs": [
        {
          "output_type": "execute_result",
          "data": {
            "text/plain": [
              "10612326"
            ]
          },
          "metadata": {
            "tags": []
          },
          "execution_count": 33
        }
      ]
    },
    {
      "cell_type": "code",
      "metadata": {
        "id": "7gg2ILtrTdPR",
        "colab_type": "code",
        "outputId": "7d402d8c-5254-4bf8-ef4c-ef6b4aee6a1d",
        "colab": {
          "base_uri": "https://localhost:8080/",
          "height": 34
        }
      },
      "source": [
        "# Matrix density = number of non-zero entries / size of matrix\n",
        "10612326/np.float(110728*1580284)"
      ],
      "execution_count": 0,
      "outputs": [
        {
          "output_type": "execute_result",
          "data": {
            "text/plain": [
              "6.064820951829522e-05"
            ]
          },
          "metadata": {
            "tags": []
          },
          "execution_count": 34
        }
      ]
    },
    {
      "cell_type": "code",
      "metadata": {
        "id": "YT7YJmA0bJMT",
        "colab_type": "code",
        "outputId": "77ee9078-a5f2-4851-f439-d1306bf99ce4",
        "colab": {
          "base_uri": "https://localhost:8080/",
          "height": 34
        }
      },
      "source": [
        "# Users per like\n",
        "L = coo.sum(axis=0).A\n",
        "np.min(L), np.max(L), np.mean(L), np.median(L)"
      ],
      "execution_count": 0,
      "outputs": [
        {
          "output_type": "execute_result",
          "data": {
            "text/plain": [
              "(1, 19998, 6.715454943541793, 1.0)"
            ]
          },
          "metadata": {
            "tags": []
          },
          "execution_count": 35
        }
      ]
    },
    {
      "cell_type": "code",
      "metadata": {
        "id": "H797C7JIbRmM",
        "colab_type": "code",
        "outputId": "b0934f4f-a824-4e59-f0b2-d79b227378c8",
        "colab": {
          "base_uri": "https://localhost:8080/",
          "height": 34
        }
      },
      "source": [
        "# Likes per user\n",
        "U  = coo.sum(axis=1).A\n",
        "np.min(U), np.max(U), np.mean(U), np.median(U)"
      ],
      "execution_count": 0,
      "outputs": [
        {
          "output_type": "execute_result",
          "data": {
            "text/plain": [
              "(1, 7973, 95.84139513040965, 22.0)"
            ]
          },
          "metadata": {
            "tags": []
          },
          "execution_count": 36
        }
      ]
    },
    {
      "cell_type": "markdown",
      "metadata": {
        "id": "HYB7Oc7c1tON",
        "colab_type": "text"
      },
      "source": [
        "# Hands-On: Trimming the User-Like Matrix\n",
        "Remove users and footprints that are below the respective minimum frequency threshold C:\n",
        "\n",
        "C(Users) = 50\n",
        "\n",
        "C(footprint) = 150\n"
      ]
    },
    {
      "cell_type": "code",
      "metadata": {
        "id": "VFodvoL7b-z-",
        "colab_type": "code",
        "colab": {}
      },
      "source": [
        "csr = csr_matrix(coo)"
      ],
      "execution_count": 0,
      "outputs": []
    },
    {
      "cell_type": "code",
      "metadata": {
        "id": "WWpdBw9qiBYg",
        "colab_type": "code",
        "colab": {}
      },
      "source": [
        "csr_trim = csr\n",
        "userscopy = users.drop('idx',axis=1)"
      ],
      "execution_count": 0,
      "outputs": []
    },
    {
      "cell_type": "code",
      "metadata": {
        "id": "LLDBfjoX1wpc",
        "colab_type": "code",
        "colab": {}
      },
      "source": [
        "x = 0\n",
        "y = 1\n",
        "while x != y:\n",
        "  x = sum(csr_trim.get_shape())\n",
        "  U = csr_trim.sum(axis=1)\n",
        "  L = csr_trim.sum(axis=0)\n",
        "  removeusers = np.where(U>=50)[0]\n",
        "  # remove users from users object\n",
        "  tmp = np.where(U<50)[0]\n",
        "  userscopy = userscopy.drop(index=tmp, axis=0).reset_index(drop=True)\n",
        "  removelikes = np.where(L>=150)[1]\n",
        "  # remove users from User-Like matrix\n",
        "  csr_trim = csr_trim[removeusers,:]\n",
        "  #remove likes from User-Like matix\n",
        "  csr_trim = csr_trim[:,removelikes]\n",
        "  # update sum of dimensions\n",
        "  y = sum(csr_trim.get_shape())"
      ],
      "execution_count": 0,
      "outputs": []
    },
    {
      "cell_type": "markdown",
      "metadata": {
        "id": "xozd5H5qYQVM",
        "colab_type": "text"
      },
      "source": [
        "__Descriptive Statistics__"
      ]
    },
    {
      "cell_type": "code",
      "metadata": {
        "id": "37Ypbo6rl5kJ",
        "colab_type": "code",
        "outputId": "134c322e-5869-49bb-f780-4da5818aeeb5",
        "colab": {
          "base_uri": "https://localhost:8080/",
          "height": 34
        }
      },
      "source": [
        "csr_trim.get_shape()"
      ],
      "execution_count": 0,
      "outputs": [
        {
          "output_type": "execute_result",
          "data": {
            "text/plain": [
              "(19742, 8523)"
            ]
          },
          "metadata": {
            "tags": []
          },
          "execution_count": 40
        }
      ]
    },
    {
      "cell_type": "code",
      "metadata": {
        "id": "BXU0zKaclZmN",
        "colab_type": "code",
        "outputId": "a4520bca-c6c9-40a8-e100-78da54bea6a4",
        "colab": {
          "base_uri": "https://localhost:8080/",
          "height": 34
        }
      },
      "source": [
        "csr_trim.getnnz()"
      ],
      "execution_count": 0,
      "outputs": [
        {
          "output_type": "execute_result",
          "data": {
            "text/plain": [
              "3817840"
            ]
          },
          "metadata": {
            "tags": []
          },
          "execution_count": 41
        }
      ]
    },
    {
      "cell_type": "code",
      "metadata": {
        "id": "fXzyy0cbldzB",
        "colab_type": "code",
        "outputId": "9f5818a9-e6c6-4ed1-d5e5-70274976224e",
        "colab": {
          "base_uri": "https://localhost:8080/",
          "height": 34
        }
      },
      "source": [
        "# Matrix density\n",
        "3817840/np.float(19742*8523)"
      ],
      "execution_count": 0,
      "outputs": [
        {
          "output_type": "execute_result",
          "data": {
            "text/plain": [
              "0.022689978678727733"
            ]
          },
          "metadata": {
            "tags": []
          },
          "execution_count": 42
        }
      ]
    },
    {
      "cell_type": "code",
      "metadata": {
        "id": "yiKKHPynqkYd",
        "colab_type": "code",
        "outputId": "d68358cd-9c06-4399-c736-75601e9a77b0",
        "colab": {
          "base_uri": "https://localhost:8080/",
          "height": 34
        }
      },
      "source": [
        "# Users per like\n",
        "L = csr_trim.sum(axis=0).A\n",
        "np.min(L), np.max(L), np.mean(L), np.median(L)"
      ],
      "execution_count": 0,
      "outputs": [
        {
          "output_type": "execute_result",
          "data": {
            "text/plain": [
              "(150, 8445, 447.94555907544293, 290.0)"
            ]
          },
          "metadata": {
            "tags": []
          },
          "execution_count": 43
        }
      ]
    },
    {
      "cell_type": "code",
      "metadata": {
        "id": "Ry1Cn-MBQMI1",
        "colab_type": "code",
        "outputId": "8604b019-ba74-4730-bcd9-5cb514453aaa",
        "colab": {
          "base_uri": "https://localhost:8080/",
          "height": 34
        }
      },
      "source": [
        "# Likes per user\n",
        "U = csr_trim.sum(axis=1).A\n",
        "np.min(U), np.max(U), np.mean(U), np.median(U)"
      ],
      "execution_count": 0,
      "outputs": [
        {
          "output_type": "execute_result",
          "data": {
            "text/plain": [
              "(50, 2487, 193.38668827879647, 106.0)"
            ]
          },
          "metadata": {
            "tags": []
          },
          "execution_count": 44
        }
      ]
    },
    {
      "cell_type": "markdown",
      "metadata": {
        "id": "E_caSFZ-1xdX",
        "colab_type": "text"
      },
      "source": [
        "# Hands-On: Reducing the Dimensionality of the User-Like Matrix Using SVD and LDA"
      ]
    },
    {
      "cell_type": "markdown",
      "metadata": {
        "id": "MOkK-1TN0LmQ",
        "colab_type": "text"
      },
      "source": [
        "## LDA"
      ]
    },
    {
      "cell_type": "markdown",
      "metadata": {
        "id": "zcTFhOCk2I1T",
        "colab_type": "text"
      },
      "source": [
        "__Look at log-likelihood of the fitted model for different numbers of topics k__"
      ]
    },
    {
      "cell_type": "code",
      "metadata": {
        "id": "02gezdhA2Jya",
        "colab_type": "code",
        "colab": {}
      },
      "source": [
        "seed = 68\n",
        "alpha = 10\n",
        "delta = 0.1"
      ],
      "execution_count": 0,
      "outputs": []
    },
    {
      "cell_type": "code",
      "metadata": {
        "id": "ZUfLd61Uzjub",
        "colab_type": "code",
        "colab": {}
      },
      "source": [
        "lg = []\n",
        "for k in range(2,7,1):\n",
        "  lda = LatentDirichletAllocation(n_components=k, random_state=seed, doc_topic_prior=alpha, topic_word_prior=delta)\n",
        "  lda.fit(csr_trim)\n",
        "  lg.append(lda.score(csr_trim))\n"
      ],
      "execution_count": 0,
      "outputs": []
    },
    {
      "cell_type": "code",
      "metadata": {
        "id": "cuKzDNuo12Ch",
        "colab_type": "code",
        "outputId": "9115bbd0-dcfd-4505-a5e6-eeef44a92fab",
        "colab": {
          "base_uri": "https://localhost:8080/",
          "height": 293
        }
      },
      "source": [
        "plt.plot(range(2,7),lg)"
      ],
      "execution_count": 0,
      "outputs": [
        {
          "output_type": "execute_result",
          "data": {
            "text/plain": [
              "[<matplotlib.lines.Line2D at 0x7f8f319a09e8>]"
            ]
          },
          "metadata": {
            "tags": []
          },
          "execution_count": 47
        },
        {
          "output_type": "display_data",
          "data": {
            "image/png": "[encoded data removed]",
            "text/plain": [
              "<Figure size 432x288 with 1 Axes>"
            ]
          },
          "metadata": {
            "tags": []
          }
        }
      ]
    },
    {
      "cell_type": "markdown",
      "metadata": {
        "id": "uc3z-q4l2kyU",
        "colab_type": "text"
      },
      "source": [
        "__Perform LDA with parameter settings from Kosinski paper__"
      ]
    },
    {
      "cell_type": "code",
      "metadata": {
        "id": "nWXhYJ7b2FIM",
        "colab_type": "code",
        "colab": {}
      },
      "source": [
        "k_kosinski = 5\n",
        "lda = LatentDirichletAllocation(n_components=k_kosinski, random_state=seed, doc_topic_prior=alpha, topic_word_prior=delta)"
      ],
      "execution_count": 0,
      "outputs": []
    },
    {
      "cell_type": "code",
      "metadata": {
        "id": "U5ozeetIvFVi",
        "colab_type": "code",
        "outputId": "121e4487-7c6a-4478-f68d-54ea7fa67fc4",
        "colab": {
          "base_uri": "https://localhost:8080/",
          "height": 136
        }
      },
      "source": [
        "lda.fit(csr_trim)"
      ],
      "execution_count": 0,
      "outputs": [
        {
          "output_type": "execute_result",
          "data": {
            "text/plain": [
              "LatentDirichletAllocation(batch_size=128, doc_topic_prior=10, evaluate_every=-1,\n",
              "                          learning_decay=0.7, learning_method='batch',\n",
              "                          learning_offset=10.0, max_doc_update_iter=100,\n",
              "                          max_iter=10, mean_change_tol=0.001, n_components=5,\n",
              "                          n_jobs=None, perp_tol=0.1, random_state=68,\n",
              "                          topic_word_prior=0.1, total_samples=1000000.0,\n",
              "                          verbose=0)"
            ]
          },
          "metadata": {
            "tags": []
          },
          "execution_count": 49
        }
      ]
    },
    {
      "cell_type": "code",
      "metadata": {
        "id": "uyPJR5ZJvGgT",
        "colab_type": "code",
        "outputId": "9483a237-70f2-4f1a-a48d-db1d997f92da",
        "colab": {
          "base_uri": "https://localhost:8080/",
          "height": 34
        }
      },
      "source": [
        "# get log-likelihood of the model\n",
        "lda.score(csr_trim)"
      ],
      "execution_count": 0,
      "outputs": [
        {
          "output_type": "execute_result",
          "data": {
            "text/plain": [
              "-32172913.862576805"
            ]
          },
          "metadata": {
            "tags": []
          },
          "execution_count": 50
        }
      ]
    },
    {
      "cell_type": "code",
      "metadata": {
        "id": "BtaY20oj2xVv",
        "colab_type": "code",
        "colab": {}
      },
      "source": [
        "X = lda.transform(csr_trim)"
      ],
      "execution_count": 0,
      "outputs": []
    },
    {
      "cell_type": "code",
      "metadata": {
        "id": "JMdm9Y6RY6p8",
        "colab_type": "code",
        "outputId": "2204cf08-7fb4-4865-f76e-f6631bd8eeba",
        "colab": {
          "base_uri": "https://localhost:8080/",
          "height": 34
        }
      },
      "source": [
        "X.shape"
      ],
      "execution_count": 0,
      "outputs": [
        {
          "output_type": "execute_result",
          "data": {
            "text/plain": [
              "(19742, 5)"
            ]
          },
          "metadata": {
            "tags": []
          },
          "execution_count": 52
        }
      ]
    },
    {
      "cell_type": "code",
      "metadata": {
        "id": "rWVYL_HeZuWA",
        "colab_type": "code",
        "outputId": "01498cd8-2154-412c-cc86-846fdbb41495",
        "colab": {
          "base_uri": "https://localhost:8080/",
          "height": 187
        }
      },
      "source": [
        "X[:10,:]"
      ],
      "execution_count": 0,
      "outputs": [
        {
          "output_type": "execute_result",
          "data": {
            "text/plain": [
              "array([[0.117135  , 0.11760453, 0.50607297, 0.15867398, 0.10051352],\n",
              "       [0.13104847, 0.1208406 , 0.34029965, 0.3090692 , 0.09874208],\n",
              "       [0.21163727, 0.12836589, 0.26093792, 0.32244258, 0.07661634],\n",
              "       [0.19460897, 0.08475805, 0.40351513, 0.25884564, 0.05827221],\n",
              "       [0.11961076, 0.1169092 , 0.24832052, 0.41527467, 0.09988485],\n",
              "       [0.13744016, 0.12221499, 0.11311782, 0.5351601 , 0.09206693],\n",
              "       [0.10307004, 0.10382989, 0.11956902, 0.58537771, 0.08815335],\n",
              "       [0.08346499, 0.07457899, 0.07811625, 0.69746346, 0.06637631],\n",
              "       [0.14519788, 0.11332814, 0.3705406 , 0.29698684, 0.07394653],\n",
              "       [0.12638206, 0.12820065, 0.30076538, 0.35993769, 0.08471422]])"
            ]
          },
          "metadata": {
            "tags": []
          },
          "execution_count": 53
        }
      ]
    },
    {
      "cell_type": "markdown",
      "metadata": {
        "id": "wUH2NONC0OeH",
        "colab_type": "text"
      },
      "source": [
        "## SVD"
      ]
    },
    {
      "cell_type": "code",
      "metadata": {
        "id": "R6Z-qpJk0QKb",
        "colab_type": "code",
        "colab": {}
      },
      "source": [
        ""
      ],
      "execution_count": 0,
      "outputs": []
    },
    {
      "cell_type": "markdown",
      "metadata": {
        "id": "Ic1DS9Eg19_L",
        "colab_type": "text"
      },
      "source": [
        "# Hands-On: Interpreting Clusters and Dimensions"
      ]
    },
    {
      "cell_type": "markdown",
      "metadata": {
        "id": "6LLagikAXy3c",
        "colab_type": "text"
      },
      "source": [
        "## LDA"
      ]
    },
    {
      "cell_type": "markdown",
      "metadata": {
        "id": "Mf0BuwLUkRns",
        "colab_type": "text"
      },
      "source": [
        "Pearson correlation between topics and users psychodemograhpic information: pairwise deletion, meaning ignoring nan entries"
      ]
    },
    {
      "cell_type": "code",
      "metadata": {
        "id": "vzzccY9zd_81",
        "colab_type": "code",
        "colab": {}
      },
      "source": [
        "X_df = pd.DataFrame(data=X,columns=range(1,6))"
      ],
      "execution_count": 0,
      "outputs": []
    },
    {
      "cell_type": "code",
      "metadata": {
        "id": "svhzx4pUvUSv",
        "colab_type": "code",
        "outputId": "43757867-475c-4a69-d520-f4b93a91909c",
        "colab": {
          "base_uri": "https://localhost:8080/",
          "height": 34
        }
      },
      "source": [
        "userscopy.shape"
      ],
      "execution_count": 0,
      "outputs": [
        {
          "output_type": "execute_result",
          "data": {
            "text/plain": [
              "(19742, 9)"
            ]
          },
          "metadata": {
            "tags": []
          },
          "execution_count": 67
        }
      ]
    },
    {
      "cell_type": "code",
      "metadata": {
        "id": "bxE28Tz-0KJD",
        "colab_type": "code",
        "colab": {}
      },
      "source": [
        "X_df = pd.concat([X_df, userscopy[['gender', 'age', 'political', 'ope', 'con', 'ext', 'agr','neu']]], axis=1)"
      ],
      "execution_count": 0,
      "outputs": []
    },
    {
      "cell_type": "code",
      "metadata": {
        "id": "eOh1GSWTgjr2",
        "colab_type": "code",
        "colab": {}
      },
      "source": [
        "corr = X_df.corr().iloc[5:,:5]"
      ],
      "execution_count": 0,
      "outputs": []
    },
    {
      "cell_type": "code",
      "metadata": {
        "id": "jdot6FSeqaVO",
        "colab_type": "code",
        "outputId": "306c43d5-6a39-40ed-e115-dde723b08d8c",
        "colab": {
          "base_uri": "https://localhost:8080/",
          "height": 297
        }
      },
      "source": [
        "corr"
      ],
      "execution_count": 0,
      "outputs": [
        {
          "output_type": "execute_result",
          "data": {
            "text/html": [
              "<div>\n",
              "<style scoped>\n",
              "    .dataframe tbody tr th:only-of-type {\n",
              "        vertical-align: middle;\n",
              "    }\n",
              "\n",
              "    .dataframe tbody tr th {\n",
              "        vertical-align: top;\n",
              "    }\n",
              "\n",
              "    .dataframe thead th {\n",
              "        text-align: right;\n",
              "    }\n",
              "</style>\n",
              "<table border=\"1\" class=\"dataframe\">\n",
              "  <thead>\n",
              "    <tr style=\"text-align: right;\">\n",
              "      <th></th>\n",
              "      <th>1</th>\n",
              "      <th>2</th>\n",
              "      <th>3</th>\n",
              "      <th>4</th>\n",
              "      <th>5</th>\n",
              "    </tr>\n",
              "  </thead>\n",
              "  <tbody>\n",
              "    <tr>\n",
              "      <th>gender</th>\n",
              "      <td>0.107990</td>\n",
              "      <td>0.047306</td>\n",
              "      <td>-0.125888</td>\n",
              "      <td>-0.135848</td>\n",
              "      <td>0.113160</td>\n",
              "    </tr>\n",
              "    <tr>\n",
              "      <th>age</th>\n",
              "      <td>0.109071</td>\n",
              "      <td>-0.182050</td>\n",
              "      <td>0.254510</td>\n",
              "      <td>0.117541</td>\n",
              "      <td>-0.261499</td>\n",
              "    </tr>\n",
              "    <tr>\n",
              "      <th>political</th>\n",
              "      <td>0.090987</td>\n",
              "      <td>0.174307</td>\n",
              "      <td>-0.126981</td>\n",
              "      <td>-0.119108</td>\n",
              "      <td>0.072591</td>\n",
              "    </tr>\n",
              "    <tr>\n",
              "      <th>ope</th>\n",
              "      <td>-0.162607</td>\n",
              "      <td>-0.109280</td>\n",
              "      <td>0.174087</td>\n",
              "      <td>0.172957</td>\n",
              "      <td>-0.115234</td>\n",
              "    </tr>\n",
              "    <tr>\n",
              "      <th>con</th>\n",
              "      <td>0.125943</td>\n",
              "      <td>-0.010253</td>\n",
              "      <td>0.002775</td>\n",
              "      <td>0.008250</td>\n",
              "      <td>-0.081482</td>\n",
              "    </tr>\n",
              "    <tr>\n",
              "      <th>ext</th>\n",
              "      <td>0.086093</td>\n",
              "      <td>-0.009360</td>\n",
              "      <td>-0.002054</td>\n",
              "      <td>-0.067141</td>\n",
              "      <td>0.007532</td>\n",
              "    </tr>\n",
              "    <tr>\n",
              "      <th>agr</th>\n",
              "      <td>0.051300</td>\n",
              "      <td>0.034413</td>\n",
              "      <td>0.014024</td>\n",
              "      <td>-0.023305</td>\n",
              "      <td>-0.039312</td>\n",
              "    </tr>\n",
              "    <tr>\n",
              "      <th>neu</th>\n",
              "      <td>-0.043497</td>\n",
              "      <td>0.016090</td>\n",
              "      <td>-0.051138</td>\n",
              "      <td>0.001585</td>\n",
              "      <td>0.055119</td>\n",
              "    </tr>\n",
              "  </tbody>\n",
              "</table>\n",
              "</div>"
            ],
            "text/plain": [
              "                  1         2         3         4         5\n",
              "gender     0.107990  0.047306 -0.125888 -0.135848  0.113160\n",
              "age        0.109071 -0.182050  0.254510  0.117541 -0.261499\n",
              "political  0.090987  0.174307 -0.126981 -0.119108  0.072591\n",
              "ope       -0.162607 -0.109280  0.174087  0.172957 -0.115234\n",
              "con        0.125943 -0.010253  0.002775  0.008250 -0.081482\n",
              "ext        0.086093 -0.009360 -0.002054 -0.067141  0.007532\n",
              "agr        0.051300  0.034413  0.014024 -0.023305 -0.039312\n",
              "neu       -0.043497  0.016090 -0.051138  0.001585  0.055119"
            ]
          },
          "metadata": {
            "tags": []
          },
          "execution_count": 87
        }
      ]
    },
    {
      "cell_type": "code",
      "metadata": {
        "id": "lU34FDhWgueF",
        "colab_type": "code",
        "outputId": "37f3cc7f-cc02-46b8-dc32-f2b036acdedf",
        "colab": {
          "base_uri": "https://localhost:8080/",
          "height": 431
        }
      },
      "source": [
        "plt.figure(figsize=(9,7))\n",
        "sns.heatmap(corr, xticklabels=range(1,6), yticklabels=corr.index)\n",
        "plt.xticks(fontsize=12)\n",
        "plt.show()"
      ],
      "execution_count": 0,
      "outputs": [
        {
          "output_type": "display_data",
          "data": {
            "image/png": "[encoded data removed]",
            "text/plain": [
              "<Figure size 648x504 with 2 Axes>"
            ]
          },
          "metadata": {
            "tags": []
          }
        }
      ]
    },
    {
      "cell_type": "markdown",
      "metadata": {
        "id": "9MIUjWWJX0XB",
        "colab_type": "text"
      },
      "source": [
        "## SVD"
      ]
    },
    {
      "cell_type": "code",
      "metadata": {
        "id": "02WTn6aEX2M_",
        "colab_type": "code",
        "colab": {}
      },
      "source": [
        ""
      ],
      "execution_count": 0,
      "outputs": []
    },
    {
      "cell_type": "markdown",
      "metadata": {
        "id": "ZiNWK8I02GG3",
        "colab_type": "text"
      },
      "source": [
        "# Predicting Real-Life Outcomes with Facebook Likes"
      ]
    },
    {
      "cell_type": "code",
      "metadata": {
        "id": "SFzvSsJA2JU-",
        "colab_type": "code",
        "colab": {}
      },
      "source": [
        ""
      ],
      "execution_count": 0,
      "outputs": []
    }
  ]
}