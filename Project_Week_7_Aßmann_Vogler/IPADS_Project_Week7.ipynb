{
  "nbformat": 4,
  "nbformat_minor": 0,
  "metadata": {
    "colab": {
      "name": "IPADS_Project_Week7.ipynb",
      "provenance": [],
      "toc_visible": true
    },
    "kernelspec": {
      "name": "python3",
      "display_name": "Python 3"
    }
  },
  "cells": [
    {
      "cell_type": "code",
      "metadata": {
        "id": "6TdG9okUG8uA",
        "colab_type": "code",
        "outputId": "2528e0e3-d55b-4cf7-f3f4-9e4bbac044cf",
        "colab": {
          "base_uri": "https://localhost:8080/",
          "height": 34
        }
      },
      "source": [
        "!pip install -q linearmodels"
      ],
      "execution_count": 1,
      "outputs": [
        {
          "output_type": "stream",
          "text": [
            "\u001b[?25l\r\u001b[K     |▎                               | 10kB 23.8MB/s eta 0:00:01\r\u001b[K     |▌                               | 20kB 1.8MB/s eta 0:00:01\r\u001b[K     |▊                               | 30kB 2.6MB/s eta 0:00:01\r\u001b[K     |█                               | 40kB 1.7MB/s eta 0:00:01\r\u001b[K     |█▏                              | 51kB 2.1MB/s eta 0:00:01\r\u001b[K     |█▌                              | 61kB 2.6MB/s eta 0:00:01\r\u001b[K     |█▊                              | 71kB 3.0MB/s eta 0:00:01\r\u001b[K     |██                              | 81kB 3.4MB/s eta 0:00:01\r\u001b[K     |██▏                             | 92kB 3.8MB/s eta 0:00:01\r\u001b[K     |██▍                             | 102kB 2.9MB/s eta 0:00:01\r\u001b[K     |██▋                             | 112kB 2.9MB/s eta 0:00:01\r\u001b[K     |███                             | 122kB 2.9MB/s eta 0:00:01\r\u001b[K     |███▏                            | 133kB 2.9MB/s eta 0:00:01\r\u001b[K     |███▍                            | 143kB 2.9MB/s eta 0:00:01\r\u001b[K     |███▋                            | 153kB 2.9MB/s eta 0:00:01\r\u001b[K     |███▉                            | 163kB 2.9MB/s eta 0:00:01\r\u001b[K     |████                            | 174kB 2.9MB/s eta 0:00:01\r\u001b[K     |████▍                           | 184kB 2.9MB/s eta 0:00:01\r\u001b[K     |████▋                           | 194kB 2.9MB/s eta 0:00:01\r\u001b[K     |████▉                           | 204kB 2.9MB/s eta 0:00:01\r\u001b[K     |█████                           | 215kB 2.9MB/s eta 0:00:01\r\u001b[K     |█████▎                          | 225kB 2.9MB/s eta 0:00:01\r\u001b[K     |█████▌                          | 235kB 2.9MB/s eta 0:00:01\r\u001b[K     |█████▉                          | 245kB 2.9MB/s eta 0:00:01\r\u001b[K     |██████                          | 256kB 2.9MB/s eta 0:00:01\r\u001b[K     |██████▎                         | 266kB 2.9MB/s eta 0:00:01\r\u001b[K     |██████▌                         | 276kB 2.9MB/s eta 0:00:01\r\u001b[K     |██████▊                         | 286kB 2.9MB/s eta 0:00:01\r\u001b[K     |███████                         | 296kB 2.9MB/s eta 0:00:01\r\u001b[K     |███████▎                        | 307kB 2.9MB/s eta 0:00:01\r\u001b[K     |███████▌                        | 317kB 2.9MB/s eta 0:00:01\r\u001b[K     |███████▊                        | 327kB 2.9MB/s eta 0:00:01\r\u001b[K     |████████                        | 337kB 2.9MB/s eta 0:00:01\r\u001b[K     |████████▏                       | 348kB 2.9MB/s eta 0:00:01\r\u001b[K     |████████▍                       | 358kB 2.9MB/s eta 0:00:01\r\u001b[K     |████████▊                       | 368kB 2.9MB/s eta 0:00:01\r\u001b[K     |█████████                       | 378kB 2.9MB/s eta 0:00:01\r\u001b[K     |█████████▏                      | 389kB 2.9MB/s eta 0:00:01\r\u001b[K     |█████████▍                      | 399kB 2.9MB/s eta 0:00:01\r\u001b[K     |█████████▋                      | 409kB 2.9MB/s eta 0:00:01\r\u001b[K     |█████████▉                      | 419kB 2.9MB/s eta 0:00:01\r\u001b[K     |██████████▏                     | 430kB 2.9MB/s eta 0:00:01\r\u001b[K     |██████████▍                     | 440kB 2.9MB/s eta 0:00:01\r\u001b[K     |██████████▋                     | 450kB 2.9MB/s eta 0:00:01\r\u001b[K     |██████████▉                     | 460kB 2.9MB/s eta 0:00:01\r\u001b[K     |███████████                     | 471kB 2.9MB/s eta 0:00:01\r\u001b[K     |███████████▎                    | 481kB 2.9MB/s eta 0:00:01\r\u001b[K     |███████████▋                    | 491kB 2.9MB/s eta 0:00:01\r\u001b[K     |███████████▉                    | 501kB 2.9MB/s eta 0:00:01\r\u001b[K     |████████████                    | 512kB 2.9MB/s eta 0:00:01\r\u001b[K     |████████████▎                   | 522kB 2.9MB/s eta 0:00:01\r\u001b[K     |████████████▌                   | 532kB 2.9MB/s eta 0:00:01\r\u001b[K     |████████████▊                   | 542kB 2.9MB/s eta 0:00:01\r\u001b[K     |█████████████                   | 552kB 2.9MB/s eta 0:00:01\r\u001b[K     |█████████████▎                  | 563kB 2.9MB/s eta 0:00:01\r\u001b[K     |█████████████▌                  | 573kB 2.9MB/s eta 0:00:01\r\u001b[K     |█████████████▊                  | 583kB 2.9MB/s eta 0:00:01\r\u001b[K     |██████████████                  | 593kB 2.9MB/s eta 0:00:01\r\u001b[K     |██████████████▏                 | 604kB 2.9MB/s eta 0:00:01\r\u001b[K     |██████████████▌                 | 614kB 2.9MB/s eta 0:00:01\r\u001b[K     |██████████████▊                 | 624kB 2.9MB/s eta 0:00:01\r\u001b[K     |███████████████                 | 634kB 2.9MB/s eta 0:00:01\r\u001b[K     |███████████████▏                | 645kB 2.9MB/s eta 0:00:01\r\u001b[K     |███████████████▍                | 655kB 2.9MB/s eta 0:00:01\r\u001b[K     |███████████████▋                | 665kB 2.9MB/s eta 0:00:01\r\u001b[K     |████████████████                | 675kB 2.9MB/s eta 0:00:01\r\u001b[K     |████████████████▏               | 686kB 2.9MB/s eta 0:00:01\r\u001b[K     |████████████████▍               | 696kB 2.9MB/s eta 0:00:01\r\u001b[K     |████████████████▋               | 706kB 2.9MB/s eta 0:00:01\r\u001b[K     |████████████████▉               | 716kB 2.9MB/s eta 0:00:01\r\u001b[K     |█████████████████               | 727kB 2.9MB/s eta 0:00:01\r\u001b[K     |█████████████████▍              | 737kB 2.9MB/s eta 0:00:01\r\u001b[K     |█████████████████▋              | 747kB 2.9MB/s eta 0:00:01\r\u001b[K     |█████████████████▉              | 757kB 2.9MB/s eta 0:00:01\r\u001b[K     |██████████████████              | 768kB 2.9MB/s eta 0:00:01\r\u001b[K     |██████████████████▎             | 778kB 2.9MB/s eta 0:00:01\r\u001b[K     |██████████████████▌             | 788kB 2.9MB/s eta 0:00:01\r\u001b[K     |██████████████████▉             | 798kB 2.9MB/s eta 0:00:01\r\u001b[K     |███████████████████             | 808kB 2.9MB/s eta 0:00:01\r\u001b[K     |███████████████████▎            | 819kB 2.9MB/s eta 0:00:01\r\u001b[K     |███████████████████▌            | 829kB 2.9MB/s eta 0:00:01\r\u001b[K     |███████████████████▊            | 839kB 2.9MB/s eta 0:00:01\r\u001b[K     |████████████████████            | 849kB 2.9MB/s eta 0:00:01\r\u001b[K     |████████████████████▎           | 860kB 2.9MB/s eta 0:00:01\r\u001b[K     |████████████████████▌           | 870kB 2.9MB/s eta 0:00:01\r\u001b[K     |████████████████████▊           | 880kB 2.9MB/s eta 0:00:01\r\u001b[K     |█████████████████████           | 890kB 2.9MB/s eta 0:00:01\r\u001b[K     |█████████████████████▏          | 901kB 2.9MB/s eta 0:00:01\r\u001b[K     |█████████████████████▍          | 911kB 2.9MB/s eta 0:00:01\r\u001b[K     |█████████████████████▊          | 921kB 2.9MB/s eta 0:00:01\r\u001b[K     |██████████████████████          | 931kB 2.9MB/s eta 0:00:01\r\u001b[K     |██████████████████████▏         | 942kB 2.9MB/s eta 0:00:01\r\u001b[K     |██████████████████████▍         | 952kB 2.9MB/s eta 0:00:01\r\u001b[K     |██████████████████████▋         | 962kB 2.9MB/s eta 0:00:01\r\u001b[K     |██████████████████████▉         | 972kB 2.9MB/s eta 0:00:01\r\u001b[K     |███████████████████████▏        | 983kB 2.9MB/s eta 0:00:01\r\u001b[K     |███████████████████████▍        | 993kB 2.9MB/s eta 0:00:01\r\u001b[K     |███████████████████████▋        | 1.0MB 2.9MB/s eta 0:00:01\r\u001b[K     |███████████████████████▉        | 1.0MB 2.9MB/s eta 0:00:01\r\u001b[K     |████████████████████████        | 1.0MB 2.9MB/s eta 0:00:01\r\u001b[K     |████████████████████████▎       | 1.0MB 2.9MB/s eta 0:00:01\r\u001b[K     |████████████████████████▋       | 1.0MB 2.9MB/s eta 0:00:01\r\u001b[K     |████████████████████████▉       | 1.1MB 2.9MB/s eta 0:00:01\r\u001b[K     |█████████████████████████       | 1.1MB 2.9MB/s eta 0:00:01\r\u001b[K     |█████████████████████████▎      | 1.1MB 2.9MB/s eta 0:00:01\r\u001b[K     |█████████████████████████▌      | 1.1MB 2.9MB/s eta 0:00:01\r\u001b[K     |█████████████████████████▊      | 1.1MB 2.9MB/s eta 0:00:01\r\u001b[K     |██████████████████████████      | 1.1MB 2.9MB/s eta 0:00:01\r\u001b[K     |██████████████████████████▎     | 1.1MB 2.9MB/s eta 0:00:01\r\u001b[K     |██████████████████████████▌     | 1.1MB 2.9MB/s eta 0:00:01\r\u001b[K     |██████████████████████████▊     | 1.1MB 2.9MB/s eta 0:00:01\r\u001b[K     |███████████████████████████     | 1.1MB 2.9MB/s eta 0:00:01\r\u001b[K     |███████████████████████████▏    | 1.2MB 2.9MB/s eta 0:00:01\r\u001b[K     |███████████████████████████▌    | 1.2MB 2.9MB/s eta 0:00:01\r\u001b[K     |███████████████████████████▊    | 1.2MB 2.9MB/s eta 0:00:01\r\u001b[K     |████████████████████████████    | 1.2MB 2.9MB/s eta 0:00:01\r\u001b[K     |████████████████████████████▏   | 1.2MB 2.9MB/s eta 0:00:01\r\u001b[K     |████████████████████████████▍   | 1.2MB 2.9MB/s eta 0:00:01\r\u001b[K     |████████████████████████████▋   | 1.2MB 2.9MB/s eta 0:00:01\r\u001b[K     |█████████████████████████████   | 1.2MB 2.9MB/s eta 0:00:01\r\u001b[K     |█████████████████████████████▏  | 1.2MB 2.9MB/s eta 0:00:01\r\u001b[K     |█████████████████████████████▍  | 1.2MB 2.9MB/s eta 0:00:01\r\u001b[K     |█████████████████████████████▋  | 1.3MB 2.9MB/s eta 0:00:01\r\u001b[K     |█████████████████████████████▉  | 1.3MB 2.9MB/s eta 0:00:01\r\u001b[K     |██████████████████████████████  | 1.3MB 2.9MB/s eta 0:00:01\r\u001b[K     |██████████████████████████████▍ | 1.3MB 2.9MB/s eta 0:00:01\r\u001b[K     |██████████████████████████████▋ | 1.3MB 2.9MB/s eta 0:00:01\r\u001b[K     |██████████████████████████████▉ | 1.3MB 2.9MB/s eta 0:00:01\r\u001b[K     |███████████████████████████████ | 1.3MB 2.9MB/s eta 0:00:01\r\u001b[K     |███████████████████████████████▎| 1.3MB 2.9MB/s eta 0:00:01\r\u001b[K     |███████████████████████████████▌| 1.3MB 2.9MB/s eta 0:00:01\r\u001b[K     |███████████████████████████████▉| 1.4MB 2.9MB/s eta 0:00:01\r\u001b[K     |████████████████████████████████| 1.4MB 2.9MB/s \n",
            "\u001b[?25h"
          ],
          "name": "stdout"
        }
      ]
    },
    {
      "cell_type": "code",
      "metadata": {
        "id": "pZCrIK_MG9pP",
        "colab_type": "code",
        "colab": {}
      },
      "source": [
        "from linearmodels.datasets import wage_panel\n",
        "import pandas as pd\n",
        "import matplotlib.pyplot as plt\n",
        "%matplotlib inline\n",
        "import matplotlib\n",
        "import seaborn as sns\n",
        "from google.colab import drive\n",
        "drive.mount('/content/drive')"
      ],
      "execution_count": 0,
      "outputs": []
    },
    {
      "cell_type": "markdown",
      "metadata": {
        "id": "6sYhqpa_Hh4-",
        "colab_type": "text"
      },
      "source": [
        "# Exploring data\n",
        "Dahlberg and Johansson Municipal Expenditure Data, 265 Swedish Municipalities, 9 years\n",
        "Variables in the file are:\n",
        "- ID = Identification, 1,..., 265\n",
        "- YEAR = year, 1979,...,1987\n",
        "- REVENUE = Receipts, taxes and Fees\n",
        "- GRANTS = Government grants and shared tax revenues\n",
        "\n",
        "Target:\n",
        "- EXPEND = Expenditures\n",
        "\n",
        "See Greene (2003, pp. 551 and elsewhere) for analysis of these data. The article on which the analysis is based is Dahlberg, M. and E. Johannson, E., \"An Examination of the Dynamic Behavior of Local Governments using GMM Bootstrapping Methods,\" Journal of Applied Econometrics, 15, 2000, pp. 401-416.  (These data were downloaded from the JAE data archive.)\n"
      ]
    },
    {
      "cell_type": "code",
      "metadata": {
        "id": "z6t9Ihm7HQl4",
        "colab_type": "code",
        "colab": {}
      },
      "source": [
        "data = pd.read_csv('/content/drive/My Drive/dahlberg.csv')"
      ],
      "execution_count": 0,
      "outputs": []
    },
    {
      "cell_type": "code",
      "metadata": {
        "id": "I4VvqPzRMd-2",
        "colab_type": "code",
        "outputId": "af0fca72-3928-4638-89ce-a6525bea2666",
        "colab": {
          "base_uri": "https://localhost:8080/",
          "height": 187
        }
      },
      "source": [
        "data.info()"
      ],
      "execution_count": 6,
      "outputs": [
        {
          "output_type": "stream",
          "text": [
            "<class 'pandas.core.frame.DataFrame'>\n",
            "RangeIndex: 2385 entries, 0 to 2384\n",
            "Data columns (total 5 columns):\n",
            "ID         2385 non-null int64\n",
            "YEAR       2385 non-null int64\n",
            "EXPEND     2385 non-null float64\n",
            "REVENUE    2385 non-null float64\n",
            "GRANTS     2385 non-null float64\n",
            "dtypes: float64(3), int64(2)\n",
            "memory usage: 93.3 KB\n"
          ],
          "name": "stdout"
        }
      ]
    },
    {
      "cell_type": "code",
      "metadata": {
        "id": "NSiVPYG_TPbd",
        "colab_type": "code",
        "outputId": "8aec2df1-86d8-43b7-c3e7-f6d39decbbd8",
        "colab": {
          "base_uri": "https://localhost:8080/",
          "height": 297
        }
      },
      "source": [
        "data.describe()"
      ],
      "execution_count": 7,
      "outputs": [
        {
          "output_type": "execute_result",
          "data": {
            "text/html": [
              "<div>\n",
              "<style scoped>\n",
              "    .dataframe tbody tr th:only-of-type {\n",
              "        vertical-align: middle;\n",
              "    }\n",
              "\n",
              "    .dataframe tbody tr th {\n",
              "        vertical-align: top;\n",
              "    }\n",
              "\n",
              "    .dataframe thead th {\n",
              "        text-align: right;\n",
              "    }\n",
              "</style>\n",
              "<table border=\"1\" class=\"dataframe\">\n",
              "  <thead>\n",
              "    <tr style=\"text-align: right;\">\n",
              "      <th></th>\n",
              "      <th>ID</th>\n",
              "      <th>YEAR</th>\n",
              "      <th>EXPEND</th>\n",
              "      <th>REVENUE</th>\n",
              "      <th>GRANTS</th>\n",
              "    </tr>\n",
              "  </thead>\n",
              "  <tbody>\n",
              "    <tr>\n",
              "      <th>count</th>\n",
              "      <td>2385.000000</td>\n",
              "      <td>2385.00000</td>\n",
              "      <td>2385.000000</td>\n",
              "      <td>2385.000000</td>\n",
              "      <td>2385.000000</td>\n",
              "    </tr>\n",
              "    <tr>\n",
              "      <th>mean</th>\n",
              "      <td>1424.777358</td>\n",
              "      <td>1983.00000</td>\n",
              "      <td>0.018479</td>\n",
              "      <td>0.013423</td>\n",
              "      <td>0.005236</td>\n",
              "    </tr>\n",
              "    <tr>\n",
              "      <th>std</th>\n",
              "      <td>695.012999</td>\n",
              "      <td>2.58253</td>\n",
              "      <td>0.003174</td>\n",
              "      <td>0.003004</td>\n",
              "      <td>0.001261</td>\n",
              "    </tr>\n",
              "    <tr>\n",
              "      <th>min</th>\n",
              "      <td>114.000000</td>\n",
              "      <td>1979.00000</td>\n",
              "      <td>0.012226</td>\n",
              "      <td>0.006228</td>\n",
              "      <td>0.001571</td>\n",
              "    </tr>\n",
              "    <tr>\n",
              "      <th>25%</th>\n",
              "      <td>860.000000</td>\n",
              "      <td>1981.00000</td>\n",
              "      <td>0.016222</td>\n",
              "      <td>0.011339</td>\n",
              "      <td>0.004488</td>\n",
              "    </tr>\n",
              "    <tr>\n",
              "      <th>50%</th>\n",
              "      <td>1507.000000</td>\n",
              "      <td>1983.00000</td>\n",
              "      <td>0.017963</td>\n",
              "      <td>0.012952</td>\n",
              "      <td>0.004978</td>\n",
              "    </tr>\n",
              "    <tr>\n",
              "      <th>75%</th>\n",
              "      <td>1981.000000</td>\n",
              "      <td>1985.00000</td>\n",
              "      <td>0.020145</td>\n",
              "      <td>0.014821</td>\n",
              "      <td>0.005539</td>\n",
              "    </tr>\n",
              "    <tr>\n",
              "      <th>max</th>\n",
              "      <td>2584.000000</td>\n",
              "      <td>1987.00000</td>\n",
              "      <td>0.033883</td>\n",
              "      <td>0.029142</td>\n",
              "      <td>0.012589</td>\n",
              "    </tr>\n",
              "  </tbody>\n",
              "</table>\n",
              "</div>"
            ],
            "text/plain": [
              "                ID        YEAR       EXPEND      REVENUE      GRANTS \n",
              "count  2385.000000  2385.00000  2385.000000  2385.000000  2385.000000\n",
              "mean   1424.777358  1983.00000     0.018479     0.013423     0.005236\n",
              "std     695.012999     2.58253     0.003174     0.003004     0.001261\n",
              "min     114.000000  1979.00000     0.012226     0.006228     0.001571\n",
              "25%     860.000000  1981.00000     0.016222     0.011339     0.004488\n",
              "50%    1507.000000  1983.00000     0.017963     0.012952     0.004978\n",
              "75%    1981.000000  1985.00000     0.020145     0.014821     0.005539\n",
              "max    2584.000000  1987.00000     0.033883     0.029142     0.012589"
            ]
          },
          "metadata": {
            "tags": []
          },
          "execution_count": 7
        }
      ]
    },
    {
      "cell_type": "code",
      "metadata": {
        "id": "NeyCGk5IIwdt",
        "colab_type": "code",
        "outputId": "896d1504-c877-4d19-9aef-1584355dc18c",
        "colab": {
          "base_uri": "https://localhost:8080/",
          "height": 442
        }
      },
      "source": [
        "data.ID.unique()"
      ],
      "execution_count": 8,
      "outputs": [
        {
          "output_type": "execute_result",
          "data": {
            "text/plain": [
              "array([ 114,  115,  120,  123,  125,  126,  136,  138,  139,  160,  162,\n",
              "        163,  180,  181,  182,  183,  184,  186,  188,  191,  192,  305,\n",
              "        319,  360,  380,  381,  382,  428,  481,  482,  483,  484,  486,\n",
              "        509,  512,  513,  560,  561,  562,  563,  580,  581,  582,  586,\n",
              "        604,  617,  662,  665,  680,  682,  683,  684,  685,  686,  687,\n",
              "        760,  761,  763,  764,  765,  767,  780,  781,  821,  834,  840,\n",
              "        860,  861,  862,  880,  881,  882,  883,  884,  885, 1060, 1080,\n",
              "       1081, 1082, 1083, 1121, 1137, 1160, 1162, 1163, 1165, 1166, 1167,\n",
              "       1168, 1180, 1181, 1182, 1183, 1214, 1230, 1231, 1233, 1260, 1261,\n",
              "       1262, 1264, 1265, 1266, 1267, 1281, 1282, 1283, 1284, 1285, 1286,\n",
              "       1287, 1315, 1380, 1381, 1382, 1383, 1384, 1401, 1402, 1407, 1415,\n",
              "       1419, 1421, 1427, 1430, 1435, 1481, 1482, 1484, 1485, 1486, 1504,\n",
              "       1507, 1521, 1524, 1527, 1552, 1560, 1561, 1562, 1563, 1565, 1566,\n",
              "       1580, 1581, 1582, 1583, 1584, 1585, 1602, 1622, 1623, 1637, 1643,\n",
              "       1661, 1662, 1663, 1680, 1681, 1682, 1683, 1684, 1685, 1686, 1715,\n",
              "       1730, 1737, 1760, 1761, 1762, 1763, 1764, 1765, 1766, 1780, 1781,\n",
              "       1782, 1783, 1784, 1785, 1860, 1861, 1862, 1863, 1864, 1880, 1881,\n",
              "       1882, 1883, 1884, 1885, 1904, 1907, 1917, 1960, 1961, 1962, 1980,\n",
              "       1981, 1982, 1983, 1984, 2021, 2023, 2026, 2029, 2031, 2034, 2039,\n",
              "       2061, 2062, 2080, 2081, 2082, 2083, 2084, 2085, 2101, 2104, 2121,\n",
              "       2132, 2161, 2180, 2181, 2182, 2183, 2184, 2260, 2262, 2280, 2281,\n",
              "       2282, 2283, 2284, 2303, 2305, 2309, 2313, 2321, 2326, 2361, 2380,\n",
              "       2401, 2404, 2409, 2421, 2422, 2462, 2480, 2481, 2482, 2505, 2506,\n",
              "       2510, 2513, 2514, 2518, 2521, 2523, 2560, 2580, 2581, 2582, 2583,\n",
              "       2584])"
            ]
          },
          "metadata": {
            "tags": []
          },
          "execution_count": 8
        }
      ]
    },
    {
      "cell_type": "code",
      "metadata": {
        "id": "2zEhblp2TWAQ",
        "colab_type": "code",
        "outputId": "f3318169-3e95-484a-b0be-fa9c3ce17a2f",
        "colab": {
          "base_uri": "https://localhost:8080/",
          "height": 442
        }
      },
      "source": [
        "for elem in data.columns:\n",
        "  print(elem)\n",
        "  print('NULL')\n",
        "  print(data[data[elem].isnull()])\n",
        "  #print('Values')\n",
        "  #print(data[elem].unique())\n"
      ],
      "execution_count": 9,
      "outputs": [
        {
          "output_type": "stream",
          "text": [
            "ID\n",
            "NULL\n",
            "Empty DataFrame\n",
            "Columns: [ID, YEAR, EXPEND, REVENUE, GRANTS ]\n",
            "Index: []\n",
            "YEAR\n",
            "NULL\n",
            "Empty DataFrame\n",
            "Columns: [ID, YEAR, EXPEND, REVENUE, GRANTS ]\n",
            "Index: []\n",
            "EXPEND\n",
            "NULL\n",
            "Empty DataFrame\n",
            "Columns: [ID, YEAR, EXPEND, REVENUE, GRANTS ]\n",
            "Index: []\n",
            "REVENUE\n",
            "NULL\n",
            "Empty DataFrame\n",
            "Columns: [ID, YEAR, EXPEND, REVENUE, GRANTS ]\n",
            "Index: []\n",
            "GRANTS \n",
            "NULL\n",
            "Empty DataFrame\n",
            "Columns: [ID, YEAR, EXPEND, REVENUE, GRANTS ]\n",
            "Index: []\n"
          ],
          "name": "stdout"
        }
      ]
    },
    {
      "cell_type": "code",
      "metadata": {
        "id": "8ZWNlCuZVqIi",
        "colab_type": "code",
        "outputId": "cd3a6f0d-e889-4668-a34c-42136332570c",
        "colab": {
          "base_uri": "https://localhost:8080/",
          "height": 34
        }
      },
      "source": [
        "data.ID.unique().shape"
      ],
      "execution_count": 10,
      "outputs": [
        {
          "output_type": "execute_result",
          "data": {
            "text/plain": [
              "(265,)"
            ]
          },
          "metadata": {
            "tags": []
          },
          "execution_count": 10
        }
      ]
    },
    {
      "cell_type": "markdown",
      "metadata": {
        "id": "sR583UnEV-v9",
        "colab_type": "text"
      },
      "source": [
        "Plot mean expenditures per firm"
      ]
    },
    {
      "cell_type": "code",
      "metadata": {
        "id": "wyS-a0FtXsrT",
        "colab_type": "code",
        "outputId": "db184ad5-bf60-4ffe-c584-7abfc6e089be",
        "colab": {
          "base_uri": "https://localhost:8080/",
          "height": 415
        }
      },
      "source": [
        "matplotlib.style.use('seaborn')\n",
        "\n",
        "x = data.pivot_table(values='EXPEND', index='ID',columns=['YEAR'])\n",
        "plt.figure(figsize=(10,6))\n",
        "plt.title('Average expenditures across firms')\n",
        "plt.xlabel('Firms')\n",
        "plt.ylabel('Expenditure')\n",
        "x.mean().sort_values(ascending=False).plot(kind='bar')\n",
        "plt.show()\n"
      ],
      "execution_count": 11,
      "outputs": [
        {
          "output_type": "display_data",
          "data": {
            "image/png": "[encoded data removed]",
            "text/plain": [
              "<Figure size 720x432 with 1 Axes>"
            ]
          },
          "metadata": {
            "tags": []
          }
        }
      ]
    },
    {
      "cell_type": "code",
      "metadata": {
        "id": "lEHZJVVSYoYh",
        "colab_type": "code",
        "outputId": "cb723cb3-fa9a-47a5-f211-1acd53c1d5fb",
        "colab": {
          "base_uri": "https://localhost:8080/",
          "height": 376
        }
      },
      "source": [
        "data.pivot_table(values='EXPEND', index='YEAR',columns=['ID']).mean().plot()\n",
        "plt.title('Average expenditures from 1979 to 1987')\n",
        "plt.show()"
      ],
      "execution_count": 12,
      "outputs": [
        {
          "output_type": "display_data",
          "data": {
            "image/png": "[encoded data removed]",
            "text/plain": [
              "<Figure size 576x396 with 1 Axes>"
            ]
          },
          "metadata": {
            "tags": []
          }
        }
      ]
    },
    {
      "cell_type": "markdown",
      "metadata": {
        "id": "iEPtpI3TTt48",
        "colab_type": "text"
      },
      "source": [
        "# Prepare data for panel regression"
      ]
    },
    {
      "cell_type": "code",
      "metadata": {
        "id": "yXug1wXVP1ml",
        "colab_type": "code",
        "outputId": "8a0f6d36-39d9-4e88-c66e-73e0d387b962",
        "colab": {
          "base_uri": "https://localhost:8080/",
          "height": 34
        }
      },
      "source": [
        "data.columns"
      ],
      "execution_count": 13,
      "outputs": [
        {
          "output_type": "execute_result",
          "data": {
            "text/plain": [
              "Index(['ID', 'YEAR', 'EXPEND', 'REVENUE', 'GRANTS '], dtype='object')"
            ]
          },
          "metadata": {
            "tags": []
          },
          "execution_count": 13
        }
      ]
    },
    {
      "cell_type": "code",
      "metadata": {
        "id": "B3Sku0ooNqHI",
        "colab_type": "code",
        "colab": {}
      },
      "source": [
        "data.rename(columns={'GRANTS ':'GRANTS'}, inplace=True)"
      ],
      "execution_count": 0,
      "outputs": []
    },
    {
      "cell_type": "markdown",
      "metadata": {
        "id": "pQpYisYA1EMQ",
        "colab_type": "text"
      },
      "source": [
        "__Correlation analysis__<br>\n",
        "Multicollinearity occurs when independent variables in a regression model are correlated."
      ]
    },
    {
      "cell_type": "code",
      "metadata": {
        "id": "SAw6jiquZBtj",
        "colab_type": "code",
        "outputId": "8622207e-5696-4160-9901-7ae707b675c0",
        "colab": {
          "base_uri": "https://localhost:8080/",
          "height": 173
        }
      },
      "source": [
        "data[['YEAR','EXPEND','REVENUE','GRANTS']].corr()"
      ],
      "execution_count": 15,
      "outputs": [
        {
          "output_type": "execute_result",
          "data": {
            "text/html": [
              "<div>\n",
              "<style scoped>\n",
              "    .dataframe tbody tr th:only-of-type {\n",
              "        vertical-align: middle;\n",
              "    }\n",
              "\n",
              "    .dataframe tbody tr th {\n",
              "        vertical-align: top;\n",
              "    }\n",
              "\n",
              "    .dataframe thead th {\n",
              "        text-align: right;\n",
              "    }\n",
              "</style>\n",
              "<table border=\"1\" class=\"dataframe\">\n",
              "  <thead>\n",
              "    <tr style=\"text-align: right;\">\n",
              "      <th></th>\n",
              "      <th>YEAR</th>\n",
              "      <th>EXPEND</th>\n",
              "      <th>REVENUE</th>\n",
              "      <th>GRANTS</th>\n",
              "    </tr>\n",
              "  </thead>\n",
              "  <tbody>\n",
              "    <tr>\n",
              "      <th>YEAR</th>\n",
              "      <td>1.000000</td>\n",
              "      <td>-0.113153</td>\n",
              "      <td>-0.237267</td>\n",
              "      <td>0.155928</td>\n",
              "    </tr>\n",
              "    <tr>\n",
              "      <th>EXPEND</th>\n",
              "      <td>-0.113153</td>\n",
              "      <td>1.000000</td>\n",
              "      <td>0.875631</td>\n",
              "      <td>0.348488</td>\n",
              "    </tr>\n",
              "    <tr>\n",
              "      <th>REVENUE</th>\n",
              "      <td>-0.237267</td>\n",
              "      <td>0.875631</td>\n",
              "      <td>1.000000</td>\n",
              "      <td>-0.054213</td>\n",
              "    </tr>\n",
              "    <tr>\n",
              "      <th>GRANTS</th>\n",
              "      <td>0.155928</td>\n",
              "      <td>0.348488</td>\n",
              "      <td>-0.054213</td>\n",
              "      <td>1.000000</td>\n",
              "    </tr>\n",
              "  </tbody>\n",
              "</table>\n",
              "</div>"
            ],
            "text/plain": [
              "             YEAR    EXPEND   REVENUE    GRANTS\n",
              "YEAR     1.000000 -0.113153 -0.237267  0.155928\n",
              "EXPEND  -0.113153  1.000000  0.875631  0.348488\n",
              "REVENUE -0.237267  0.875631  1.000000 -0.054213\n",
              "GRANTS   0.155928  0.348488 -0.054213  1.000000"
            ]
          },
          "metadata": {
            "tags": []
          },
          "execution_count": 15
        }
      ]
    },
    {
      "cell_type": "code",
      "metadata": {
        "id": "Ea6KKyObNoLU",
        "colab_type": "code",
        "colab": {}
      },
      "source": [
        "YEAR = pd.Categorical(data.YEAR)"
      ],
      "execution_count": 0,
      "outputs": []
    },
    {
      "cell_type": "code",
      "metadata": {
        "id": "b-yJsahsRhtL",
        "colab_type": "code",
        "colab": {}
      },
      "source": [
        "data.set_index(['ID','YEAR'], inplace=True)\n",
        "data['year']=YEAR"
      ],
      "execution_count": 0,
      "outputs": []
    },
    {
      "cell_type": "code",
      "metadata": {
        "id": "5p_8fXk1SNGm",
        "colab_type": "code",
        "outputId": "ecce6389-b23d-4008-82cd-f44c382ac93d",
        "colab": {
          "base_uri": "https://localhost:8080/",
          "height": 235
        }
      },
      "source": [
        "data.head()"
      ],
      "execution_count": 18,
      "outputs": [
        {
          "output_type": "execute_result",
          "data": {
            "text/html": [
              "<div>\n",
              "<style scoped>\n",
              "    .dataframe tbody tr th:only-of-type {\n",
              "        vertical-align: middle;\n",
              "    }\n",
              "\n",
              "    .dataframe tbody tr th {\n",
              "        vertical-align: top;\n",
              "    }\n",
              "\n",
              "    .dataframe thead th {\n",
              "        text-align: right;\n",
              "    }\n",
              "</style>\n",
              "<table border=\"1\" class=\"dataframe\">\n",
              "  <thead>\n",
              "    <tr style=\"text-align: right;\">\n",
              "      <th></th>\n",
              "      <th></th>\n",
              "      <th>EXPEND</th>\n",
              "      <th>REVENUE</th>\n",
              "      <th>GRANTS</th>\n",
              "      <th>year</th>\n",
              "    </tr>\n",
              "    <tr>\n",
              "      <th>ID</th>\n",
              "      <th>YEAR</th>\n",
              "      <th></th>\n",
              "      <th></th>\n",
              "      <th></th>\n",
              "      <th></th>\n",
              "    </tr>\n",
              "  </thead>\n",
              "  <tbody>\n",
              "    <tr>\n",
              "      <th rowspan=\"5\" valign=\"top\">114</th>\n",
              "      <th>1979</th>\n",
              "      <td>0.022974</td>\n",
              "      <td>0.018177</td>\n",
              "      <td>0.005443</td>\n",
              "      <td>1979</td>\n",
              "    </tr>\n",
              "    <tr>\n",
              "      <th>1980</th>\n",
              "      <td>0.026631</td>\n",
              "      <td>0.020914</td>\n",
              "      <td>0.005730</td>\n",
              "      <td>1980</td>\n",
              "    </tr>\n",
              "    <tr>\n",
              "      <th>1981</th>\n",
              "      <td>0.027325</td>\n",
              "      <td>0.021084</td>\n",
              "      <td>0.005665</td>\n",
              "      <td>1981</td>\n",
              "    </tr>\n",
              "    <tr>\n",
              "      <th>1982</th>\n",
              "      <td>0.028870</td>\n",
              "      <td>0.023431</td>\n",
              "      <td>0.005886</td>\n",
              "      <td>1982</td>\n",
              "    </tr>\n",
              "    <tr>\n",
              "      <th>1983</th>\n",
              "      <td>0.022647</td>\n",
              "      <td>0.017998</td>\n",
              "      <td>0.005591</td>\n",
              "      <td>1983</td>\n",
              "    </tr>\n",
              "  </tbody>\n",
              "</table>\n",
              "</div>"
            ],
            "text/plain": [
              "            EXPEND   REVENUE    GRANTS  year\n",
              "ID  YEAR                                    \n",
              "114 1979  0.022974  0.018177  0.005443  1979\n",
              "    1980  0.026631  0.020914  0.005730  1980\n",
              "    1981  0.027325  0.021084  0.005665  1981\n",
              "    1982  0.028870  0.023431  0.005886  1982\n",
              "    1983  0.022647  0.017998  0.005591  1983"
            ]
          },
          "metadata": {
            "tags": []
          },
          "execution_count": 18
        }
      ]
    },
    {
      "cell_type": "markdown",
      "metadata": {
        "id": "CrljhWRyMeCu",
        "colab_type": "text"
      },
      "source": [
        "# Basic pooled OLS regression on panel data\n",
        "\n",
        "- modeling expenditures using all of the variables and time dummies\n",
        "- year variable is categorical which facilitates (makes it easier) making dummies."
      ]
    },
    {
      "cell_type": "code",
      "metadata": {
        "id": "z48q8VVBHf_b",
        "colab_type": "code",
        "outputId": "f658a85b-1a5c-4838-9ab3-550819e555c9",
        "colab": {
          "base_uri": "https://localhost:8080/",
          "height": 666
        }
      },
      "source": [
        "from linearmodels.panel import PooledOLS\n",
        "import statsmodels.api as sm\n",
        "variables = ['REVENUE','GRANTS','year']\n",
        "IVs = sm.add_constant(data[variables])\n",
        "mod = PooledOLS(data.EXPEND, IVs)\n",
        "pooled_res = mod.fit()\n",
        "print(pooled_res)\n"
      ],
      "execution_count": 19,
      "outputs": [
        {
          "output_type": "stream",
          "text": [
            "                          PooledOLS Estimation Summary                          \n",
            "================================================================================\n",
            "Dep. Variable:                 EXPEND   R-squared:                        0.9262\n",
            "Estimator:                  PooledOLS   R-squared (Between):              0.9907\n",
            "No. Observations:                2385   R-squared (Within):               0.7139\n",
            "Date:                Thu, Dec 05 2019   R-squared (Overall):              0.9262\n",
            "Time:                        22:22:58   Log-likelihood                 1.344e+04\n",
            "Cov. Estimator:            Unadjusted                                           \n",
            "                                        F-statistic:                      2977.4\n",
            "Entities:                         265   P-value                           0.0000\n",
            "Avg Obs:                       9.0000   Distribution:                 F(10,2374)\n",
            "Min Obs:                       9.0000                                           \n",
            "Max Obs:                       9.0000   F-statistic (robust):             2977.4\n",
            "                                        P-value                           0.0000\n",
            "Time periods:                       9   Distribution:                 F(10,2374)\n",
            "Avg Obs:                       265.00                                           \n",
            "Min Obs:                       265.00                                           \n",
            "Max Obs:                       265.00                                           \n",
            "                                                                                \n",
            "                             Parameter Estimates                              \n",
            "==============================================================================\n",
            "            Parameter  Std. Err.     T-stat    P-value    Lower CI    Upper CI\n",
            "------------------------------------------------------------------------------\n",
            "const          0.0002     0.0001     1.6533     0.0984  -3.935e-05      0.0005\n",
            "REVENUE        0.9566     0.0064     149.25     0.0000      0.9440      0.9692\n",
            "GRANTS         0.9852     0.0143     69.107     0.0000      0.9573      1.0132\n",
            "year.1980      0.0002  7.521e-05     2.7685     0.0057   6.073e-05      0.0004\n",
            "year.1981      0.0002   7.53e-05     2.3815     0.0173   3.166e-05      0.0003\n",
            "year.1982      0.0002   7.55e-05     3.1454     0.0017   8.942e-05      0.0004\n",
            "year.1983      0.0002  7.738e-05     2.4099     0.0160   3.474e-05      0.0003\n",
            "year.1984      0.0002  7.747e-05     3.1594     0.0016   9.285e-05      0.0004\n",
            "year.1985      0.0005  7.683e-05     7.0419     0.0000      0.0004      0.0007\n",
            "year.1986      0.0004  7.615e-05     5.1005     0.0000      0.0002      0.0005\n",
            "year.1987      0.0004   7.63e-05     5.6498     0.0000      0.0003      0.0006\n",
            "==============================================================================\n"
          ],
          "name": "stdout"
        },
        {
          "output_type": "stream",
          "text": [
            "/usr/local/lib/python3.6/dist-packages/numpy/core/fromnumeric.py:2495: FutureWarning: Method .ptp is deprecated and will be removed in a future version. Use numpy.ptp instead.\n",
            "  return ptp(axis=axis, out=out, **kwargs)\n"
          ],
          "name": "stderr"
        }
      ]
    },
    {
      "cell_type": "markdown",
      "metadata": {
        "id": "WhSzuvAiJsar",
        "colab_type": "text"
      },
      "source": [
        "# Estimating models with uncorrelated effects \n",
        "When modeling panel data it is common to consider models beyond what OLS will efficiently estimate. The most common are error component models which add an additional term to the standard OLS model,\n",
        "\n",
        "yit=xitβ+αi+ϵit\n",
        "\n",
        "where αi affects all values of entity i. When the αi are uncorrelated with the regressors in xit, a random effects model can be used to efficiently estimate parameters of this model."
      ]
    },
    {
      "cell_type": "markdown",
      "metadata": {
        "id": "_pAXrQISLplc",
        "colab_type": "text"
      },
      "source": [
        "##Random effects model\n",
        "The random effects model is virtually identical to the pooled OLS model except that is accounts for the structure of the model and so is more efficient. Random effects uses a quasi-demeaning strategy which subtracts the time average fo the within entity values to account for the common shock."
      ]
    },
    {
      "cell_type": "code",
      "metadata": {
        "id": "1VX6S1RPKOUi",
        "colab_type": "code",
        "outputId": "3b3740cb-b977-4721-c870-94a40dfe983d",
        "colab": {
          "base_uri": "https://localhost:8080/",
          "height": 0
        }
      },
      "source": [
        "from linearmodels.panel import RandomEffects\n",
        "mod = RandomEffects(data.EXPEND, IVs)\n",
        "re_res = mod.fit()\n",
        "print(re_res)"
      ],
      "execution_count": 20,
      "outputs": [
        {
          "output_type": "stream",
          "text": [
            "                        RandomEffects Estimation Summary                        \n",
            "================================================================================\n",
            "Dep. Variable:                 EXPEND   R-squared:                        0.9262\n",
            "Estimator:              RandomEffects   R-squared (Between):              0.9907\n",
            "No. Observations:                2385   R-squared (Within):               0.7139\n",
            "Date:                Thu, Dec 05 2019   R-squared (Overall):              0.9262\n",
            "Time:                        22:22:58   Log-likelihood                 1.344e+04\n",
            "Cov. Estimator:            Unadjusted                                           \n",
            "                                        F-statistic:                      2977.4\n",
            "Entities:                         265   P-value                           0.0000\n",
            "Avg Obs:                       9.0000   Distribution:                 F(10,2374)\n",
            "Min Obs:                       9.0000                                           \n",
            "Max Obs:                       9.0000   F-statistic (robust):             2977.4\n",
            "                                        P-value                           0.0000\n",
            "Time periods:                       9   Distribution:                 F(10,2374)\n",
            "Avg Obs:                       265.00                                           \n",
            "Min Obs:                       265.00                                           \n",
            "Max Obs:                       265.00                                           \n",
            "                                                                                \n",
            "                             Parameter Estimates                              \n",
            "==============================================================================\n",
            "            Parameter  Std. Err.     T-stat    P-value    Lower CI    Upper CI\n",
            "------------------------------------------------------------------------------\n",
            "const          0.0002     0.0001     1.6533     0.0984  -3.935e-05      0.0005\n",
            "REVENUE        0.9566     0.0064     149.25     0.0000      0.9440      0.9692\n",
            "GRANTS         0.9852     0.0143     69.107     0.0000      0.9573      1.0132\n",
            "year.1980      0.0002  7.521e-05     2.7685     0.0057   6.073e-05      0.0004\n",
            "year.1981      0.0002   7.53e-05     2.3815     0.0173   3.166e-05      0.0003\n",
            "year.1982      0.0002   7.55e-05     3.1454     0.0017   8.942e-05      0.0004\n",
            "year.1983      0.0002  7.738e-05     2.4099     0.0160   3.474e-05      0.0003\n",
            "year.1984      0.0002  7.747e-05     3.1594     0.0016   9.285e-05      0.0004\n",
            "year.1985      0.0005  7.683e-05     7.0419     0.0000      0.0004      0.0007\n",
            "year.1986      0.0004  7.615e-05     5.1005     0.0000      0.0002      0.0005\n",
            "year.1987      0.0004   7.63e-05     5.6498     0.0000      0.0003      0.0006\n",
            "==============================================================================\n"
          ],
          "name": "stdout"
        }
      ]
    },
    {
      "cell_type": "markdown",
      "metadata": {
        "id": "HByQQizfz-Rt",
        "colab_type": "text"
      },
      "source": [
        "- including year dummies will fit the trend in experience and only the cross-sectional differences matter\n",
        "- the quasi-differencing in the random effects estimator depends on a quantity that depends on the relative variance of the idiosyncratic shock and the common shock. This can be accessed using variance_decomposition."
      ]
    },
    {
      "cell_type": "code",
      "metadata": {
        "id": "YBxTSusALweH",
        "colab_type": "code",
        "outputId": "914923f8-161f-48a0-c48e-3266666af71e",
        "colab": {
          "base_uri": "https://localhost:8080/",
          "height": 0
        }
      },
      "source": [
        "re_res.variance_decomposition"
      ],
      "execution_count": 21,
      "outputs": [
        {
          "output_type": "execute_result",
          "data": {
            "text/plain": [
              "Effects                   0.000000e+00\n",
              "Residual                  6.830175e-07\n",
              "Percent due to Effects    0.000000e+00\n",
              "Name: Variance Decomposition, dtype: float64"
            ]
          },
          "metadata": {
            "tags": []
          },
          "execution_count": 21
        }
      ]
    },
    {
      "cell_type": "markdown",
      "metadata": {
        "id": "gHYPMiC_z37n",
        "colab_type": "text"
      },
      "source": [
        "The coefficient θi determines how much demeaning takes place. When this value is 1, the RE model reduces to the pooled model since this occurs when there is no variance in the effects. When panels are unbalanced it will vary across entities, but in this balanced panel all values are the same."
      ]
    },
    {
      "cell_type": "code",
      "metadata": {
        "id": "Iu3xhqaYMBYO",
        "colab_type": "code",
        "outputId": "b7139fce-42f5-466d-8387-2ea7300bfd7e",
        "colab": {
          "base_uri": "https://localhost:8080/",
          "height": 0
        }
      },
      "source": [
        "re_res.theta.head()\n"
      ],
      "execution_count": 22,
      "outputs": [
        {
          "output_type": "execute_result",
          "data": {
            "text/html": [
              "<div>\n",
              "<style scoped>\n",
              "    .dataframe tbody tr th:only-of-type {\n",
              "        vertical-align: middle;\n",
              "    }\n",
              "\n",
              "    .dataframe tbody tr th {\n",
              "        vertical-align: top;\n",
              "    }\n",
              "\n",
              "    .dataframe thead th {\n",
              "        text-align: right;\n",
              "    }\n",
              "</style>\n",
              "<table border=\"1\" class=\"dataframe\">\n",
              "  <thead>\n",
              "    <tr style=\"text-align: right;\">\n",
              "      <th></th>\n",
              "      <th>theta</th>\n",
              "    </tr>\n",
              "    <tr>\n",
              "      <th>ID</th>\n",
              "      <th></th>\n",
              "    </tr>\n",
              "  </thead>\n",
              "  <tbody>\n",
              "    <tr>\n",
              "      <th>114</th>\n",
              "      <td>0.0</td>\n",
              "    </tr>\n",
              "    <tr>\n",
              "      <th>115</th>\n",
              "      <td>0.0</td>\n",
              "    </tr>\n",
              "    <tr>\n",
              "      <th>120</th>\n",
              "      <td>0.0</td>\n",
              "    </tr>\n",
              "    <tr>\n",
              "      <th>123</th>\n",
              "      <td>0.0</td>\n",
              "    </tr>\n",
              "    <tr>\n",
              "      <th>125</th>\n",
              "      <td>0.0</td>\n",
              "    </tr>\n",
              "  </tbody>\n",
              "</table>\n",
              "</div>"
            ],
            "text/plain": [
              "     theta\n",
              "ID        \n",
              "114    0.0\n",
              "115    0.0\n",
              "120    0.0\n",
              "123    0.0\n",
              "125    0.0"
            ]
          },
          "metadata": {
            "tags": []
          },
          "execution_count": 22
        }
      ]
    },
    {
      "cell_type": "markdown",
      "metadata": {
        "id": "v3qr3S_3MhvQ",
        "colab_type": "text"
      },
      "source": [
        "## The between estimator\n",
        "The between estimator is an alternative, usually less efficient estimator, can can be used to estimate model parameters. It is particular simple since it first computes the time averages of y and x and then runs a simple regression using these averages.\n",
        "\n",
        "The year dummies are dropped since the averaging removes differences due to the year."
      ]
    },
    {
      "cell_type": "code",
      "metadata": {
        "id": "IuxxzT0OMqJL",
        "colab_type": "code",
        "outputId": "19f2cae5-c3db-44d4-8016-2600b9b38539",
        "colab": {
          "base_uri": "https://localhost:8080/",
          "height": 0
        }
      },
      "source": [
        "from linearmodels.panel import BetweenOLS\n",
        "variables = ['REVENUE','GRANTS']\n",
        "IVs = sm.add_constant(data[variables])\n",
        "mod = BetweenOLS(data.EXPEND, IVs)\n",
        "be_res = mod.fit()\n",
        "print(be_res)\n"
      ],
      "execution_count": 23,
      "outputs": [
        {
          "output_type": "stream",
          "text": [
            "                         BetweenOLS Estimation Summary                          \n",
            "================================================================================\n",
            "Dep. Variable:                 EXPEND   R-squared:                        0.9925\n",
            "Estimator:                 BetweenOLS   R-squared (Between):              0.9925\n",
            "No. Observations:                 265   R-squared (Within):               0.6870\n",
            "Date:                Thu, Dec 05 2019   R-squared (Overall):              0.9212\n",
            "Time:                        22:22:58   Log-likelihood                    1831.8\n",
            "Cov. Estimator:            Unadjusted                                           \n",
            "                                        F-statistic:                   1.731e+04\n",
            "Entities:                         265   P-value                           0.0000\n",
            "Avg Obs:                       9.0000   Distribution:                   F(2,262)\n",
            "Min Obs:                       9.0000                                           \n",
            "Max Obs:                       9.0000   F-statistic (robust):          1.731e+04\n",
            "                                        P-value                           0.0000\n",
            "Time periods:                       9   Distribution:                   F(2,262)\n",
            "Avg Obs:                       265.00                                           \n",
            "Min Obs:                       265.00                                           \n",
            "Max Obs:                       265.00                                           \n",
            "                                                                                \n",
            "                             Parameter Estimates                              \n",
            "==============================================================================\n",
            "            Parameter  Std. Err.     T-stat    P-value    Lower CI    Upper CI\n",
            "------------------------------------------------------------------------------\n",
            "const         -0.0002     0.0001    -2.0629     0.0401     -0.0004  -9.833e-06\n",
            "REVENUE        1.0032     0.0059     169.03     0.0000      0.9915      1.0148\n",
            "GRANTS         0.9988     0.0125     80.109     0.0000      0.9742      1.0233\n",
            "==============================================================================\n"
          ],
          "name": "stdout"
        },
        {
          "output_type": "stream",
          "text": [
            "/usr/local/lib/python3.6/dist-packages/numpy/core/fromnumeric.py:2495: FutureWarning: Method .ptp is deprecated and will be removed in a future version. Use numpy.ptp instead.\n",
            "  return ptp(axis=axis, out=out, **kwargs)\n"
          ],
          "name": "stderr"
        }
      ]
    },
    {
      "cell_type": "markdown",
      "metadata": {
        "id": "JFcZkKKhMyBi",
        "colab_type": "text"
      },
      "source": [
        "# Handling correlated effects \n",
        "(Effects and regressor correlate => RE and BE not consistent)\n"
      ]
    },
    {
      "cell_type": "markdown",
      "metadata": {
        "id": "Lne_gv1p4Wze",
        "colab_type": "text"
      },
      "source": [
        "## Including fixed effects"
      ]
    },
    {
      "cell_type": "markdown",
      "metadata": {
        "id": "_aREk5j24ZGD",
        "colab_type": "text"
      },
      "source": [
        "### Time invariant variables\n",
        "Remove time invariant and collinear variables"
      ]
    },
    {
      "cell_type": "code",
      "metadata": {
        "id": "UAjz9xQkZ3iq",
        "colab_type": "code",
        "outputId": "7c3bc5a3-cb08-435c-86a3-642f7d970caa",
        "colab": {
          "base_uri": "https://localhost:8080/",
          "height": 0
        }
      },
      "source": [
        "from linearmodels.panel import PanelOLS\n",
        "variables = ['GRANTS','REVENUE', 'year']\n",
        "IVs = sm.add_constant(data[variables])\n",
        "mod = PanelOLS(data.EXPEND, IVs, entity_effects=True)\n",
        "fe_res = mod.fit()\n",
        "print(fe_res)"
      ],
      "execution_count": 24,
      "outputs": [
        {
          "output_type": "stream",
          "text": [
            "/usr/local/lib/python3.6/dist-packages/numpy/core/fromnumeric.py:2495: FutureWarning: Method .ptp is deprecated and will be removed in a future version. Use numpy.ptp instead.\n",
            "  return ptp(axis=axis, out=out, **kwargs)\n"
          ],
          "name": "stderr"
        },
        {
          "output_type": "stream",
          "text": [
            "                          PanelOLS Estimation Summary                           \n",
            "================================================================================\n",
            "Dep. Variable:                 EXPEND   R-squared:                        0.7427\n",
            "Estimator:                   PanelOLS   R-squared (Between):              0.9276\n",
            "No. Observations:                2385   R-squared (Within):               0.7427\n",
            "Date:                Thu, Dec 05 2019   R-squared (Overall):              0.8845\n",
            "Time:                        22:22:58   Log-likelihood                 1.369e+04\n",
            "Cov. Estimator:            Unadjusted                                           \n",
            "                                        F-statistic:                      609.14\n",
            "Entities:                         265   P-value                           0.0000\n",
            "Avg Obs:                       9.0000   Distribution:                 F(10,2110)\n",
            "Min Obs:                       9.0000                                           \n",
            "Max Obs:                       9.0000   F-statistic (robust):             609.14\n",
            "                                        P-value                           0.0000\n",
            "Time periods:                       9   Distribution:                 F(10,2110)\n",
            "Avg Obs:                       265.00                                           \n",
            "Min Obs:                       265.00                                           \n",
            "Max Obs:                       265.00                                           \n",
            "                                                                                \n",
            "                             Parameter Estimates                              \n",
            "==============================================================================\n",
            "            Parameter  Std. Err.     T-stat    P-value    Lower CI    Upper CI\n",
            "------------------------------------------------------------------------------\n",
            "const          0.0043     0.0003     13.059     0.0000      0.0037      0.0050\n",
            "GRANTS         0.7992     0.0495     16.160     0.0000      0.7022      0.8962\n",
            "REVENUE        0.7361     0.0146     50.323     0.0000      0.7074      0.7647\n",
            "year.1980      0.0002  7.291e-05     2.3813     0.0173   3.064e-05      0.0003\n",
            "year.1981      0.0003  7.423e-05     3.9511     0.0001      0.0001      0.0004\n",
            "year.1982      0.0004  7.619e-05     5.8457     0.0000      0.0003      0.0006\n",
            "year.1983     -0.0003  8.512e-05    -3.6904     0.0002     -0.0005     -0.0001\n",
            "year.1984     -0.0002   8.68e-05    -2.4473     0.0145     -0.0004   -4.22e-05\n",
            "year.1985      0.0002  8.295e-05     1.8308     0.0673  -1.081e-05      0.0003\n",
            "year.1986      0.0001  7.966e-05     1.7649     0.0777  -1.563e-05      0.0003\n",
            "year.1987      0.0003  8.308e-05     3.7106     0.0002      0.0001      0.0005\n",
            "==============================================================================\n",
            "\n",
            "F-test for Poolability: 1.8456\n",
            "P-value: 0.0000\n",
            "Distribution: F(264,2110)\n",
            "\n",
            "Included effects: Entity\n"
          ],
          "name": "stdout"
        }
      ]
    },
    {
      "cell_type": "markdown",
      "metadata": {
        "id": "wWjQcIUu4p0i",
        "colab_type": "text"
      },
      "source": [
        "## Time Effects"
      ]
    },
    {
      "cell_type": "markdown",
      "metadata": {
        "id": "DUqE8YfB4tUN",
        "colab_type": "text"
      },
      "source": [
        "### Effects vs dummies\n",
        "compare time dummies with time effects model"
      ]
    },
    {
      "cell_type": "code",
      "metadata": {
        "id": "PGLp1lhJaM0c",
        "colab_type": "code",
        "outputId": "1fd3fd83-9bfc-4d18-c206-e30d5a666d99",
        "colab": {
          "base_uri": "https://localhost:8080/",
          "height": 0
        }
      },
      "source": [
        "from linearmodels.panel import PanelOLS\n",
        "variables = ['GRANTS','REVENUE']\n",
        "IVs = sm.add_constant(data[variables])\n",
        "mod = PanelOLS(data.EXPEND, IVs, entity_effects=True, time_effects=True, drop_absorbed=True)\n",
        "fe_te_res = mod.fit()\n",
        "print(fe_te_res)\n"
      ],
      "execution_count": 25,
      "outputs": [
        {
          "output_type": "stream",
          "text": [
            "/usr/local/lib/python3.6/dist-packages/numpy/core/fromnumeric.py:2495: FutureWarning: Method .ptp is deprecated and will be removed in a future version. Use numpy.ptp instead.\n",
            "  return ptp(axis=axis, out=out, **kwargs)\n"
          ],
          "name": "stderr"
        },
        {
          "output_type": "stream",
          "text": [
            "                          PanelOLS Estimation Summary                           \n",
            "================================================================================\n",
            "Dep. Variable:                 EXPEND   R-squared:                        0.5630\n",
            "Estimator:                   PanelOLS   R-squared (Between):              0.9276\n",
            "No. Observations:                2385   R-squared (Within):               0.7196\n",
            "Date:                Thu, Dec 05 2019   R-squared (Overall):              0.8791\n",
            "Time:                        22:22:59   Log-likelihood                 1.369e+04\n",
            "Cov. Estimator:            Unadjusted                                           \n",
            "                                        F-statistic:                      1359.0\n",
            "Entities:                         265   P-value                           0.0000\n",
            "Avg Obs:                       9.0000   Distribution:                  F(2,2110)\n",
            "Min Obs:                       9.0000                                           \n",
            "Max Obs:                       9.0000   F-statistic (robust):             1359.0\n",
            "                                        P-value                           0.0000\n",
            "Time periods:                       9   Distribution:                  F(2,2110)\n",
            "Avg Obs:                       265.00                                           \n",
            "Min Obs:                       265.00                                           \n",
            "Max Obs:                       265.00                                           \n",
            "                                                                                \n",
            "                             Parameter Estimates                              \n",
            "==============================================================================\n",
            "            Parameter  Std. Err.     T-stat    P-value    Lower CI    Upper CI\n",
            "------------------------------------------------------------------------------\n",
            "const          0.0044     0.0003     13.246     0.0000      0.0038      0.0051\n",
            "GRANTS         0.7992     0.0495     16.160     0.0000      0.7022      0.8962\n",
            "REVENUE        0.7361     0.0146     50.323     0.0000      0.7074      0.7647\n",
            "==============================================================================\n",
            "\n",
            "F-test for Poolability: 2.0731\n",
            "P-value: 0.0000\n",
            "Distribution: F(272,2110)\n",
            "\n",
            "Included effects: Entity, Time\n"
          ],
          "name": "stdout"
        }
      ]
    },
    {
      "cell_type": "markdown",
      "metadata": {
        "id": "eVXc1Nto5E3B",
        "colab_type": "text"
      },
      "source": [
        "## Using first differences\n",
        "- exclude time invariant variables\n",
        "- Additionally, only one linear time-trending variable can be included since this will look like a constant. This variable will soak up all time-trends in the data, and so interpretations of these variable can be challenging."
      ]
    },
    {
      "cell_type": "code",
      "metadata": {
        "id": "bz4E38FX47Y2",
        "colab_type": "code",
        "outputId": "a67a3942-5000-4995-b206-267e5edbe5bc",
        "colab": {
          "base_uri": "https://localhost:8080/",
          "height": 0
        }
      },
      "source": [
        "\n",
        "from linearmodels.panel import FirstDifferenceOLS\n",
        "variables = ['GRANTS','REVENUE']\n",
        "IVs = data[variables]\n",
        "mod = FirstDifferenceOLS(data.EXPEND, IVs)\n",
        "fd_res = mod.fit()\n",
        "print(fd_res)"
      ],
      "execution_count": 26,
      "outputs": [
        {
          "output_type": "stream",
          "text": [
            "                     FirstDifferenceOLS Estimation Summary                      \n",
            "================================================================================\n",
            "Dep. Variable:                 EXPEND   R-squared:                        0.5934\n",
            "Estimator:         FirstDifferenceOLS   R-squared (Between):              0.9159\n",
            "No. Observations:                2120   R-squared (Within):               0.7162\n",
            "Date:                Thu, Dec 05 2019   R-squared (Overall):              0.9146\n",
            "Time:                        22:22:59   Log-likelihood                  1.14e+04\n",
            "Cov. Estimator:            Unadjusted                                           \n",
            "                                        F-statistic:                      1545.6\n",
            "Entities:                         265   P-value                           0.0000\n",
            "Avg Obs:                       9.0000   Distribution:                  F(2,2118)\n",
            "Min Obs:                       9.0000                                           \n",
            "Max Obs:                       9.0000   F-statistic (robust):             1545.6\n",
            "                                        P-value                           0.0000\n",
            "Time periods:                       9   Distribution:                  F(2,2118)\n",
            "Avg Obs:                       265.00                                           \n",
            "Min Obs:                       265.00                                           \n",
            "Max Obs:                       265.00                                           \n",
            "                                                                                \n",
            "                             Parameter Estimates                              \n",
            "==============================================================================\n",
            "            Parameter  Std. Err.     T-stat    P-value    Lower CI    Upper CI\n",
            "------------------------------------------------------------------------------\n",
            "GRANTS         0.6437     0.0555     11.593     0.0000      0.5348      0.7526\n",
            "REVENUE        0.7269     0.0132     54.960     0.0000      0.7009      0.7528\n",
            "==============================================================================\n"
          ],
          "name": "stdout"
        }
      ]
    },
    {
      "cell_type": "markdown",
      "metadata": {
        "id": "_HO9hFJM5QWg",
        "colab_type": "text"
      },
      "source": [
        "# Comparing models\n",
        "First compare models with correlated effects"
      ]
    },
    {
      "cell_type": "code",
      "metadata": {
        "id": "JapbaPfUapET",
        "colab_type": "code",
        "colab": {}
      },
      "source": [
        "from linearmodels.panel import compare\n",
        "C1 = compare({'TimeDummies':fe_res,'TimeEffects':fe_te_res,'FirstDiff':fd_res})"
      ],
      "execution_count": 0,
      "outputs": []
    },
    {
      "cell_type": "code",
      "metadata": {
        "id": "aa3aywRzcCK5",
        "colab_type": "code",
        "outputId": "9f307092-0f4d-415a-b6d8-4fa7fd6eb1ab",
        "colab": {
          "base_uri": "https://localhost:8080/",
          "height": 881
        }
      },
      "source": [
        "C1"
      ],
      "execution_count": 28,
      "outputs": [
        {
          "output_type": "execute_result",
          "data": {
            "text/html": [
              "<table class=\"simpletable\">\n",
              "<caption>Model Comparison</caption>\n",
              "<tr>\n",
              "             <td></td>                    <th>FirstDiff</th>         <th>TimeDummies</th>    <th>TimeEffects</th> \n",
              "</tr>\n",
              "<tr>\n",
              "  <th>Dep. Variable</th>                   <td>EXPEND</td>             <td>EXPEND</td>         <td>EXPEND</td>    \n",
              "</tr>\n",
              "<tr>\n",
              "  <th>Estimator</th>                 <td>FirstDifferenceOLS</td>      <td>PanelOLS</td>       <td>PanelOLS</td>   \n",
              "</tr>\n",
              "<tr>\n",
              "  <th>No. Observations</th>                 <td>2120</td>               <td>2385</td>           <td>2385</td>     \n",
              "</tr>\n",
              "<tr>\n",
              "  <th>Cov. Est.</th>                     <td>Unadjusted</td>         <td>Unadjusted</td>     <td>Unadjusted</td>  \n",
              "</tr>\n",
              "<tr>\n",
              "  <th>R-squared</th>                       <td>0.5934</td>             <td>0.7427</td>         <td>0.5630</td>    \n",
              "</tr>\n",
              "<tr>\n",
              "  <th>R-Squared (Within)</th>              <td>0.7162</td>             <td>0.7427</td>         <td>0.7196</td>    \n",
              "</tr>\n",
              "<tr>\n",
              "  <th>R-Squared (Between)</th>             <td>0.9159</td>             <td>0.9276</td>         <td>0.9276</td>    \n",
              "</tr>\n",
              "<tr>\n",
              "  <th>R-Squared (Overall)</th>             <td>0.9146</td>             <td>0.8845</td>         <td>0.8791</td>    \n",
              "</tr>\n",
              "<tr>\n",
              "  <th>F-statistic</th>                     <td>1545.6</td>             <td>609.14</td>         <td>1359.0</td>    \n",
              "</tr>\n",
              "<tr>\n",
              "  <th>P-value (F-stat)</th>                <td>0.0000</td>             <td>0.0000</td>         <td>0.0000</td>    \n",
              "</tr>\n",
              "<tr>\n",
              "  <th>=====================</th>    <td>====================</td>   <td>============</td>   <td>============</td> \n",
              "</tr>\n",
              "<tr>\n",
              "  <th>GRANTS</th>                          <td>0.6437</td>             <td>0.7992</td>         <td>0.7992</td>    \n",
              "</tr>\n",
              "<tr>\n",
              "  <th> </th>                              <td>(11.593)</td>           <td>(16.160)</td>       <td>(16.160)</td>   \n",
              "</tr>\n",
              "<tr>\n",
              "  <th>REVENUE</th>                         <td>0.7269</td>             <td>0.7361</td>         <td>0.7361</td>    \n",
              "</tr>\n",
              "<tr>\n",
              "  <th> </th>                              <td>(54.960)</td>           <td>(50.323)</td>       <td>(50.323)</td>   \n",
              "</tr>\n",
              "<tr>\n",
              "  <th>const</th>                          <td>        </td>            <td>0.0043</td>         <td>0.0044</td>    \n",
              "</tr>\n",
              "<tr>\n",
              "  <th> </th>                              <td>        </td>           <td>(13.059)</td>       <td>(13.246)</td>   \n",
              "</tr>\n",
              "<tr>\n",
              "  <th>year.1980</th>                      <td>        </td>            <td>0.0002</td>        <td>        </td>   \n",
              "</tr>\n",
              "<tr>\n",
              "  <th> </th>                              <td>        </td>           <td>(2.3813)</td>       <td>        </td>   \n",
              "</tr>\n",
              "<tr>\n",
              "  <th>year.1981</th>                      <td>        </td>            <td>0.0003</td>        <td>        </td>   \n",
              "</tr>\n",
              "<tr>\n",
              "  <th> </th>                              <td>        </td>           <td>(3.9511)</td>       <td>        </td>   \n",
              "</tr>\n",
              "<tr>\n",
              "  <th>year.1982</th>                      <td>        </td>            <td>0.0004</td>        <td>        </td>   \n",
              "</tr>\n",
              "<tr>\n",
              "  <th> </th>                              <td>        </td>           <td>(5.8457)</td>       <td>        </td>   \n",
              "</tr>\n",
              "<tr>\n",
              "  <th>year.1983</th>                      <td>        </td>            <td>-0.0003</td>       <td>        </td>   \n",
              "</tr>\n",
              "<tr>\n",
              "  <th> </th>                              <td>        </td>           <td>(-3.6904)</td>      <td>        </td>   \n",
              "</tr>\n",
              "<tr>\n",
              "  <th>year.1984</th>                      <td>        </td>            <td>-0.0002</td>       <td>        </td>   \n",
              "</tr>\n",
              "<tr>\n",
              "  <th> </th>                              <td>        </td>           <td>(-2.4473)</td>      <td>        </td>   \n",
              "</tr>\n",
              "<tr>\n",
              "  <th>year.1985</th>                      <td>        </td>            <td>0.0002</td>        <td>        </td>   \n",
              "</tr>\n",
              "<tr>\n",
              "  <th> </th>                              <td>        </td>           <td>(1.8308)</td>       <td>        </td>   \n",
              "</tr>\n",
              "<tr>\n",
              "  <th>year.1986</th>                      <td>        </td>            <td>0.0001</td>        <td>        </td>   \n",
              "</tr>\n",
              "<tr>\n",
              "  <th> </th>                              <td>        </td>           <td>(1.7649)</td>       <td>        </td>   \n",
              "</tr>\n",
              "<tr>\n",
              "  <th>year.1987</th>                      <td>        </td>            <td>0.0003</td>        <td>        </td>   \n",
              "</tr>\n",
              "<tr>\n",
              "  <th> </th>                              <td>        </td>           <td>(3.7106)</td>       <td>        </td>   \n",
              "</tr>\n",
              "<tr>\n",
              "  <th>=======================</th> <td>======================</td> <td>==============</td> <td>==============</td>\n",
              "</tr>\n",
              "<tr>\n",
              "  <th>Effects</th>                            <td></td>                <td>Entity</td>         <td>Entity</td>    \n",
              "</tr>\n",
              "<tr>\n",
              "  <th></th>                                   <td></td>                   <td></td>             <td>Time</td>     \n",
              "</tr>\n",
              "</table><br/><br/>T-stats reported in parentheses<br/>id: 0x7efd688775f8"
            ],
            "text/plain": [
              "                              Model Comparison                              \n",
              "============================================================================\n",
              "                                     FirstDiff    TimeDummies    TimeEffects\n",
              "----------------------------------------------------------------------------\n",
              "Dep. Variable                           EXPEND         EXPEND         EXPEND\n",
              "Estimator                   FirstDifferenceOLS       PanelOLS       PanelOLS\n",
              "No. Observations                          2120           2385           2385\n",
              "Cov. Est.                           Unadjusted     Unadjusted     Unadjusted\n",
              "R-squared                               0.5934         0.7427         0.5630\n",
              "R-Squared (Within)                      0.7162         0.7427         0.7196\n",
              "R-Squared (Between)                     0.9159         0.9276         0.9276\n",
              "R-Squared (Overall)                     0.9146         0.8845         0.8791\n",
              "F-statistic                             1545.6         609.14         1359.0\n",
              "P-value (F-stat)                        0.0000         0.0000         0.0000\n",
              "=====================     ====================   ============   ============\n",
              "GRANTS                                  0.6437         0.7992         0.7992\n",
              "                                      (11.593)       (16.160)       (16.160)\n",
              "REVENUE                                 0.7269         0.7361         0.7361\n",
              "                                      (54.960)       (50.323)       (50.323)\n",
              "const                                                  0.0043         0.0044\n",
              "                                                     (13.059)       (13.246)\n",
              "year.1980                                              0.0002               \n",
              "                                                     (2.3813)               \n",
              "year.1981                                              0.0003               \n",
              "                                                     (3.9511)               \n",
              "year.1982                                              0.0004               \n",
              "                                                     (5.8457)               \n",
              "year.1983                                             -0.0003               \n",
              "                                                    (-3.6904)               \n",
              "year.1984                                             -0.0002               \n",
              "                                                    (-2.4473)               \n",
              "year.1985                                              0.0002               \n",
              "                                                     (1.8308)               \n",
              "year.1986                                              0.0001               \n",
              "                                                     (1.7649)               \n",
              "year.1987                                              0.0003               \n",
              "                                                     (3.7106)               \n",
              "======================= ====================== ============== ==============\n",
              "Effects                                                Entity         Entity\n",
              "                                                                        Time\n",
              "----------------------------------------------------------------------------\n",
              "\n",
              "T-stats reported in parentheses\n",
              "PanelModelComparison, id: 0x7efd688775f8"
            ]
          },
          "metadata": {
            "tags": []
          },
          "execution_count": 28
        }
      ]
    },
    {
      "cell_type": "markdown",
      "metadata": {
        "id": "BFf1luqTbJAt",
        "colab_type": "text"
      },
      "source": [
        "Compare models with uncorrelated effects"
      ]
    },
    {
      "cell_type": "code",
      "metadata": {
        "id": "AX6dcDL0bMWS",
        "colab_type": "code",
        "outputId": "fcf4e50d-7a05-4be9-d31c-d59cf474f086",
        "colab": {
          "base_uri": "https://localhost:8080/",
          "height": 818
        }
      },
      "source": [
        "C2 = compare({'RE':re_res,'BE':be_res})\n",
        "C2"
      ],
      "execution_count": 29,
      "outputs": [
        {
          "output_type": "execute_result",
          "data": {
            "text/html": [
              "<table class=\"simpletable\">\n",
              "<caption>Model Comparison</caption>\n",
              "<tr>\n",
              "            <td></td>                 <th>BE</th>            <th>RE</th>       \n",
              "</tr>\n",
              "<tr>\n",
              "  <th>Dep. Variable</th>            <td>EXPEND</td>        <td>EXPEND</td>     \n",
              "</tr>\n",
              "<tr>\n",
              "  <th>Estimator</th>              <td>BetweenOLS</td>   <td>RandomEffects</td> \n",
              "</tr>\n",
              "<tr>\n",
              "  <th>No. Observations</th>           <td>265</td>          <td>2385</td>      \n",
              "</tr>\n",
              "<tr>\n",
              "  <th>Cov. Est.</th>              <td>Unadjusted</td>    <td>Unadjusted</td>   \n",
              "</tr>\n",
              "<tr>\n",
              "  <th>R-squared</th>                <td>0.9925</td>        <td>0.9262</td>     \n",
              "</tr>\n",
              "<tr>\n",
              "  <th>R-Squared (Within)</th>       <td>0.6870</td>        <td>0.7139</td>     \n",
              "</tr>\n",
              "<tr>\n",
              "  <th>R-Squared (Between)</th>      <td>0.9925</td>        <td>0.9907</td>     \n",
              "</tr>\n",
              "<tr>\n",
              "  <th>R-Squared (Overall)</th>      <td>0.9212</td>        <td>0.9262</td>     \n",
              "</tr>\n",
              "<tr>\n",
              "  <th>F-statistic</th>             <td>1.731e+04</td>      <td>2977.4</td>     \n",
              "</tr>\n",
              "<tr>\n",
              "  <th>P-value (F-stat)</th>         <td>0.0000</td>        <td>0.0000</td>     \n",
              "</tr>\n",
              "<tr>\n",
              "  <th>=====================</th> <td>============</td> <td>===============</td>\n",
              "</tr>\n",
              "<tr>\n",
              "  <th>const</th>                    <td>-0.0002</td>       <td>0.0002</td>     \n",
              "</tr>\n",
              "<tr>\n",
              "  <th> </th>                       <td>(-2.0629)</td>     <td>(1.6533)</td>    \n",
              "</tr>\n",
              "<tr>\n",
              "  <th>REVENUE</th>                  <td>1.0032</td>        <td>0.9566</td>     \n",
              "</tr>\n",
              "<tr>\n",
              "  <th> </th>                       <td>(169.03)</td>      <td>(149.25)</td>    \n",
              "</tr>\n",
              "<tr>\n",
              "  <th>GRANTS</th>                   <td>0.9988</td>        <td>0.9852</td>     \n",
              "</tr>\n",
              "<tr>\n",
              "  <th> </th>                       <td>(80.109)</td>      <td>(69.107)</td>    \n",
              "</tr>\n",
              "<tr>\n",
              "  <th>year.1980</th>               <td>        </td>       <td>0.0002</td>     \n",
              "</tr>\n",
              "<tr>\n",
              "  <th> </th>                       <td>        </td>      <td>(2.7685)</td>    \n",
              "</tr>\n",
              "<tr>\n",
              "  <th>year.1981</th>               <td>        </td>       <td>0.0002</td>     \n",
              "</tr>\n",
              "<tr>\n",
              "  <th> </th>                       <td>        </td>      <td>(2.3815)</td>    \n",
              "</tr>\n",
              "<tr>\n",
              "  <th>year.1982</th>               <td>        </td>       <td>0.0002</td>     \n",
              "</tr>\n",
              "<tr>\n",
              "  <th> </th>                       <td>        </td>      <td>(3.1454)</td>    \n",
              "</tr>\n",
              "<tr>\n",
              "  <th>year.1983</th>               <td>        </td>       <td>0.0002</td>     \n",
              "</tr>\n",
              "<tr>\n",
              "  <th> </th>                       <td>        </td>      <td>(2.4099)</td>    \n",
              "</tr>\n",
              "<tr>\n",
              "  <th>year.1984</th>               <td>        </td>       <td>0.0002</td>     \n",
              "</tr>\n",
              "<tr>\n",
              "  <th> </th>                       <td>        </td>      <td>(3.1594)</td>    \n",
              "</tr>\n",
              "<tr>\n",
              "  <th>year.1985</th>               <td>        </td>       <td>0.0005</td>     \n",
              "</tr>\n",
              "<tr>\n",
              "  <th> </th>                       <td>        </td>      <td>(7.0419)</td>    \n",
              "</tr>\n",
              "<tr>\n",
              "  <th>year.1986</th>               <td>        </td>       <td>0.0004</td>     \n",
              "</tr>\n",
              "<tr>\n",
              "  <th> </th>                       <td>        </td>      <td>(5.1005)</td>    \n",
              "</tr>\n",
              "<tr>\n",
              "  <th>year.1987</th>               <td>        </td>       <td>0.0004</td>     \n",
              "</tr>\n",
              "<tr>\n",
              "  <th> </th>                       <td>        </td>      <td>(5.6498)</td>    \n",
              "</tr>\n",
              "</table><br/><br/>T-stats reported in parentheses<br/>id: 0x7efd76455358"
            ],
            "text/plain": [
              "                 Model Comparison                 \n",
              "==================================================\n",
              "                                BE              RE\n",
              "--------------------------------------------------\n",
              "Dep. Variable               EXPEND          EXPEND\n",
              "Estimator               BetweenOLS   RandomEffects\n",
              "No. Observations               265            2385\n",
              "Cov. Est.               Unadjusted      Unadjusted\n",
              "R-squared                   0.9925          0.9262\n",
              "R-Squared (Within)          0.6870          0.7139\n",
              "R-Squared (Between)         0.9925          0.9907\n",
              "R-Squared (Overall)         0.9212          0.9262\n",
              "F-statistic              1.731e+04          2977.4\n",
              "P-value (F-stat)            0.0000          0.0000\n",
              "===================== ============ ===============\n",
              "const                      -0.0002          0.0002\n",
              "                         (-2.0629)        (1.6533)\n",
              "REVENUE                     1.0032          0.9566\n",
              "                          (169.03)        (149.25)\n",
              "GRANTS                      0.9988          0.9852\n",
              "                          (80.109)        (69.107)\n",
              "year.1980                                   0.0002\n",
              "                                          (2.7685)\n",
              "year.1981                                   0.0002\n",
              "                                          (2.3815)\n",
              "year.1982                                   0.0002\n",
              "                                          (3.1454)\n",
              "year.1983                                   0.0002\n",
              "                                          (2.4099)\n",
              "year.1984                                   0.0002\n",
              "                                          (3.1594)\n",
              "year.1985                                   0.0005\n",
              "                                          (7.0419)\n",
              "year.1986                                   0.0004\n",
              "                                          (5.1005)\n",
              "year.1987                                   0.0004\n",
              "                                          (5.6498)\n",
              "--------------------------------------------------\n",
              "\n",
              "T-stats reported in parentheses\n",
              "PanelModelComparison, id: 0x7efd76455358"
            ]
          },
          "metadata": {
            "tags": []
          },
          "execution_count": 29
        }
      ]
    },
    {
      "cell_type": "markdown",
      "metadata": {
        "id": "AuWkbFIIbD5l",
        "colab_type": "text"
      },
      "source": [
        "Then compare basic model, best random effects model and best fixed effects model"
      ]
    },
    {
      "cell_type": "code",
      "metadata": {
        "id": "afqukxVw5R92",
        "colab_type": "code",
        "outputId": "4d78e29e-7773-4251-a613-d3571fdd8071",
        "colab": {
          "base_uri": "https://localhost:8080/",
          "height": 860
        }
      },
      "source": [
        "C3 = compare({'Pooled':pooled_res,'RE':re_res,'TimeDummies': fe_res, 'FirstDiff': fd_res})\n",
        "C3"
      ],
      "execution_count": 30,
      "outputs": [
        {
          "output_type": "execute_result",
          "data": {
            "text/html": [
              "<table class=\"simpletable\">\n",
              "<caption>Model Comparison</caption>\n",
              "<tr>\n",
              "             <td></td>                    <th>FirstDiff</th>           <th>Pooled</th>            <th>RE</th>           <th>TimeDummies</th> \n",
              "</tr>\n",
              "<tr>\n",
              "  <th>Dep. Variable</th>                   <td>EXPEND</td>             <td>EXPEND</td>          <td>EXPEND</td>           <td>EXPEND</td>    \n",
              "</tr>\n",
              "<tr>\n",
              "  <th>Estimator</th>                 <td>FirstDifferenceOLS</td>      <td>PooledOLS</td>     <td>RandomEffects</td>      <td>PanelOLS</td>   \n",
              "</tr>\n",
              "<tr>\n",
              "  <th>No. Observations</th>                 <td>2120</td>               <td>2385</td>            <td>2385</td>             <td>2385</td>     \n",
              "</tr>\n",
              "<tr>\n",
              "  <th>Cov. Est.</th>                     <td>Unadjusted</td>         <td>Unadjusted</td>      <td>Unadjusted</td>       <td>Unadjusted</td>  \n",
              "</tr>\n",
              "<tr>\n",
              "  <th>R-squared</th>                       <td>0.5934</td>             <td>0.9262</td>          <td>0.9262</td>           <td>0.7427</td>    \n",
              "</tr>\n",
              "<tr>\n",
              "  <th>R-Squared (Within)</th>              <td>0.7162</td>             <td>0.7139</td>          <td>0.7139</td>           <td>0.7427</td>    \n",
              "</tr>\n",
              "<tr>\n",
              "  <th>R-Squared (Between)</th>             <td>0.9159</td>             <td>0.9907</td>          <td>0.9907</td>           <td>0.9276</td>    \n",
              "</tr>\n",
              "<tr>\n",
              "  <th>R-Squared (Overall)</th>             <td>0.9146</td>             <td>0.9262</td>          <td>0.9262</td>           <td>0.8845</td>    \n",
              "</tr>\n",
              "<tr>\n",
              "  <th>F-statistic</th>                     <td>1545.6</td>             <td>2977.4</td>          <td>2977.4</td>           <td>609.14</td>    \n",
              "</tr>\n",
              "<tr>\n",
              "  <th>P-value (F-stat)</th>                <td>0.0000</td>             <td>0.0000</td>          <td>0.0000</td>           <td>0.0000</td>    \n",
              "</tr>\n",
              "<tr>\n",
              "  <th>=====================</th>    <td>====================</td>   <td>============</td>   <td>===============</td>   <td>============</td> \n",
              "</tr>\n",
              "<tr>\n",
              "  <th>GRANTS</th>                          <td>0.6437</td>             <td>0.9852</td>          <td>0.9852</td>           <td>0.7992</td>    \n",
              "</tr>\n",
              "<tr>\n",
              "  <th> </th>                              <td>(11.593)</td>           <td>(69.107)</td>        <td>(69.107)</td>         <td>(16.160)</td>   \n",
              "</tr>\n",
              "<tr>\n",
              "  <th>REVENUE</th>                         <td>0.7269</td>             <td>0.9566</td>          <td>0.9566</td>           <td>0.7361</td>    \n",
              "</tr>\n",
              "<tr>\n",
              "  <th> </th>                              <td>(54.960)</td>           <td>(149.25)</td>        <td>(149.25)</td>         <td>(50.323)</td>   \n",
              "</tr>\n",
              "<tr>\n",
              "  <th>const</th>                          <td>        </td>            <td>0.0002</td>          <td>0.0002</td>           <td>0.0043</td>    \n",
              "</tr>\n",
              "<tr>\n",
              "  <th> </th>                              <td>        </td>           <td>(1.6533)</td>        <td>(1.6533)</td>         <td>(13.059)</td>   \n",
              "</tr>\n",
              "<tr>\n",
              "  <th>year.1980</th>                      <td>        </td>            <td>0.0002</td>          <td>0.0002</td>           <td>0.0002</td>    \n",
              "</tr>\n",
              "<tr>\n",
              "  <th> </th>                              <td>        </td>           <td>(2.7685)</td>        <td>(2.7685)</td>         <td>(2.3813)</td>   \n",
              "</tr>\n",
              "<tr>\n",
              "  <th>year.1981</th>                      <td>        </td>            <td>0.0002</td>          <td>0.0002</td>           <td>0.0003</td>    \n",
              "</tr>\n",
              "<tr>\n",
              "  <th> </th>                              <td>        </td>           <td>(2.3815)</td>        <td>(2.3815)</td>         <td>(3.9511)</td>   \n",
              "</tr>\n",
              "<tr>\n",
              "  <th>year.1982</th>                      <td>        </td>            <td>0.0002</td>          <td>0.0002</td>           <td>0.0004</td>    \n",
              "</tr>\n",
              "<tr>\n",
              "  <th> </th>                              <td>        </td>           <td>(3.1454)</td>        <td>(3.1454)</td>         <td>(5.8457)</td>   \n",
              "</tr>\n",
              "<tr>\n",
              "  <th>year.1983</th>                      <td>        </td>            <td>0.0002</td>          <td>0.0002</td>           <td>-0.0003</td>   \n",
              "</tr>\n",
              "<tr>\n",
              "  <th> </th>                              <td>        </td>           <td>(2.4099)</td>        <td>(2.4099)</td>         <td>(-3.6904)</td>  \n",
              "</tr>\n",
              "<tr>\n",
              "  <th>year.1984</th>                      <td>        </td>            <td>0.0002</td>          <td>0.0002</td>           <td>-0.0002</td>   \n",
              "</tr>\n",
              "<tr>\n",
              "  <th> </th>                              <td>        </td>           <td>(3.1594)</td>        <td>(3.1594)</td>         <td>(-2.4473)</td>  \n",
              "</tr>\n",
              "<tr>\n",
              "  <th>year.1985</th>                      <td>        </td>            <td>0.0005</td>          <td>0.0005</td>           <td>0.0002</td>    \n",
              "</tr>\n",
              "<tr>\n",
              "  <th> </th>                              <td>        </td>           <td>(7.0419)</td>        <td>(7.0419)</td>         <td>(1.8308)</td>   \n",
              "</tr>\n",
              "<tr>\n",
              "  <th>year.1986</th>                      <td>        </td>            <td>0.0004</td>          <td>0.0004</td>           <td>0.0001</td>    \n",
              "</tr>\n",
              "<tr>\n",
              "  <th> </th>                              <td>        </td>           <td>(5.1005)</td>        <td>(5.1005)</td>         <td>(1.7649)</td>   \n",
              "</tr>\n",
              "<tr>\n",
              "  <th>year.1987</th>                      <td>        </td>            <td>0.0004</td>          <td>0.0004</td>           <td>0.0003</td>    \n",
              "</tr>\n",
              "<tr>\n",
              "  <th> </th>                              <td>        </td>           <td>(5.6498)</td>        <td>(5.6498)</td>         <td>(3.7106)</td>   \n",
              "</tr>\n",
              "<tr>\n",
              "  <th>=======================</th> <td>======================</td> <td>==============</td> <td>=================</td> <td>==============</td>\n",
              "</tr>\n",
              "<tr>\n",
              "  <th>Effects</th>                            <td></td>                   <td></td>                <td></td>              <td>Entity</td>    \n",
              "</tr>\n",
              "</table><br/><br/>T-stats reported in parentheses<br/>id: 0x7efd764e4208"
            ],
            "text/plain": [
              "                                       Model Comparison                                       \n",
              "==============================================================================================\n",
              "                                     FirstDiff         Pooled                RE    TimeDummies\n",
              "----------------------------------------------------------------------------------------------\n",
              "Dep. Variable                           EXPEND         EXPEND            EXPEND         EXPEND\n",
              "Estimator                   FirstDifferenceOLS      PooledOLS     RandomEffects       PanelOLS\n",
              "No. Observations                          2120           2385              2385           2385\n",
              "Cov. Est.                           Unadjusted     Unadjusted        Unadjusted     Unadjusted\n",
              "R-squared                               0.5934         0.9262            0.9262         0.7427\n",
              "R-Squared (Within)                      0.7162         0.7139            0.7139         0.7427\n",
              "R-Squared (Between)                     0.9159         0.9907            0.9907         0.9276\n",
              "R-Squared (Overall)                     0.9146         0.9262            0.9262         0.8845\n",
              "F-statistic                             1545.6         2977.4            2977.4         609.14\n",
              "P-value (F-stat)                        0.0000         0.0000            0.0000         0.0000\n",
              "=====================     ====================   ============   ===============   ============\n",
              "GRANTS                                  0.6437         0.9852            0.9852         0.7992\n",
              "                                      (11.593)       (69.107)          (69.107)       (16.160)\n",
              "REVENUE                                 0.7269         0.9566            0.9566         0.7361\n",
              "                                      (54.960)       (149.25)          (149.25)       (50.323)\n",
              "const                                                  0.0002            0.0002         0.0043\n",
              "                                                     (1.6533)          (1.6533)       (13.059)\n",
              "year.1980                                              0.0002            0.0002         0.0002\n",
              "                                                     (2.7685)          (2.7685)       (2.3813)\n",
              "year.1981                                              0.0002            0.0002         0.0003\n",
              "                                                     (2.3815)          (2.3815)       (3.9511)\n",
              "year.1982                                              0.0002            0.0002         0.0004\n",
              "                                                     (3.1454)          (3.1454)       (5.8457)\n",
              "year.1983                                              0.0002            0.0002        -0.0003\n",
              "                                                     (2.4099)          (2.4099)      (-3.6904)\n",
              "year.1984                                              0.0002            0.0002        -0.0002\n",
              "                                                     (3.1594)          (3.1594)      (-2.4473)\n",
              "year.1985                                              0.0005            0.0005         0.0002\n",
              "                                                     (7.0419)          (7.0419)       (1.8308)\n",
              "year.1986                                              0.0004            0.0004         0.0001\n",
              "                                                     (5.1005)          (5.1005)       (1.7649)\n",
              "year.1987                                              0.0004            0.0004         0.0003\n",
              "                                                     (5.6498)          (5.6498)       (3.7106)\n",
              "======================= ====================== ============== ================= ==============\n",
              "Effects                                                                                 Entity\n",
              "----------------------------------------------------------------------------------------------\n",
              "\n",
              "T-stats reported in parentheses\n",
              "PanelModelComparison, id: 0x7efd764e4208"
            ]
          },
          "metadata": {
            "tags": []
          },
          "execution_count": 30
        }
      ]
    },
    {
      "cell_type": "markdown",
      "metadata": {
        "id": "s4_OhO9kRl_A",
        "colab_type": "text"
      },
      "source": [
        "## Hausman Test"
      ]
    },
    {
      "cell_type": "code",
      "metadata": {
        "id": "2tRSEwyLRodn",
        "colab_type": "code",
        "colab": {
          "base_uri": "https://localhost:8080/",
          "height": 0
        },
        "outputId": "ab66d702-713b-451f-96c3-1304ae9160de"
      },
      "source": [
        "import numpy as np\n",
        "import numpy.linalg as la\n",
        "from scipy import stats\n",
        "fe = fe_res.params.to_numpy()\n",
        "re = re_res.params.to_numpy()\n",
        "fe_cov = fe_res.cov.to_numpy()\n",
        "re_cov = re_res.cov.to_numpy()\n",
        "chi2 = np.dot((fe - re).T, la.inv(fe_cov - re_cov).dot(fe - re))\n",
        "deg_f = fe[np.abs(fe) < 1e8].size\n",
        "pval = stats.chi2.sf(chi2, deg_f)\n",
        "print(\"Chi^2 Value: \", chi2)\n",
        "print(\"Degrees of Freedom: \", deg_f)\n",
        "print(\"P Value: \", pval)\n",
        "# Chi^2 Cutoff for 11 Degrees of Freedom is 19.68, also the P Value Cutoff is 0.05, \n",
        "# so the hypothesis for RE does not hold and FE is preferrable"
      ],
      "execution_count": 31,
      "outputs": [
        {
          "output_type": "stream",
          "text": [
            "Chi^2 Value:  290.5532742057929\n",
            "Degrees of Freedom:  11\n",
            "P Value:  8.54575416464869e-56\n"
          ],
          "name": "stdout"
        }
      ]
    },
    {
      "cell_type": "markdown",
      "metadata": {
        "id": "WFRADJXj5Vd1",
        "colab_type": "text"
      },
      "source": [
        "# Covariance options"
      ]
    },
    {
      "cell_type": "markdown",
      "metadata": {
        "id": "ZpVxHl7V5ZQP",
        "colab_type": "text"
      },
      "source": [
        "## Heteroskedasticity robust covariance\n",
        "White’s robust covariance can be used by setting cov_type='robust. This estimator adds some robustness against certain types of specification issues but should not be used when using fixed effects (entity effects) since it is no longer robust. Instead a clustered covariance is required."
      ]
    },
    {
      "cell_type": "code",
      "metadata": {
        "id": "LJWhVhBajkde",
        "colab_type": "code",
        "outputId": "061ddf86-6ff1-4300-9329-e7594577a182",
        "colab": {
          "base_uri": "https://localhost:8080/",
          "height": 0
        }
      },
      "source": [
        "variables = ['GRANTS','REVENUE']\n",
        "IVs = sm.add_constant(data[variables])\n",
        "mod = PooledOLS(data.EXPEND, IVs)\n",
        "robust = mod.fit(cov_type='robust')\n",
        "\n"
      ],
      "execution_count": 32,
      "outputs": [
        {
          "output_type": "stream",
          "text": [
            "/usr/local/lib/python3.6/dist-packages/numpy/core/fromnumeric.py:2495: FutureWarning: Method .ptp is deprecated and will be removed in a future version. Use numpy.ptp instead.\n",
            "  return ptp(axis=axis, out=out, **kwargs)\n"
          ],
          "name": "stderr"
        }
      ]
    },
    {
      "cell_type": "code",
      "metadata": {
        "id": "EQB35hToj4XF",
        "colab_type": "code",
        "outputId": "0fc5a247-7b26-4c80-ab18-11b0f1d676e0",
        "colab": {
          "base_uri": "https://localhost:8080/",
          "height": 0
        }
      },
      "source": [
        "robust"
      ],
      "execution_count": 33,
      "outputs": [
        {
          "output_type": "execute_result",
          "data": {
            "text/html": [
              "<table class=\"simpletable\">\n",
              "<caption>PooledOLS Estimation Summary</caption>\n",
              "<tr>\n",
              "  <th>Dep. Variable:</th>         <td>EXPEND</td>      <th>  R-squared:         </th>    <td>0.9240</td>  \n",
              "</tr>\n",
              "<tr>\n",
              "  <th>Estimator:</th>            <td>PooledOLS</td>    <th>  R-squared (Between):</th>   <td>0.9900</td>  \n",
              "</tr>\n",
              "<tr>\n",
              "  <th>No. Observations:</th>       <td>2385</td>       <th>  R-squared (Within):</th>    <td>0.7068</td>  \n",
              "</tr>\n",
              "<tr>\n",
              "  <th>Date:</th>             <td>Thu, Dec 05 2019</td> <th>  R-squared (Overall):</th>   <td>0.9240</td>  \n",
              "</tr>\n",
              "<tr>\n",
              "  <th>Time:</th>                 <td>22:22:59</td>     <th>  Log-likelihood     </th>   <td>1.341e+04</td>\n",
              "</tr>\n",
              "<tr>\n",
              "  <th>Cov. Estimator:</th>        <td>Robust</td>      <th>                     </th>       <td></td>     \n",
              "</tr>\n",
              "<tr>\n",
              "  <th></th>                          <td></td>         <th>  F-statistic:       </th>   <td>1.447e+04</td>\n",
              "</tr>\n",
              "<tr>\n",
              "  <th>Entities:</th>                <td>265</td>       <th>  P-value            </th>    <td>0.0000</td>  \n",
              "</tr>\n",
              "<tr>\n",
              "  <th>Avg Obs:</th>               <td>9.0000</td>      <th>  Distribution:      </th>   <td>F(2,2382)</td>\n",
              "</tr>\n",
              "<tr>\n",
              "  <th>Min Obs:</th>               <td>9.0000</td>      <th>                     </th>       <td></td>     \n",
              "</tr>\n",
              "<tr>\n",
              "  <th>Max Obs:</th>               <td>9.0000</td>      <th>  F-statistic (robust):</th>  <td>7749.2</td>  \n",
              "</tr>\n",
              "<tr>\n",
              "  <th></th>                          <td></td>         <th>  P-value            </th>    <td>0.0000</td>  \n",
              "</tr>\n",
              "<tr>\n",
              "  <th>Time periods:</th>             <td>9</td>        <th>  Distribution:      </th>   <td>F(2,2382)</td>\n",
              "</tr>\n",
              "<tr>\n",
              "  <th>Avg Obs:</th>               <td>265.00</td>      <th>                     </th>       <td></td>     \n",
              "</tr>\n",
              "<tr>\n",
              "  <th>Min Obs:</th>               <td>265.00</td>      <th>                     </th>       <td></td>     \n",
              "</tr>\n",
              "<tr>\n",
              "  <th>Max Obs:</th>               <td>265.00</td>      <th>                     </th>       <td></td>     \n",
              "</tr>\n",
              "<tr>\n",
              "  <th></th>                          <td></td>         <th>                     </th>       <td></td>     \n",
              "</tr>\n",
              "</table>\n",
              "<table class=\"simpletable\">\n",
              "<caption>Parameter Estimates</caption>\n",
              "<tr>\n",
              "     <td></td>     <th>Parameter</th> <th>Std. Err.</th> <th>T-stat</th> <th>P-value</th> <th>Lower CI</th> <th>Upper CI</th>\n",
              "</tr>\n",
              "<tr>\n",
              "  <th>const</th>    <td>0.0005</td>    <td>0.0002</td>   <td>3.3793</td> <td>0.0007</td>   <td>0.0002</td>   <td>0.0008</td> \n",
              "</tr>\n",
              "<tr>\n",
              "  <th>GRANTS</th>   <td>0.9997</td>    <td>0.0192</td>   <td>52.154</td> <td>0.0000</td>   <td>0.9621</td>   <td>1.0373</td> \n",
              "</tr>\n",
              "<tr>\n",
              "  <th>REVENUE</th>  <td>0.9480</td>    <td>0.0079</td>   <td>120.42</td> <td>0.0000</td>   <td>0.9326</td>   <td>0.9634</td> \n",
              "</tr>\n",
              "</table><br/>id: 0x7efd7651d5c0"
            ],
            "text/plain": [
              "                          PooledOLS Estimation Summary                          \n",
              "================================================================================\n",
              "Dep. Variable:                 EXPEND   R-squared:                        0.9240\n",
              "Estimator:                  PooledOLS   R-squared (Between):              0.9900\n",
              "No. Observations:                2385   R-squared (Within):               0.7068\n",
              "Date:                Thu, Dec 05 2019   R-squared (Overall):              0.9240\n",
              "Time:                        22:22:59   Log-likelihood                 1.341e+04\n",
              "Cov. Estimator:                Robust                                           \n",
              "                                        F-statistic:                   1.447e+04\n",
              "Entities:                         265   P-value                           0.0000\n",
              "Avg Obs:                       9.0000   Distribution:                  F(2,2382)\n",
              "Min Obs:                       9.0000                                           \n",
              "Max Obs:                       9.0000   F-statistic (robust):             7749.2\n",
              "                                        P-value                           0.0000\n",
              "Time periods:                       9   Distribution:                  F(2,2382)\n",
              "Avg Obs:                       265.00                                           \n",
              "Min Obs:                       265.00                                           \n",
              "Max Obs:                       265.00                                           \n",
              "                                                                                \n",
              "                             Parameter Estimates                              \n",
              "==============================================================================\n",
              "            Parameter  Std. Err.     T-stat    P-value    Lower CI    Upper CI\n",
              "------------------------------------------------------------------------------\n",
              "const          0.0005     0.0002     3.3793     0.0007      0.0002      0.0008\n",
              "GRANTS         0.9997     0.0192     52.154     0.0000      0.9621      1.0373\n",
              "REVENUE        0.9480     0.0079     120.42     0.0000      0.9326      0.9634\n",
              "==============================================================================\n",
              "PanelResults, id: 0x7efd7651d5c0"
            ]
          },
          "metadata": {
            "tags": []
          },
          "execution_count": 33
        }
      ]
    },
    {
      "cell_type": "markdown",
      "metadata": {
        "id": "th-igxjN5dYo",
        "colab_type": "text"
      },
      "source": [
        "## Clustered by entity\n",
        "The usual variable to cluster are entity or entity and time. This can be implemented using cov_type='clustered' and the additional keyword arguments cluster_entity=True and/or cluster_time=True.\n",
        "<br>First cluster only by entity"
      ]
    },
    {
      "cell_type": "code",
      "metadata": {
        "id": "1smASyhrj7yJ",
        "colab_type": "code",
        "colab": {}
      },
      "source": [
        "clust_entity = mod.fit(cov_type='clustered', cluster_entity=True)\n"
      ],
      "execution_count": 0,
      "outputs": []
    },
    {
      "cell_type": "markdown",
      "metadata": {
        "id": "aeZkGzCsj_LD",
        "colab_type": "text"
      },
      "source": [
        "cluster both"
      ]
    },
    {
      "cell_type": "code",
      "metadata": {
        "id": "zYpk_9_4kBMw",
        "colab_type": "code",
        "colab": {}
      },
      "source": [
        "clust_entity_time = mod.fit(cov_type='clustered', cluster_entity=True, cluster_time=True)\n"
      ],
      "execution_count": 0,
      "outputs": []
    },
    {
      "cell_type": "code",
      "metadata": {
        "id": "rdgsEonykPlZ",
        "colab_type": "code",
        "outputId": "6f428e46-664b-4272-c532-2e8ca45992ee",
        "colab": {
          "base_uri": "https://localhost:8080/",
          "height": 425
        }
      },
      "source": [
        "from collections import OrderedDict\n",
        "res = OrderedDict()\n",
        "res['Robust'] = robust\n",
        "res['Entity'] = clust_entity\n",
        "res['Entity-Time'] = clust_entity_time\n",
        "print(compare(res))"
      ],
      "execution_count": 36,
      "outputs": [
        {
          "output_type": "stream",
          "text": [
            "                     Model Comparison                    \n",
            "=========================================================\n",
            "                           Robust      Entity Entity-Time\n",
            "---------------------------------------------------------\n",
            "Dep. Variable              EXPEND      EXPEND      EXPEND\n",
            "Estimator               PooledOLS   PooledOLS   PooledOLS\n",
            "No. Observations             2385        2385        2385\n",
            "Cov. Est.                  Robust   Clustered   Clustered\n",
            "R-squared                  0.9240      0.9240      0.9240\n",
            "R-Squared (Within)         0.7068      0.7068      0.7068\n",
            "R-Squared (Between)        0.9900      0.9900      0.9900\n",
            "R-Squared (Overall)        0.9240      0.9240      0.9240\n",
            "F-statistic             1.447e+04   1.447e+04   1.447e+04\n",
            "P-value (F-stat)           0.0000      0.0000      0.0000\n",
            "===================== =========== =========== ===========\n",
            "const                      0.0005      0.0005      0.0005\n",
            "                         (3.3793)    (3.5708)    (3.1247)\n",
            "GRANTS                     0.9997      0.9997      0.9997\n",
            "                         (52.154)    (66.184)    (33.173)\n",
            "REVENUE                    0.9480      0.9480      0.9480\n",
            "                         (120.42)    (104.66)    (155.46)\n",
            "---------------------------------------------------------\n",
            "\n",
            "T-stats reported in parentheses\n"
          ],
          "name": "stdout"
        }
      ]
    },
    {
      "cell_type": "markdown",
      "metadata": {
        "id": "WMERQzTul44l",
        "colab_type": "text"
      },
      "source": [
        "Clustering on entity reduced the t-stats across the board. This suggests there is important correlation in the residuals per entity. Clustering by both also decreases the t-stats which suggests that there is cross-sectional dependence in the data. Note: clustering by entity addresses correlation across time and clustering by time controls for correlation between entities in a time period."
      ]
    },
    {
      "cell_type": "markdown",
      "metadata": {
        "id": "vkMJHGE35fvh",
        "colab_type": "text"
      },
      "source": [
        "## Other clusters"
      ]
    },
    {
      "cell_type": "markdown",
      "metadata": {
        "id": "yLyxVXD9l8M6",
        "colab_type": "text"
      },
      "source": [
        "Other clusters can be used by directly passing integer arrays (1 or 2 columns, or a 1-d array) using the input clusters. This example clustered by occupation, which is probably not a reliable variable to cluster on since there are only 9 groups and the usual theory for clustered standard errors requires that the number of clusters is large."
      ]
    },
    {
      "cell_type": "code",
      "metadata": {
        "id": "nO2s1ihP5XJd",
        "colab_type": "code",
        "outputId": "a13c2b7a-9ae2-4468-b786-d0fcf1394887",
        "colab": {
          "base_uri": "https://localhost:8080/",
          "height": 0
        }
      },
      "source": [
        "clust_entity = mod.fit(cov_type='clustered', clusters=data.GRANTS)\n",
        "print(data.GRANTS.value_counts())\n",
        "print(clust_entity)"
      ],
      "execution_count": 37,
      "outputs": [
        {
          "output_type": "stream",
          "text": [
            "0.005393    3\n",
            "0.005490    3\n",
            "0.004985    3\n",
            "0.004626    2\n",
            "0.004644    2\n",
            "           ..\n",
            "0.005645    1\n",
            "0.003915    1\n",
            "0.005084    1\n",
            "0.004790    1\n",
            "0.005208    1\n",
            "Name: GRANTS, Length: 2289, dtype: int64\n",
            "                          PooledOLS Estimation Summary                          \n",
            "================================================================================\n",
            "Dep. Variable:                 EXPEND   R-squared:                        0.9240\n",
            "Estimator:                  PooledOLS   R-squared (Between):              0.9900\n",
            "No. Observations:                2385   R-squared (Within):               0.7068\n",
            "Date:                Thu, Dec 05 2019   R-squared (Overall):              0.9240\n",
            "Time:                        22:22:59   Log-likelihood                 1.341e+04\n",
            "Cov. Estimator:             Clustered                                           \n",
            "                                        F-statistic:                   1.447e+04\n",
            "Entities:                         265   P-value                           0.0000\n",
            "Avg Obs:                       9.0000   Distribution:                  F(2,2382)\n",
            "Min Obs:                       9.0000                                           \n",
            "Max Obs:                       9.0000   F-statistic (robust):             7740.2\n",
            "                                        P-value                           0.0000\n",
            "Time periods:                       9   Distribution:                  F(2,2382)\n",
            "Avg Obs:                       265.00                                           \n",
            "Min Obs:                       265.00                                           \n",
            "Max Obs:                       265.00                                           \n",
            "                                                                                \n",
            "                             Parameter Estimates                              \n",
            "==============================================================================\n",
            "            Parameter  Std. Err.     T-stat    P-value    Lower CI    Upper CI\n",
            "------------------------------------------------------------------------------\n",
            "const          0.0005     0.0002     3.3735     0.0008      0.0002      0.0008\n",
            "GRANTS         0.9997     0.0192     52.107     0.0000      0.9621      1.0373\n",
            "REVENUE        0.9480     0.0079     120.41     0.0000      0.9326      0.9634\n",
            "==============================================================================\n"
          ],
          "name": "stdout"
        }
      ]
    },
    {
      "cell_type": "code",
      "metadata": {
        "id": "9xnBj846kT90",
        "colab_type": "code",
        "colab": {}
      },
      "source": [
        ""
      ],
      "execution_count": 0,
      "outputs": []
    }
  ]
}